{
  "cells": [
    {
      "cell_type": "code",
      "execution_count": 1,
      "metadata": {
        "id": "u2XkT_sInMbO"
      },
      "outputs": [],
      "source": [
        "import json\n",
        "import pandas as pd\n",
        "from pandas import json_normalize\n",
        "import matplotlib.pyplot as plt\n",
        "import os\n",
        "import random\n",
        "import numpy as np"
      ]
    },
    {
      "cell_type": "markdown",
      "metadata": {
        "id": "8yC2AbPcnMbQ"
      },
      "source": [
        "# 0. Leemos los datos"
      ]
    },
    {
      "cell_type": "code",
      "execution_count": 2,
      "metadata": {
        "id": "4GInxDA8nMbT"
      },
      "outputs": [],
      "source": [
        "def read_json(path):\n",
        "    with open(path) as f:\n",
        "        data = json.load(f)\n",
        "    return data\n",
        "\n",
        "def leer_k_archivos_json(k):\n",
        "    archivos_json = [archivo for archivo in os.listdir(\"data\") if archivo.endswith('.json')]\n",
        "    random.seed(42)\n",
        "    paths = random.choices(archivos_json, k=k)\n",
        "\n",
        "    all_playlists = []\n",
        "    for p in paths:\n",
        "        data = read_json(f\"data\\{p}\")\n",
        "        playlist = pd.DataFrame(data['playlists'])\n",
        "        all_playlists.append(playlist)\n",
        "\n",
        "    playlists = pd.concat(all_playlists, ignore_index=True)\n",
        "    return playlists"
      ]
    },
    {
      "cell_type": "code",
      "execution_count": 4,
      "metadata": {
        "colab": {
          "base_uri": "https://localhost:8080/"
        },
        "id": "gcxr3J6ulyJK",
        "outputId": "bbe66c7c-e71b-4036-f327-55e0474eafee"
      },
      "outputs": [
        {
          "name": "stdout",
          "output_type": "stream",
          "text": [
            "mpd.slice.0-999.json\n",
            "mpd.slice.1000-1999.json\n",
            "mpd.slice.2000-2999.json\n",
            "mpd.slice.3000-3999.json\n",
            "mpd.slice.4000-4999.json\n",
            "mpd.slice.5000-5999.json\n",
            "mpd.slice.6000-6999.json\n",
            "mpd.slice.7000-7999.json\n",
            "mpd.slice.8000-8999.json\n",
            "mpd.slice.9000-9999.json\n"
          ]
        }
      ],
      "source": [
        "paths = [\n",
        "    \"mpd.slice.0-999.json\",\n",
        "    \"mpd.slice.1000-1999.json\",\n",
        "    \"mpd.slice.2000-2999.json\",\n",
        "    \"mpd.slice.3000-3999.json\",\n",
        "    \"mpd.slice.4000-4999.json\",\n",
        "    \"mpd.slice.5000-5999.json\",\n",
        "    \"mpd.slice.6000-6999.json\",\n",
        "    \"mpd.slice.7000-7999.json\",\n",
        "    \"mpd.slice.8000-8999.json\",\n",
        "    \"mpd.slice.9000-9999.json\"\n",
        "]\n",
        "all_playlists = []\n",
        "for path in paths:\n",
        "    print(path)\n",
        "    data = read_json(f\"data/{path}\")\n",
        "    playlist = pd.DataFrame(data['playlists'])\n",
        "    all_playlists.append(playlist)\n",
        "\n",
        "playlists = pd.concat(all_playlists, ignore_index=True)"
      ]
    },
    {
      "cell_type": "code",
      "execution_count": 5,
      "metadata": {
        "colab": {
          "base_uri": "https://localhost:8080/",
          "height": 504
        },
        "id": "8oLupjhrYnFy",
        "outputId": "29527cb8-b5ff-4ad2-8bf9-3a08f178c87d"
      },
      "outputs": [
        {
          "data": {
            "text/html": [
              "<div>\n",
              "<style scoped>\n",
              "    .dataframe tbody tr th:only-of-type {\n",
              "        vertical-align: middle;\n",
              "    }\n",
              "\n",
              "    .dataframe tbody tr th {\n",
              "        vertical-align: top;\n",
              "    }\n",
              "\n",
              "    .dataframe thead th {\n",
              "        text-align: right;\n",
              "    }\n",
              "</style>\n",
              "<table border=\"1\" class=\"dataframe\">\n",
              "  <thead>\n",
              "    <tr style=\"text-align: right;\">\n",
              "      <th></th>\n",
              "      <th>name</th>\n",
              "      <th>collaborative</th>\n",
              "      <th>pid</th>\n",
              "      <th>modified_at</th>\n",
              "      <th>num_tracks</th>\n",
              "      <th>num_albums</th>\n",
              "      <th>num_followers</th>\n",
              "      <th>tracks</th>\n",
              "      <th>num_edits</th>\n",
              "      <th>duration_ms</th>\n",
              "      <th>num_artists</th>\n",
              "      <th>description</th>\n",
              "    </tr>\n",
              "  </thead>\n",
              "  <tbody>\n",
              "    <tr>\n",
              "      <th>0</th>\n",
              "      <td>Throwbacks</td>\n",
              "      <td>false</td>\n",
              "      <td>0</td>\n",
              "      <td>1493424000</td>\n",
              "      <td>52</td>\n",
              "      <td>47</td>\n",
              "      <td>1</td>\n",
              "      <td>[{'pos': 0, 'artist_name': 'Missy Elliott', 't...</td>\n",
              "      <td>6</td>\n",
              "      <td>11532414</td>\n",
              "      <td>37</td>\n",
              "      <td>NaN</td>\n",
              "    </tr>\n",
              "    <tr>\n",
              "      <th>1</th>\n",
              "      <td>Awesome Playlist</td>\n",
              "      <td>false</td>\n",
              "      <td>1</td>\n",
              "      <td>1506556800</td>\n",
              "      <td>39</td>\n",
              "      <td>23</td>\n",
              "      <td>1</td>\n",
              "      <td>[{'pos': 0, 'artist_name': 'Survivor', 'track_...</td>\n",
              "      <td>5</td>\n",
              "      <td>11656470</td>\n",
              "      <td>21</td>\n",
              "      <td>NaN</td>\n",
              "    </tr>\n",
              "    <tr>\n",
              "      <th>2</th>\n",
              "      <td>korean</td>\n",
              "      <td>false</td>\n",
              "      <td>2</td>\n",
              "      <td>1505692800</td>\n",
              "      <td>64</td>\n",
              "      <td>51</td>\n",
              "      <td>1</td>\n",
              "      <td>[{'pos': 0, 'artist_name': 'Hoody', 'track_uri...</td>\n",
              "      <td>18</td>\n",
              "      <td>14039958</td>\n",
              "      <td>31</td>\n",
              "      <td>NaN</td>\n",
              "    </tr>\n",
              "    <tr>\n",
              "      <th>3</th>\n",
              "      <td>mat</td>\n",
              "      <td>false</td>\n",
              "      <td>3</td>\n",
              "      <td>1501027200</td>\n",
              "      <td>126</td>\n",
              "      <td>107</td>\n",
              "      <td>1</td>\n",
              "      <td>[{'pos': 0, 'artist_name': 'Camille Saint-Saën...</td>\n",
              "      <td>4</td>\n",
              "      <td>28926058</td>\n",
              "      <td>86</td>\n",
              "      <td>NaN</td>\n",
              "    </tr>\n",
              "    <tr>\n",
              "      <th>4</th>\n",
              "      <td>90s</td>\n",
              "      <td>false</td>\n",
              "      <td>4</td>\n",
              "      <td>1401667200</td>\n",
              "      <td>17</td>\n",
              "      <td>16</td>\n",
              "      <td>2</td>\n",
              "      <td>[{'pos': 0, 'artist_name': 'The Smashing Pumpk...</td>\n",
              "      <td>7</td>\n",
              "      <td>4335282</td>\n",
              "      <td>16</td>\n",
              "      <td>NaN</td>\n",
              "    </tr>\n",
              "  </tbody>\n",
              "</table>\n",
              "</div>"
            ],
            "text/plain": [
              "               name collaborative  pid  modified_at  num_tracks  num_albums  \\\n",
              "0        Throwbacks         false    0   1493424000          52          47   \n",
              "1  Awesome Playlist         false    1   1506556800          39          23   \n",
              "2           korean          false    2   1505692800          64          51   \n",
              "3               mat         false    3   1501027200         126         107   \n",
              "4               90s         false    4   1401667200          17          16   \n",
              "\n",
              "   num_followers                                             tracks  \\\n",
              "0              1  [{'pos': 0, 'artist_name': 'Missy Elliott', 't...   \n",
              "1              1  [{'pos': 0, 'artist_name': 'Survivor', 'track_...   \n",
              "2              1  [{'pos': 0, 'artist_name': 'Hoody', 'track_uri...   \n",
              "3              1  [{'pos': 0, 'artist_name': 'Camille Saint-Saën...   \n",
              "4              2  [{'pos': 0, 'artist_name': 'The Smashing Pumpk...   \n",
              "\n",
              "   num_edits  duration_ms  num_artists description  \n",
              "0          6     11532414           37         NaN  \n",
              "1          5     11656470           21         NaN  \n",
              "2         18     14039958           31         NaN  \n",
              "3          4     28926058           86         NaN  \n",
              "4          7      4335282           16         NaN  "
            ]
          },
          "execution_count": 5,
          "metadata": {},
          "output_type": "execute_result"
        }
      ],
      "source": [
        "playlists.head()"
      ]
    },
    {
      "cell_type": "code",
      "execution_count": 6,
      "metadata": {
        "id": "q_a1XNgPnMbW"
      },
      "outputs": [],
      "source": [
        "def expandir_tracks(playli):\n",
        "    expanded_tracks_df = pd.DataFrame()\n",
        "\n",
        "    # Iterar sobre cada fila y expandir los datos JSON en un dataframe\n",
        "    for _, row in playli.iterrows():\n",
        "        # Cargar el JSON desde la columna 'tracks'\n",
        "        tracks = row['tracks']\n",
        "\n",
        "        # Comprobar si 'tracks' es una cadena que necesita ser convertida de JSON\n",
        "        if isinstance(tracks, str):\n",
        "            try:\n",
        "                tracks = json.loads(tracks)  # Cargar la cadena JSON\n",
        "            except json.JSONDecodeError:\n",
        "                tracks = []  # En caso de error, usar una lista vacía\n",
        "        elif not isinstance(tracks, list):\n",
        "            tracks = []  # Asegurar que tracks sea una lista si no es una cadena\n",
        "\n",
        "        if tracks:\n",
        "            track_data = json_normalize(tracks)\n",
        "            track_data['pid'] = row['pid']  # añadimos el id de la playlist para mantener la referencia\n",
        "            expanded_tracks_df = pd.concat([expanded_tracks_df, track_data], ignore_index=True)\n",
        "    return expanded_tracks_df"
      ]
    },
    {
      "cell_type": "code",
      "execution_count": 7,
      "metadata": {
        "id": "RYGjcAN8nMbW"
      },
      "outputs": [],
      "source": [
        "expanded_tracks_df = expandir_tracks(playlists)"
      ]
    },
    {
      "cell_type": "code",
      "execution_count": 8,
      "metadata": {
        "colab": {
          "base_uri": "https://localhost:8080/",
          "height": 244
        },
        "id": "M7SVUSr5nMbY",
        "outputId": "13a07ccd-bd1e-4b36-8123-963f72ad934a"
      },
      "outputs": [
        {
          "data": {
            "text/html": [
              "<div>\n",
              "<style scoped>\n",
              "    .dataframe tbody tr th:only-of-type {\n",
              "        vertical-align: middle;\n",
              "    }\n",
              "\n",
              "    .dataframe tbody tr th {\n",
              "        vertical-align: top;\n",
              "    }\n",
              "\n",
              "    .dataframe thead th {\n",
              "        text-align: right;\n",
              "    }\n",
              "</style>\n",
              "<table border=\"1\" class=\"dataframe\">\n",
              "  <thead>\n",
              "    <tr style=\"text-align: right;\">\n",
              "      <th></th>\n",
              "      <th>name</th>\n",
              "      <th>collaborative</th>\n",
              "      <th>pid</th>\n",
              "      <th>modified_at</th>\n",
              "      <th>num_tracks</th>\n",
              "      <th>num_albums</th>\n",
              "      <th>num_followers</th>\n",
              "      <th>num_edits</th>\n",
              "      <th>duration_ms</th>\n",
              "      <th>num_artists</th>\n",
              "      <th>description</th>\n",
              "    </tr>\n",
              "  </thead>\n",
              "  <tbody>\n",
              "    <tr>\n",
              "      <th>0</th>\n",
              "      <td>Throwbacks</td>\n",
              "      <td>false</td>\n",
              "      <td>0</td>\n",
              "      <td>1493424000</td>\n",
              "      <td>52</td>\n",
              "      <td>47</td>\n",
              "      <td>1</td>\n",
              "      <td>6</td>\n",
              "      <td>11532414</td>\n",
              "      <td>37</td>\n",
              "      <td>NaN</td>\n",
              "    </tr>\n",
              "    <tr>\n",
              "      <th>1</th>\n",
              "      <td>Awesome Playlist</td>\n",
              "      <td>false</td>\n",
              "      <td>1</td>\n",
              "      <td>1506556800</td>\n",
              "      <td>39</td>\n",
              "      <td>23</td>\n",
              "      <td>1</td>\n",
              "      <td>5</td>\n",
              "      <td>11656470</td>\n",
              "      <td>21</td>\n",
              "      <td>NaN</td>\n",
              "    </tr>\n",
              "    <tr>\n",
              "      <th>2</th>\n",
              "      <td>korean</td>\n",
              "      <td>false</td>\n",
              "      <td>2</td>\n",
              "      <td>1505692800</td>\n",
              "      <td>64</td>\n",
              "      <td>51</td>\n",
              "      <td>1</td>\n",
              "      <td>18</td>\n",
              "      <td>14039958</td>\n",
              "      <td>31</td>\n",
              "      <td>NaN</td>\n",
              "    </tr>\n",
              "    <tr>\n",
              "      <th>3</th>\n",
              "      <td>mat</td>\n",
              "      <td>false</td>\n",
              "      <td>3</td>\n",
              "      <td>1501027200</td>\n",
              "      <td>126</td>\n",
              "      <td>107</td>\n",
              "      <td>1</td>\n",
              "      <td>4</td>\n",
              "      <td>28926058</td>\n",
              "      <td>86</td>\n",
              "      <td>NaN</td>\n",
              "    </tr>\n",
              "    <tr>\n",
              "      <th>4</th>\n",
              "      <td>90s</td>\n",
              "      <td>false</td>\n",
              "      <td>4</td>\n",
              "      <td>1401667200</td>\n",
              "      <td>17</td>\n",
              "      <td>16</td>\n",
              "      <td>2</td>\n",
              "      <td>7</td>\n",
              "      <td>4335282</td>\n",
              "      <td>16</td>\n",
              "      <td>NaN</td>\n",
              "    </tr>\n",
              "  </tbody>\n",
              "</table>\n",
              "</div>"
            ],
            "text/plain": [
              "               name collaborative  pid  modified_at  num_tracks  num_albums  \\\n",
              "0        Throwbacks         false    0   1493424000          52          47   \n",
              "1  Awesome Playlist         false    1   1506556800          39          23   \n",
              "2           korean          false    2   1505692800          64          51   \n",
              "3               mat         false    3   1501027200         126         107   \n",
              "4               90s         false    4   1401667200          17          16   \n",
              "\n",
              "   num_followers  num_edits  duration_ms  num_artists description  \n",
              "0              1          6     11532414           37         NaN  \n",
              "1              1          5     11656470           21         NaN  \n",
              "2              1         18     14039958           31         NaN  \n",
              "3              1          4     28926058           86         NaN  \n",
              "4              2          7      4335282           16         NaN  "
            ]
          },
          "execution_count": 8,
          "metadata": {},
          "output_type": "execute_result"
        }
      ],
      "source": [
        "playlists.drop(\"tracks\", axis=1, inplace=True)\n",
        "playlists.head()"
      ]
    },
    {
      "cell_type": "code",
      "execution_count": 9,
      "metadata": {
        "id": "mwkNtP8xnMba"
      },
      "outputs": [],
      "source": [
        "by_playlist = expanded_tracks_df.groupby('pid').agg(\n",
        "    num_songs=('track_name', 'count'),  # Contamos el número de canciones por playlist\n",
        "    avg_duration=('duration_ms', 'mean'),  # Calculamos la duración media de las canciones\n",
        "    artists=('artist_name', lambda x: set(x)),  # Obtenemos un conjunto de artistas únicos\n",
        "    songs =('track_uri', lambda x: set(x)),  # Obtenemos un conjunto de caciones únicas\n",
        "    albums =('album_name', lambda x: set(x))  # Obtenemos un conjunto de albumes únicos\n",
        ")\n",
        "\n",
        "by_playlist['avg_duration'] = by_playlist['avg_duration'] / 60000 # Convertimos la duración de milisegundos a minutos\n",
        "# by_playlist.head()"
      ]
    },
    {
      "cell_type": "code",
      "execution_count": 10,
      "metadata": {
        "colab": {
          "base_uri": "https://localhost:8080/",
          "height": 206
        },
        "id": "a_ronUICnMbb",
        "outputId": "6ed64dcf-7388-40c0-fb2e-51959f0e4d35"
      },
      "outputs": [
        {
          "data": {
            "text/html": [
              "<div>\n",
              "<style scoped>\n",
              "    .dataframe tbody tr th:only-of-type {\n",
              "        vertical-align: middle;\n",
              "    }\n",
              "\n",
              "    .dataframe tbody tr th {\n",
              "        vertical-align: top;\n",
              "    }\n",
              "\n",
              "    .dataframe thead th {\n",
              "        text-align: right;\n",
              "    }\n",
              "</style>\n",
              "<table border=\"1\" class=\"dataframe\">\n",
              "  <thead>\n",
              "    <tr style=\"text-align: right;\">\n",
              "      <th></th>\n",
              "      <th>track_uri</th>\n",
              "      <th>pid</th>\n",
              "    </tr>\n",
              "  </thead>\n",
              "  <tbody>\n",
              "    <tr>\n",
              "      <th>0</th>\n",
              "      <td>spotify:track:000GjfnQc7ggBayDiy1sLW</td>\n",
              "      <td>[5925]</td>\n",
              "    </tr>\n",
              "    <tr>\n",
              "      <th>1</th>\n",
              "      <td>spotify:track:000VZqvXwT0YNqKk7iG2GS</td>\n",
              "      <td>[2093, 5244]</td>\n",
              "    </tr>\n",
              "    <tr>\n",
              "      <th>2</th>\n",
              "      <td>spotify:track:000mA0etY38nKdvf1N04af</td>\n",
              "      <td>[371]</td>\n",
              "    </tr>\n",
              "    <tr>\n",
              "      <th>3</th>\n",
              "      <td>spotify:track:000xQL6tZNLJzIrtIgxqSl</td>\n",
              "      <td>[182, 813, 1011, 1028, 1289, 1511, 1627, 1775,...</td>\n",
              "    </tr>\n",
              "    <tr>\n",
              "      <th>4</th>\n",
              "      <td>spotify:track:0010mZpCCwlPwoBiBsjoac</td>\n",
              "      <td>[6372]</td>\n",
              "    </tr>\n",
              "  </tbody>\n",
              "</table>\n",
              "</div>"
            ],
            "text/plain": [
              "                              track_uri  \\\n",
              "0  spotify:track:000GjfnQc7ggBayDiy1sLW   \n",
              "1  spotify:track:000VZqvXwT0YNqKk7iG2GS   \n",
              "2  spotify:track:000mA0etY38nKdvf1N04af   \n",
              "3  spotify:track:000xQL6tZNLJzIrtIgxqSl   \n",
              "4  spotify:track:0010mZpCCwlPwoBiBsjoac   \n",
              "\n",
              "                                                 pid  \n",
              "0                                             [5925]  \n",
              "1                                       [2093, 5244]  \n",
              "2                                              [371]  \n",
              "3  [182, 813, 1011, 1028, 1289, 1511, 1627, 1775,...  \n",
              "4                                             [6372]  "
            ]
          },
          "execution_count": 10,
          "metadata": {},
          "output_type": "execute_result"
        }
      ],
      "source": [
        "playlist_per_song = expanded_tracks_df.groupby('track_uri')['pid'].agg(list).reset_index()\n",
        "playlist_per_song.head()"
      ]
    },
    {
      "cell_type": "markdown",
      "metadata": {
        "id": "wV_UKWp3nMbb"
      },
      "source": [
        "- Pasamos los URL a un id de cancion"
      ]
    },
    {
      "cell_type": "code",
      "execution_count": 11,
      "metadata": {
        "colab": {
          "base_uri": "https://localhost:8080/",
          "height": 206
        },
        "id": "sYMGf4G0nMbb",
        "outputId": "fdc3e8db-f094-41a3-9b72-f93b9a6e66d1"
      },
      "outputs": [
        {
          "data": {
            "text/html": [
              "<div>\n",
              "<style scoped>\n",
              "    .dataframe tbody tr th:only-of-type {\n",
              "        vertical-align: middle;\n",
              "    }\n",
              "\n",
              "    .dataframe tbody tr th {\n",
              "        vertical-align: top;\n",
              "    }\n",
              "\n",
              "    .dataframe thead th {\n",
              "        text-align: right;\n",
              "    }\n",
              "</style>\n",
              "<table border=\"1\" class=\"dataframe\">\n",
              "  <thead>\n",
              "    <tr style=\"text-align: right;\">\n",
              "      <th></th>\n",
              "      <th>track_uri</th>\n",
              "      <th>pid</th>\n",
              "      <th>track_id</th>\n",
              "    </tr>\n",
              "  </thead>\n",
              "  <tbody>\n",
              "    <tr>\n",
              "      <th>0</th>\n",
              "      <td>spotify:track:000GjfnQc7ggBayDiy1sLW</td>\n",
              "      <td>[5925]</td>\n",
              "      <td>1</td>\n",
              "    </tr>\n",
              "    <tr>\n",
              "      <th>1</th>\n",
              "      <td>spotify:track:000VZqvXwT0YNqKk7iG2GS</td>\n",
              "      <td>[2093, 5244]</td>\n",
              "      <td>2</td>\n",
              "    </tr>\n",
              "    <tr>\n",
              "      <th>2</th>\n",
              "      <td>spotify:track:000mA0etY38nKdvf1N04af</td>\n",
              "      <td>[371]</td>\n",
              "      <td>3</td>\n",
              "    </tr>\n",
              "    <tr>\n",
              "      <th>3</th>\n",
              "      <td>spotify:track:000xQL6tZNLJzIrtIgxqSl</td>\n",
              "      <td>[182, 813, 1011, 1028, 1289, 1511, 1627, 1775,...</td>\n",
              "      <td>4</td>\n",
              "    </tr>\n",
              "    <tr>\n",
              "      <th>4</th>\n",
              "      <td>spotify:track:0010mZpCCwlPwoBiBsjoac</td>\n",
              "      <td>[6372]</td>\n",
              "      <td>5</td>\n",
              "    </tr>\n",
              "  </tbody>\n",
              "</table>\n",
              "</div>"
            ],
            "text/plain": [
              "                              track_uri  \\\n",
              "0  spotify:track:000GjfnQc7ggBayDiy1sLW   \n",
              "1  spotify:track:000VZqvXwT0YNqKk7iG2GS   \n",
              "2  spotify:track:000mA0etY38nKdvf1N04af   \n",
              "3  spotify:track:000xQL6tZNLJzIrtIgxqSl   \n",
              "4  spotify:track:0010mZpCCwlPwoBiBsjoac   \n",
              "\n",
              "                                                 pid  track_id  \n",
              "0                                             [5925]         1  \n",
              "1                                       [2093, 5244]         2  \n",
              "2                                              [371]         3  \n",
              "3  [182, 813, 1011, 1028, 1289, 1511, 1627, 1775,...         4  \n",
              "4                                             [6372]         5  "
            ]
          },
          "execution_count": 11,
          "metadata": {},
          "output_type": "execute_result"
        }
      ],
      "source": [
        "url_id = {}\n",
        "n = 1\n",
        "\n",
        "def key_exists(key, dictionary):\n",
        "    try:\n",
        "        value = dictionary[key]\n",
        "        return True\n",
        "    except KeyError:\n",
        "        return False\n",
        "\n",
        "def get_id(x, n):\n",
        "    if not key_exists(x, url_id):\n",
        "        url_id[x] = n\n",
        "        n += 1\n",
        "    return url_id[x], n\n",
        "\n",
        "values = []\n",
        "\n",
        "for val in playlist_per_song[\"track_uri\"]:\n",
        "    valu, n = get_id(val, n)\n",
        "    values.append(valu)\n",
        "\n",
        "playlist_per_song[\"track_id\"] = values\n",
        "playlist_per_song.head()"
      ]
    },
    {
      "cell_type": "code",
      "execution_count": 12,
      "metadata": {
        "id": "oFP-Jwn2nMbb"
      },
      "outputs": [],
      "source": [
        "expanded_tracks_df[\"track_id\"] = expanded_tracks_df[\"track_uri\"].apply(lambda x: url_id[x])"
      ]
    },
    {
      "cell_type": "code",
      "execution_count": 13,
      "metadata": {
        "id": "m3vwwUXYnMbc"
      },
      "outputs": [],
      "source": [
        "by_playlist[\"track_id\"] = by_playlist[\"songs\"].apply(lambda x: [url_id[val] for val in list(x)])\n",
        "# by_playlist.head()"
      ]
    },
    {
      "cell_type": "code",
      "execution_count": 14,
      "metadata": {
        "id": "ULdoQ7linMbc"
      },
      "outputs": [],
      "source": [
        "playlist_per_song['n_playlists'] = playlist_per_song['pid'].apply(lambda x: len(set(x)))"
      ]
    },
    {
      "cell_type": "code",
      "execution_count": 15,
      "metadata": {
        "colab": {
          "base_uri": "https://localhost:8080/"
        },
        "id": "ywdR1w_MnMbd",
        "outputId": "5f4573c6-31f1-437c-cac7-8e2e8aec1b09"
      },
      "outputs": [
        {
          "data": {
            "text/plain": [
              "3.857698028679103"
            ]
          },
          "execution_count": 15,
          "metadata": {},
          "output_type": "execute_result"
        }
      ],
      "source": [
        "playlist_per_song[\"n_playlists\"].mean()"
      ]
    },
    {
      "cell_type": "markdown",
      "metadata": {
        "id": "mDQIuuHHnMbd"
      },
      "source": [
        "# 2. Baseline"
      ]
    },
    {
      "cell_type": "code",
      "execution_count": 16,
      "metadata": {
        "id": "JMkawGLfnMbe"
      },
      "outputs": [],
      "source": [
        "#Hay playlist que tienen la misma cancion más de una vez, aca las tratamos solo una vez\n",
        "playlist_track = expanded_tracks_df[[\"pid\",\"track_id\",\"track_name\",\"duration_ms\",\"artist_name\"]].drop_duplicates()\n",
        "# playlist_track.head()"
      ]
    },
    {
      "cell_type": "markdown",
      "metadata": {
        "id": "e3Z9IC_WnMbp"
      },
      "source": [
        "- Separamos en data de validación y data de entrenamiento"
      ]
    },
    {
      "cell_type": "code",
      "execution_count": 17,
      "metadata": {
        "colab": {
          "base_uri": "https://localhost:8080/"
        },
        "id": "tLS4DSCkJG-8",
        "outputId": "b474adea-8508-400e-e1c5-775ab6fa8395"
      },
      "outputs": [
        {
          "name": "stdout",
          "output_type": "stream",
          "text": [
            "326 9674\n"
          ]
        }
      ],
      "source": [
        "# Acá separamos en las playlists con un número de canciones mayor a NUM_CANCIONES\n",
        "# Luego nos quedamos solo con las playlist con un número mayor para hacer el entrenamiento y el testeo\n",
        "NUM_CANCIONES = 10\n",
        "song_per_playlist = playlist_track.groupby('pid')['track_id'].agg(list).reset_index()\n",
        "song_per_playlist['n_songs'] = song_per_playlist['track_id'].apply(len)\n",
        "pid_less = song_per_playlist[song_per_playlist['n_songs'] < NUM_CANCIONES]['pid'].unique()\n",
        "pid_more = song_per_playlist[song_per_playlist['n_songs'] >= NUM_CANCIONES]['pid'].unique()\n",
        "print(len(pid_less), len(pid_more))"
      ]
    },
    {
      "cell_type": "code",
      "execution_count": 18,
      "metadata": {
        "id": "t0JdhZ_slyJP"
      },
      "outputs": [],
      "source": [
        "from sklearn.model_selection import train_test_split"
      ]
    },
    {
      "cell_type": "code",
      "execution_count": 19,
      "metadata": {
        "colab": {
          "base_uri": "https://localhost:8080/"
        },
        "id": "MEkh2srUJ_X1",
        "outputId": "a607bae7-e0b1-4a9f-cc7f-cf59349557a8"
      },
      "outputs": [
        {
          "name": "stdout",
          "output_type": "stream",
          "text": [
            "7739 1935\n"
          ]
        }
      ],
      "source": [
        "# Acá hacemos una separación de las playlists que le vamos a entregar la información completa,\n",
        "# y las que le vamos a entregar solo las primeras n\n",
        "\n",
        "train_pid, test_pid = train_test_split(pid_more, test_size=0.2, random_state=42)\n",
        "print(len(train_pid), len(test_pid))"
      ]
    },
    {
      "cell_type": "code",
      "execution_count": 20,
      "metadata": {
        "id": "hYV93p30OcXu"
      },
      "outputs": [],
      "source": [
        "song_per_playlist.drop(\"n_songs\", axis=1, inplace=True)\n",
        "# song_per_playlist.head(3)"
      ]
    },
    {
      "cell_type": "code",
      "execution_count": 21,
      "metadata": {
        "id": "KbAZ1skglyJQ"
      },
      "outputs": [],
      "source": [
        "def Sep_first_n(n, pids):\n",
        "    #Primero separamos las primeras n canciones de una playlist y las siguientes\n",
        "    all = song_per_playlist[song_per_playlist['pid'].isin(pids)].copy()\n",
        "    all.loc[:, 'fist_5'] = all['track_id'].apply(lambda x: x[:n])\n",
        "    all.loc[:, 'next']= all['track_id'].apply(lambda x: x[n:])\n",
        "    all.drop(\"track_id\", axis=1, inplace=True)\n",
        "    #Luego utilizamos las primeras n canciones para entrenar y las siguientes para testear\n",
        "    train = all[['pid', 'fist_5']].explode('fist_5')\n",
        "    test = all[['pid', 'next']].explode('next')\n",
        "    train.rename(columns={'fist_5': 'track_id'}, inplace=True)\n",
        "    test.rename(columns={'next': 'track_id'}, inplace=True)\n",
        "    return train, test"
      ]
    },
    {
      "cell_type": "code",
      "execution_count": 22,
      "metadata": {
        "id": "WCTxbn5OL37Y"
      },
      "outputs": [],
      "source": [
        "# Acá separamos para las playlist que están en test sus primeras PRIMERAS_N canciones para train y el resto para train\n",
        "# Hay que asegurarse que PRIMERAS_N << NUM_CANCIONES\n",
        "\n",
        "PRIMERAS_N = 5\n",
        "test_train, test_test = Sep_first_n(PRIMERAS_N, test_pid)\n",
        "\n",
        "# clear_outputs()"
      ]
    },
    {
      "cell_type": "code",
      "execution_count": 23,
      "metadata": {
        "id": "N4h6eMl2Jlkz"
      },
      "outputs": [],
      "source": [
        "# Luego acá creamos los datasets de train y test\n",
        "\n",
        "data = playlist_track[['pid', 'track_id']]\n",
        "train_data = data[data['pid'].isin(train_pid)]                       # Playlists con todas las canciones\n",
        "train_data = pd.concat([train_data, test_train], ignore_index=True)  # Playlists con solo las PRIMERAS_N canciones\n",
        "test_data = test_test\n"
      ]
    },
    {
      "cell_type": "code",
      "execution_count": 24,
      "metadata": {
        "colab": {
          "base_uri": "https://localhost:8080/"
        },
        "id": "gIFyvv7-ROvL",
        "outputId": "772b04ed-5f45-475b-f23d-f792e39694f3"
      },
      "outputs": [
        {
          "data": {
            "text/plain": [
              "(array([10, 11, 16, ..., 170083, 170085, 170086], dtype=object),\n",
              " 0.3839444354708448)"
            ]
          },
          "execution_count": 24,
          "metadata": {},
          "output_type": "execute_result"
        }
      ],
      "source": [
        "# Pequeño test para revisar cuantas canciones el modelo no se ha entrenado con, lo cual implica que no las va a poder recomendar\n",
        "# Este número debería bajar si incluimos más data en el comienzo\n",
        "\n",
        "test_tracks_ids = test_data['track_id'].unique()\n",
        "train_tracks_ids = train_data['track_id'].unique()\n",
        "tracks_not_in_train = np.setdiff1d(test_tracks_ids, train_tracks_ids)\n",
        "tracks_not_in_train, len(tracks_not_in_train) / len(test_tracks_ids)\n"
      ]
    },
    {
      "cell_type": "code",
      "execution_count": 25,
      "metadata": {
        "id": "joBcbSkAlyJR"
      },
      "outputs": [],
      "source": [
        "def R_precision(recommended, actual):\n",
        "    n = len(actual)\n",
        "    recommended = recommended[:n]\n",
        "    in_both = np.intersect1d(recommended, actual)\n",
        "    return len(in_both) / n\n",
        "\n",
        "def dcg(relevance_scores):\n",
        "    return relevance_scores[0] + np.sum(\n",
        "        [rel / np.log2(idx + 1) for idx, rel in enumerate(relevance_scores[1:], start=2)]\n",
        "    )\n",
        "\n",
        "def ndcg(recommended, actual):\n",
        "    \"\"\"Calculate Normalized Discounted Cumulative Gain (NDCG) at k\"\"\"\n",
        "    # Relevance scores: 1 if the item is in the ground truth, 0 otherwise\n",
        "    relevance_scores = [1 if item in actual else 0 for item in recommended]\n",
        "\n",
        "    # Calculate DCG for the recommended list\n",
        "    DCG = dcg(relevance_scores)\n",
        "\n",
        "    # Calculate IDCG for the ideal list (the best possible ranking)\n",
        "    ideal_relevance_scores = sorted(relevance_scores, reverse=True)\n",
        "    IDCG = dcg(ideal_relevance_scores)\n",
        "\n",
        "    # Calculate NDCG\n",
        "    NDCG = DCG / IDCG if IDCG > 0 else 0\n",
        "    return NDCG\n",
        "\n",
        "def rec_song_clicks(recommended, actual):\n",
        "    for i, item in enumerate(recommended):\n",
        "        if item in actual:\n",
        "            clicks = np.floor(i / 10)\n",
        "            return clicks\n",
        "    return 51"
      ]
    },
    {
      "cell_type": "markdown",
      "metadata": {
        "id": "qvE6qa0h6fLz"
      },
      "source": [
        "# Transformer\n"
      ]
    },
    {
      "cell_type": "code",
      "execution_count": 26,
      "metadata": {
        "id": "gB9_gzek68u1"
      },
      "outputs": [],
      "source": [
        "from torch.utils.data import DataLoader, Subset, TensorDataset\n",
        "from torch.nn.utils.rnn import pad_sequence\n",
        "from sklearn.model_selection import train_test_split\n",
        "\n",
        "import torch\n",
        "import torch.nn as nn\n",
        "import torch.nn.functional as F\n",
        "\n",
        "from IPython.display import clear_output, display\n",
        "import os\n"
      ]
    },
    {
      "cell_type": "code",
      "execution_count": 27,
      "metadata": {
        "id": "PG4F4Knv80lX"
      },
      "outputs": [],
      "source": [
        "data = playlist_track[['pid', 'track_id']]\n",
        "vocab_size = data['track_id'].nunique() + 2"
      ]
    },
    {
      "cell_type": "code",
      "execution_count": 28,
      "metadata": {
        "colab": {
          "base_uri": "https://localhost:8080/"
        },
        "id": "VMDFbzFTF4tE",
        "outputId": "ea467ae0-6add-4eb7-dfe8-e44b027e97d2"
      },
      "outputs": [
        {
          "data": {
            "text/plain": [
              "(170089, 170091)"
            ]
          },
          "execution_count": 28,
          "metadata": {},
          "output_type": "execute_result"
        }
      ],
      "source": [
        "np.max(data['track_id'].unique()), vocab_size"
      ]
    },
    {
      "cell_type": "code",
      "execution_count": 29,
      "metadata": {
        "id": "ILx21LV2A9Vi"
      },
      "outputs": [],
      "source": [
        "song_per_playlist = playlist_track.groupby('pid')['track_id'].agg(list).reset_index()\n",
        "song_per_playlist = song_per_playlist[song_per_playlist['pid'].isin(train_pid)]\n",
        "data_all = song_per_playlist['track_id'].tolist()\n",
        "random.shuffle(data_all)\n",
        "data_train, data_val = train_test_split(data_all, test_size=0.2, random_state=42)\n",
        "\n",
        "prediction_tool = test_train.groupby('pid')['track_id'].agg(list).reset_index()\n",
        "prediction_actual = test_test.groupby('pid')['track_id'].agg(list).reset_index()\n"
      ]
    },
    {
      "cell_type": "code",
      "execution_count": 30,
      "metadata": {
        "colab": {
          "base_uri": "https://localhost:8080/"
        },
        "id": "YO6_gpLWawjq",
        "outputId": "8d7dcae1-5066-461c-d4d4-756bd5786f45"
      },
      "outputs": [
        {
          "name": "stdout",
          "output_type": "stream",
          "text": [
            "Average Length: 66.8974317557745\n",
            "Median Length: 50.0\n",
            "Standard Deviation of Lengths: 51.80512461821629\n",
            "Minimum Length: 10\n",
            "Maximum Length: 250\n"
          ]
        }
      ],
      "source": [
        "# Calculate lengths of each sublist\n",
        "lengths = [len(sublist) for sublist in data_train]\n",
        "\n",
        "# Calculate average length\n",
        "average_length = np.mean(lengths)\n",
        "\n",
        "# Calculate median length\n",
        "median_length = np.median(lengths)\n",
        "\n",
        "# Calculate standard deviation of lengths\n",
        "std_dev_length = np.std(lengths)\n",
        "\n",
        "# Calculate minimum and maximum length\n",
        "min_length = np.min(lengths)\n",
        "max_length = np.max(lengths)\n",
        "\n",
        "print(f\"Average Length: {average_length}\")\n",
        "print(f\"Median Length: {median_length}\")\n",
        "print(f\"Standard Deviation of Lengths: {std_dev_length}\")\n",
        "print(f\"Minimum Length: {min_length}\")\n",
        "print(f\"Maximum Length: {max_length}\")"
      ]
    },
    {
      "cell_type": "code",
      "execution_count": 31,
      "metadata": {
        "id": "2sblY_gxhFwE"
      },
      "outputs": [],
      "source": [
        "batch_size = 64 # how many independent sequences will we process in parallel?\n",
        "block_size = 50 # what is the maximum context length for predictions?\n",
        "max_iters = 1000\n",
        "eval_interval = 100\n",
        "learning_rate = 3e-4\n",
        "device = 'cuda' if torch.cuda.is_available() else 'cpu'\n",
        "eval_iters = 5\n",
        "n_embd = 100\n",
        "n_head = 6\n",
        "n_layer = 3\n",
        "dropout = 0.2\n",
        "# ------------"
      ]
    },
    {
      "cell_type": "code",
      "execution_count": 32,
      "metadata": {
        "colab": {
          "base_uri": "https://localhost:8080/"
        },
        "id": "sfzKj1rNBf3P",
        "outputId": "82107400-24f5-44ee-c90e-c75a4426f408"
      },
      "outputs": [
        {
          "name": "stdout",
          "output_type": "stream",
          "text": [
            "Batch:\n",
            "torch.Size([64, 50])\n",
            "Batch:\n",
            "torch.Size([64, 50])\n"
          ]
        }
      ],
      "source": [
        "import torch\n",
        "from torch.nn.utils.rnn import pad_sequence\n",
        "from torch.utils.data import DataLoader, Dataset\n",
        "\n",
        "class SequenceDataset(Dataset):\n",
        "    def __init__(self, sequences, block_size):\n",
        "        self.sequences = sequences\n",
        "        self.block_size = block_size\n",
        "\n",
        "    def __len__(self):\n",
        "        return len(self.sequences)\n",
        "\n",
        "    def __getitem__(self, idx):\n",
        "        sequence = self.sequences[idx]\n",
        "        if len(sequence) > self.block_size:\n",
        "            # Truncate sequence\n",
        "            sequence = sequence[:self.block_size]\n",
        "        else:\n",
        "            # Pad sequence with zeros\n",
        "            sequence = sequence + [0] * (self.block_size - len(sequence))\n",
        "        return torch.tensor(sequence, dtype=torch.long)\n",
        "\n",
        "\n",
        "# Create dataset\n",
        "dataset = SequenceDataset(data_train, block_size)\n",
        "\n",
        "# DataLoader\n",
        "dataloader = DataLoader(dataset, batch_size=batch_size, shuffle=True)\n",
        "\n",
        "dataset_test = SequenceDataset(data_val, block_size)\n",
        "dataloader_test = DataLoader(dataset_test, batch_size=batch_size, shuffle=False)\n",
        "\n",
        "# Iterate through DataLoader\n",
        "for batch in dataloader:\n",
        "    print(\"Batch:\")\n",
        "    print(batch.size())\n",
        "    break\n",
        "\n",
        "for batch in dataloader_test:\n",
        "    print(\"Batch:\")\n",
        "    print(batch.size())\n",
        "    break\n"
      ]
    },
    {
      "cell_type": "markdown",
      "metadata": {
        "id": "3NMehEhAD8_S"
      },
      "source": [
        "### Model:"
      ]
    },
    {
      "cell_type": "code",
      "execution_count": 33,
      "metadata": {
        "id": "ofPVN3ox6gnH"
      },
      "outputs": [],
      "source": [
        "# data loading\n",
        "def get_batch(split):\n",
        "    # generate a small batch of data of inputs x and targets y\n",
        "    data = train_data if split == 'train' else val_data\n",
        "    ix = torch.randint(len(data) - block_size, (batch_size,))\n",
        "    x = torch.stack([data[i:i+block_size] for i in ix])\n",
        "    y = torch.stack([data[i+1:i+block_size+1] for i in ix])\n",
        "    x, y = x.to(device), y.to(device)\n",
        "    return x, y\n",
        "\n",
        "@torch.no_grad()\n",
        "def estimate_loss():\n",
        "    out = {}\n",
        "    model.eval()\n",
        "    for split in ['train', 'val']:\n",
        "        losses = torch.zeros(eval_iters)\n",
        "        for k in range(eval_iters):\n",
        "            X, Y = get_batch(split)\n",
        "            logits, loss = model(X, Y)\n",
        "            losses[k] = loss.item()\n",
        "        out[split] = losses.mean()\n",
        "    model.train()\n",
        "    return out\n",
        "\n",
        "class Head(nn.Module):\n",
        "    \"\"\" one head of self-attention \"\"\"\n",
        "\n",
        "    def __init__(self, head_size):\n",
        "        super().__init__()\n",
        "        self.key = nn.Linear(n_embd, head_size, bias=False)\n",
        "        self.query = nn.Linear(n_embd, head_size, bias=False)\n",
        "        self.value = nn.Linear(n_embd, head_size, bias=False)\n",
        "        self.register_buffer('tril', torch.tril(torch.ones(block_size, block_size)))\n",
        "\n",
        "        self.dropout = nn.Dropout(dropout)\n",
        "\n",
        "    def forward(self, x):\n",
        "        # input of size (batch, time-step, channels)\n",
        "        # output of size (batch, time-step, head size)\n",
        "        B,T,C = x.shape\n",
        "        k = self.key(x)   # (B,T,hs)\n",
        "        q = self.query(x) # (B,T,hs)\n",
        "        # compute attention scores (\"affinities\")\n",
        "        wei = q @ k.transpose(-2,-1) * k.shape[-1]**-0.5 # (B, T, hs) @ (B, hs, T) -> (B, T, T)\n",
        "        wei = wei.masked_fill(self.tril[:T, :T] == 0, float('-inf')) # (B, T, T)\n",
        "        wei = F.softmax(wei, dim=-1) # (B, T, T)\n",
        "        wei = self.dropout(wei)\n",
        "        # perform the weighted aggregation of the values\n",
        "        v = self.value(x) # (B,T,hs)\n",
        "        out = wei @ v # (B, T, T) @ (B, T, hs) -> (B, T, hs)\n",
        "        return out\n",
        "\n",
        "class MultiHeadAttention(nn.Module):\n",
        "    \"\"\" multiple heads of self-attention in parallel \"\"\"\n",
        "\n",
        "    def __init__(self, num_heads, head_size):\n",
        "        super().__init__()\n",
        "        self.heads = nn.ModuleList([Head(head_size) for _ in range(num_heads)])\n",
        "        self.proj = nn.Linear(head_size * num_heads, n_embd)\n",
        "        self.dropout = nn.Dropout(dropout)\n",
        "\n",
        "    def forward(self, x):\n",
        "        out = torch.cat([h(x) for h in self.heads], dim=-1)\n",
        "        out = self.dropout(self.proj(out))\n",
        "        return out\n",
        "\n",
        "class FeedFoward(nn.Module):\n",
        "    \"\"\" a simple linear layer followed by a non-linearity \"\"\"\n",
        "\n",
        "    def __init__(self, n_embd):\n",
        "        super().__init__()\n",
        "        self.net = nn.Sequential(\n",
        "            nn.Linear(n_embd, 4 * n_embd),\n",
        "            nn.ReLU(),\n",
        "            nn.Linear(4 * n_embd, n_embd),\n",
        "            nn.Dropout(dropout),\n",
        "        )\n",
        "\n",
        "    def forward(self, x):\n",
        "        return self.net(x)\n",
        "\n",
        "class Block(nn.Module):\n",
        "    \"\"\" Transformer block: communication followed by computation \"\"\"\n",
        "\n",
        "    def __init__(self, n_embd, n_head):\n",
        "        # n_embd: embedding dimension, n_head: the number of heads we'd like\n",
        "        super().__init__()\n",
        "        head_size = n_embd // n_head\n",
        "        self.sa = MultiHeadAttention(n_head, head_size)\n",
        "        self.ffwd = FeedFoward(n_embd)\n",
        "        self.ln1 = nn.LayerNorm(n_embd)\n",
        "        self.ln2 = nn.LayerNorm(n_embd)\n",
        "\n",
        "    def forward(self, x):\n",
        "        x = x + self.sa(self.ln1(x))\n",
        "        x = x + self.ffwd(self.ln2(x))\n",
        "        return x\n",
        "\n",
        "class GPTLanguageModel(nn.Module):\n",
        "\n",
        "    def __init__(self):\n",
        "        super().__init__()\n",
        "        # each token directly reads off the logits for the next token from a lookup table\n",
        "        self.token_embedding_table = nn.Embedding(vocab_size, n_embd)\n",
        "        self.position_embedding_table = nn.Embedding(block_size, n_embd)\n",
        "        self.blocks = nn.Sequential(*[Block(n_embd, n_head=n_head) for _ in range(n_layer)])\n",
        "        self.ln_f = nn.LayerNorm(n_embd) # final layer norm\n",
        "        self.lm_head = nn.Linear(n_embd, vocab_size)\n",
        "\n",
        "        # better init, not covered in the original GPT video, but important, will cover in followup video\n",
        "        self.apply(self._init_weights)\n",
        "\n",
        "    def _init_weights(self, module):\n",
        "        if isinstance(module, nn.Linear):\n",
        "            torch.nn.init.normal_(module.weight, mean=0.0, std=0.02)\n",
        "            if module.bias is not None:\n",
        "                torch.nn.init.zeros_(module.bias)\n",
        "        elif isinstance(module, nn.Embedding):\n",
        "            torch.nn.init.normal_(module.weight, mean=0.0, std=0.02)\n",
        "\n",
        "    def forward(self, idx, targets=None):\n",
        "        B, T = idx.shape\n",
        "\n",
        "        # idx and targets are both (B,T) tensor of integers\n",
        "        tok_emb = self.token_embedding_table(idx) # (B,T,C)\n",
        "        pos_emb = self.position_embedding_table(torch.arange(T, device=device)) # (T,C)\n",
        "        x = tok_emb + pos_emb # (B,T,C)\n",
        "        x = self.blocks(x) # (B,T,C)\n",
        "        x = self.ln_f(x) # (B,T,C)\n",
        "        logits = self.lm_head(x) # (B,T,vocab_size)\n",
        "\n",
        "        if targets is None:\n",
        "            loss = None\n",
        "        else:\n",
        "            B, T, C = logits.shape\n",
        "            logits = logits.view(B*T, C)\n",
        "            targets = targets.view(B*T)\n",
        "            loss = F.cross_entropy(logits, targets)\n",
        "\n",
        "        return logits, loss\n",
        "\n",
        "    def generate(self, idx, max_new_tokens):\n",
        "        # idx is (B, T) array of indices in the current context\n",
        "        for _ in range(max_new_tokens):\n",
        "            # crop idx to the last block_size tokens\n",
        "            idx_cond = idx[:, -block_size:]\n",
        "            # get the predictions\n",
        "            logits, loss = self(idx_cond)\n",
        "            # focus only on the last time step\n",
        "            logits = logits[:, -1, :] # becomes (B, C)\n",
        "            # apply softmax to get probabilities\n",
        "            probs = F.softmax(logits, dim=-1) # (B, C)\n",
        "            # sample from the distribution\n",
        "            # print(probs.size())\n",
        "            probs_no_0 = probs[:, 1:]\n",
        "            # print(probs_no_0.size())\n",
        "            idx_next = torch.multinomial(probs_no_0, num_samples=1) # (B, 1)\n",
        "            # append sampled index to the running sequence\n",
        "            idx = torch.cat((idx, idx_next), dim=1) # (B, T+1)\n",
        "        return idx"
      ]
    },
    {
      "cell_type": "markdown",
      "metadata": {
        "id": "R77kM3FMEA9a"
      },
      "source": [
        "### Training"
      ]
    },
    {
      "cell_type": "code",
      "execution_count": 39,
      "metadata": {
        "colab": {
          "base_uri": "https://localhost:8080/"
        },
        "id": "NAAOsJ2-61ps",
        "outputId": "ad705c8f-6a77-41a7-bb01-7d6b57bcfb34"
      },
      "outputs": [
        {
          "ename": "RuntimeError",
          "evalue": "view size is not compatible with input tensor's size and stride (at least one dimension spans across two contiguous subspaces). Use .reshape(...) instead.",
          "output_type": "error",
          "traceback": [
            "\u001b[1;31m---------------------------------------------------------------------------\u001b[0m",
            "\u001b[1;31mRuntimeError\u001b[0m                              Traceback (most recent call last)",
            "Cell \u001b[1;32mIn[39], line 18\u001b[0m\n\u001b[0;32m     15\u001b[0m \u001b[38;5;66;03m# print(xb.shape, yb.shape)\u001b[39;00m\n\u001b[0;32m     16\u001b[0m xb, yb \u001b[38;5;241m=\u001b[39m xb\u001b[38;5;241m.\u001b[39mto(device), yb\u001b[38;5;241m.\u001b[39mto(device)\n\u001b[1;32m---> 18\u001b[0m logits, loss \u001b[38;5;241m=\u001b[39m \u001b[43mmodel\u001b[49m\u001b[43m(\u001b[49m\u001b[43mxb\u001b[49m\u001b[43m,\u001b[49m\u001b[43m \u001b[49m\u001b[43myb\u001b[49m\u001b[43m)\u001b[49m\n\u001b[0;32m     20\u001b[0m loss_per_epoch \u001b[38;5;241m+\u001b[39m\u001b[38;5;241m=\u001b[39m loss\u001b[38;5;241m.\u001b[39mitem()\n\u001b[0;32m     22\u001b[0m optimizer\u001b[38;5;241m.\u001b[39mzero_grad(set_to_none\u001b[38;5;241m=\u001b[39m\u001b[38;5;28;01mTrue\u001b[39;00m)\n",
            "File \u001b[1;32mc:\\Users\\jasar\\anaconda3\\envs\\Recomendadores\\lib\\site-packages\\torch\\nn\\modules\\module.py:1532\u001b[0m, in \u001b[0;36mModule._wrapped_call_impl\u001b[1;34m(self, *args, **kwargs)\u001b[0m\n\u001b[0;32m   1530\u001b[0m     \u001b[38;5;28;01mreturn\u001b[39;00m \u001b[38;5;28mself\u001b[39m\u001b[38;5;241m.\u001b[39m_compiled_call_impl(\u001b[38;5;241m*\u001b[39margs, \u001b[38;5;241m*\u001b[39m\u001b[38;5;241m*\u001b[39mkwargs)  \u001b[38;5;66;03m# type: ignore[misc]\u001b[39;00m\n\u001b[0;32m   1531\u001b[0m \u001b[38;5;28;01melse\u001b[39;00m:\n\u001b[1;32m-> 1532\u001b[0m     \u001b[38;5;28;01mreturn\u001b[39;00m \u001b[38;5;28;43mself\u001b[39;49m\u001b[38;5;241;43m.\u001b[39;49m\u001b[43m_call_impl\u001b[49m\u001b[43m(\u001b[49m\u001b[38;5;241;43m*\u001b[39;49m\u001b[43margs\u001b[49m\u001b[43m,\u001b[49m\u001b[43m \u001b[49m\u001b[38;5;241;43m*\u001b[39;49m\u001b[38;5;241;43m*\u001b[39;49m\u001b[43mkwargs\u001b[49m\u001b[43m)\u001b[49m\n",
            "File \u001b[1;32mc:\\Users\\jasar\\anaconda3\\envs\\Recomendadores\\lib\\site-packages\\torch\\nn\\modules\\module.py:1541\u001b[0m, in \u001b[0;36mModule._call_impl\u001b[1;34m(self, *args, **kwargs)\u001b[0m\n\u001b[0;32m   1536\u001b[0m \u001b[38;5;66;03m# If we don't have any hooks, we want to skip the rest of the logic in\u001b[39;00m\n\u001b[0;32m   1537\u001b[0m \u001b[38;5;66;03m# this function, and just call forward.\u001b[39;00m\n\u001b[0;32m   1538\u001b[0m \u001b[38;5;28;01mif\u001b[39;00m \u001b[38;5;129;01mnot\u001b[39;00m (\u001b[38;5;28mself\u001b[39m\u001b[38;5;241m.\u001b[39m_backward_hooks \u001b[38;5;129;01mor\u001b[39;00m \u001b[38;5;28mself\u001b[39m\u001b[38;5;241m.\u001b[39m_backward_pre_hooks \u001b[38;5;129;01mor\u001b[39;00m \u001b[38;5;28mself\u001b[39m\u001b[38;5;241m.\u001b[39m_forward_hooks \u001b[38;5;129;01mor\u001b[39;00m \u001b[38;5;28mself\u001b[39m\u001b[38;5;241m.\u001b[39m_forward_pre_hooks\n\u001b[0;32m   1539\u001b[0m         \u001b[38;5;129;01mor\u001b[39;00m _global_backward_pre_hooks \u001b[38;5;129;01mor\u001b[39;00m _global_backward_hooks\n\u001b[0;32m   1540\u001b[0m         \u001b[38;5;129;01mor\u001b[39;00m _global_forward_hooks \u001b[38;5;129;01mor\u001b[39;00m _global_forward_pre_hooks):\n\u001b[1;32m-> 1541\u001b[0m     \u001b[38;5;28;01mreturn\u001b[39;00m \u001b[43mforward_call\u001b[49m\u001b[43m(\u001b[49m\u001b[38;5;241;43m*\u001b[39;49m\u001b[43margs\u001b[49m\u001b[43m,\u001b[49m\u001b[43m \u001b[49m\u001b[38;5;241;43m*\u001b[39;49m\u001b[38;5;241;43m*\u001b[39;49m\u001b[43mkwargs\u001b[49m\u001b[43m)\u001b[49m\n\u001b[0;32m   1543\u001b[0m \u001b[38;5;28;01mtry\u001b[39;00m:\n\u001b[0;32m   1544\u001b[0m     result \u001b[38;5;241m=\u001b[39m \u001b[38;5;28;01mNone\u001b[39;00m\n",
            "Cell \u001b[1;32mIn[33], line 137\u001b[0m, in \u001b[0;36mGPTLanguageModel.forward\u001b[1;34m(self, idx, targets)\u001b[0m\n\u001b[0;32m    135\u001b[0m     B, T, C \u001b[38;5;241m=\u001b[39m logits\u001b[38;5;241m.\u001b[39mshape\n\u001b[0;32m    136\u001b[0m     logits \u001b[38;5;241m=\u001b[39m logits\u001b[38;5;241m.\u001b[39mview(B\u001b[38;5;241m*\u001b[39mT, C)\n\u001b[1;32m--> 137\u001b[0m     targets \u001b[38;5;241m=\u001b[39m \u001b[43mtargets\u001b[49m\u001b[38;5;241;43m.\u001b[39;49m\u001b[43mview\u001b[49m\u001b[43m(\u001b[49m\u001b[43mB\u001b[49m\u001b[38;5;241;43m*\u001b[39;49m\u001b[43mT\u001b[49m\u001b[43m)\u001b[49m\n\u001b[0;32m    138\u001b[0m     loss \u001b[38;5;241m=\u001b[39m F\u001b[38;5;241m.\u001b[39mcross_entropy(logits, targets)\n\u001b[0;32m    140\u001b[0m \u001b[38;5;28;01mreturn\u001b[39;00m logits, loss\n",
            "\u001b[1;31mRuntimeError\u001b[0m: view size is not compatible with input tensor's size and stride (at least one dimension spans across two contiguous subspaces). Use .reshape(...) instead."
          ]
        }
      ],
      "source": [
        "model = GPTLanguageModel()\n",
        "model = model.to(device)\n",
        "optimizer = torch.optim.AdamW(model.parameters(), lr=0.001)\n",
        "\n",
        "N_EPOCH = 10\n",
        "for epoch in range(N_EPOCH):\n",
        "    loss_per_epoch = 0\n",
        "    loss_per_epoch_test = 0\n",
        "    for i, batch in enumerate(dataloader):\n",
        "        # sample a batch of data'\n",
        "        max_len = batch.shape[1]\n",
        "        max_len = min(max_len, block_size) - 2\n",
        "        xb = batch[:, :max_len]\n",
        "        yb = batch[:, 1:max_len+1]\n",
        "        # print(xb.shape, yb.shape)\n",
        "        xb, yb = xb.to(device), yb.to(device)\n",
        "\n",
        "        logits, loss = model(xb, yb)\n",
        "\n",
        "        loss_per_epoch += loss.item()\n",
        "\n",
        "        optimizer.zero_grad(set_to_none=True)\n",
        "        loss.backward()\n",
        "        optimizer.step()\n",
        "        # if i % (len(dataloader) // 3) == 0:\n",
        "            # print(f'{i}: i')\n",
        "\n",
        "    with torch.no_grad():\n",
        "        model.eval()\n",
        "        for batch in dataloader_test:\n",
        "            max_len = batch.shape[1]\n",
        "            max_len = min(max_len, block_size) - 2\n",
        "            xb = batch[:, :max_len]\n",
        "            yb = batch[:, 1:max_len+1]\n",
        "            xb, yb = xb.to(device), yb.to(device)\n",
        "\n",
        "            logits, loss = model(xb, yb)\n",
        "            loss_per_epoch_test += loss.item()\n",
        "    model.train()\n",
        "\n",
        "    print(f\"Epoch {epoch+1}, loss_train: {loss_per_epoch/len(dataloader)}\")\n",
        "    print(f\"Epoch {epoch+1}, loss_val: {loss_per_epoch_test/len(dataloader_test)}\")"
      ]
    },
    {
      "cell_type": "code",
      "execution_count": 35,
      "metadata": {
        "colab": {
          "base_uri": "https://localhost:8080/"
        },
        "id": "UCQSiKi2apxZ",
        "outputId": "eabc86e4-199d-404a-d6e6-6ccbcb421f5e"
      },
      "outputs": [
        {
          "name": "stdout",
          "output_type": "stream",
          "text": [
            "torch.Size([1, 1])\n",
            "torch.Size([1, 7])\n",
            "[1, 32, 45, 1, 30, 200, 1500, 74953, 116843, 92327, 144998, 102885]\n"
          ]
        }
      ],
      "source": [
        "context = torch.randint(vocab_size, (1, 1), dtype=torch.long, device=device)\n",
        "print(context.size())\n",
        "canciones = [1, 32, 45, 1, 30, 200, 1500]\n",
        "context = torch.tensor(canciones, dtype=torch.long, device=device).view(1, -1)\n",
        "print(context.size())\n",
        "\n",
        "print(model.generate(context, max_new_tokens=5)[0].tolist())\n"
      ]
    },
    {
      "cell_type": "code",
      "execution_count": null,
      "metadata": {
        "id": "02XDBs_LplmZ"
      },
      "outputs": [],
      "source": [
        "# prediction_tool = test_train.groupby('pid')['track_id'].agg(list).reset_index()\n",
        "# prediction_actual = test_test.groupby('pid')['track_id'].agg(list).reset_index()"
      ]
    },
    {
      "cell_type": "code",
      "execution_count": 37,
      "metadata": {},
      "outputs": [
        {
          "data": {
            "text/html": [
              "<div>\n",
              "<style scoped>\n",
              "    .dataframe tbody tr th:only-of-type {\n",
              "        vertical-align: middle;\n",
              "    }\n",
              "\n",
              "    .dataframe tbody tr th {\n",
              "        vertical-align: top;\n",
              "    }\n",
              "\n",
              "    .dataframe thead th {\n",
              "        text-align: right;\n",
              "    }\n",
              "</style>\n",
              "<table border=\"1\" class=\"dataframe\">\n",
              "  <thead>\n",
              "    <tr style=\"text-align: right;\">\n",
              "      <th></th>\n",
              "      <th>pid</th>\n",
              "      <th>track_id</th>\n",
              "    </tr>\n",
              "  </thead>\n",
              "  <tbody>\n",
              "    <tr>\n",
              "      <th>0</th>\n",
              "      <td>0</td>\n",
              "      <td>[10960, 137485, 11769, 25800, 38892]</td>\n",
              "    </tr>\n",
              "    <tr>\n",
              "      <th>1</th>\n",
              "      <td>3</td>\n",
              "      <td>[98842, 29506, 147749, 40702, 119495]</td>\n",
              "    </tr>\n",
              "    <tr>\n",
              "      <th>2</th>\n",
              "      <td>8</td>\n",
              "      <td>[57157, 30096, 122304, 55565, 52690]</td>\n",
              "    </tr>\n",
              "    <tr>\n",
              "      <th>3</th>\n",
              "      <td>10</td>\n",
              "      <td>[997, 78063, 3290, 70866, 95808]</td>\n",
              "    </tr>\n",
              "    <tr>\n",
              "      <th>4</th>\n",
              "      <td>13</td>\n",
              "      <td>[21813, 65510, 34644, 79425, 53186]</td>\n",
              "    </tr>\n",
              "    <tr>\n",
              "      <th>...</th>\n",
              "      <td>...</td>\n",
              "      <td>...</td>\n",
              "    </tr>\n",
              "    <tr>\n",
              "      <th>1930</th>\n",
              "      <td>9974</td>\n",
              "      <td>[8801, 125869, 169685, 144891, 42292]</td>\n",
              "    </tr>\n",
              "    <tr>\n",
              "      <th>1931</th>\n",
              "      <td>9989</td>\n",
              "      <td>[26970, 16818, 19679, 129511, 129223]</td>\n",
              "    </tr>\n",
              "    <tr>\n",
              "      <th>1932</th>\n",
              "      <td>9993</td>\n",
              "      <td>[149867, 62762, 63923, 102319, 33287]</td>\n",
              "    </tr>\n",
              "    <tr>\n",
              "      <th>1933</th>\n",
              "      <td>9996</td>\n",
              "      <td>[169882, 85093, 66888, 46306, 147740]</td>\n",
              "    </tr>\n",
              "    <tr>\n",
              "      <th>1934</th>\n",
              "      <td>9998</td>\n",
              "      <td>[127296, 116576, 49341, 143230, 143800]</td>\n",
              "    </tr>\n",
              "  </tbody>\n",
              "</table>\n",
              "<p>1935 rows × 2 columns</p>\n",
              "</div>"
            ],
            "text/plain": [
              "       pid                                 track_id\n",
              "0        0     [10960, 137485, 11769, 25800, 38892]\n",
              "1        3    [98842, 29506, 147749, 40702, 119495]\n",
              "2        8     [57157, 30096, 122304, 55565, 52690]\n",
              "3       10         [997, 78063, 3290, 70866, 95808]\n",
              "4       13      [21813, 65510, 34644, 79425, 53186]\n",
              "...    ...                                      ...\n",
              "1930  9974    [8801, 125869, 169685, 144891, 42292]\n",
              "1931  9989    [26970, 16818, 19679, 129511, 129223]\n",
              "1932  9993    [149867, 62762, 63923, 102319, 33287]\n",
              "1933  9996    [169882, 85093, 66888, 46306, 147740]\n",
              "1934  9998  [127296, 116576, 49341, 143230, 143800]\n",
              "\n",
              "[1935 rows x 2 columns]"
            ]
          },
          "execution_count": 37,
          "metadata": {},
          "output_type": "execute_result"
        }
      ],
      "source": [
        "prediction_tool"
      ]
    },
    {
      "cell_type": "code",
      "execution_count": 65,
      "metadata": {
        "colab": {
          "base_uri": "https://localhost:8080/"
        },
        "id": "oDIIocinRnvK",
        "outputId": "fb3b9ed2-aacc-4eef-bd9d-6e8bd730f457"
      },
      "outputs": [
        {
          "name": "stdout",
          "output_type": "stream",
          "text": [
            "1935\n",
            "148285\n",
            "User 1/1935\n",
            "User 2/1935\n",
            "User 3/1935\n",
            "User 4/1935\n",
            "User 5/1935\n",
            "User 6/1935\n",
            "User 7/1935\n",
            "User 8/1935\n",
            "User 9/1935\n",
            "User 10/1935\n",
            "User 11/1935\n",
            "User 12/1935\n",
            "User 13/1935\n",
            "User 14/1935\n",
            "User 15/1935\n",
            "User 16/1935\n",
            "User 17/1935\n",
            "User 18/1935\n",
            "User 19/1935\n",
            "User 20/1935\n",
            "User 21/1935\n",
            "User 22/1935\n",
            "User 23/1935\n",
            "User 24/1935\n",
            "User 25/1935\n",
            "User 26/1935\n",
            "User 27/1935\n",
            "User 28/1935\n",
            "User 29/1935\n",
            "User 30/1935\n",
            "User 31/1935\n",
            "User 32/1935\n",
            "User 33/1935\n",
            "User 34/1935\n",
            "User 35/1935\n",
            "User 36/1935\n",
            "User 37/1935\n",
            "User 38/1935\n",
            "User 39/1935\n",
            "User 40/1935\n",
            "User 41/1935\n",
            "User 42/1935\n",
            "User 43/1935\n",
            "User 44/1935\n",
            "User 45/1935\n",
            "User 46/1935\n",
            "User 47/1935\n",
            "User 48/1935\n",
            "User 49/1935\n",
            "User 50/1935\n",
            "R prec: 0.0007669248195563985, NDCG: 0.029959757752559588, Clicks: 44.94\n"
          ]
        }
      ],
      "source": [
        "user_ids = test_pid\n",
        "print(len(user_ids))\n",
        "print(train_data['track_id'].nunique())\n",
        "r_prec = []\n",
        "ndcgs = []\n",
        "clicks = []\n",
        "\n",
        "for i, userid in enumerate(user_ids[:50]):\n",
        "  print(f\"User {i+1}/{len(user_ids)}\")\n",
        "  canciones = prediction_tool[prediction_tool['pid'] == userid]['track_id'].values[0]\n",
        "  context = torch.tensor(canciones, dtype=torch.long, device=device).view(1, -1)\n",
        "\n",
        "  ids = model.generate(context, max_new_tokens=500)[0].tolist()[5:]\n",
        "  actual = test_test[test_test['pid'] == userid]['track_id'].values\n",
        "\n",
        "  r_prec.append(R_precision(ids, actual))\n",
        "  ndcgs.append(ndcg(ids, actual))\n",
        "  clicks.append(rec_song_clicks(ids, actual))\n",
        "\n",
        "\n",
        "print(f\"R prec: {np.mean(r_prec)}, NDCG: {np.mean(ndcgs)}, Clicks: {np.mean(clicks)}\")"
      ]
    },
    {
      "cell_type": "markdown",
      "metadata": {},
      "source": [
        "- Playlist en base a 5 canciones que les gusten"
      ]
    },
    {
      "cell_type": "code",
      "execution_count": 66,
      "metadata": {},
      "outputs": [
        {
          "data": {
            "text/html": [
              "<div>\n",
              "<style scoped>\n",
              "    .dataframe tbody tr th:only-of-type {\n",
              "        vertical-align: middle;\n",
              "    }\n",
              "\n",
              "    .dataframe tbody tr th {\n",
              "        vertical-align: top;\n",
              "    }\n",
              "\n",
              "    .dataframe thead th {\n",
              "        text-align: right;\n",
              "    }\n",
              "</style>\n",
              "<table border=\"1\" class=\"dataframe\">\n",
              "  <thead>\n",
              "    <tr style=\"text-align: right;\">\n",
              "      <th></th>\n",
              "      <th>artist_name</th>\n",
              "      <th>track_name</th>\n",
              "      <th>track_uri</th>\n",
              "      <th>track_id</th>\n",
              "    </tr>\n",
              "  </thead>\n",
              "  <tbody>\n",
              "    <tr>\n",
              "      <th>397687</th>\n",
              "      <td>El Poder De Zacatecas</td>\n",
              "      <td>Abeja Miope</td>\n",
              "      <td>spotify:track:000GjfnQc7ggBayDiy1sLW</td>\n",
              "      <td>1</td>\n",
              "    </tr>\n",
              "    <tr>\n",
              "      <th>140100</th>\n",
              "      <td>The Ghost Inside</td>\n",
              "      <td>Mercy</td>\n",
              "      <td>spotify:track:000VZqvXwT0YNqKk7iG2GS</td>\n",
              "      <td>2</td>\n",
              "    </tr>\n",
              "    <tr>\n",
              "      <th>23657</th>\n",
              "      <td>The Coronas</td>\n",
              "      <td>If I Gave Myself To Someone Else</td>\n",
              "      <td>spotify:track:000mA0etY38nKdvf1N04af</td>\n",
              "      <td>3</td>\n",
              "    </tr>\n",
              "    <tr>\n",
              "      <th>11848</th>\n",
              "      <td>ZAYN</td>\n",
              "      <td>Still Got Time</td>\n",
              "      <td>spotify:track:000xQL6tZNLJzIrtIgxqSl</td>\n",
              "      <td>4</td>\n",
              "    </tr>\n",
              "    <tr>\n",
              "      <th>427744</th>\n",
              "      <td>Bombay Bicycle Club</td>\n",
              "      <td>It's Alright Now</td>\n",
              "      <td>spotify:track:0010mZpCCwlPwoBiBsjoac</td>\n",
              "      <td>5</td>\n",
              "    </tr>\n",
              "  </tbody>\n",
              "</table>\n",
              "</div>"
            ],
            "text/plain": [
              "                  artist_name                        track_name  \\\n",
              "397687  El Poder De Zacatecas                       Abeja Miope   \n",
              "140100       The Ghost Inside                             Mercy   \n",
              "23657             The Coronas  If I Gave Myself To Someone Else   \n",
              "11848                    ZAYN                    Still Got Time   \n",
              "427744    Bombay Bicycle Club                  It's Alright Now   \n",
              "\n",
              "                                   track_uri  track_id  \n",
              "397687  spotify:track:000GjfnQc7ggBayDiy1sLW         1  \n",
              "140100  spotify:track:000VZqvXwT0YNqKk7iG2GS         2  \n",
              "23657   spotify:track:000mA0etY38nKdvf1N04af         3  \n",
              "11848   spotify:track:000xQL6tZNLJzIrtIgxqSl         4  \n",
              "427744  spotify:track:0010mZpCCwlPwoBiBsjoac         5  "
            ]
          },
          "execution_count": 66,
          "metadata": {},
          "output_type": "execute_result"
        }
      ],
      "source": [
        "pares = expanded_tracks_df[[\"artist_name\",\"track_name\",\"track_uri\",\"track_id\"]].drop_duplicates().sort_values(\"track_id\")\n",
        "pares.head()"
      ]
    },
    {
      "cell_type": "code",
      "execution_count": 59,
      "metadata": {},
      "outputs": [
        {
          "data": {
            "text/html": [
              "<div>\n",
              "<style scoped>\n",
              "    .dataframe tbody tr th:only-of-type {\n",
              "        vertical-align: middle;\n",
              "    }\n",
              "\n",
              "    .dataframe tbody tr th {\n",
              "        vertical-align: top;\n",
              "    }\n",
              "\n",
              "    .dataframe thead th {\n",
              "        text-align: right;\n",
              "    }\n",
              "</style>\n",
              "<table border=\"1\" class=\"dataframe\">\n",
              "  <thead>\n",
              "    <tr style=\"text-align: right;\">\n",
              "      <th></th>\n",
              "      <th>artist_name</th>\n",
              "      <th>track_name</th>\n",
              "      <th>track_uri</th>\n",
              "      <th>track_id</th>\n",
              "    </tr>\n",
              "  </thead>\n",
              "  <tbody>\n",
              "    <tr>\n",
              "      <th>514</th>\n",
              "      <td>Post Malone</td>\n",
              "      <td>Big Lie</td>\n",
              "      <td>spotify:track:02opp1cycqiFNDpLd2o1J3</td>\n",
              "      <td>997</td>\n",
              "    </tr>\n",
              "    <tr>\n",
              "      <th>9394</th>\n",
              "      <td>Post Malone</td>\n",
              "      <td>Deja Vu</td>\n",
              "      <td>spotify:track:0H8XeaJunhvpBdBFIYi6Sh</td>\n",
              "      <td>6252</td>\n",
              "    </tr>\n",
              "    <tr>\n",
              "      <th>4089</th>\n",
              "      <td>Post Malone</td>\n",
              "      <td>Yours Truly, Austin Post</td>\n",
              "      <td>spotify:track:0LpiKjWMfZTkPPHonlM8nB</td>\n",
              "      <td>7912</td>\n",
              "    </tr>\n",
              "    <tr>\n",
              "      <th>54906</th>\n",
              "      <td>Post Malone</td>\n",
              "      <td>Cold</td>\n",
              "      <td>spotify:track:1QWmKmqhv5zcsS3v45FNl0</td>\n",
              "      <td>31385</td>\n",
              "    </tr>\n",
              "    <tr>\n",
              "      <th>11784</th>\n",
              "      <td>Post Malone</td>\n",
              "      <td>Money Made Me Do It</td>\n",
              "      <td>spotify:track:1ysAvOdJgUjc6CqOQxepaz</td>\n",
              "      <td>43321</td>\n",
              "    </tr>\n",
              "    <tr>\n",
              "      <th>22354</th>\n",
              "      <td>Post Malone</td>\n",
              "      <td>Congratulations - Remix</td>\n",
              "      <td>spotify:track:2YK01AIIWuywG24gsbuizE</td>\n",
              "      <td>55859</td>\n",
              "    </tr>\n",
              "    <tr>\n",
              "      <th>4090</th>\n",
              "      <td>Post Malone</td>\n",
              "      <td>Up There</td>\n",
              "      <td>spotify:track:2rKmNEYrQxaOPZrOWKZpOc</td>\n",
              "      <td>62647</td>\n",
              "    </tr>\n",
              "    <tr>\n",
              "      <th>31624</th>\n",
              "      <td>Post Malone</td>\n",
              "      <td>Feeling Whitney</td>\n",
              "      <td>spotify:track:35r28RDot7nPE7y9K9H7l0</td>\n",
              "      <td>67662</td>\n",
              "    </tr>\n",
              "    <tr>\n",
              "      <th>3042</th>\n",
              "      <td>Post Malone</td>\n",
              "      <td>Congratulations</td>\n",
              "      <td>spotify:track:3a1lNhkSLSkpJE4MSHpDu9</td>\n",
              "      <td>78292</td>\n",
              "    </tr>\n",
              "    <tr>\n",
              "      <th>87535</th>\n",
              "      <td>Post Malone</td>\n",
              "      <td>Too Young</td>\n",
              "      <td>spotify:track:3vdKpSTx6Q1XJp3khDoMkz</td>\n",
              "      <td>85914</td>\n",
              "    </tr>\n",
              "    <tr>\n",
              "      <th>11856</th>\n",
              "      <td>Post Malone</td>\n",
              "      <td>Candy Paint</td>\n",
              "      <td>spotify:track:42CeaId2XNlxugDvyqHfDf</td>\n",
              "      <td>88202</td>\n",
              "    </tr>\n",
              "    <tr>\n",
              "      <th>4130</th>\n",
              "      <td>Post Malone</td>\n",
              "      <td>Too Young</td>\n",
              "      <td>spotify:track:4SYUUlkScpNR1QvPscXf8t</td>\n",
              "      <td>97543</td>\n",
              "    </tr>\n",
              "    <tr>\n",
              "      <th>4112</th>\n",
              "      <td>Post Malone</td>\n",
              "      <td>Broken Whiskey Glass</td>\n",
              "      <td>spotify:track:5BoOzegGrg5XFRR8UBDtkF</td>\n",
              "      <td>113477</td>\n",
              "    </tr>\n",
              "    <tr>\n",
              "      <th>12441</th>\n",
              "      <td>Post Malone</td>\n",
              "      <td>Patient</td>\n",
              "      <td>spotify:track:5DLTuH4A5VZB2HKpqHQR6t</td>\n",
              "      <td>114004</td>\n",
              "    </tr>\n",
              "    <tr>\n",
              "      <th>4110</th>\n",
              "      <td>Post Malone</td>\n",
              "      <td>Leave</td>\n",
              "      <td>spotify:track:5dI1yHSqgmilFEqpGbqxHh</td>\n",
              "      <td>123105</td>\n",
              "    </tr>\n",
              "    <tr>\n",
              "      <th>547</th>\n",
              "      <td>Post Malone</td>\n",
              "      <td>Go Flex</td>\n",
              "      <td>spotify:track:5yuShbu70mtHXY0yLzCQLQ</td>\n",
              "      <td>130663</td>\n",
              "    </tr>\n",
              "    <tr>\n",
              "      <th>33986</th>\n",
              "      <td>Post Malone</td>\n",
              "      <td>Hit This Hard</td>\n",
              "      <td>spotify:track:61jnrkPHpLumBf1kqGpRRt</td>\n",
              "      <td>131655</td>\n",
              "    </tr>\n",
              "    <tr>\n",
              "      <th>1411</th>\n",
              "      <td>Post Malone</td>\n",
              "      <td>No Option</td>\n",
              "      <td>spotify:track:6M0IsaUX4GNyto4niSegfI</td>\n",
              "      <td>138767</td>\n",
              "    </tr>\n",
              "    <tr>\n",
              "      <th>7052</th>\n",
              "      <td>Post Malone</td>\n",
              "      <td>White Iverson</td>\n",
              "      <td>spotify:track:6eT7xZZlB2mwyzJ2sUKG6w</td>\n",
              "      <td>145221</td>\n",
              "    </tr>\n",
              "    <tr>\n",
              "      <th>158030</th>\n",
              "      <td>Post Malone</td>\n",
              "      <td>What's up (feat. 1st)</td>\n",
              "      <td>spotify:track:6f8rLbp7EyoDifNpvBmzyw</td>\n",
              "      <td>145483</td>\n",
              "    </tr>\n",
              "    <tr>\n",
              "      <th>4109</th>\n",
              "      <td>Post Malone</td>\n",
              "      <td>I Fall Apart</td>\n",
              "      <td>spotify:track:75ZvA4QfFiZvzhj2xkaWAh</td>\n",
              "      <td>154726</td>\n",
              "    </tr>\n",
              "    <tr>\n",
              "      <th>12430</th>\n",
              "      <td>Post Malone</td>\n",
              "      <td>Feel</td>\n",
              "      <td>spotify:track:7MTIDmToGs0I5Oue9V0CHl</td>\n",
              "      <td>160705</td>\n",
              "    </tr>\n",
              "    <tr>\n",
              "      <th>8080</th>\n",
              "      <td>Post Malone</td>\n",
              "      <td>rockstar</td>\n",
              "      <td>spotify:track:7wGoVu4Dady5GV0Sv4UIsx</td>\n",
              "      <td>168713</td>\n",
              "    </tr>\n",
              "  </tbody>\n",
              "</table>\n",
              "</div>"
            ],
            "text/plain": [
              "        artist_name                track_name  \\\n",
              "514     Post Malone                   Big Lie   \n",
              "9394    Post Malone                   Deja Vu   \n",
              "4089    Post Malone  Yours Truly, Austin Post   \n",
              "54906   Post Malone                      Cold   \n",
              "11784   Post Malone       Money Made Me Do It   \n",
              "22354   Post Malone   Congratulations - Remix   \n",
              "4090    Post Malone                  Up There   \n",
              "31624   Post Malone           Feeling Whitney   \n",
              "3042    Post Malone           Congratulations   \n",
              "87535   Post Malone                 Too Young   \n",
              "11856   Post Malone               Candy Paint   \n",
              "4130    Post Malone                 Too Young   \n",
              "4112    Post Malone      Broken Whiskey Glass   \n",
              "12441   Post Malone                   Patient   \n",
              "4110    Post Malone                     Leave   \n",
              "547     Post Malone                   Go Flex   \n",
              "33986   Post Malone             Hit This Hard   \n",
              "1411    Post Malone                 No Option   \n",
              "7052    Post Malone             White Iverson   \n",
              "158030  Post Malone     What's up (feat. 1st)   \n",
              "4109    Post Malone              I Fall Apart   \n",
              "12430   Post Malone                      Feel   \n",
              "8080    Post Malone                  rockstar   \n",
              "\n",
              "                                   track_uri  track_id  \n",
              "514     spotify:track:02opp1cycqiFNDpLd2o1J3       997  \n",
              "9394    spotify:track:0H8XeaJunhvpBdBFIYi6Sh      6252  \n",
              "4089    spotify:track:0LpiKjWMfZTkPPHonlM8nB      7912  \n",
              "54906   spotify:track:1QWmKmqhv5zcsS3v45FNl0     31385  \n",
              "11784   spotify:track:1ysAvOdJgUjc6CqOQxepaz     43321  \n",
              "22354   spotify:track:2YK01AIIWuywG24gsbuizE     55859  \n",
              "4090    spotify:track:2rKmNEYrQxaOPZrOWKZpOc     62647  \n",
              "31624   spotify:track:35r28RDot7nPE7y9K9H7l0     67662  \n",
              "3042    spotify:track:3a1lNhkSLSkpJE4MSHpDu9     78292  \n",
              "87535   spotify:track:3vdKpSTx6Q1XJp3khDoMkz     85914  \n",
              "11856   spotify:track:42CeaId2XNlxugDvyqHfDf     88202  \n",
              "4130    spotify:track:4SYUUlkScpNR1QvPscXf8t     97543  \n",
              "4112    spotify:track:5BoOzegGrg5XFRR8UBDtkF    113477  \n",
              "12441   spotify:track:5DLTuH4A5VZB2HKpqHQR6t    114004  \n",
              "4110    spotify:track:5dI1yHSqgmilFEqpGbqxHh    123105  \n",
              "547     spotify:track:5yuShbu70mtHXY0yLzCQLQ    130663  \n",
              "33986   spotify:track:61jnrkPHpLumBf1kqGpRRt    131655  \n",
              "1411    spotify:track:6M0IsaUX4GNyto4niSegfI    138767  \n",
              "7052    spotify:track:6eT7xZZlB2mwyzJ2sUKG6w    145221  \n",
              "158030  spotify:track:6f8rLbp7EyoDifNpvBmzyw    145483  \n",
              "4109    spotify:track:75ZvA4QfFiZvzhj2xkaWAh    154726  \n",
              "12430   spotify:track:7MTIDmToGs0I5Oue9V0CHl    160705  \n",
              "8080    spotify:track:7wGoVu4Dady5GV0Sv4UIsx    168713  "
            ]
          },
          "execution_count": 59,
          "metadata": {},
          "output_type": "execute_result"
        }
      ],
      "source": [
        "pares[pares[\"artist_name\"]==\"Post Malone\"]"
      ]
    },
    {
      "cell_type": "code",
      "execution_count": 53,
      "metadata": {},
      "outputs": [],
      "source": [
        "trackname_id = {(row['artist_name'], row['track_name']): row['track_id'] for _, row in pares.iterrows()}\n",
        "id_trackname = {row['track_id']: (row['artist_name'], row['track_name']) for _, row in pares.iterrows()}"
      ]
    },
    {
      "cell_type": "code",
      "execution_count": 67,
      "metadata": {},
      "outputs": [
        {
          "name": "stdout",
          "output_type": "stream",
          "text": [
            "La canción no está en el dataset\n",
            "La canción no está en el dataset\n",
            "La canción no está en el dataset\n",
            "La canción no está en el dataset\n",
            "La canción no está en el dataset\n",
            "La canción no está en el dataset\n",
            "La canción no está en el dataset\n",
            "La canción está en el dataset\n",
            "La canción no está en el dataset\n",
            "La canción está en el dataset\n",
            "La canción está en el dataset\n",
            "La canción está en el dataset\n",
            "La canción está en el dataset\n"
          ]
        }
      ],
      "source": [
        "selecting = True\n",
        "songs = 0\n",
        "\n",
        "songs_ids= []\n",
        "while selecting:\n",
        "    \n",
        "    artist = input(\"Ingrese el nombre del artista: \")\n",
        "    song = input(\"Ingrese el nombre de la canción: \")\n",
        "\n",
        "    if (artist, song) in trackname_id:\n",
        "        print(\"La canción está en el dataset\")\n",
        "        songs_ids.append(trackname_id[(artist, song)])\n",
        "        songs += 1\n",
        "    else:\n",
        "        print(\"La canción no está en el dataset\")\n",
        "    if songs == 5:\n",
        "        selecting = False"
      ]
    },
    {
      "cell_type": "code",
      "execution_count": 68,
      "metadata": {},
      "outputs": [],
      "source": [
        "context = torch.tensor(songs_ids, dtype=torch.long, device=device).view(1, -1)\n",
        "\n",
        "ids = model.generate(context, max_new_tokens=500)[0].tolist()[5:]"
      ]
    },
    {
      "cell_type": "code",
      "execution_count": 69,
      "metadata": {},
      "outputs": [
        {
          "data": {
            "text/plain": [
              "[('Moein', 'Reng (Raghs)'),\n",
              " ('MØ', 'Never Wanna Know'),\n",
              " ('Chelsea Jade', 'Low Brow'),\n",
              " ('DJ Masterhouse', 'Night Without Sleep - Radio Edit'),\n",
              " ('Air', \"La femme d'argent\"),\n",
              " ('Cardiff Brothers', \"I've Been Thinkin\"),\n",
              " ('Irma Thomas', 'Straight From The Heart'),\n",
              " ('The Vryll Society', 'Coshh'),\n",
              " ('Jeff Williams', 'Not Fall in Love with You'),\n",
              " ('Thomas Bergersen', 'Children of the Sun (feat. Merethe Soltvedt)'),\n",
              " ('Dylan Gardner', 'Sign Language'),\n",
              " ('Steve Aoki', 'Freak - feat. Steve Bays'),\n",
              " ('Classixx', 'Hanging Gardens'),\n",
              " ('Chingo Bling', 'Classic Man (feat. Baby Bash)'),\n",
              " ('T.I.', 'Bankhead (feat. P$C & Young Dro)')]"
            ]
          },
          "execution_count": 69,
          "metadata": {},
          "output_type": "execute_result"
        }
      ],
      "source": [
        "[id_trackname[x] for x in ids][:15]"
      ]
    }
  ],
  "metadata": {
    "accelerator": "GPU",
    "colab": {
      "collapsed_sections": [
        "Ys_5Xenan9UX",
        "HJwcVkltiPI4"
      ],
      "gpuType": "T4",
      "provenance": []
    },
    "kernelspec": {
      "display_name": "Python 3",
      "name": "python3"
    },
    "language_info": {
      "codemirror_mode": {
        "name": "ipython",
        "version": 3
      },
      "file_extension": ".py",
      "mimetype": "text/x-python",
      "name": "python",
      "nbconvert_exporter": "python",
      "pygments_lexer": "ipython3",
      "version": "3.8.19"
    }
  },
  "nbformat": 4,
  "nbformat_minor": 0
}
