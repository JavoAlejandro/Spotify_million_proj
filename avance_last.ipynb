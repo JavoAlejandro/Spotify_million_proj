{
  "cells": [
    {
      "cell_type": "code",
      "execution_count": 8,
      "metadata": {
        "id": "u2XkT_sInMbO"
      },
      "outputs": [],
      "source": [
        "import json\n",
        "import pandas as pd\n",
        "from pandas import json_normalize\n",
        "import matplotlib.pyplot as plt\n",
        "import os\n",
        "import random\n",
        "\n",
        "import numpy as np"
      ]
    },
    {
      "cell_type": "code",
      "source": [],
      "metadata": {
        "id": "izcF_Sj6qAWr"
      },
      "execution_count": 8,
      "outputs": []
    },
    {
      "cell_type": "markdown",
      "metadata": {
        "id": "8yC2AbPcnMbQ"
      },
      "source": [
        "# 0. Leemos los datos"
      ]
    },
    {
      "cell_type": "code",
      "execution_count": 9,
      "metadata": {
        "id": "4GInxDA8nMbT"
      },
      "outputs": [],
      "source": [
        "def read_json(path):\n",
        "    with open(path) as f:\n",
        "        data = json.load(f)\n",
        "    return data\n",
        "\n",
        "def leer_k_archivos_json(k):\n",
        "    archivos_json = [archivo for archivo in os.listdir(\"data\") if archivo.endswith('.json')]\n",
        "    random.seed(42)\n",
        "    paths = random.choices(archivos_json, k=k)\n",
        "\n",
        "    all_playlists = []\n",
        "    for p in paths:\n",
        "        data = read_json(f\"data\\{p}\")\n",
        "        playlist = pd.DataFrame(data['playlists'])\n",
        "        all_playlists.append(playlist)\n",
        "\n",
        "    playlists = pd.concat(all_playlists, ignore_index=True)\n",
        "    return playlists"
      ]
    },
    {
      "cell_type": "code",
      "execution_count": 10,
      "metadata": {
        "colab": {
          "base_uri": "https://localhost:8080/"
        },
        "id": "jEBQwh9bnMbT",
        "outputId": "5ced0fe5-3243-4ce6-8c8a-2012fbe2dc39"
      },
      "outputs": [
        {
          "output_type": "stream",
          "name": "stdout",
          "text": [
            "mpd.slice.0-999.json\n",
            "mpd.slice.1000-1999.json\n",
            "mpd.slice.2000-2999.json\n"
          ]
        }
      ],
      "source": [
        "# Leer 15 archivos json osea 15000 playlists\n",
        "# playlists = leer_k_archivos_json(1)\n",
        "paths = [\n",
        "    \"mpd.slice.0-999.json\",\n",
        "    \"mpd.slice.1000-1999.json\",\n",
        "    \"mpd.slice.2000-2999.json\",\n",
        "    # \"mpd.slice.3000-3999.json\",\n",
        "    # \"mpd.slice.4000-4999.json\",\n",
        "    # \"mpd.slice.5000-5999.json\",\n",
        "    # \"mpd.slice.6000-6999.json\",\n",
        "    # \"mpd.slice.7000-7999.json\",\n",
        "    # \"mpd.slice.8000-8999.json\",\n",
        "    # \"mpd.slice.9000-9999.json\",\n",
        "]\n",
        "all_playlists = []\n",
        "for path in paths:\n",
        "    print(path)\n",
        "    data = read_json(f\"/content/data/{path}\")\n",
        "    playlist = pd.DataFrame(data['playlists'])\n",
        "    all_playlists.append(playlist)\n",
        "\n",
        "playlists = pd.concat(all_playlists, ignore_index=True)\n",
        "\n",
        "# playlists.head()"
      ]
    },
    {
      "cell_type": "code",
      "execution_count": 11,
      "metadata": {
        "colab": {
          "base_uri": "https://localhost:8080/"
        },
        "id": "GHw9rSwmnMbV",
        "outputId": "ddfb5b85-b91a-486e-dfb9-4cbb13c7a079"
      },
      "outputs": [
        {
          "output_type": "execute_result",
          "data": {
            "text/plain": [
              "name                0\n",
              "collaborative       0\n",
              "pid                 0\n",
              "modified_at         0\n",
              "num_tracks          0\n",
              "num_albums          0\n",
              "num_followers       0\n",
              "tracks              0\n",
              "num_edits           0\n",
              "duration_ms         0\n",
              "num_artists         0\n",
              "description      2943\n",
              "dtype: int64"
            ]
          },
          "metadata": {},
          "execution_count": 11
        }
      ],
      "source": [
        "playlists.isna().sum()"
      ]
    },
    {
      "cell_type": "code",
      "execution_count": 12,
      "metadata": {
        "id": "92jIwlQInMbW",
        "outputId": "a10e8a85-a2c6-417b-a9c3-25f1493db9da",
        "colab": {
          "base_uri": "https://localhost:8080/"
        }
      },
      "outputs": [
        {
          "output_type": "execute_result",
          "data": {
            "text/plain": [
              "94                                           chilllll out\n",
              "102                                                   uzi\n",
              "320                                    sit back and chill\n",
              "329                                     el espanish trap.\n",
              "339                      roasty toasty in the holy ghosty\n",
              "353                                    Always thinking...\n",
              "354             What I listen to crusing on my motorcycle\n",
              "370                                        merry chrysler\n",
              "475                                                   sad\n",
              "491                            A little bit of everything\n",
              "522     Intense, high testosterone, ground-breaking, f...\n",
              "526                                 Buenos Días Muchachos\n",
              "548                                        Bumblebee Tuna\n",
              "626                                closeted hypochondriac\n",
              "741     I listen to this at the moment. Try a couple s...\n",
              "767                               Just a big mix of music\n",
              "778                  but actually electric, teenage songs\n",
              "818                              The best from the movies\n",
              "871                  songs that make me want to be better\n",
              "925                &lt;Insert catchy description here&gt;\n",
              "1016                            Strictly songs that ride.\n",
              "1083       Strong Females and Songs You Can Sing Along To\n",
              "1134                                    RAP HAPPY RATCHET\n",
              "1221                                        winter things\n",
              "1229                  songs 2 use for future gopro videos\n",
              "1296                     SPOOKY SONGS FOR HALLOWEEN !!!!!\n",
              "1307                                                   :(\n",
              "1308    The hip-hop and rap songs I&#x27;m enjoying mo...\n",
              "1329                                  inspiration to film\n",
              "1423                            Only the dankest of jams.\n",
              "1427                                       1 800 CALL GOD\n",
              "1436         songs where you can tell the artist meant it\n",
              "1497    If you want to get hyped, listen to this. Or i...\n",
              "1528    Denis says, &quot;Listen to Beatles, and you w...\n",
              "1589                                                   ay\n",
              "1611    &quot;I wanted it to be you, I wanted it to be...\n",
              "1693    basic car playlist that probably everyone will...\n",
              "1788               Middle school &#x2F; High school jams.\n",
              "1829          Wake up in the morning feeling like P Diddy\n",
              "1858    :) :) :) :) :) :) :) :) :) :) :) :) :) :) :) :...\n",
              "2008    just songs i fall asleep to and or songs i lis...\n",
              "2124                                   The hardest chill.\n",
              "2171    This playlist is pretty lit, check it out.... ...\n",
              "2238                                   for when it rains.\n",
              "2246                         Just a little experiment. ;)\n",
              "2296                                      a constant mood\n",
              "2321                                           Thanks Dad\n",
              "2364            for when you&#x27;re feelin a little down\n",
              "2376                                 Because... christmas\n",
              "2446    50 Cent, Béyonce, Boosie Badazz, Chris Brown, ...\n",
              "2584              Listen when you need to get turnt FAST.\n",
              "2663    Beautiful, unique instrumentals to listen to f...\n",
              "2675                                      cash me ousside\n",
              "2706                                 for smokin the goods\n",
              "2821                    I&#x27;m just trying to pass Orgo\n",
              "2886         An ever-expanding, mostly alt rock playlist.\n",
              "2957    Each week we'll be adding a few of our favorit...\n",
              "Name: description, dtype: object"
            ]
          },
          "metadata": {},
          "execution_count": 12
        }
      ],
      "source": [
        "playlists[\"description\"][~playlists[\"description\"].isna()]"
      ]
    },
    {
      "cell_type": "code",
      "execution_count": 13,
      "metadata": {
        "id": "q_a1XNgPnMbW"
      },
      "outputs": [],
      "source": [
        "def expandir_tracks(playli):\n",
        "    expanded_tracks_df = pd.DataFrame()\n",
        "\n",
        "    # Iterar sobre cada fila y expandir los datos JSON en un dataframe\n",
        "    for _, row in playli.iterrows():\n",
        "        # Cargar el JSON desde la columna 'tracks'\n",
        "        tracks = row['tracks']\n",
        "\n",
        "        # Comprobar si 'tracks' es una cadena que necesita ser convertida de JSON\n",
        "        if isinstance(tracks, str):\n",
        "            try:\n",
        "                tracks = json.loads(tracks)  # Cargar la cadena JSON\n",
        "            except json.JSONDecodeError:\n",
        "                tracks = []  # En caso de error, usar una lista vacía\n",
        "        elif not isinstance(tracks, list):\n",
        "            tracks = []  # Asegurar que tracks sea una lista si no es una cadena\n",
        "\n",
        "        if tracks:\n",
        "            track_data = json_normalize(tracks)\n",
        "            track_data['pid'] = row['pid']  # añadimos el id de la playlist para mantener la referencia\n",
        "            expanded_tracks_df = pd.concat([expanded_tracks_df, track_data], ignore_index=True)\n",
        "    return expanded_tracks_df"
      ]
    },
    {
      "cell_type": "code",
      "execution_count": 14,
      "metadata": {
        "id": "RYGjcAN8nMbW"
      },
      "outputs": [],
      "source": [
        "expanded_tracks_df = expandir_tracks(playlists)"
      ]
    },
    {
      "cell_type": "code",
      "execution_count": 15,
      "metadata": {
        "colab": {
          "base_uri": "https://localhost:8080/",
          "height": 206
        },
        "id": "M7SVUSr5nMbY",
        "outputId": "e1b204cf-5259-4951-a739-aa6b98cc8b7e"
      },
      "outputs": [
        {
          "output_type": "execute_result",
          "data": {
            "text/plain": [
              "               name collaborative  pid  modified_at  num_tracks  num_albums  \\\n",
              "0        Throwbacks         false    0   1493424000          52          47   \n",
              "1  Awesome Playlist         false    1   1506556800          39          23   \n",
              "2           korean          false    2   1505692800          64          51   \n",
              "3               mat         false    3   1501027200         126         107   \n",
              "4               90s         false    4   1401667200          17          16   \n",
              "\n",
              "   num_followers  num_edits  duration_ms  num_artists description  \n",
              "0              1          6     11532414           37         NaN  \n",
              "1              1          5     11656470           21         NaN  \n",
              "2              1         18     14039958           31         NaN  \n",
              "3              1          4     28926058           86         NaN  \n",
              "4              2          7      4335282           16         NaN  "
            ],
            "text/html": [
              "\n",
              "  <div id=\"df-64203e37-c7ae-446e-80a5-9bde1ee68a42\" class=\"colab-df-container\">\n",
              "    <div>\n",
              "<style scoped>\n",
              "    .dataframe tbody tr th:only-of-type {\n",
              "        vertical-align: middle;\n",
              "    }\n",
              "\n",
              "    .dataframe tbody tr th {\n",
              "        vertical-align: top;\n",
              "    }\n",
              "\n",
              "    .dataframe thead th {\n",
              "        text-align: right;\n",
              "    }\n",
              "</style>\n",
              "<table border=\"1\" class=\"dataframe\">\n",
              "  <thead>\n",
              "    <tr style=\"text-align: right;\">\n",
              "      <th></th>\n",
              "      <th>name</th>\n",
              "      <th>collaborative</th>\n",
              "      <th>pid</th>\n",
              "      <th>modified_at</th>\n",
              "      <th>num_tracks</th>\n",
              "      <th>num_albums</th>\n",
              "      <th>num_followers</th>\n",
              "      <th>num_edits</th>\n",
              "      <th>duration_ms</th>\n",
              "      <th>num_artists</th>\n",
              "      <th>description</th>\n",
              "    </tr>\n",
              "  </thead>\n",
              "  <tbody>\n",
              "    <tr>\n",
              "      <th>0</th>\n",
              "      <td>Throwbacks</td>\n",
              "      <td>false</td>\n",
              "      <td>0</td>\n",
              "      <td>1493424000</td>\n",
              "      <td>52</td>\n",
              "      <td>47</td>\n",
              "      <td>1</td>\n",
              "      <td>6</td>\n",
              "      <td>11532414</td>\n",
              "      <td>37</td>\n",
              "      <td>NaN</td>\n",
              "    </tr>\n",
              "    <tr>\n",
              "      <th>1</th>\n",
              "      <td>Awesome Playlist</td>\n",
              "      <td>false</td>\n",
              "      <td>1</td>\n",
              "      <td>1506556800</td>\n",
              "      <td>39</td>\n",
              "      <td>23</td>\n",
              "      <td>1</td>\n",
              "      <td>5</td>\n",
              "      <td>11656470</td>\n",
              "      <td>21</td>\n",
              "      <td>NaN</td>\n",
              "    </tr>\n",
              "    <tr>\n",
              "      <th>2</th>\n",
              "      <td>korean</td>\n",
              "      <td>false</td>\n",
              "      <td>2</td>\n",
              "      <td>1505692800</td>\n",
              "      <td>64</td>\n",
              "      <td>51</td>\n",
              "      <td>1</td>\n",
              "      <td>18</td>\n",
              "      <td>14039958</td>\n",
              "      <td>31</td>\n",
              "      <td>NaN</td>\n",
              "    </tr>\n",
              "    <tr>\n",
              "      <th>3</th>\n",
              "      <td>mat</td>\n",
              "      <td>false</td>\n",
              "      <td>3</td>\n",
              "      <td>1501027200</td>\n",
              "      <td>126</td>\n",
              "      <td>107</td>\n",
              "      <td>1</td>\n",
              "      <td>4</td>\n",
              "      <td>28926058</td>\n",
              "      <td>86</td>\n",
              "      <td>NaN</td>\n",
              "    </tr>\n",
              "    <tr>\n",
              "      <th>4</th>\n",
              "      <td>90s</td>\n",
              "      <td>false</td>\n",
              "      <td>4</td>\n",
              "      <td>1401667200</td>\n",
              "      <td>17</td>\n",
              "      <td>16</td>\n",
              "      <td>2</td>\n",
              "      <td>7</td>\n",
              "      <td>4335282</td>\n",
              "      <td>16</td>\n",
              "      <td>NaN</td>\n",
              "    </tr>\n",
              "  </tbody>\n",
              "</table>\n",
              "</div>\n",
              "    <div class=\"colab-df-buttons\">\n",
              "\n",
              "  <div class=\"colab-df-container\">\n",
              "    <button class=\"colab-df-convert\" onclick=\"convertToInteractive('df-64203e37-c7ae-446e-80a5-9bde1ee68a42')\"\n",
              "            title=\"Convert this dataframe to an interactive table.\"\n",
              "            style=\"display:none;\">\n",
              "\n",
              "  <svg xmlns=\"http://www.w3.org/2000/svg\" height=\"24px\" viewBox=\"0 -960 960 960\">\n",
              "    <path d=\"M120-120v-720h720v720H120Zm60-500h600v-160H180v160Zm220 220h160v-160H400v160Zm0 220h160v-160H400v160ZM180-400h160v-160H180v160Zm440 0h160v-160H620v160ZM180-180h160v-160H180v160Zm440 0h160v-160H620v160Z\"/>\n",
              "  </svg>\n",
              "    </button>\n",
              "\n",
              "  <style>\n",
              "    .colab-df-container {\n",
              "      display:flex;\n",
              "      gap: 12px;\n",
              "    }\n",
              "\n",
              "    .colab-df-convert {\n",
              "      background-color: #E8F0FE;\n",
              "      border: none;\n",
              "      border-radius: 50%;\n",
              "      cursor: pointer;\n",
              "      display: none;\n",
              "      fill: #1967D2;\n",
              "      height: 32px;\n",
              "      padding: 0 0 0 0;\n",
              "      width: 32px;\n",
              "    }\n",
              "\n",
              "    .colab-df-convert:hover {\n",
              "      background-color: #E2EBFA;\n",
              "      box-shadow: 0px 1px 2px rgba(60, 64, 67, 0.3), 0px 1px 3px 1px rgba(60, 64, 67, 0.15);\n",
              "      fill: #174EA6;\n",
              "    }\n",
              "\n",
              "    .colab-df-buttons div {\n",
              "      margin-bottom: 4px;\n",
              "    }\n",
              "\n",
              "    [theme=dark] .colab-df-convert {\n",
              "      background-color: #3B4455;\n",
              "      fill: #D2E3FC;\n",
              "    }\n",
              "\n",
              "    [theme=dark] .colab-df-convert:hover {\n",
              "      background-color: #434B5C;\n",
              "      box-shadow: 0px 1px 3px 1px rgba(0, 0, 0, 0.15);\n",
              "      filter: drop-shadow(0px 1px 2px rgba(0, 0, 0, 0.3));\n",
              "      fill: #FFFFFF;\n",
              "    }\n",
              "  </style>\n",
              "\n",
              "    <script>\n",
              "      const buttonEl =\n",
              "        document.querySelector('#df-64203e37-c7ae-446e-80a5-9bde1ee68a42 button.colab-df-convert');\n",
              "      buttonEl.style.display =\n",
              "        google.colab.kernel.accessAllowed ? 'block' : 'none';\n",
              "\n",
              "      async function convertToInteractive(key) {\n",
              "        const element = document.querySelector('#df-64203e37-c7ae-446e-80a5-9bde1ee68a42');\n",
              "        const dataTable =\n",
              "          await google.colab.kernel.invokeFunction('convertToInteractive',\n",
              "                                                    [key], {});\n",
              "        if (!dataTable) return;\n",
              "\n",
              "        const docLinkHtml = 'Like what you see? Visit the ' +\n",
              "          '<a target=\"_blank\" href=https://colab.research.google.com/notebooks/data_table.ipynb>data table notebook</a>'\n",
              "          + ' to learn more about interactive tables.';\n",
              "        element.innerHTML = '';\n",
              "        dataTable['output_type'] = 'display_data';\n",
              "        await google.colab.output.renderOutput(dataTable, element);\n",
              "        const docLink = document.createElement('div');\n",
              "        docLink.innerHTML = docLinkHtml;\n",
              "        element.appendChild(docLink);\n",
              "      }\n",
              "    </script>\n",
              "  </div>\n",
              "\n",
              "\n",
              "<div id=\"df-11667863-74f8-4d1d-a7b2-950e78fe5032\">\n",
              "  <button class=\"colab-df-quickchart\" onclick=\"quickchart('df-11667863-74f8-4d1d-a7b2-950e78fe5032')\"\n",
              "            title=\"Suggest charts\"\n",
              "            style=\"display:none;\">\n",
              "\n",
              "<svg xmlns=\"http://www.w3.org/2000/svg\" height=\"24px\"viewBox=\"0 0 24 24\"\n",
              "     width=\"24px\">\n",
              "    <g>\n",
              "        <path d=\"M19 3H5c-1.1 0-2 .9-2 2v14c0 1.1.9 2 2 2h14c1.1 0 2-.9 2-2V5c0-1.1-.9-2-2-2zM9 17H7v-7h2v7zm4 0h-2V7h2v10zm4 0h-2v-4h2v4z\"/>\n",
              "    </g>\n",
              "</svg>\n",
              "  </button>\n",
              "\n",
              "<style>\n",
              "  .colab-df-quickchart {\n",
              "      --bg-color: #E8F0FE;\n",
              "      --fill-color: #1967D2;\n",
              "      --hover-bg-color: #E2EBFA;\n",
              "      --hover-fill-color: #174EA6;\n",
              "      --disabled-fill-color: #AAA;\n",
              "      --disabled-bg-color: #DDD;\n",
              "  }\n",
              "\n",
              "  [theme=dark] .colab-df-quickchart {\n",
              "      --bg-color: #3B4455;\n",
              "      --fill-color: #D2E3FC;\n",
              "      --hover-bg-color: #434B5C;\n",
              "      --hover-fill-color: #FFFFFF;\n",
              "      --disabled-bg-color: #3B4455;\n",
              "      --disabled-fill-color: #666;\n",
              "  }\n",
              "\n",
              "  .colab-df-quickchart {\n",
              "    background-color: var(--bg-color);\n",
              "    border: none;\n",
              "    border-radius: 50%;\n",
              "    cursor: pointer;\n",
              "    display: none;\n",
              "    fill: var(--fill-color);\n",
              "    height: 32px;\n",
              "    padding: 0;\n",
              "    width: 32px;\n",
              "  }\n",
              "\n",
              "  .colab-df-quickchart:hover {\n",
              "    background-color: var(--hover-bg-color);\n",
              "    box-shadow: 0 1px 2px rgba(60, 64, 67, 0.3), 0 1px 3px 1px rgba(60, 64, 67, 0.15);\n",
              "    fill: var(--button-hover-fill-color);\n",
              "  }\n",
              "\n",
              "  .colab-df-quickchart-complete:disabled,\n",
              "  .colab-df-quickchart-complete:disabled:hover {\n",
              "    background-color: var(--disabled-bg-color);\n",
              "    fill: var(--disabled-fill-color);\n",
              "    box-shadow: none;\n",
              "  }\n",
              "\n",
              "  .colab-df-spinner {\n",
              "    border: 2px solid var(--fill-color);\n",
              "    border-color: transparent;\n",
              "    border-bottom-color: var(--fill-color);\n",
              "    animation:\n",
              "      spin 1s steps(1) infinite;\n",
              "  }\n",
              "\n",
              "  @keyframes spin {\n",
              "    0% {\n",
              "      border-color: transparent;\n",
              "      border-bottom-color: var(--fill-color);\n",
              "      border-left-color: var(--fill-color);\n",
              "    }\n",
              "    20% {\n",
              "      border-color: transparent;\n",
              "      border-left-color: var(--fill-color);\n",
              "      border-top-color: var(--fill-color);\n",
              "    }\n",
              "    30% {\n",
              "      border-color: transparent;\n",
              "      border-left-color: var(--fill-color);\n",
              "      border-top-color: var(--fill-color);\n",
              "      border-right-color: var(--fill-color);\n",
              "    }\n",
              "    40% {\n",
              "      border-color: transparent;\n",
              "      border-right-color: var(--fill-color);\n",
              "      border-top-color: var(--fill-color);\n",
              "    }\n",
              "    60% {\n",
              "      border-color: transparent;\n",
              "      border-right-color: var(--fill-color);\n",
              "    }\n",
              "    80% {\n",
              "      border-color: transparent;\n",
              "      border-right-color: var(--fill-color);\n",
              "      border-bottom-color: var(--fill-color);\n",
              "    }\n",
              "    90% {\n",
              "      border-color: transparent;\n",
              "      border-bottom-color: var(--fill-color);\n",
              "    }\n",
              "  }\n",
              "</style>\n",
              "\n",
              "  <script>\n",
              "    async function quickchart(key) {\n",
              "      const quickchartButtonEl =\n",
              "        document.querySelector('#' + key + ' button');\n",
              "      quickchartButtonEl.disabled = true;  // To prevent multiple clicks.\n",
              "      quickchartButtonEl.classList.add('colab-df-spinner');\n",
              "      try {\n",
              "        const charts = await google.colab.kernel.invokeFunction(\n",
              "            'suggestCharts', [key], {});\n",
              "      } catch (error) {\n",
              "        console.error('Error during call to suggestCharts:', error);\n",
              "      }\n",
              "      quickchartButtonEl.classList.remove('colab-df-spinner');\n",
              "      quickchartButtonEl.classList.add('colab-df-quickchart-complete');\n",
              "    }\n",
              "    (() => {\n",
              "      let quickchartButtonEl =\n",
              "        document.querySelector('#df-11667863-74f8-4d1d-a7b2-950e78fe5032 button');\n",
              "      quickchartButtonEl.style.display =\n",
              "        google.colab.kernel.accessAllowed ? 'block' : 'none';\n",
              "    })();\n",
              "  </script>\n",
              "</div>\n",
              "\n",
              "    </div>\n",
              "  </div>\n"
            ],
            "application/vnd.google.colaboratory.intrinsic+json": {
              "type": "dataframe",
              "variable_name": "playlists",
              "summary": "{\n  \"name\": \"playlists\",\n  \"rows\": 3000,\n  \"fields\": [\n    {\n      \"column\": \"name\",\n      \"properties\": {\n        \"dtype\": \"string\",\n        \"num_unique_values\": 2230,\n        \"samples\": [\n          \"Gates\",\n          \"Mixtape\",\n          \"HER\"\n        ],\n        \"semantic_type\": \"\",\n        \"description\": \"\"\n      }\n    },\n    {\n      \"column\": \"collaborative\",\n      \"properties\": {\n        \"dtype\": \"category\",\n        \"num_unique_values\": 2,\n        \"samples\": [\n          \"true\",\n          \"false\"\n        ],\n        \"semantic_type\": \"\",\n        \"description\": \"\"\n      }\n    },\n    {\n      \"column\": \"pid\",\n      \"properties\": {\n        \"dtype\": \"number\",\n        \"std\": 866,\n        \"min\": 0,\n        \"max\": 2999,\n        \"num_unique_values\": 3000,\n        \"samples\": [\n          1801,\n          1190\n        ],\n        \"semantic_type\": \"\",\n        \"description\": \"\"\n      }\n    },\n    {\n      \"column\": \"modified_at\",\n      \"properties\": {\n        \"dtype\": \"number\",\n        \"std\": 36346447,\n        \"min\": 1322611200,\n        \"max\": 1509494400,\n        \"num_unique_values\": 1056,\n        \"samples\": [\n          1486080000,\n          1464480000\n        ],\n        \"semantic_type\": \"\",\n        \"description\": \"\"\n      }\n    },\n    {\n      \"column\": \"num_tracks\",\n      \"properties\": {\n        \"dtype\": \"number\",\n        \"std\": 53,\n        \"min\": 5,\n        \"max\": 247,\n        \"num_unique_values\": 235,\n        \"samples\": [\n          114,\n          153\n        ],\n        \"semantic_type\": \"\",\n        \"description\": \"\"\n      }\n    },\n    {\n      \"column\": \"num_albums\",\n      \"properties\": {\n        \"dtype\": \"number\",\n        \"std\": 39,\n        \"min\": 2,\n        \"max\": 229,\n        \"num_unique_values\": 192,\n        \"samples\": [\n          8,\n          124\n        ],\n        \"semantic_type\": \"\",\n        \"description\": \"\"\n      }\n    },\n    {\n      \"column\": \"num_followers\",\n      \"properties\": {\n        \"dtype\": \"number\",\n        \"std\": 52,\n        \"min\": 1,\n        \"max\": 2699,\n        \"num_unique_values\": 27,\n        \"samples\": [\n          9,\n          13\n        ],\n        \"semantic_type\": \"\",\n        \"description\": \"\"\n      }\n    },\n    {\n      \"column\": \"num_edits\",\n      \"properties\": {\n        \"dtype\": \"number\",\n        \"std\": 21,\n        \"min\": 2,\n        \"max\": 178,\n        \"num_unique_values\": 116,\n        \"samples\": [\n          131,\n          7\n        ],\n        \"semantic_type\": \"\",\n        \"description\": \"\"\n      }\n    },\n    {\n      \"column\": \"duration_ms\",\n      \"properties\": {\n        \"dtype\": \"number\",\n        \"std\": 12576236,\n        \"min\": 923879,\n        \"max\": 69200238,\n        \"num_unique_values\": 3000,\n        \"samples\": [\n          8018925,\n          6108951\n        ],\n        \"semantic_type\": \"\",\n        \"description\": \"\"\n      }\n    },\n    {\n      \"column\": \"num_artists\",\n      \"properties\": {\n        \"dtype\": \"number\",\n        \"std\": 30,\n        \"min\": 3,\n        \"max\": 187,\n        \"num_unique_values\": 155,\n        \"samples\": [\n          53,\n          144\n        ],\n        \"semantic_type\": \"\",\n        \"description\": \"\"\n      }\n    },\n    {\n      \"column\": \"description\",\n      \"properties\": {\n        \"dtype\": \"category\",\n        \"num_unique_values\": 57,\n        \"samples\": [\n          \"chilllll out\",\n          \"Always thinking...\"\n        ],\n        \"semantic_type\": \"\",\n        \"description\": \"\"\n      }\n    }\n  ]\n}"
            }
          },
          "metadata": {},
          "execution_count": 15
        }
      ],
      "source": [
        "playlists.drop(\"tracks\", axis=1, inplace=True)\n",
        "playlists.head()"
      ]
    },
    {
      "cell_type": "code",
      "execution_count": 16,
      "metadata": {
        "id": "mwkNtP8xnMba"
      },
      "outputs": [],
      "source": [
        "by_playlist = expanded_tracks_df.groupby('pid').agg(\n",
        "    num_songs=('track_name', 'count'),  # Contamos el número de canciones por playlist\n",
        "    avg_duration=('duration_ms', 'mean'),  # Calculamos la duración media de las canciones\n",
        "    artists=('artist_name', lambda x: set(x)),  # Obtenemos un conjunto de artistas únicos\n",
        "    songs =('track_uri', lambda x: set(x)),  # Obtenemos un conjunto de caciones únicas\n",
        "    albums =('album_name', lambda x: set(x))  # Obtenemos un conjunto de albumes únicos\n",
        ")\n",
        "\n",
        "by_playlist['avg_duration'] = by_playlist['avg_duration'] / 60000 # Convertimos la duración de milisegundos a minutos\n",
        "# by_playlist.head()"
      ]
    },
    {
      "cell_type": "code",
      "execution_count": 17,
      "metadata": {
        "id": "a_ronUICnMbb"
      },
      "outputs": [],
      "source": [
        "playlist_per_song = expanded_tracks_df.groupby('track_uri')['pid'].agg(list).reset_index()\n",
        "# playlist_per_song.head()"
      ]
    },
    {
      "cell_type": "markdown",
      "metadata": {
        "id": "wV_UKWp3nMbb"
      },
      "source": [
        "- Pasamos los URL a un id de cancion"
      ]
    },
    {
      "cell_type": "code",
      "execution_count": 18,
      "metadata": {
        "colab": {
          "base_uri": "https://localhost:8080/",
          "height": 206
        },
        "id": "sYMGf4G0nMbb",
        "outputId": "f0dc31c0-461e-49ca-ace7-bb7d49abc65a"
      },
      "outputs": [
        {
          "output_type": "execute_result",
          "data": {
            "text/plain": [
              "                              track_uri  \\\n",
              "0  spotify:track:000VZqvXwT0YNqKk7iG2GS   \n",
              "1  spotify:track:000mA0etY38nKdvf1N04af   \n",
              "2  spotify:track:000xQL6tZNLJzIrtIgxqSl   \n",
              "3  spotify:track:002KbOVOX22zbNDwwnA0Wi   \n",
              "4  spotify:track:002PgfoyfrOGiKch4EW8Wm   \n",
              "\n",
              "                                                 pid  track_id  \n",
              "0                                             [2093]         1  \n",
              "1                                              [371]         2  \n",
              "2  [182, 813, 1011, 1028, 1289, 1511, 1627, 1775,...         3  \n",
              "3                                             [2641]         4  \n",
              "4                                             [1000]         5  "
            ],
            "text/html": [
              "\n",
              "  <div id=\"df-539dd17d-ef18-40ae-87d8-86ec99c994e6\" class=\"colab-df-container\">\n",
              "    <div>\n",
              "<style scoped>\n",
              "    .dataframe tbody tr th:only-of-type {\n",
              "        vertical-align: middle;\n",
              "    }\n",
              "\n",
              "    .dataframe tbody tr th {\n",
              "        vertical-align: top;\n",
              "    }\n",
              "\n",
              "    .dataframe thead th {\n",
              "        text-align: right;\n",
              "    }\n",
              "</style>\n",
              "<table border=\"1\" class=\"dataframe\">\n",
              "  <thead>\n",
              "    <tr style=\"text-align: right;\">\n",
              "      <th></th>\n",
              "      <th>track_uri</th>\n",
              "      <th>pid</th>\n",
              "      <th>track_id</th>\n",
              "    </tr>\n",
              "  </thead>\n",
              "  <tbody>\n",
              "    <tr>\n",
              "      <th>0</th>\n",
              "      <td>spotify:track:000VZqvXwT0YNqKk7iG2GS</td>\n",
              "      <td>[2093]</td>\n",
              "      <td>1</td>\n",
              "    </tr>\n",
              "    <tr>\n",
              "      <th>1</th>\n",
              "      <td>spotify:track:000mA0etY38nKdvf1N04af</td>\n",
              "      <td>[371]</td>\n",
              "      <td>2</td>\n",
              "    </tr>\n",
              "    <tr>\n",
              "      <th>2</th>\n",
              "      <td>spotify:track:000xQL6tZNLJzIrtIgxqSl</td>\n",
              "      <td>[182, 813, 1011, 1028, 1289, 1511, 1627, 1775,...</td>\n",
              "      <td>3</td>\n",
              "    </tr>\n",
              "    <tr>\n",
              "      <th>3</th>\n",
              "      <td>spotify:track:002KbOVOX22zbNDwwnA0Wi</td>\n",
              "      <td>[2641]</td>\n",
              "      <td>4</td>\n",
              "    </tr>\n",
              "    <tr>\n",
              "      <th>4</th>\n",
              "      <td>spotify:track:002PgfoyfrOGiKch4EW8Wm</td>\n",
              "      <td>[1000]</td>\n",
              "      <td>5</td>\n",
              "    </tr>\n",
              "  </tbody>\n",
              "</table>\n",
              "</div>\n",
              "    <div class=\"colab-df-buttons\">\n",
              "\n",
              "  <div class=\"colab-df-container\">\n",
              "    <button class=\"colab-df-convert\" onclick=\"convertToInteractive('df-539dd17d-ef18-40ae-87d8-86ec99c994e6')\"\n",
              "            title=\"Convert this dataframe to an interactive table.\"\n",
              "            style=\"display:none;\">\n",
              "\n",
              "  <svg xmlns=\"http://www.w3.org/2000/svg\" height=\"24px\" viewBox=\"0 -960 960 960\">\n",
              "    <path d=\"M120-120v-720h720v720H120Zm60-500h600v-160H180v160Zm220 220h160v-160H400v160Zm0 220h160v-160H400v160ZM180-400h160v-160H180v160Zm440 0h160v-160H620v160ZM180-180h160v-160H180v160Zm440 0h160v-160H620v160Z\"/>\n",
              "  </svg>\n",
              "    </button>\n",
              "\n",
              "  <style>\n",
              "    .colab-df-container {\n",
              "      display:flex;\n",
              "      gap: 12px;\n",
              "    }\n",
              "\n",
              "    .colab-df-convert {\n",
              "      background-color: #E8F0FE;\n",
              "      border: none;\n",
              "      border-radius: 50%;\n",
              "      cursor: pointer;\n",
              "      display: none;\n",
              "      fill: #1967D2;\n",
              "      height: 32px;\n",
              "      padding: 0 0 0 0;\n",
              "      width: 32px;\n",
              "    }\n",
              "\n",
              "    .colab-df-convert:hover {\n",
              "      background-color: #E2EBFA;\n",
              "      box-shadow: 0px 1px 2px rgba(60, 64, 67, 0.3), 0px 1px 3px 1px rgba(60, 64, 67, 0.15);\n",
              "      fill: #174EA6;\n",
              "    }\n",
              "\n",
              "    .colab-df-buttons div {\n",
              "      margin-bottom: 4px;\n",
              "    }\n",
              "\n",
              "    [theme=dark] .colab-df-convert {\n",
              "      background-color: #3B4455;\n",
              "      fill: #D2E3FC;\n",
              "    }\n",
              "\n",
              "    [theme=dark] .colab-df-convert:hover {\n",
              "      background-color: #434B5C;\n",
              "      box-shadow: 0px 1px 3px 1px rgba(0, 0, 0, 0.15);\n",
              "      filter: drop-shadow(0px 1px 2px rgba(0, 0, 0, 0.3));\n",
              "      fill: #FFFFFF;\n",
              "    }\n",
              "  </style>\n",
              "\n",
              "    <script>\n",
              "      const buttonEl =\n",
              "        document.querySelector('#df-539dd17d-ef18-40ae-87d8-86ec99c994e6 button.colab-df-convert');\n",
              "      buttonEl.style.display =\n",
              "        google.colab.kernel.accessAllowed ? 'block' : 'none';\n",
              "\n",
              "      async function convertToInteractive(key) {\n",
              "        const element = document.querySelector('#df-539dd17d-ef18-40ae-87d8-86ec99c994e6');\n",
              "        const dataTable =\n",
              "          await google.colab.kernel.invokeFunction('convertToInteractive',\n",
              "                                                    [key], {});\n",
              "        if (!dataTable) return;\n",
              "\n",
              "        const docLinkHtml = 'Like what you see? Visit the ' +\n",
              "          '<a target=\"_blank\" href=https://colab.research.google.com/notebooks/data_table.ipynb>data table notebook</a>'\n",
              "          + ' to learn more about interactive tables.';\n",
              "        element.innerHTML = '';\n",
              "        dataTable['output_type'] = 'display_data';\n",
              "        await google.colab.output.renderOutput(dataTable, element);\n",
              "        const docLink = document.createElement('div');\n",
              "        docLink.innerHTML = docLinkHtml;\n",
              "        element.appendChild(docLink);\n",
              "      }\n",
              "    </script>\n",
              "  </div>\n",
              "\n",
              "\n",
              "<div id=\"df-42757888-e078-418f-80d1-cb00c107362a\">\n",
              "  <button class=\"colab-df-quickchart\" onclick=\"quickchart('df-42757888-e078-418f-80d1-cb00c107362a')\"\n",
              "            title=\"Suggest charts\"\n",
              "            style=\"display:none;\">\n",
              "\n",
              "<svg xmlns=\"http://www.w3.org/2000/svg\" height=\"24px\"viewBox=\"0 0 24 24\"\n",
              "     width=\"24px\">\n",
              "    <g>\n",
              "        <path d=\"M19 3H5c-1.1 0-2 .9-2 2v14c0 1.1.9 2 2 2h14c1.1 0 2-.9 2-2V5c0-1.1-.9-2-2-2zM9 17H7v-7h2v7zm4 0h-2V7h2v10zm4 0h-2v-4h2v4z\"/>\n",
              "    </g>\n",
              "</svg>\n",
              "  </button>\n",
              "\n",
              "<style>\n",
              "  .colab-df-quickchart {\n",
              "      --bg-color: #E8F0FE;\n",
              "      --fill-color: #1967D2;\n",
              "      --hover-bg-color: #E2EBFA;\n",
              "      --hover-fill-color: #174EA6;\n",
              "      --disabled-fill-color: #AAA;\n",
              "      --disabled-bg-color: #DDD;\n",
              "  }\n",
              "\n",
              "  [theme=dark] .colab-df-quickchart {\n",
              "      --bg-color: #3B4455;\n",
              "      --fill-color: #D2E3FC;\n",
              "      --hover-bg-color: #434B5C;\n",
              "      --hover-fill-color: #FFFFFF;\n",
              "      --disabled-bg-color: #3B4455;\n",
              "      --disabled-fill-color: #666;\n",
              "  }\n",
              "\n",
              "  .colab-df-quickchart {\n",
              "    background-color: var(--bg-color);\n",
              "    border: none;\n",
              "    border-radius: 50%;\n",
              "    cursor: pointer;\n",
              "    display: none;\n",
              "    fill: var(--fill-color);\n",
              "    height: 32px;\n",
              "    padding: 0;\n",
              "    width: 32px;\n",
              "  }\n",
              "\n",
              "  .colab-df-quickchart:hover {\n",
              "    background-color: var(--hover-bg-color);\n",
              "    box-shadow: 0 1px 2px rgba(60, 64, 67, 0.3), 0 1px 3px 1px rgba(60, 64, 67, 0.15);\n",
              "    fill: var(--button-hover-fill-color);\n",
              "  }\n",
              "\n",
              "  .colab-df-quickchart-complete:disabled,\n",
              "  .colab-df-quickchart-complete:disabled:hover {\n",
              "    background-color: var(--disabled-bg-color);\n",
              "    fill: var(--disabled-fill-color);\n",
              "    box-shadow: none;\n",
              "  }\n",
              "\n",
              "  .colab-df-spinner {\n",
              "    border: 2px solid var(--fill-color);\n",
              "    border-color: transparent;\n",
              "    border-bottom-color: var(--fill-color);\n",
              "    animation:\n",
              "      spin 1s steps(1) infinite;\n",
              "  }\n",
              "\n",
              "  @keyframes spin {\n",
              "    0% {\n",
              "      border-color: transparent;\n",
              "      border-bottom-color: var(--fill-color);\n",
              "      border-left-color: var(--fill-color);\n",
              "    }\n",
              "    20% {\n",
              "      border-color: transparent;\n",
              "      border-left-color: var(--fill-color);\n",
              "      border-top-color: var(--fill-color);\n",
              "    }\n",
              "    30% {\n",
              "      border-color: transparent;\n",
              "      border-left-color: var(--fill-color);\n",
              "      border-top-color: var(--fill-color);\n",
              "      border-right-color: var(--fill-color);\n",
              "    }\n",
              "    40% {\n",
              "      border-color: transparent;\n",
              "      border-right-color: var(--fill-color);\n",
              "      border-top-color: var(--fill-color);\n",
              "    }\n",
              "    60% {\n",
              "      border-color: transparent;\n",
              "      border-right-color: var(--fill-color);\n",
              "    }\n",
              "    80% {\n",
              "      border-color: transparent;\n",
              "      border-right-color: var(--fill-color);\n",
              "      border-bottom-color: var(--fill-color);\n",
              "    }\n",
              "    90% {\n",
              "      border-color: transparent;\n",
              "      border-bottom-color: var(--fill-color);\n",
              "    }\n",
              "  }\n",
              "</style>\n",
              "\n",
              "  <script>\n",
              "    async function quickchart(key) {\n",
              "      const quickchartButtonEl =\n",
              "        document.querySelector('#' + key + ' button');\n",
              "      quickchartButtonEl.disabled = true;  // To prevent multiple clicks.\n",
              "      quickchartButtonEl.classList.add('colab-df-spinner');\n",
              "      try {\n",
              "        const charts = await google.colab.kernel.invokeFunction(\n",
              "            'suggestCharts', [key], {});\n",
              "      } catch (error) {\n",
              "        console.error('Error during call to suggestCharts:', error);\n",
              "      }\n",
              "      quickchartButtonEl.classList.remove('colab-df-spinner');\n",
              "      quickchartButtonEl.classList.add('colab-df-quickchart-complete');\n",
              "    }\n",
              "    (() => {\n",
              "      let quickchartButtonEl =\n",
              "        document.querySelector('#df-42757888-e078-418f-80d1-cb00c107362a button');\n",
              "      quickchartButtonEl.style.display =\n",
              "        google.colab.kernel.accessAllowed ? 'block' : 'none';\n",
              "    })();\n",
              "  </script>\n",
              "</div>\n",
              "\n",
              "    </div>\n",
              "  </div>\n"
            ],
            "application/vnd.google.colaboratory.intrinsic+json": {
              "type": "dataframe",
              "variable_name": "playlist_per_song",
              "summary": "{\n  \"name\": \"playlist_per_song\",\n  \"rows\": 76507,\n  \"fields\": [\n    {\n      \"column\": \"track_uri\",\n      \"properties\": {\n        \"dtype\": \"string\",\n        \"num_unique_values\": 76507,\n        \"samples\": [\n          \"spotify:track:64Dr1dPIh6IFggw00bEOtG\",\n          \"spotify:track:7IAgzSvRTnFNQJNCgQXSJS\",\n          \"spotify:track:6QhCLkg0GKcIj8OWVlfNhA\"\n        ],\n        \"semantic_type\": \"\",\n        \"description\": \"\"\n      }\n    },\n    {\n      \"column\": \"pid\",\n      \"properties\": {\n        \"dtype\": \"object\",\n        \"semantic_type\": \"\",\n        \"description\": \"\"\n      }\n    },\n    {\n      \"column\": \"track_id\",\n      \"properties\": {\n        \"dtype\": \"number\",\n        \"std\": 22085,\n        \"min\": 1,\n        \"max\": 76507,\n        \"num_unique_values\": 76507,\n        \"samples\": [\n          59562,\n          71598,\n          63102\n        ],\n        \"semantic_type\": \"\",\n        \"description\": \"\"\n      }\n    }\n  ]\n}"
            }
          },
          "metadata": {},
          "execution_count": 18
        }
      ],
      "source": [
        "url_id = {}\n",
        "n = 1\n",
        "\n",
        "def key_exists(key, dictionary):\n",
        "    try:\n",
        "        value = dictionary[key]\n",
        "        return True\n",
        "    except KeyError:\n",
        "        return False\n",
        "\n",
        "def get_id(x, n):\n",
        "    if not key_exists(x, url_id):\n",
        "        url_id[x] = n\n",
        "        n += 1\n",
        "    return url_id[x], n\n",
        "\n",
        "values = []\n",
        "\n",
        "for val in playlist_per_song[\"track_uri\"]:\n",
        "    valu, n = get_id(val, n)\n",
        "    values.append(valu)\n",
        "\n",
        "playlist_per_song[\"track_id\"] = values\n",
        "playlist_per_song.head()"
      ]
    },
    {
      "cell_type": "code",
      "execution_count": 19,
      "metadata": {
        "id": "oFP-Jwn2nMbb"
      },
      "outputs": [],
      "source": [
        "expanded_tracks_df[\"track_id\"] = expanded_tracks_df[\"track_uri\"].apply(lambda x: url_id[x])"
      ]
    },
    {
      "cell_type": "code",
      "execution_count": 20,
      "metadata": {
        "id": "m3vwwUXYnMbc"
      },
      "outputs": [],
      "source": [
        "by_playlist[\"track_id\"] = by_playlist[\"songs\"].apply(lambda x: [url_id[val] for val in list(x)])\n",
        "# by_playlist.head()"
      ]
    },
    {
      "cell_type": "code",
      "execution_count": 21,
      "metadata": {
        "id": "ULdoQ7linMbc"
      },
      "outputs": [],
      "source": [
        "playlist_per_song['n_playlists'] = playlist_per_song['pid'].apply(lambda x: len(set(x)))"
      ]
    },
    {
      "cell_type": "code",
      "execution_count": 22,
      "metadata": {
        "colab": {
          "base_uri": "https://localhost:8080/"
        },
        "id": "ywdR1w_MnMbd",
        "outputId": "c35b7a5d-80e6-49d9-fde2-7ab11bf6c2c7"
      },
      "outputs": [
        {
          "output_type": "execute_result",
          "data": {
            "text/plain": [
              "2.579371822186205"
            ]
          },
          "metadata": {},
          "execution_count": 22
        }
      ],
      "source": [
        "playlist_per_song[\"n_playlists\"].mean()"
      ]
    },
    {
      "cell_type": "code",
      "execution_count": 23,
      "metadata": {
        "id": "SlQJuh79nMbd",
        "outputId": "88b6258a-d330-4985-b95a-2a56be855910",
        "colab": {
          "base_uri": "https://localhost:8080/"
        }
      },
      "outputs": [
        {
          "output_type": "execute_result",
          "data": {
            "text/plain": [
              "track_uri                   spotify:track:7KXjTSCq5nL1LoYtL7XAwS\n",
              "pid            [28, 53, 65, 85, 95, 123, 124, 160, 164, 178, ...\n",
              "track_id                                                   71933\n",
              "n_playlists                                                  139\n",
              "Name: 71932, dtype: object"
            ]
          },
          "metadata": {},
          "execution_count": 23
        }
      ],
      "source": [
        "cancion_mas_reproducida = playlist_per_song[\"n_playlists\"].idxmax()\n",
        "playlist_per_song.iloc[cancion_mas_reproducida]"
      ]
    },
    {
      "cell_type": "markdown",
      "metadata": {
        "id": "mDQIuuHHnMbd"
      },
      "source": [
        "# 2. Baseline"
      ]
    },
    {
      "cell_type": "code",
      "source": [
        "!pip3 install implicit\n",
        "# clear_outputs()"
      ],
      "metadata": {
        "colab": {
          "base_uri": "https://localhost:8080/"
        },
        "id": "co2leY8dqVlV",
        "outputId": "8fbfafaf-c4b4-47d1-ed89-075c8be3239f"
      },
      "execution_count": 24,
      "outputs": [
        {
          "output_type": "stream",
          "name": "stdout",
          "text": [
            "Collecting implicit\n",
            "  Downloading implicit-0.7.2-cp310-cp310-manylinux2014_x86_64.whl (8.9 MB)\n",
            "\u001b[2K     \u001b[90m━━━━━━━━━━━━━━━━━━━━━━━━━━━━━━━━━━━━━━━━\u001b[0m \u001b[32m8.9/8.9 MB\u001b[0m \u001b[31m29.5 MB/s\u001b[0m eta \u001b[36m0:00:00\u001b[0m\n",
            "\u001b[?25hRequirement already satisfied: numpy>=1.17.0 in /usr/local/lib/python3.10/dist-packages (from implicit) (1.25.2)\n",
            "Requirement already satisfied: scipy>=0.16 in /usr/local/lib/python3.10/dist-packages (from implicit) (1.11.4)\n",
            "Requirement already satisfied: tqdm>=4.27 in /usr/local/lib/python3.10/dist-packages (from implicit) (4.66.4)\n",
            "Requirement already satisfied: threadpoolctl in /usr/local/lib/python3.10/dist-packages (from implicit) (3.5.0)\n",
            "Installing collected packages: implicit\n",
            "Successfully installed implicit-0.7.2\n"
          ]
        }
      ]
    },
    {
      "cell_type": "code",
      "source": [
        "import implicit as implicit"
      ],
      "metadata": {
        "id": "1doium49WgUM"
      },
      "execution_count": 25,
      "outputs": []
    },
    {
      "cell_type": "code",
      "execution_count": 26,
      "metadata": {
        "id": "XHNNym6JnMbe"
      },
      "outputs": [],
      "source": [
        "from scipy.sparse import csr_matrix\n",
        "from implicit.als import AlternatingLeastSquares\n",
        "from implicit.bpr import BayesianPersonalizedRanking\n",
        "from implicit.evaluation import mean_average_precision_at_k, ndcg_at_k\n",
        "from scipy.sparse import csr_matrix\n",
        "from sklearn.model_selection import train_test_split\n",
        "from sklearn.metrics.pairwise import cosine_similarity"
      ]
    },
    {
      "cell_type": "code",
      "execution_count": 27,
      "metadata": {
        "id": "JMkawGLfnMbe"
      },
      "outputs": [],
      "source": [
        "#Hay playlist que tienen la misma cancion más de una vez, aca las tratamos solo una vez\n",
        "playlist_track = expanded_tracks_df[[\"pid\",\"track_id\",\"track_name\",\"duration_ms\",\"artist_name\"]].drop_duplicates()\n",
        "# playlist_track.head()"
      ]
    },
    {
      "cell_type": "markdown",
      "metadata": {
        "id": "e3Z9IC_WnMbp"
      },
      "source": [
        "- Separamos en data de validación y data de entrenamiento"
      ]
    },
    {
      "cell_type": "code",
      "source": [
        "# Acá separamos en las playlists con un número de canciones mayor a NUM_CANCIONES\n",
        "# Luego nos quedamos solo con las playlist con un número mayor para hacer el entrenamiento y el testeo\n",
        "NUM_CANCIONES = 10\n",
        "song_per_playlist = playlist_track.groupby('pid')['track_id'].agg(list).reset_index()\n",
        "song_per_playlist['n_songs'] = song_per_playlist['track_id'].apply(len)\n",
        "pid_less = song_per_playlist[song_per_playlist['n_songs'] < NUM_CANCIONES]['pid'].unique()\n",
        "pid_more = song_per_playlist[song_per_playlist['n_songs'] >= NUM_CANCIONES]['pid'].unique()\n",
        "print(len(pid_less), len(pid_more))"
      ],
      "metadata": {
        "id": "tLS4DSCkJG-8",
        "colab": {
          "base_uri": "https://localhost:8080/"
        },
        "outputId": "afb5534f-9d40-438b-ef01-d2b3e5508e5c"
      },
      "execution_count": 28,
      "outputs": [
        {
          "output_type": "stream",
          "name": "stdout",
          "text": [
            "97 2903\n"
          ]
        }
      ]
    },
    {
      "cell_type": "code",
      "source": [
        "# Acá hacemos una separación de las playlists que le vamos a entregar la información completa,\n",
        "# y las que le vamos a entregar solo las primeras n\n",
        "\n",
        "train_pid, test_pid = train_test_split(pid_more, test_size=0.2, random_state=42)\n",
        "print(len(train_pid), len(test_pid))"
      ],
      "metadata": {
        "colab": {
          "base_uri": "https://localhost:8080/"
        },
        "id": "MEkh2srUJ_X1",
        "outputId": "1a87ad43-739d-4de6-8a55-0d91edefebbd"
      },
      "execution_count": 29,
      "outputs": [
        {
          "output_type": "stream",
          "name": "stdout",
          "text": [
            "2322 581\n"
          ]
        }
      ]
    },
    {
      "cell_type": "code",
      "source": [
        "song_per_playlist.drop(\"n_songs\", axis=1, inplace=True)\n",
        "song_per_playlist.head(3)"
      ],
      "metadata": {
        "colab": {
          "base_uri": "https://localhost:8080/",
          "height": 143
        },
        "id": "hYV93p30OcXu",
        "outputId": "294d95c8-c36e-4d4f-817d-a9b4ca980dc4"
      },
      "execution_count": 30,
      "outputs": [
        {
          "output_type": "execute_result",
          "data": {
            "text/plain": [
              "   pid                                           track_id\n",
              "0    0  [4894, 61760, 5267, 11511, 17434, 5371, 60283,...\n",
              "1    1  [22338, 13427, 38847, 13964, 13596, 33764, 642...\n",
              "2    2  [69477, 45773, 46190, 16284, 5191, 20396, 1068..."
            ],
            "text/html": [
              "\n",
              "  <div id=\"df-0269d28d-922b-484d-b037-028b7edbaca0\" class=\"colab-df-container\">\n",
              "    <div>\n",
              "<style scoped>\n",
              "    .dataframe tbody tr th:only-of-type {\n",
              "        vertical-align: middle;\n",
              "    }\n",
              "\n",
              "    .dataframe tbody tr th {\n",
              "        vertical-align: top;\n",
              "    }\n",
              "\n",
              "    .dataframe thead th {\n",
              "        text-align: right;\n",
              "    }\n",
              "</style>\n",
              "<table border=\"1\" class=\"dataframe\">\n",
              "  <thead>\n",
              "    <tr style=\"text-align: right;\">\n",
              "      <th></th>\n",
              "      <th>pid</th>\n",
              "      <th>track_id</th>\n",
              "    </tr>\n",
              "  </thead>\n",
              "  <tbody>\n",
              "    <tr>\n",
              "      <th>0</th>\n",
              "      <td>0</td>\n",
              "      <td>[4894, 61760, 5267, 11511, 17434, 5371, 60283,...</td>\n",
              "    </tr>\n",
              "    <tr>\n",
              "      <th>1</th>\n",
              "      <td>1</td>\n",
              "      <td>[22338, 13427, 38847, 13964, 13596, 33764, 642...</td>\n",
              "    </tr>\n",
              "    <tr>\n",
              "      <th>2</th>\n",
              "      <td>2</td>\n",
              "      <td>[69477, 45773, 46190, 16284, 5191, 20396, 1068...</td>\n",
              "    </tr>\n",
              "  </tbody>\n",
              "</table>\n",
              "</div>\n",
              "    <div class=\"colab-df-buttons\">\n",
              "\n",
              "  <div class=\"colab-df-container\">\n",
              "    <button class=\"colab-df-convert\" onclick=\"convertToInteractive('df-0269d28d-922b-484d-b037-028b7edbaca0')\"\n",
              "            title=\"Convert this dataframe to an interactive table.\"\n",
              "            style=\"display:none;\">\n",
              "\n",
              "  <svg xmlns=\"http://www.w3.org/2000/svg\" height=\"24px\" viewBox=\"0 -960 960 960\">\n",
              "    <path d=\"M120-120v-720h720v720H120Zm60-500h600v-160H180v160Zm220 220h160v-160H400v160Zm0 220h160v-160H400v160ZM180-400h160v-160H180v160Zm440 0h160v-160H620v160ZM180-180h160v-160H180v160Zm440 0h160v-160H620v160Z\"/>\n",
              "  </svg>\n",
              "    </button>\n",
              "\n",
              "  <style>\n",
              "    .colab-df-container {\n",
              "      display:flex;\n",
              "      gap: 12px;\n",
              "    }\n",
              "\n",
              "    .colab-df-convert {\n",
              "      background-color: #E8F0FE;\n",
              "      border: none;\n",
              "      border-radius: 50%;\n",
              "      cursor: pointer;\n",
              "      display: none;\n",
              "      fill: #1967D2;\n",
              "      height: 32px;\n",
              "      padding: 0 0 0 0;\n",
              "      width: 32px;\n",
              "    }\n",
              "\n",
              "    .colab-df-convert:hover {\n",
              "      background-color: #E2EBFA;\n",
              "      box-shadow: 0px 1px 2px rgba(60, 64, 67, 0.3), 0px 1px 3px 1px rgba(60, 64, 67, 0.15);\n",
              "      fill: #174EA6;\n",
              "    }\n",
              "\n",
              "    .colab-df-buttons div {\n",
              "      margin-bottom: 4px;\n",
              "    }\n",
              "\n",
              "    [theme=dark] .colab-df-convert {\n",
              "      background-color: #3B4455;\n",
              "      fill: #D2E3FC;\n",
              "    }\n",
              "\n",
              "    [theme=dark] .colab-df-convert:hover {\n",
              "      background-color: #434B5C;\n",
              "      box-shadow: 0px 1px 3px 1px rgba(0, 0, 0, 0.15);\n",
              "      filter: drop-shadow(0px 1px 2px rgba(0, 0, 0, 0.3));\n",
              "      fill: #FFFFFF;\n",
              "    }\n",
              "  </style>\n",
              "\n",
              "    <script>\n",
              "      const buttonEl =\n",
              "        document.querySelector('#df-0269d28d-922b-484d-b037-028b7edbaca0 button.colab-df-convert');\n",
              "      buttonEl.style.display =\n",
              "        google.colab.kernel.accessAllowed ? 'block' : 'none';\n",
              "\n",
              "      async function convertToInteractive(key) {\n",
              "        const element = document.querySelector('#df-0269d28d-922b-484d-b037-028b7edbaca0');\n",
              "        const dataTable =\n",
              "          await google.colab.kernel.invokeFunction('convertToInteractive',\n",
              "                                                    [key], {});\n",
              "        if (!dataTable) return;\n",
              "\n",
              "        const docLinkHtml = 'Like what you see? Visit the ' +\n",
              "          '<a target=\"_blank\" href=https://colab.research.google.com/notebooks/data_table.ipynb>data table notebook</a>'\n",
              "          + ' to learn more about interactive tables.';\n",
              "        element.innerHTML = '';\n",
              "        dataTable['output_type'] = 'display_data';\n",
              "        await google.colab.output.renderOutput(dataTable, element);\n",
              "        const docLink = document.createElement('div');\n",
              "        docLink.innerHTML = docLinkHtml;\n",
              "        element.appendChild(docLink);\n",
              "      }\n",
              "    </script>\n",
              "  </div>\n",
              "\n",
              "\n",
              "<div id=\"df-bf989c85-c86c-415c-a73c-d7c4a0de5c74\">\n",
              "  <button class=\"colab-df-quickchart\" onclick=\"quickchart('df-bf989c85-c86c-415c-a73c-d7c4a0de5c74')\"\n",
              "            title=\"Suggest charts\"\n",
              "            style=\"display:none;\">\n",
              "\n",
              "<svg xmlns=\"http://www.w3.org/2000/svg\" height=\"24px\"viewBox=\"0 0 24 24\"\n",
              "     width=\"24px\">\n",
              "    <g>\n",
              "        <path d=\"M19 3H5c-1.1 0-2 .9-2 2v14c0 1.1.9 2 2 2h14c1.1 0 2-.9 2-2V5c0-1.1-.9-2-2-2zM9 17H7v-7h2v7zm4 0h-2V7h2v10zm4 0h-2v-4h2v4z\"/>\n",
              "    </g>\n",
              "</svg>\n",
              "  </button>\n",
              "\n",
              "<style>\n",
              "  .colab-df-quickchart {\n",
              "      --bg-color: #E8F0FE;\n",
              "      --fill-color: #1967D2;\n",
              "      --hover-bg-color: #E2EBFA;\n",
              "      --hover-fill-color: #174EA6;\n",
              "      --disabled-fill-color: #AAA;\n",
              "      --disabled-bg-color: #DDD;\n",
              "  }\n",
              "\n",
              "  [theme=dark] .colab-df-quickchart {\n",
              "      --bg-color: #3B4455;\n",
              "      --fill-color: #D2E3FC;\n",
              "      --hover-bg-color: #434B5C;\n",
              "      --hover-fill-color: #FFFFFF;\n",
              "      --disabled-bg-color: #3B4455;\n",
              "      --disabled-fill-color: #666;\n",
              "  }\n",
              "\n",
              "  .colab-df-quickchart {\n",
              "    background-color: var(--bg-color);\n",
              "    border: none;\n",
              "    border-radius: 50%;\n",
              "    cursor: pointer;\n",
              "    display: none;\n",
              "    fill: var(--fill-color);\n",
              "    height: 32px;\n",
              "    padding: 0;\n",
              "    width: 32px;\n",
              "  }\n",
              "\n",
              "  .colab-df-quickchart:hover {\n",
              "    background-color: var(--hover-bg-color);\n",
              "    box-shadow: 0 1px 2px rgba(60, 64, 67, 0.3), 0 1px 3px 1px rgba(60, 64, 67, 0.15);\n",
              "    fill: var(--button-hover-fill-color);\n",
              "  }\n",
              "\n",
              "  .colab-df-quickchart-complete:disabled,\n",
              "  .colab-df-quickchart-complete:disabled:hover {\n",
              "    background-color: var(--disabled-bg-color);\n",
              "    fill: var(--disabled-fill-color);\n",
              "    box-shadow: none;\n",
              "  }\n",
              "\n",
              "  .colab-df-spinner {\n",
              "    border: 2px solid var(--fill-color);\n",
              "    border-color: transparent;\n",
              "    border-bottom-color: var(--fill-color);\n",
              "    animation:\n",
              "      spin 1s steps(1) infinite;\n",
              "  }\n",
              "\n",
              "  @keyframes spin {\n",
              "    0% {\n",
              "      border-color: transparent;\n",
              "      border-bottom-color: var(--fill-color);\n",
              "      border-left-color: var(--fill-color);\n",
              "    }\n",
              "    20% {\n",
              "      border-color: transparent;\n",
              "      border-left-color: var(--fill-color);\n",
              "      border-top-color: var(--fill-color);\n",
              "    }\n",
              "    30% {\n",
              "      border-color: transparent;\n",
              "      border-left-color: var(--fill-color);\n",
              "      border-top-color: var(--fill-color);\n",
              "      border-right-color: var(--fill-color);\n",
              "    }\n",
              "    40% {\n",
              "      border-color: transparent;\n",
              "      border-right-color: var(--fill-color);\n",
              "      border-top-color: var(--fill-color);\n",
              "    }\n",
              "    60% {\n",
              "      border-color: transparent;\n",
              "      border-right-color: var(--fill-color);\n",
              "    }\n",
              "    80% {\n",
              "      border-color: transparent;\n",
              "      border-right-color: var(--fill-color);\n",
              "      border-bottom-color: var(--fill-color);\n",
              "    }\n",
              "    90% {\n",
              "      border-color: transparent;\n",
              "      border-bottom-color: var(--fill-color);\n",
              "    }\n",
              "  }\n",
              "</style>\n",
              "\n",
              "  <script>\n",
              "    async function quickchart(key) {\n",
              "      const quickchartButtonEl =\n",
              "        document.querySelector('#' + key + ' button');\n",
              "      quickchartButtonEl.disabled = true;  // To prevent multiple clicks.\n",
              "      quickchartButtonEl.classList.add('colab-df-spinner');\n",
              "      try {\n",
              "        const charts = await google.colab.kernel.invokeFunction(\n",
              "            'suggestCharts', [key], {});\n",
              "      } catch (error) {\n",
              "        console.error('Error during call to suggestCharts:', error);\n",
              "      }\n",
              "      quickchartButtonEl.classList.remove('colab-df-spinner');\n",
              "      quickchartButtonEl.classList.add('colab-df-quickchart-complete');\n",
              "    }\n",
              "    (() => {\n",
              "      let quickchartButtonEl =\n",
              "        document.querySelector('#df-bf989c85-c86c-415c-a73c-d7c4a0de5c74 button');\n",
              "      quickchartButtonEl.style.display =\n",
              "        google.colab.kernel.accessAllowed ? 'block' : 'none';\n",
              "    })();\n",
              "  </script>\n",
              "</div>\n",
              "\n",
              "    </div>\n",
              "  </div>\n"
            ],
            "application/vnd.google.colaboratory.intrinsic+json": {
              "type": "dataframe",
              "variable_name": "song_per_playlist",
              "summary": "{\n  \"name\": \"song_per_playlist\",\n  \"rows\": 3000,\n  \"fields\": [\n    {\n      \"column\": \"pid\",\n      \"properties\": {\n        \"dtype\": \"number\",\n        \"std\": 866,\n        \"min\": 0,\n        \"max\": 2999,\n        \"num_unique_values\": 3000,\n        \"samples\": [\n          1801,\n          1190,\n          1817\n        ],\n        \"semantic_type\": \"\",\n        \"description\": \"\"\n      }\n    },\n    {\n      \"column\": \"track_id\",\n      \"properties\": {\n        \"dtype\": \"object\",\n        \"semantic_type\": \"\",\n        \"description\": \"\"\n      }\n    }\n  ]\n}"
            }
          },
          "metadata": {},
          "execution_count": 30
        }
      ]
    },
    {
      "cell_type": "code",
      "source": [
        "# Acá separamos para las playlist que están en test sus primeras PRIMERAS_N canciones para train y el resto para train\n",
        "# Hay que asegurarse que PRIMERAS_N << NUM_CANCIONES\n",
        "\n",
        "PRIMERAS_N = 5\n",
        "test_all = song_per_playlist[song_per_playlist['pid'].isin(test_pid)]\n",
        "test_all['fist_5'] = test_all['track_id'].apply(lambda x: x[:PRIMERAS_N])\n",
        "test_all['next'] = test_all['track_id'].apply(lambda x: x[PRIMERAS_N:])\n",
        "test_all.drop(\"track_id\", axis=1, inplace=True)\n",
        "test_train = test_all[['pid', 'fist_5']].explode('fist_5')\n",
        "test_test = test_all[['pid', 'next']].explode('next')\n",
        "test_train.rename(columns={'fist_5': 'track_id'}, inplace=True)\n",
        "test_test.rename(columns={'next': 'track_id'}, inplace=True)\n",
        "\n",
        "\n",
        "# clear_outputs()"
      ],
      "metadata": {
        "colab": {
          "base_uri": "https://localhost:8080/"
        },
        "id": "WCTxbn5OL37Y",
        "outputId": "cf93bdc0-39f9-4aac-8930-60bb722c847b"
      },
      "execution_count": 31,
      "outputs": [
        {
          "output_type": "stream",
          "name": "stderr",
          "text": [
            "<ipython-input-31-6c2d60f2a947>:6: SettingWithCopyWarning: \n",
            "A value is trying to be set on a copy of a slice from a DataFrame.\n",
            "Try using .loc[row_indexer,col_indexer] = value instead\n",
            "\n",
            "See the caveats in the documentation: https://pandas.pydata.org/pandas-docs/stable/user_guide/indexing.html#returning-a-view-versus-a-copy\n",
            "  test_all['fist_5'] = test_all['track_id'].apply(lambda x: x[:PRIMERAS_N])\n",
            "<ipython-input-31-6c2d60f2a947>:7: SettingWithCopyWarning: \n",
            "A value is trying to be set on a copy of a slice from a DataFrame.\n",
            "Try using .loc[row_indexer,col_indexer] = value instead\n",
            "\n",
            "See the caveats in the documentation: https://pandas.pydata.org/pandas-docs/stable/user_guide/indexing.html#returning-a-view-versus-a-copy\n",
            "  test_all['next'] = test_all['track_id'].apply(lambda x: x[PRIMERAS_N:])\n",
            "<ipython-input-31-6c2d60f2a947>:8: SettingWithCopyWarning: \n",
            "A value is trying to be set on a copy of a slice from a DataFrame\n",
            "\n",
            "See the caveats in the documentation: https://pandas.pydata.org/pandas-docs/stable/user_guide/indexing.html#returning-a-view-versus-a-copy\n",
            "  test_all.drop(\"track_id\", axis=1, inplace=True)\n"
          ]
        }
      ]
    },
    {
      "cell_type": "code",
      "source": [
        "# Luego acá creamos los datasets de train y test\n",
        "\n",
        "data = playlist_track[['pid', 'track_id']]\n",
        "train_data = data[data['pid'].isin(train_pid)]                       # Playlists con todas las canciones\n",
        "train_data = pd.concat([train_data, test_train], ignore_index=True)  # Playlists con solo las PRIMERAS_N canciones\n",
        "test_data = test_test\n"
      ],
      "metadata": {
        "id": "N4h6eMl2Jlkz"
      },
      "execution_count": 32,
      "outputs": []
    },
    {
      "cell_type": "code",
      "source": [
        "# Pequeño test para revisar cuantas canciones el modelo no se ha entrenado con, lo cual implica que no las va a poder recomendar\n",
        "# Este número debería bajar si incluimos más data en el comienzo\n",
        "\n",
        "test_tracks_ids = test_data['track_id'].unique()\n",
        "train_tracks_ids = train_data['track_id'].unique()\n",
        "tracks_not_in_train = np.setdiff1d(test_tracks_ids, train_tracks_ids)\n",
        "tracks_not_in_train, len(tracks_not_in_train) / len(test_tracks_ids)\n"
      ],
      "metadata": {
        "colab": {
          "base_uri": "https://localhost:8080/"
        },
        "id": "gIFyvv7-ROvL",
        "outputId": "778c2374-b705-4bd3-b5f2-df9bc488e3a4"
      },
      "execution_count": 33,
      "outputs": [
        {
          "output_type": "execute_result",
          "data": {
            "text/plain": [
              "(array([5, 9, 15, ..., 76480, 76494, 76507], dtype=object), 0.4410972434228248)"
            ]
          },
          "metadata": {},
          "execution_count": 33
        }
      ]
    },
    {
      "cell_type": "markdown",
      "source": [
        "# New ALS"
      ],
      "metadata": {
        "id": "gMeZUGcCBaCV"
      }
    },
    {
      "cell_type": "code",
      "source": [
        "# Create user-item interaction matrices for train and test sets\n",
        "train_interaction_matrix = csr_matrix((np.ones(len(train_data)), (train_data['pid'], train_data['track_id'])))\n",
        "test_interaction_matrix = csr_matrix((np.ones(len(test_data)), (test_data['pid'], test_data['track_id'])))\n",
        "\n",
        "\n",
        "model = AlternatingLeastSquares(factors=100, alpha = 20)\n",
        "model.fit(train_interaction_matrix)"
      ],
      "metadata": {
        "colab": {
          "base_uri": "https://localhost:8080/",
          "referenced_widgets": [
            "4c4b314b3c0445c59c59b0830a01d9e2",
            "e1647067dfa146a782ce0c2754d863db",
            "e6961559230a4593a56089a0dcbb654f",
            "4eb56816db8c4b7cac12ac8d395d4122",
            "b5b8d9e4b2934376b184e40bde9c6dbc",
            "cae425f0617b449bb32fe049d688eb26",
            "5fe9709c1dec442db18dc75813f14e71",
            "d00f58cfbd4a4b1582c52f02e0830142",
            "7cb5b2f257544a59a32ca800221ee875",
            "f5c4224a276e4136a9a3a091b9247ce9",
            "3bf56fbb5b284b4cab854fc56ba6f798"
          ],
          "height": 105
        },
        "id": "G5glgWe7RXop",
        "outputId": "f23ddb96-0b3b-401b-de65-2546cbce0183"
      },
      "execution_count": 34,
      "outputs": [
        {
          "output_type": "stream",
          "name": "stderr",
          "text": [
            "/usr/local/lib/python3.10/dist-packages/implicit/cpu/als.py:95: RuntimeWarning: OpenBLAS is configured to use 2 threads. It is highly recommended to disable its internal threadpool by setting the environment variable 'OPENBLAS_NUM_THREADS=1' or by calling 'threadpoolctl.threadpool_limits(1, \"blas\")'. Having OpenBLAS use a threadpool can lead to severe performance issues here.\n",
            "  check_blas_config()\n"
          ]
        },
        {
          "output_type": "display_data",
          "data": {
            "text/plain": [
              "  0%|          | 0/15 [00:00<?, ?it/s]"
            ],
            "application/vnd.jupyter.widget-view+json": {
              "version_major": 2,
              "version_minor": 0,
              "model_id": "4c4b314b3c0445c59c59b0830a01d9e2"
            }
          },
          "metadata": {}
        }
      ]
    },
    {
      "cell_type": "code",
      "source": [
        "def R_precision(recommended, actual):\n",
        "    n = len(actual)\n",
        "    recommended = recommended[:n]\n",
        "    in_both = np.intersect1d(recommended, actual)\n",
        "    return len(in_both) / n\n",
        "\n",
        "def dcg(relevance_scores):\n",
        "    return relevance_scores[0] + np.sum(\n",
        "        [rel / np.log2(idx + 1) for idx, rel in enumerate(relevance_scores[1:], start=2)]\n",
        "    )\n",
        "\n",
        "def ndcg(recommended, actual):\n",
        "    \"\"\"Calculate Normalized Discounted Cumulative Gain (NDCG) at k\"\"\"\n",
        "    # Relevance scores: 1 if the item is in the ground truth, 0 otherwise\n",
        "    relevance_scores = [1 if item in actual else 0 for item in recommended]\n",
        "\n",
        "    # Calculate DCG for the recommended list\n",
        "    DCG = dcg(relevance_scores)\n",
        "\n",
        "    # Calculate IDCG for the ideal list (the best possible ranking)\n",
        "    ideal_relevance_scores = sorted(relevance_scores, reverse=True)\n",
        "    IDCG = dcg(ideal_relevance_scores)\n",
        "\n",
        "    # Calculate NDCG\n",
        "    NDCG = DCG / IDCG if IDCG > 0 else 0\n",
        "    return NDCG\n",
        "\n",
        "def rec_song_clicks(recommended, actual):\n",
        "    for i, item in enumerate(recommended):\n",
        "        if item in actual:\n",
        "            clicks = np.floor(i / 10)\n",
        "            return clicks\n",
        "    return 51"
      ],
      "metadata": {
        "id": "5ppb-qy6OlJX"
      },
      "execution_count": 35,
      "outputs": []
    },
    {
      "cell_type": "code",
      "source": [
        "# Pequeño código mostrando que el modelo efectivamente logra recomendar canciones relevantes para usuarios (playlists) del train\n",
        "# Falta implementar las métricas, las clásicas de ndcg y r-precision y las que se crearon para la competencia\n",
        "\n",
        "\n",
        "user_ids = test_pid\n",
        "print(len(user_ids))\n",
        "print(train_data['track_id'].nunique())\n",
        "r_prec = []\n",
        "ndcgs = []\n",
        "clicks = []\n",
        "for userid in user_ids:\n",
        "\n",
        "  ids, scores = model.recommend(userid, train_interaction_matrix[userid], N=500, filter_already_liked_items=True)\n",
        "  actual = test_test[test_test['pid'] == userid]['track_id'].values\n",
        "\n",
        "  # print(actual)\n",
        "  r_prec.append(R_precision(ids, actual))\n",
        "  ndcgs.append(ndcg(ids, actual))\n",
        "  clicks.append(rec_song_clicks(ids, actual))\n",
        "\n",
        "  # in_both = np.intersect1d(ids, actual)\n",
        "  # if in_both.size > 0:\n",
        "  #     print(in_both)\n",
        "\n",
        "print(np.mean(r_prec))\n",
        "print(np.mean(ndcgs))\n",
        "print(np.mean(clicks))\n",
        "\n"
      ],
      "metadata": {
        "colab": {
          "base_uri": "https://localhost:8080/"
        },
        "id": "mkefJKBOYQ9W",
        "outputId": "55d3ba2f-5219-405c-804f-3723ab6da658"
      },
      "execution_count": 36,
      "outputs": [
        {
          "output_type": "stream",
          "name": "stdout",
          "text": [
            "581\n",
            "66487\n",
            "0.10288954356792934\n",
            "0.4168886142817404\n",
            "7.518072289156627\n"
          ]
        }
      ]
    },
    {
      "cell_type": "markdown",
      "source": [
        "# New Item Item\n"
      ],
      "metadata": {
        "id": "Ys_5Xenan9UX"
      }
    },
    {
      "cell_type": "code",
      "source": [
        "item_model = implicit.nearest_neighbours.CosineRecommender(K=500)\n",
        "item_model.fit(train_interaction_matrix)"
      ],
      "metadata": {
        "colab": {
          "base_uri": "https://localhost:8080/",
          "height": 105,
          "referenced_widgets": [
            "657f9b473d294212a5ec6b64a105cde8",
            "8f61561656254a1a9fbe7ce9e979433f",
            "15de228fc7dc4a8fb147865eb04201dc",
            "03b7a17fd6364a31953f5314e74cd5f1",
            "f9a3c5f835ab49bcaafa1fd7accf347b",
            "e9a88caf8df64742be18d63aa9b39947",
            "256b39e97af54f528f662392d5c6dead",
            "bacc741d0875471db3343279ad48796d",
            "c920969f492945ada9b01695bed6cbf3",
            "4eedfc67fe77422db8fb7e43db4e4957",
            "3cd54a5581fc4714a1be16e83f11a81d"
          ]
        },
        "id": "OqaRHpDTCqVB",
        "outputId": "8931d977-c594-445e-f73a-7dd9f9a69a5d"
      },
      "execution_count": 37,
      "outputs": [
        {
          "output_type": "stream",
          "name": "stderr",
          "text": [
            "/usr/local/lib/python3.10/dist-packages/implicit/utils.py:164: ParameterWarning: Method expects CSR input, and was passed coo_matrix instead. Converting to CSR took 0.0015583038330078125 seconds\n",
            "  warnings.warn(\n"
          ]
        },
        {
          "output_type": "display_data",
          "data": {
            "text/plain": [
              "  0%|          | 0/76507 [00:00<?, ?it/s]"
            ],
            "application/vnd.jupyter.widget-view+json": {
              "version_major": 2,
              "version_minor": 0,
              "model_id": "657f9b473d294212a5ec6b64a105cde8"
            }
          },
          "metadata": {}
        }
      ]
    },
    {
      "cell_type": "code",
      "source": [
        "user_ids = test_pid\n",
        "print(len(user_ids))\n",
        "print(train_data['track_id'].nunique())\n",
        "r_prec = []\n",
        "ndcgs = []\n",
        "clicks = []\n",
        "for userid in user_ids:\n",
        "\n",
        "  ids, scores = item_model.recommend(userid, train_interaction_matrix[userid], N=500, filter_already_liked_items=True)\n",
        "  actual = test_test[test_test['pid'] == userid]['track_id'].values\n",
        "\n",
        "  r_prec.append(R_precision(ids, actual))\n",
        "  ndcgs.append(ndcg(ids, actual))\n",
        "  clicks.append(rec_song_clicks(ids, actual))\n",
        "\n",
        "print(np.mean(r_prec))\n",
        "print(np.mean(ndcgs))\n",
        "print(np.mean(clicks))"
      ],
      "metadata": {
        "colab": {
          "base_uri": "https://localhost:8080/"
        },
        "id": "2iWLwQV3YoiK",
        "outputId": "a83c39a2-9ab3-44ba-b029-1c9383a1ec12"
      },
      "execution_count": 38,
      "outputs": [
        {
          "output_type": "stream",
          "name": "stdout",
          "text": [
            "581\n",
            "66487\n",
            "0.045750165356311684\n",
            "0.2884351452659036\n",
            "15.471600688468158\n"
          ]
        }
      ]
    },
    {
      "cell_type": "markdown",
      "source": [
        "# New User User"
      ],
      "metadata": {
        "id": "AcvC_mVTccSV"
      }
    },
    {
      "cell_type": "code",
      "source": [
        "popularty = playlist_track['track_id'].value_counts(normalize = True)\n",
        "popularty[:10]\n",
        "popularty = popularty.to_dict()"
      ],
      "metadata": {
        "id": "k18l8xgeia_Z"
      },
      "execution_count": 39,
      "outputs": []
    },
    {
      "cell_type": "code",
      "source": [
        "import numpy as np\n",
        "import pandas as pd\n",
        "from scipy.sparse import csr_matrix\n",
        "from sklearn.metrics.pairwise import cosine_similarity\n",
        "\n",
        "# Compute the cosine similarity between users\n",
        "user_similarity = cosine_similarity(train_interaction_matrix)\n",
        "np.fill_diagonal(user_similarity, 0)  # Fill diagonal with 0s to ignore self-similarity\n",
        "\n",
        "train_interaction_matrix_t = train_interaction_matrix.T\n",
        "\n",
        "r_prec = []\n",
        "ndcgs = []\n",
        "clicks = []\n",
        "\n",
        "for userid in test_pid:\n",
        "    song_values = []\n",
        "    similar_users = np.where(user_similarity[userid] > 0)[0]\n",
        "    songs = train_interaction_matrix[similar_users]\n",
        "    unique_songs = songs.tocsr().indices\n",
        "    for song_id in unique_songs:\n",
        "        ids = train_interaction_matrix_t[song_id]\n",
        "        ids = list(ids.tocsr().indices)\n",
        "\n",
        "        score = np.sum(user_similarity[userid][ids])\n",
        "        song_values.append((song_id, score))\n",
        "    # recommended_songs = np.argsort(song_values, axis=0)[-500:]\n",
        "    recommended_songs = [song_id for song_id, _ in sorted(song_values, key=lambda x: x[1], reverse=True)][:500]\n",
        "    ids = recommended_songs\n",
        "    actual = test_test[test_test['pid'] == userid]['track_id'].values\n",
        "\n",
        "    if len(ids) == 0:\n",
        "        r_prec.append(0)\n",
        "        ndcgs.append(0)\n",
        "        clicks.append(0)\n",
        "        continue\n",
        "\n",
        "    r_prec.append(R_precision(ids, actual))\n",
        "    ndcgs.append(ndcg(ids, actual))\n",
        "    clicks.append(rec_song_clicks(ids, actual))\n",
        "\n",
        "\n",
        "print(np.mean(r_prec))\n",
        "print(np.mean(ndcgs))\n",
        "print(np.mean(clicks))\n",
        "\n",
        "\n"
      ],
      "metadata": {
        "colab": {
          "base_uri": "https://localhost:8080/"
        },
        "id": "44FxKNtF_f-L",
        "outputId": "156c9e88-5cb2-4699-dcc4-05ba478dbbe2"
      },
      "execution_count": 40,
      "outputs": [
        {
          "output_type": "stream",
          "name": "stdout",
          "text": [
            "0.011700740357169108\n",
            "0.3720291914089624\n",
            "16.76419965576592\n"
          ]
        }
      ]
    },
    {
      "cell_type": "code",
      "source": [
        "user_similarity[0][[1,4,6,10]]"
      ],
      "metadata": {
        "colab": {
          "base_uri": "https://localhost:8080/"
        },
        "id": "X-EJG0sgaDBC",
        "outputId": "98501a53-b23b-4afa-8cb2-b6fedb8d0554"
      },
      "execution_count": 41,
      "outputs": [
        {
          "output_type": "execute_result",
          "data": {
            "text/plain": [
              "array([0., 0., 0., 0.])"
            ]
          },
          "metadata": {},
          "execution_count": 41
        }
      ]
    },
    {
      "cell_type": "code",
      "source": [],
      "metadata": {
        "id": "Wc_yFi6PCiqi"
      },
      "execution_count": 41,
      "outputs": []
    }
  ],
  "metadata": {
    "kernelspec": {
      "display_name": "base",
      "language": "python",
      "name": "python3"
    },
    "language_info": {
      "codemirror_mode": {
        "name": "ipython",
        "version": 3
      },
      "file_extension": ".py",
      "mimetype": "text/x-python",
      "name": "python",
      "nbconvert_exporter": "python",
      "pygments_lexer": "ipython3",
      "version": "3.8.19"
    },
    "colab": {
      "provenance": [],
      "collapsed_sections": [
        "8yC2AbPcnMbQ",
        "gMeZUGcCBaCV"
      ]
    },
    "widgets": {
      "application/vnd.jupyter.widget-state+json": {
        "4c4b314b3c0445c59c59b0830a01d9e2": {
          "model_module": "@jupyter-widgets/controls",
          "model_name": "HBoxModel",
          "model_module_version": "1.5.0",
          "state": {
            "_dom_classes": [],
            "_model_module": "@jupyter-widgets/controls",
            "_model_module_version": "1.5.0",
            "_model_name": "HBoxModel",
            "_view_count": null,
            "_view_module": "@jupyter-widgets/controls",
            "_view_module_version": "1.5.0",
            "_view_name": "HBoxView",
            "box_style": "",
            "children": [
              "IPY_MODEL_e1647067dfa146a782ce0c2754d863db",
              "IPY_MODEL_e6961559230a4593a56089a0dcbb654f",
              "IPY_MODEL_4eb56816db8c4b7cac12ac8d395d4122"
            ],
            "layout": "IPY_MODEL_b5b8d9e4b2934376b184e40bde9c6dbc"
          }
        },
        "e1647067dfa146a782ce0c2754d863db": {
          "model_module": "@jupyter-widgets/controls",
          "model_name": "HTMLModel",
          "model_module_version": "1.5.0",
          "state": {
            "_dom_classes": [],
            "_model_module": "@jupyter-widgets/controls",
            "_model_module_version": "1.5.0",
            "_model_name": "HTMLModel",
            "_view_count": null,
            "_view_module": "@jupyter-widgets/controls",
            "_view_module_version": "1.5.0",
            "_view_name": "HTMLView",
            "description": "",
            "description_tooltip": null,
            "layout": "IPY_MODEL_cae425f0617b449bb32fe049d688eb26",
            "placeholder": "​",
            "style": "IPY_MODEL_5fe9709c1dec442db18dc75813f14e71",
            "value": "100%"
          }
        },
        "e6961559230a4593a56089a0dcbb654f": {
          "model_module": "@jupyter-widgets/controls",
          "model_name": "FloatProgressModel",
          "model_module_version": "1.5.0",
          "state": {
            "_dom_classes": [],
            "_model_module": "@jupyter-widgets/controls",
            "_model_module_version": "1.5.0",
            "_model_name": "FloatProgressModel",
            "_view_count": null,
            "_view_module": "@jupyter-widgets/controls",
            "_view_module_version": "1.5.0",
            "_view_name": "ProgressView",
            "bar_style": "success",
            "description": "",
            "description_tooltip": null,
            "layout": "IPY_MODEL_d00f58cfbd4a4b1582c52f02e0830142",
            "max": 15,
            "min": 0,
            "orientation": "horizontal",
            "style": "IPY_MODEL_7cb5b2f257544a59a32ca800221ee875",
            "value": 15
          }
        },
        "4eb56816db8c4b7cac12ac8d395d4122": {
          "model_module": "@jupyter-widgets/controls",
          "model_name": "HTMLModel",
          "model_module_version": "1.5.0",
          "state": {
            "_dom_classes": [],
            "_model_module": "@jupyter-widgets/controls",
            "_model_module_version": "1.5.0",
            "_model_name": "HTMLModel",
            "_view_count": null,
            "_view_module": "@jupyter-widgets/controls",
            "_view_module_version": "1.5.0",
            "_view_name": "HTMLView",
            "description": "",
            "description_tooltip": null,
            "layout": "IPY_MODEL_f5c4224a276e4136a9a3a091b9247ce9",
            "placeholder": "​",
            "style": "IPY_MODEL_3bf56fbb5b284b4cab854fc56ba6f798",
            "value": " 15/15 [00:54&lt;00:00,  3.20s/it]"
          }
        },
        "b5b8d9e4b2934376b184e40bde9c6dbc": {
          "model_module": "@jupyter-widgets/base",
          "model_name": "LayoutModel",
          "model_module_version": "1.2.0",
          "state": {
            "_model_module": "@jupyter-widgets/base",
            "_model_module_version": "1.2.0",
            "_model_name": "LayoutModel",
            "_view_count": null,
            "_view_module": "@jupyter-widgets/base",
            "_view_module_version": "1.2.0",
            "_view_name": "LayoutView",
            "align_content": null,
            "align_items": null,
            "align_self": null,
            "border": null,
            "bottom": null,
            "display": null,
            "flex": null,
            "flex_flow": null,
            "grid_area": null,
            "grid_auto_columns": null,
            "grid_auto_flow": null,
            "grid_auto_rows": null,
            "grid_column": null,
            "grid_gap": null,
            "grid_row": null,
            "grid_template_areas": null,
            "grid_template_columns": null,
            "grid_template_rows": null,
            "height": null,
            "justify_content": null,
            "justify_items": null,
            "left": null,
            "margin": null,
            "max_height": null,
            "max_width": null,
            "min_height": null,
            "min_width": null,
            "object_fit": null,
            "object_position": null,
            "order": null,
            "overflow": null,
            "overflow_x": null,
            "overflow_y": null,
            "padding": null,
            "right": null,
            "top": null,
            "visibility": null,
            "width": null
          }
        },
        "cae425f0617b449bb32fe049d688eb26": {
          "model_module": "@jupyter-widgets/base",
          "model_name": "LayoutModel",
          "model_module_version": "1.2.0",
          "state": {
            "_model_module": "@jupyter-widgets/base",
            "_model_module_version": "1.2.0",
            "_model_name": "LayoutModel",
            "_view_count": null,
            "_view_module": "@jupyter-widgets/base",
            "_view_module_version": "1.2.0",
            "_view_name": "LayoutView",
            "align_content": null,
            "align_items": null,
            "align_self": null,
            "border": null,
            "bottom": null,
            "display": null,
            "flex": null,
            "flex_flow": null,
            "grid_area": null,
            "grid_auto_columns": null,
            "grid_auto_flow": null,
            "grid_auto_rows": null,
            "grid_column": null,
            "grid_gap": null,
            "grid_row": null,
            "grid_template_areas": null,
            "grid_template_columns": null,
            "grid_template_rows": null,
            "height": null,
            "justify_content": null,
            "justify_items": null,
            "left": null,
            "margin": null,
            "max_height": null,
            "max_width": null,
            "min_height": null,
            "min_width": null,
            "object_fit": null,
            "object_position": null,
            "order": null,
            "overflow": null,
            "overflow_x": null,
            "overflow_y": null,
            "padding": null,
            "right": null,
            "top": null,
            "visibility": null,
            "width": null
          }
        },
        "5fe9709c1dec442db18dc75813f14e71": {
          "model_module": "@jupyter-widgets/controls",
          "model_name": "DescriptionStyleModel",
          "model_module_version": "1.5.0",
          "state": {
            "_model_module": "@jupyter-widgets/controls",
            "_model_module_version": "1.5.0",
            "_model_name": "DescriptionStyleModel",
            "_view_count": null,
            "_view_module": "@jupyter-widgets/base",
            "_view_module_version": "1.2.0",
            "_view_name": "StyleView",
            "description_width": ""
          }
        },
        "d00f58cfbd4a4b1582c52f02e0830142": {
          "model_module": "@jupyter-widgets/base",
          "model_name": "LayoutModel",
          "model_module_version": "1.2.0",
          "state": {
            "_model_module": "@jupyter-widgets/base",
            "_model_module_version": "1.2.0",
            "_model_name": "LayoutModel",
            "_view_count": null,
            "_view_module": "@jupyter-widgets/base",
            "_view_module_version": "1.2.0",
            "_view_name": "LayoutView",
            "align_content": null,
            "align_items": null,
            "align_self": null,
            "border": null,
            "bottom": null,
            "display": null,
            "flex": null,
            "flex_flow": null,
            "grid_area": null,
            "grid_auto_columns": null,
            "grid_auto_flow": null,
            "grid_auto_rows": null,
            "grid_column": null,
            "grid_gap": null,
            "grid_row": null,
            "grid_template_areas": null,
            "grid_template_columns": null,
            "grid_template_rows": null,
            "height": null,
            "justify_content": null,
            "justify_items": null,
            "left": null,
            "margin": null,
            "max_height": null,
            "max_width": null,
            "min_height": null,
            "min_width": null,
            "object_fit": null,
            "object_position": null,
            "order": null,
            "overflow": null,
            "overflow_x": null,
            "overflow_y": null,
            "padding": null,
            "right": null,
            "top": null,
            "visibility": null,
            "width": null
          }
        },
        "7cb5b2f257544a59a32ca800221ee875": {
          "model_module": "@jupyter-widgets/controls",
          "model_name": "ProgressStyleModel",
          "model_module_version": "1.5.0",
          "state": {
            "_model_module": "@jupyter-widgets/controls",
            "_model_module_version": "1.5.0",
            "_model_name": "ProgressStyleModel",
            "_view_count": null,
            "_view_module": "@jupyter-widgets/base",
            "_view_module_version": "1.2.0",
            "_view_name": "StyleView",
            "bar_color": null,
            "description_width": ""
          }
        },
        "f5c4224a276e4136a9a3a091b9247ce9": {
          "model_module": "@jupyter-widgets/base",
          "model_name": "LayoutModel",
          "model_module_version": "1.2.0",
          "state": {
            "_model_module": "@jupyter-widgets/base",
            "_model_module_version": "1.2.0",
            "_model_name": "LayoutModel",
            "_view_count": null,
            "_view_module": "@jupyter-widgets/base",
            "_view_module_version": "1.2.0",
            "_view_name": "LayoutView",
            "align_content": null,
            "align_items": null,
            "align_self": null,
            "border": null,
            "bottom": null,
            "display": null,
            "flex": null,
            "flex_flow": null,
            "grid_area": null,
            "grid_auto_columns": null,
            "grid_auto_flow": null,
            "grid_auto_rows": null,
            "grid_column": null,
            "grid_gap": null,
            "grid_row": null,
            "grid_template_areas": null,
            "grid_template_columns": null,
            "grid_template_rows": null,
            "height": null,
            "justify_content": null,
            "justify_items": null,
            "left": null,
            "margin": null,
            "max_height": null,
            "max_width": null,
            "min_height": null,
            "min_width": null,
            "object_fit": null,
            "object_position": null,
            "order": null,
            "overflow": null,
            "overflow_x": null,
            "overflow_y": null,
            "padding": null,
            "right": null,
            "top": null,
            "visibility": null,
            "width": null
          }
        },
        "3bf56fbb5b284b4cab854fc56ba6f798": {
          "model_module": "@jupyter-widgets/controls",
          "model_name": "DescriptionStyleModel",
          "model_module_version": "1.5.0",
          "state": {
            "_model_module": "@jupyter-widgets/controls",
            "_model_module_version": "1.5.0",
            "_model_name": "DescriptionStyleModel",
            "_view_count": null,
            "_view_module": "@jupyter-widgets/base",
            "_view_module_version": "1.2.0",
            "_view_name": "StyleView",
            "description_width": ""
          }
        },
        "657f9b473d294212a5ec6b64a105cde8": {
          "model_module": "@jupyter-widgets/controls",
          "model_name": "HBoxModel",
          "model_module_version": "1.5.0",
          "state": {
            "_dom_classes": [],
            "_model_module": "@jupyter-widgets/controls",
            "_model_module_version": "1.5.0",
            "_model_name": "HBoxModel",
            "_view_count": null,
            "_view_module": "@jupyter-widgets/controls",
            "_view_module_version": "1.5.0",
            "_view_name": "HBoxView",
            "box_style": "",
            "children": [
              "IPY_MODEL_8f61561656254a1a9fbe7ce9e979433f",
              "IPY_MODEL_15de228fc7dc4a8fb147865eb04201dc",
              "IPY_MODEL_03b7a17fd6364a31953f5314e74cd5f1"
            ],
            "layout": "IPY_MODEL_f9a3c5f835ab49bcaafa1fd7accf347b"
          }
        },
        "8f61561656254a1a9fbe7ce9e979433f": {
          "model_module": "@jupyter-widgets/controls",
          "model_name": "HTMLModel",
          "model_module_version": "1.5.0",
          "state": {
            "_dom_classes": [],
            "_model_module": "@jupyter-widgets/controls",
            "_model_module_version": "1.5.0",
            "_model_name": "HTMLModel",
            "_view_count": null,
            "_view_module": "@jupyter-widgets/controls",
            "_view_module_version": "1.5.0",
            "_view_name": "HTMLView",
            "description": "",
            "description_tooltip": null,
            "layout": "IPY_MODEL_e9a88caf8df64742be18d63aa9b39947",
            "placeholder": "​",
            "style": "IPY_MODEL_256b39e97af54f528f662392d5c6dead",
            "value": "100%"
          }
        },
        "15de228fc7dc4a8fb147865eb04201dc": {
          "model_module": "@jupyter-widgets/controls",
          "model_name": "FloatProgressModel",
          "model_module_version": "1.5.0",
          "state": {
            "_dom_classes": [],
            "_model_module": "@jupyter-widgets/controls",
            "_model_module_version": "1.5.0",
            "_model_name": "FloatProgressModel",
            "_view_count": null,
            "_view_module": "@jupyter-widgets/controls",
            "_view_module_version": "1.5.0",
            "_view_name": "ProgressView",
            "bar_style": "success",
            "description": "",
            "description_tooltip": null,
            "layout": "IPY_MODEL_bacc741d0875471db3343279ad48796d",
            "max": 76507,
            "min": 0,
            "orientation": "horizontal",
            "style": "IPY_MODEL_c920969f492945ada9b01695bed6cbf3",
            "value": 76507
          }
        },
        "03b7a17fd6364a31953f5314e74cd5f1": {
          "model_module": "@jupyter-widgets/controls",
          "model_name": "HTMLModel",
          "model_module_version": "1.5.0",
          "state": {
            "_dom_classes": [],
            "_model_module": "@jupyter-widgets/controls",
            "_model_module_version": "1.5.0",
            "_model_name": "HTMLModel",
            "_view_count": null,
            "_view_module": "@jupyter-widgets/controls",
            "_view_module_version": "1.5.0",
            "_view_name": "HTMLView",
            "description": "",
            "description_tooltip": null,
            "layout": "IPY_MODEL_4eedfc67fe77422db8fb7e43db4e4957",
            "placeholder": "​",
            "style": "IPY_MODEL_3cd54a5581fc4714a1be16e83f11a81d",
            "value": " 76507/76507 [00:02&lt;00:00, 39272.78it/s]"
          }
        },
        "f9a3c5f835ab49bcaafa1fd7accf347b": {
          "model_module": "@jupyter-widgets/base",
          "model_name": "LayoutModel",
          "model_module_version": "1.2.0",
          "state": {
            "_model_module": "@jupyter-widgets/base",
            "_model_module_version": "1.2.0",
            "_model_name": "LayoutModel",
            "_view_count": null,
            "_view_module": "@jupyter-widgets/base",
            "_view_module_version": "1.2.0",
            "_view_name": "LayoutView",
            "align_content": null,
            "align_items": null,
            "align_self": null,
            "border": null,
            "bottom": null,
            "display": null,
            "flex": null,
            "flex_flow": null,
            "grid_area": null,
            "grid_auto_columns": null,
            "grid_auto_flow": null,
            "grid_auto_rows": null,
            "grid_column": null,
            "grid_gap": null,
            "grid_row": null,
            "grid_template_areas": null,
            "grid_template_columns": null,
            "grid_template_rows": null,
            "height": null,
            "justify_content": null,
            "justify_items": null,
            "left": null,
            "margin": null,
            "max_height": null,
            "max_width": null,
            "min_height": null,
            "min_width": null,
            "object_fit": null,
            "object_position": null,
            "order": null,
            "overflow": null,
            "overflow_x": null,
            "overflow_y": null,
            "padding": null,
            "right": null,
            "top": null,
            "visibility": null,
            "width": null
          }
        },
        "e9a88caf8df64742be18d63aa9b39947": {
          "model_module": "@jupyter-widgets/base",
          "model_name": "LayoutModel",
          "model_module_version": "1.2.0",
          "state": {
            "_model_module": "@jupyter-widgets/base",
            "_model_module_version": "1.2.0",
            "_model_name": "LayoutModel",
            "_view_count": null,
            "_view_module": "@jupyter-widgets/base",
            "_view_module_version": "1.2.0",
            "_view_name": "LayoutView",
            "align_content": null,
            "align_items": null,
            "align_self": null,
            "border": null,
            "bottom": null,
            "display": null,
            "flex": null,
            "flex_flow": null,
            "grid_area": null,
            "grid_auto_columns": null,
            "grid_auto_flow": null,
            "grid_auto_rows": null,
            "grid_column": null,
            "grid_gap": null,
            "grid_row": null,
            "grid_template_areas": null,
            "grid_template_columns": null,
            "grid_template_rows": null,
            "height": null,
            "justify_content": null,
            "justify_items": null,
            "left": null,
            "margin": null,
            "max_height": null,
            "max_width": null,
            "min_height": null,
            "min_width": null,
            "object_fit": null,
            "object_position": null,
            "order": null,
            "overflow": null,
            "overflow_x": null,
            "overflow_y": null,
            "padding": null,
            "right": null,
            "top": null,
            "visibility": null,
            "width": null
          }
        },
        "256b39e97af54f528f662392d5c6dead": {
          "model_module": "@jupyter-widgets/controls",
          "model_name": "DescriptionStyleModel",
          "model_module_version": "1.5.0",
          "state": {
            "_model_module": "@jupyter-widgets/controls",
            "_model_module_version": "1.5.0",
            "_model_name": "DescriptionStyleModel",
            "_view_count": null,
            "_view_module": "@jupyter-widgets/base",
            "_view_module_version": "1.2.0",
            "_view_name": "StyleView",
            "description_width": ""
          }
        },
        "bacc741d0875471db3343279ad48796d": {
          "model_module": "@jupyter-widgets/base",
          "model_name": "LayoutModel",
          "model_module_version": "1.2.0",
          "state": {
            "_model_module": "@jupyter-widgets/base",
            "_model_module_version": "1.2.0",
            "_model_name": "LayoutModel",
            "_view_count": null,
            "_view_module": "@jupyter-widgets/base",
            "_view_module_version": "1.2.0",
            "_view_name": "LayoutView",
            "align_content": null,
            "align_items": null,
            "align_self": null,
            "border": null,
            "bottom": null,
            "display": null,
            "flex": null,
            "flex_flow": null,
            "grid_area": null,
            "grid_auto_columns": null,
            "grid_auto_flow": null,
            "grid_auto_rows": null,
            "grid_column": null,
            "grid_gap": null,
            "grid_row": null,
            "grid_template_areas": null,
            "grid_template_columns": null,
            "grid_template_rows": null,
            "height": null,
            "justify_content": null,
            "justify_items": null,
            "left": null,
            "margin": null,
            "max_height": null,
            "max_width": null,
            "min_height": null,
            "min_width": null,
            "object_fit": null,
            "object_position": null,
            "order": null,
            "overflow": null,
            "overflow_x": null,
            "overflow_y": null,
            "padding": null,
            "right": null,
            "top": null,
            "visibility": null,
            "width": null
          }
        },
        "c920969f492945ada9b01695bed6cbf3": {
          "model_module": "@jupyter-widgets/controls",
          "model_name": "ProgressStyleModel",
          "model_module_version": "1.5.0",
          "state": {
            "_model_module": "@jupyter-widgets/controls",
            "_model_module_version": "1.5.0",
            "_model_name": "ProgressStyleModel",
            "_view_count": null,
            "_view_module": "@jupyter-widgets/base",
            "_view_module_version": "1.2.0",
            "_view_name": "StyleView",
            "bar_color": null,
            "description_width": ""
          }
        },
        "4eedfc67fe77422db8fb7e43db4e4957": {
          "model_module": "@jupyter-widgets/base",
          "model_name": "LayoutModel",
          "model_module_version": "1.2.0",
          "state": {
            "_model_module": "@jupyter-widgets/base",
            "_model_module_version": "1.2.0",
            "_model_name": "LayoutModel",
            "_view_count": null,
            "_view_module": "@jupyter-widgets/base",
            "_view_module_version": "1.2.0",
            "_view_name": "LayoutView",
            "align_content": null,
            "align_items": null,
            "align_self": null,
            "border": null,
            "bottom": null,
            "display": null,
            "flex": null,
            "flex_flow": null,
            "grid_area": null,
            "grid_auto_columns": null,
            "grid_auto_flow": null,
            "grid_auto_rows": null,
            "grid_column": null,
            "grid_gap": null,
            "grid_row": null,
            "grid_template_areas": null,
            "grid_template_columns": null,
            "grid_template_rows": null,
            "height": null,
            "justify_content": null,
            "justify_items": null,
            "left": null,
            "margin": null,
            "max_height": null,
            "max_width": null,
            "min_height": null,
            "min_width": null,
            "object_fit": null,
            "object_position": null,
            "order": null,
            "overflow": null,
            "overflow_x": null,
            "overflow_y": null,
            "padding": null,
            "right": null,
            "top": null,
            "visibility": null,
            "width": null
          }
        },
        "3cd54a5581fc4714a1be16e83f11a81d": {
          "model_module": "@jupyter-widgets/controls",
          "model_name": "DescriptionStyleModel",
          "model_module_version": "1.5.0",
          "state": {
            "_model_module": "@jupyter-widgets/controls",
            "_model_module_version": "1.5.0",
            "_model_name": "DescriptionStyleModel",
            "_view_count": null,
            "_view_module": "@jupyter-widgets/base",
            "_view_module_version": "1.2.0",
            "_view_name": "StyleView",
            "description_width": ""
          }
        }
      }
    }
  },
  "nbformat": 4,
  "nbformat_minor": 0
}