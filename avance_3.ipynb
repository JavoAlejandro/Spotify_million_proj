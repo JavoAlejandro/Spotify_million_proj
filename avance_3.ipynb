{
  "cells": [
    {
      "cell_type": "code",
      "execution_count": 1,
      "metadata": {
        "id": "u2XkT_sInMbO"
      },
      "outputs": [],
      "source": [
        "import json\n",
        "import pandas as pd\n",
        "from pandas import json_normalize\n",
        "import matplotlib.pyplot as plt\n",
        "import os\n",
        "import random\n",
        "import numpy as np"
      ]
    },
    {
      "cell_type": "markdown",
      "metadata": {
        "id": "8yC2AbPcnMbQ"
      },
      "source": [
        "# 0. Leemos los datos"
      ]
    },
    {
      "cell_type": "code",
      "execution_count": 2,
      "metadata": {
        "id": "4GInxDA8nMbT"
      },
      "outputs": [],
      "source": [
        "def read_json(path):\n",
        "    with open(path) as f:\n",
        "        data = json.load(f)\n",
        "    return data\n",
        "\n",
        "def leer_k_archivos_json(k):\n",
        "    archivos_json = [archivo for archivo in os.listdir(\"data\") if archivo.endswith('.json')]\n",
        "    random.seed(42)\n",
        "    paths = random.choices(archivos_json, k=k)\n",
        "\n",
        "    all_playlists = []\n",
        "    for p in paths:\n",
        "        data = read_json(f\"data\\{p}\")\n",
        "        playlist = pd.DataFrame(data['playlists'])\n",
        "        all_playlists.append(playlist)\n",
        "\n",
        "    playlists = pd.concat(all_playlists, ignore_index=True)\n",
        "    return playlists"
      ]
    },
    {
      "cell_type": "code",
      "execution_count": 3,
      "metadata": {
        "colab": {
          "base_uri": "https://localhost:8080/"
        },
        "id": "jEBQwh9bnMbT",
        "outputId": "45c9a268-dca8-4dd6-be56-7c41c5d9c010"
      },
      "outputs": [
        {
          "output_type": "stream",
          "name": "stdout",
          "text": [
            "mpd.slice.0-999.json\n"
          ]
        }
      ],
      "source": [
        "# Leer 15 archivos json osea 15000 playlists\n",
        "# playlists = leer_k_archivos_json(1)\n",
        "paths = [\n",
        "    \"mpd.slice.0-999.json\",\n",
        "]\n",
        "all_playlists = []\n",
        "for path in paths:\n",
        "    print(path)\n",
        "    data = read_json(f\"/content/data/{path}\")\n",
        "    playlist = pd.DataFrame(data['playlists'])\n",
        "    all_playlists.append(playlist)\n",
        "\n",
        "playlists = pd.concat(all_playlists, ignore_index=True)\n",
        "\n",
        "# playlists.head()"
      ]
    },
    {
      "cell_type": "code",
      "execution_count": 4,
      "metadata": {
        "colab": {
          "base_uri": "https://localhost:8080/"
        },
        "id": "GHw9rSwmnMbV",
        "outputId": "505ab2c2-df1f-47c2-a3ab-b8d7bc88a852"
      },
      "outputs": [
        {
          "output_type": "execute_result",
          "data": {
            "text/plain": [
              "name               0\n",
              "collaborative      0\n",
              "pid                0\n",
              "modified_at        0\n",
              "num_tracks         0\n",
              "num_albums         0\n",
              "num_followers      0\n",
              "tracks             0\n",
              "num_edits          0\n",
              "duration_ms        0\n",
              "num_artists        0\n",
              "description      980\n",
              "dtype: int64"
            ]
          },
          "metadata": {},
          "execution_count": 4
        }
      ],
      "source": [
        "playlists.isna().sum()"
      ]
    },
    {
      "cell_type": "code",
      "execution_count": 5,
      "metadata": {
        "id": "92jIwlQInMbW",
        "outputId": "bdd985f1-bac0-4bff-f09e-2ec69165875f",
        "colab": {
          "base_uri": "https://localhost:8080/"
        }
      },
      "outputs": [
        {
          "output_type": "execute_result",
          "data": {
            "text/plain": [
              "94                                          chilllll out\n",
              "102                                                  uzi\n",
              "320                                   sit back and chill\n",
              "329                                    el espanish trap.\n",
              "339                     roasty toasty in the holy ghosty\n",
              "353                                   Always thinking...\n",
              "354            What I listen to crusing on my motorcycle\n",
              "370                                       merry chrysler\n",
              "475                                                  sad\n",
              "491                           A little bit of everything\n",
              "522    Intense, high testosterone, ground-breaking, f...\n",
              "526                                Buenos Días Muchachos\n",
              "548                                       Bumblebee Tuna\n",
              "626                               closeted hypochondriac\n",
              "741    I listen to this at the moment. Try a couple s...\n",
              "767                              Just a big mix of music\n",
              "778                 but actually electric, teenage songs\n",
              "818                             The best from the movies\n",
              "871                 songs that make me want to be better\n",
              "925               &lt;Insert catchy description here&gt;\n",
              "Name: description, dtype: object"
            ]
          },
          "metadata": {},
          "execution_count": 5
        }
      ],
      "source": [
        "playlists[\"description\"][~playlists[\"description\"].isna()]"
      ]
    },
    {
      "cell_type": "code",
      "execution_count": 6,
      "metadata": {
        "id": "q_a1XNgPnMbW"
      },
      "outputs": [],
      "source": [
        "def expandir_tracks(playli):\n",
        "    expanded_tracks_df = pd.DataFrame()\n",
        "\n",
        "    # Iterar sobre cada fila y expandir los datos JSON en un dataframe\n",
        "    for _, row in playli.iterrows():\n",
        "        # Cargar el JSON desde la columna 'tracks'\n",
        "        tracks = row['tracks']\n",
        "\n",
        "        # Comprobar si 'tracks' es una cadena que necesita ser convertida de JSON\n",
        "        if isinstance(tracks, str):\n",
        "            try:\n",
        "                tracks = json.loads(tracks)  # Cargar la cadena JSON\n",
        "            except json.JSONDecodeError:\n",
        "                tracks = []  # En caso de error, usar una lista vacía\n",
        "        elif not isinstance(tracks, list):\n",
        "            tracks = []  # Asegurar que tracks sea una lista si no es una cadena\n",
        "\n",
        "        if tracks:\n",
        "            track_data = json_normalize(tracks)\n",
        "            track_data['pid'] = row['pid']  # añadimos el id de la playlist para mantener la referencia\n",
        "            expanded_tracks_df = pd.concat([expanded_tracks_df, track_data], ignore_index=True)\n",
        "    return expanded_tracks_df"
      ]
    },
    {
      "cell_type": "code",
      "execution_count": 7,
      "metadata": {
        "id": "RYGjcAN8nMbW"
      },
      "outputs": [],
      "source": [
        "expanded_tracks_df = expandir_tracks(playlists)"
      ]
    },
    {
      "cell_type": "code",
      "execution_count": 8,
      "metadata": {
        "colab": {
          "base_uri": "https://localhost:8080/",
          "height": 206
        },
        "id": "M7SVUSr5nMbY",
        "outputId": "0b3e6901-783d-435e-bf7e-d5db8d9a9f7d"
      },
      "outputs": [
        {
          "output_type": "execute_result",
          "data": {
            "text/plain": [
              "               name collaborative  pid  modified_at  num_tracks  num_albums  \\\n",
              "0        Throwbacks         false    0   1493424000          52          47   \n",
              "1  Awesome Playlist         false    1   1506556800          39          23   \n",
              "2           korean          false    2   1505692800          64          51   \n",
              "3               mat         false    3   1501027200         126         107   \n",
              "4               90s         false    4   1401667200          17          16   \n",
              "\n",
              "   num_followers  num_edits  duration_ms  num_artists description  \n",
              "0              1          6     11532414           37         NaN  \n",
              "1              1          5     11656470           21         NaN  \n",
              "2              1         18     14039958           31         NaN  \n",
              "3              1          4     28926058           86         NaN  \n",
              "4              2          7      4335282           16         NaN  "
            ],
            "text/html": [
              "\n",
              "  <div id=\"df-713402e0-d15e-4b4c-ad46-f4635be5b92b\" class=\"colab-df-container\">\n",
              "    <div>\n",
              "<style scoped>\n",
              "    .dataframe tbody tr th:only-of-type {\n",
              "        vertical-align: middle;\n",
              "    }\n",
              "\n",
              "    .dataframe tbody tr th {\n",
              "        vertical-align: top;\n",
              "    }\n",
              "\n",
              "    .dataframe thead th {\n",
              "        text-align: right;\n",
              "    }\n",
              "</style>\n",
              "<table border=\"1\" class=\"dataframe\">\n",
              "  <thead>\n",
              "    <tr style=\"text-align: right;\">\n",
              "      <th></th>\n",
              "      <th>name</th>\n",
              "      <th>collaborative</th>\n",
              "      <th>pid</th>\n",
              "      <th>modified_at</th>\n",
              "      <th>num_tracks</th>\n",
              "      <th>num_albums</th>\n",
              "      <th>num_followers</th>\n",
              "      <th>num_edits</th>\n",
              "      <th>duration_ms</th>\n",
              "      <th>num_artists</th>\n",
              "      <th>description</th>\n",
              "    </tr>\n",
              "  </thead>\n",
              "  <tbody>\n",
              "    <tr>\n",
              "      <th>0</th>\n",
              "      <td>Throwbacks</td>\n",
              "      <td>false</td>\n",
              "      <td>0</td>\n",
              "      <td>1493424000</td>\n",
              "      <td>52</td>\n",
              "      <td>47</td>\n",
              "      <td>1</td>\n",
              "      <td>6</td>\n",
              "      <td>11532414</td>\n",
              "      <td>37</td>\n",
              "      <td>NaN</td>\n",
              "    </tr>\n",
              "    <tr>\n",
              "      <th>1</th>\n",
              "      <td>Awesome Playlist</td>\n",
              "      <td>false</td>\n",
              "      <td>1</td>\n",
              "      <td>1506556800</td>\n",
              "      <td>39</td>\n",
              "      <td>23</td>\n",
              "      <td>1</td>\n",
              "      <td>5</td>\n",
              "      <td>11656470</td>\n",
              "      <td>21</td>\n",
              "      <td>NaN</td>\n",
              "    </tr>\n",
              "    <tr>\n",
              "      <th>2</th>\n",
              "      <td>korean</td>\n",
              "      <td>false</td>\n",
              "      <td>2</td>\n",
              "      <td>1505692800</td>\n",
              "      <td>64</td>\n",
              "      <td>51</td>\n",
              "      <td>1</td>\n",
              "      <td>18</td>\n",
              "      <td>14039958</td>\n",
              "      <td>31</td>\n",
              "      <td>NaN</td>\n",
              "    </tr>\n",
              "    <tr>\n",
              "      <th>3</th>\n",
              "      <td>mat</td>\n",
              "      <td>false</td>\n",
              "      <td>3</td>\n",
              "      <td>1501027200</td>\n",
              "      <td>126</td>\n",
              "      <td>107</td>\n",
              "      <td>1</td>\n",
              "      <td>4</td>\n",
              "      <td>28926058</td>\n",
              "      <td>86</td>\n",
              "      <td>NaN</td>\n",
              "    </tr>\n",
              "    <tr>\n",
              "      <th>4</th>\n",
              "      <td>90s</td>\n",
              "      <td>false</td>\n",
              "      <td>4</td>\n",
              "      <td>1401667200</td>\n",
              "      <td>17</td>\n",
              "      <td>16</td>\n",
              "      <td>2</td>\n",
              "      <td>7</td>\n",
              "      <td>4335282</td>\n",
              "      <td>16</td>\n",
              "      <td>NaN</td>\n",
              "    </tr>\n",
              "  </tbody>\n",
              "</table>\n",
              "</div>\n",
              "    <div class=\"colab-df-buttons\">\n",
              "      \n",
              "  <div class=\"colab-df-container\">\n",
              "    <button class=\"colab-df-convert\" onclick=\"convertToInteractive('df-713402e0-d15e-4b4c-ad46-f4635be5b92b')\"\n",
              "            title=\"Convert this dataframe to an interactive table.\"\n",
              "            style=\"display:none;\">\n",
              "      \n",
              "  <svg xmlns=\"http://www.w3.org/2000/svg\" height=\"24px\" viewBox=\"0 -960 960 960\">\n",
              "    <path d=\"M120-120v-720h720v720H120Zm60-500h600v-160H180v160Zm220 220h160v-160H400v160Zm0 220h160v-160H400v160ZM180-400h160v-160H180v160Zm440 0h160v-160H620v160ZM180-180h160v-160H180v160Zm440 0h160v-160H620v160Z\"/>\n",
              "  </svg>\n",
              "    </button>\n",
              "    \n",
              "  <style>\n",
              "    .colab-df-container {\n",
              "      display:flex;\n",
              "      gap: 12px;\n",
              "    }\n",
              "\n",
              "    .colab-df-convert {\n",
              "      background-color: #E8F0FE;\n",
              "      border: none;\n",
              "      border-radius: 50%;\n",
              "      cursor: pointer;\n",
              "      display: none;\n",
              "      fill: #1967D2;\n",
              "      height: 32px;\n",
              "      padding: 0 0 0 0;\n",
              "      width: 32px;\n",
              "    }\n",
              "\n",
              "    .colab-df-convert:hover {\n",
              "      background-color: #E2EBFA;\n",
              "      box-shadow: 0px 1px 2px rgba(60, 64, 67, 0.3), 0px 1px 3px 1px rgba(60, 64, 67, 0.15);\n",
              "      fill: #174EA6;\n",
              "    }\n",
              "\n",
              "    .colab-df-buttons div {\n",
              "      margin-bottom: 4px;\n",
              "    }\n",
              "\n",
              "    [theme=dark] .colab-df-convert {\n",
              "      background-color: #3B4455;\n",
              "      fill: #D2E3FC;\n",
              "    }\n",
              "\n",
              "    [theme=dark] .colab-df-convert:hover {\n",
              "      background-color: #434B5C;\n",
              "      box-shadow: 0px 1px 3px 1px rgba(0, 0, 0, 0.15);\n",
              "      filter: drop-shadow(0px 1px 2px rgba(0, 0, 0, 0.3));\n",
              "      fill: #FFFFFF;\n",
              "    }\n",
              "  </style>\n",
              "\n",
              "    <script>\n",
              "      const buttonEl =\n",
              "        document.querySelector('#df-713402e0-d15e-4b4c-ad46-f4635be5b92b button.colab-df-convert');\n",
              "      buttonEl.style.display =\n",
              "        google.colab.kernel.accessAllowed ? 'block' : 'none';\n",
              "\n",
              "      async function convertToInteractive(key) {\n",
              "        const element = document.querySelector('#df-713402e0-d15e-4b4c-ad46-f4635be5b92b');\n",
              "        const dataTable =\n",
              "          await google.colab.kernel.invokeFunction('convertToInteractive',\n",
              "                                                    [key], {});\n",
              "        if (!dataTable) return;\n",
              "\n",
              "        const docLinkHtml = 'Like what you see? Visit the ' +\n",
              "          '<a target=\"_blank\" href=https://colab.research.google.com/notebooks/data_table.ipynb>data table notebook</a>'\n",
              "          + ' to learn more about interactive tables.';\n",
              "        element.innerHTML = '';\n",
              "        dataTable['output_type'] = 'display_data';\n",
              "        await google.colab.output.renderOutput(dataTable, element);\n",
              "        const docLink = document.createElement('div');\n",
              "        docLink.innerHTML = docLinkHtml;\n",
              "        element.appendChild(docLink);\n",
              "      }\n",
              "    </script>\n",
              "  </div>\n",
              "  \n",
              "    </div>\n",
              "  </div>\n",
              "  "
            ]
          },
          "metadata": {},
          "execution_count": 8
        }
      ],
      "source": [
        "playlists.drop(\"tracks\", axis=1, inplace=True)\n",
        "playlists.head()"
      ]
    },
    {
      "cell_type": "code",
      "execution_count": 9,
      "metadata": {
        "id": "mwkNtP8xnMba"
      },
      "outputs": [],
      "source": [
        "by_playlist = expanded_tracks_df.groupby('pid').agg(\n",
        "    num_songs=('track_name', 'count'),  # Contamos el número de canciones por playlist\n",
        "    avg_duration=('duration_ms', 'mean'),  # Calculamos la duración media de las canciones\n",
        "    artists=('artist_name', lambda x: set(x)),  # Obtenemos un conjunto de artistas únicos\n",
        "    songs =('track_uri', lambda x: set(x)),  # Obtenemos un conjunto de caciones únicas\n",
        "    albums =('album_name', lambda x: set(x))  # Obtenemos un conjunto de albumes únicos\n",
        ")\n",
        "\n",
        "by_playlist['avg_duration'] = by_playlist['avg_duration'] / 60000 # Convertimos la duración de milisegundos a minutos\n",
        "# by_playlist.head()"
      ]
    },
    {
      "cell_type": "code",
      "execution_count": 10,
      "metadata": {
        "id": "a_ronUICnMbb"
      },
      "outputs": [],
      "source": [
        "playlist_per_song = expanded_tracks_df.groupby('track_uri')['pid'].agg(list).reset_index()\n",
        "# playlist_per_song.head()"
      ]
    },
    {
      "cell_type": "markdown",
      "metadata": {
        "id": "wV_UKWp3nMbb"
      },
      "source": [
        "- Pasamos los URL a un id de cancion"
      ]
    },
    {
      "cell_type": "code",
      "execution_count": 11,
      "metadata": {
        "colab": {
          "base_uri": "https://localhost:8080/",
          "height": 206
        },
        "id": "sYMGf4G0nMbb",
        "outputId": "22a4233b-e605-4ba1-b884-232364eada68"
      },
      "outputs": [
        {
          "output_type": "execute_result",
          "data": {
            "text/plain": [
              "                              track_uri         pid  track_id\n",
              "0  spotify:track:000mA0etY38nKdvf1N04af       [371]         1\n",
              "1  spotify:track:000xQL6tZNLJzIrtIgxqSl  [182, 813]         2\n",
              "2  spotify:track:006AVH7fq061voGXkUiII4       [999]         3\n",
              "3  spotify:track:006PJvsr6CyV3JdBf7wiNF       [743]         4\n",
              "4  spotify:track:006yrnQMCZpiUgkR612gC8       [227]         5"
            ],
            "text/html": [
              "\n",
              "  <div id=\"df-2340c5d8-459c-4af8-99da-d924a5a42198\" class=\"colab-df-container\">\n",
              "    <div>\n",
              "<style scoped>\n",
              "    .dataframe tbody tr th:only-of-type {\n",
              "        vertical-align: middle;\n",
              "    }\n",
              "\n",
              "    .dataframe tbody tr th {\n",
              "        vertical-align: top;\n",
              "    }\n",
              "\n",
              "    .dataframe thead th {\n",
              "        text-align: right;\n",
              "    }\n",
              "</style>\n",
              "<table border=\"1\" class=\"dataframe\">\n",
              "  <thead>\n",
              "    <tr style=\"text-align: right;\">\n",
              "      <th></th>\n",
              "      <th>track_uri</th>\n",
              "      <th>pid</th>\n",
              "      <th>track_id</th>\n",
              "    </tr>\n",
              "  </thead>\n",
              "  <tbody>\n",
              "    <tr>\n",
              "      <th>0</th>\n",
              "      <td>spotify:track:000mA0etY38nKdvf1N04af</td>\n",
              "      <td>[371]</td>\n",
              "      <td>1</td>\n",
              "    </tr>\n",
              "    <tr>\n",
              "      <th>1</th>\n",
              "      <td>spotify:track:000xQL6tZNLJzIrtIgxqSl</td>\n",
              "      <td>[182, 813]</td>\n",
              "      <td>2</td>\n",
              "    </tr>\n",
              "    <tr>\n",
              "      <th>2</th>\n",
              "      <td>spotify:track:006AVH7fq061voGXkUiII4</td>\n",
              "      <td>[999]</td>\n",
              "      <td>3</td>\n",
              "    </tr>\n",
              "    <tr>\n",
              "      <th>3</th>\n",
              "      <td>spotify:track:006PJvsr6CyV3JdBf7wiNF</td>\n",
              "      <td>[743]</td>\n",
              "      <td>4</td>\n",
              "    </tr>\n",
              "    <tr>\n",
              "      <th>4</th>\n",
              "      <td>spotify:track:006yrnQMCZpiUgkR612gC8</td>\n",
              "      <td>[227]</td>\n",
              "      <td>5</td>\n",
              "    </tr>\n",
              "  </tbody>\n",
              "</table>\n",
              "</div>\n",
              "    <div class=\"colab-df-buttons\">\n",
              "      \n",
              "  <div class=\"colab-df-container\">\n",
              "    <button class=\"colab-df-convert\" onclick=\"convertToInteractive('df-2340c5d8-459c-4af8-99da-d924a5a42198')\"\n",
              "            title=\"Convert this dataframe to an interactive table.\"\n",
              "            style=\"display:none;\">\n",
              "      \n",
              "  <svg xmlns=\"http://www.w3.org/2000/svg\" height=\"24px\" viewBox=\"0 -960 960 960\">\n",
              "    <path d=\"M120-120v-720h720v720H120Zm60-500h600v-160H180v160Zm220 220h160v-160H400v160Zm0 220h160v-160H400v160ZM180-400h160v-160H180v160Zm440 0h160v-160H620v160ZM180-180h160v-160H180v160Zm440 0h160v-160H620v160Z\"/>\n",
              "  </svg>\n",
              "    </button>\n",
              "    \n",
              "  <style>\n",
              "    .colab-df-container {\n",
              "      display:flex;\n",
              "      gap: 12px;\n",
              "    }\n",
              "\n",
              "    .colab-df-convert {\n",
              "      background-color: #E8F0FE;\n",
              "      border: none;\n",
              "      border-radius: 50%;\n",
              "      cursor: pointer;\n",
              "      display: none;\n",
              "      fill: #1967D2;\n",
              "      height: 32px;\n",
              "      padding: 0 0 0 0;\n",
              "      width: 32px;\n",
              "    }\n",
              "\n",
              "    .colab-df-convert:hover {\n",
              "      background-color: #E2EBFA;\n",
              "      box-shadow: 0px 1px 2px rgba(60, 64, 67, 0.3), 0px 1px 3px 1px rgba(60, 64, 67, 0.15);\n",
              "      fill: #174EA6;\n",
              "    }\n",
              "\n",
              "    .colab-df-buttons div {\n",
              "      margin-bottom: 4px;\n",
              "    }\n",
              "\n",
              "    [theme=dark] .colab-df-convert {\n",
              "      background-color: #3B4455;\n",
              "      fill: #D2E3FC;\n",
              "    }\n",
              "\n",
              "    [theme=dark] .colab-df-convert:hover {\n",
              "      background-color: #434B5C;\n",
              "      box-shadow: 0px 1px 3px 1px rgba(0, 0, 0, 0.15);\n",
              "      filter: drop-shadow(0px 1px 2px rgba(0, 0, 0, 0.3));\n",
              "      fill: #FFFFFF;\n",
              "    }\n",
              "  </style>\n",
              "\n",
              "    <script>\n",
              "      const buttonEl =\n",
              "        document.querySelector('#df-2340c5d8-459c-4af8-99da-d924a5a42198 button.colab-df-convert');\n",
              "      buttonEl.style.display =\n",
              "        google.colab.kernel.accessAllowed ? 'block' : 'none';\n",
              "\n",
              "      async function convertToInteractive(key) {\n",
              "        const element = document.querySelector('#df-2340c5d8-459c-4af8-99da-d924a5a42198');\n",
              "        const dataTable =\n",
              "          await google.colab.kernel.invokeFunction('convertToInteractive',\n",
              "                                                    [key], {});\n",
              "        if (!dataTable) return;\n",
              "\n",
              "        const docLinkHtml = 'Like what you see? Visit the ' +\n",
              "          '<a target=\"_blank\" href=https://colab.research.google.com/notebooks/data_table.ipynb>data table notebook</a>'\n",
              "          + ' to learn more about interactive tables.';\n",
              "        element.innerHTML = '';\n",
              "        dataTable['output_type'] = 'display_data';\n",
              "        await google.colab.output.renderOutput(dataTable, element);\n",
              "        const docLink = document.createElement('div');\n",
              "        docLink.innerHTML = docLinkHtml;\n",
              "        element.appendChild(docLink);\n",
              "      }\n",
              "    </script>\n",
              "  </div>\n",
              "  \n",
              "    </div>\n",
              "  </div>\n",
              "  "
            ]
          },
          "metadata": {},
          "execution_count": 11
        }
      ],
      "source": [
        "url_id = {}\n",
        "n = 1\n",
        "\n",
        "def key_exists(key, dictionary):\n",
        "    try:\n",
        "        value = dictionary[key]\n",
        "        return True\n",
        "    except KeyError:\n",
        "        return False\n",
        "\n",
        "def get_id(x, n):\n",
        "    if not key_exists(x, url_id):\n",
        "        url_id[x] = n\n",
        "        n += 1\n",
        "    return url_id[x], n\n",
        "\n",
        "values = []\n",
        "\n",
        "for val in playlist_per_song[\"track_uri\"]:\n",
        "    valu, n = get_id(val, n)\n",
        "    values.append(valu)\n",
        "\n",
        "playlist_per_song[\"track_id\"] = values\n",
        "playlist_per_song.head()"
      ]
    },
    {
      "cell_type": "code",
      "execution_count": 12,
      "metadata": {
        "id": "oFP-Jwn2nMbb"
      },
      "outputs": [],
      "source": [
        "expanded_tracks_df[\"track_id\"] = expanded_tracks_df[\"track_uri\"].apply(lambda x: url_id[x])"
      ]
    },
    {
      "cell_type": "code",
      "execution_count": 13,
      "metadata": {
        "id": "m3vwwUXYnMbc"
      },
      "outputs": [],
      "source": [
        "by_playlist[\"track_id\"] = by_playlist[\"songs\"].apply(lambda x: [url_id[val] for val in list(x)])\n",
        "# by_playlist.head()"
      ]
    },
    {
      "cell_type": "code",
      "execution_count": 14,
      "metadata": {
        "id": "ULdoQ7linMbc"
      },
      "outputs": [],
      "source": [
        "playlist_per_song['n_playlists'] = playlist_per_song['pid'].apply(lambda x: len(set(x)))"
      ]
    },
    {
      "cell_type": "code",
      "execution_count": 15,
      "metadata": {
        "colab": {
          "base_uri": "https://localhost:8080/"
        },
        "id": "ywdR1w_MnMbd",
        "outputId": "a85cb2f7-c78c-4d2a-8102-db41bd6a41d6"
      },
      "outputs": [
        {
          "output_type": "execute_result",
          "data": {
            "text/plain": [
              "1.9371425253317074"
            ]
          },
          "metadata": {},
          "execution_count": 15
        }
      ],
      "source": [
        "playlist_per_song[\"n_playlists\"].mean()"
      ]
    },
    {
      "cell_type": "code",
      "execution_count": 16,
      "metadata": {
        "id": "SlQJuh79nMbd",
        "outputId": "4352c3f3-faa5-446b-9217-4719bc31d977",
        "colab": {
          "base_uri": "https://localhost:8080/"
        }
      },
      "outputs": [
        {
          "output_type": "execute_result",
          "data": {
            "text/plain": [
              "track_uri                   spotify:track:7KXjTSCq5nL1LoYtL7XAwS\n",
              "pid            [28, 53, 65, 85, 95, 123, 124, 160, 164, 178, ...\n",
              "track_id                                                   32397\n",
              "n_playlists                                                   52\n",
              "Name: 32396, dtype: object"
            ]
          },
          "metadata": {},
          "execution_count": 16
        }
      ],
      "source": [
        "cancion_mas_reproducida = playlist_per_song[\"n_playlists\"].idxmax()\n",
        "playlist_per_song.iloc[cancion_mas_reproducida]"
      ]
    },
    {
      "cell_type": "markdown",
      "metadata": {
        "id": "mDQIuuHHnMbd"
      },
      "source": [
        "# 2. Baseline"
      ]
    },
    {
      "cell_type": "code",
      "source": [
        "!pip3 install implicit\n",
        "# clear_outputs()"
      ],
      "metadata": {
        "colab": {
          "base_uri": "https://localhost:8080/"
        },
        "id": "co2leY8dqVlV",
        "outputId": "c468df95-78ff-49dc-e3a2-a82b491b63dd"
      },
      "execution_count": 17,
      "outputs": [
        {
          "output_type": "stream",
          "name": "stdout",
          "text": [
            "Requirement already satisfied: implicit in /usr/local/lib/python3.10/dist-packages (0.7.2)\n",
            "Requirement already satisfied: numpy>=1.17.0 in /usr/local/lib/python3.10/dist-packages (from implicit) (1.25.2)\n",
            "Requirement already satisfied: scipy>=0.16 in /usr/local/lib/python3.10/dist-packages (from implicit) (1.11.4)\n",
            "Requirement already satisfied: tqdm>=4.27 in /usr/local/lib/python3.10/dist-packages (from implicit) (4.66.4)\n",
            "Requirement already satisfied: threadpoolctl in /usr/local/lib/python3.10/dist-packages (from implicit) (3.5.0)\n"
          ]
        }
      ]
    },
    {
      "cell_type": "code",
      "source": [
        "import implicit as implicit"
      ],
      "metadata": {
        "id": "1doium49WgUM"
      },
      "execution_count": 18,
      "outputs": []
    },
    {
      "cell_type": "code",
      "execution_count": 19,
      "metadata": {
        "id": "XHNNym6JnMbe"
      },
      "outputs": [],
      "source": [
        "from scipy.sparse import csr_matrix\n",
        "from implicit.als import AlternatingLeastSquares\n",
        "from implicit.bpr import BayesianPersonalizedRanking\n",
        "from implicit.evaluation import mean_average_precision_at_k, ndcg_at_k\n",
        "from scipy.sparse import csr_matrix\n",
        "from sklearn.model_selection import train_test_split\n",
        "from sklearn.metrics.pairwise import cosine_similarity"
      ]
    },
    {
      "cell_type": "code",
      "execution_count": 20,
      "metadata": {
        "id": "JMkawGLfnMbe"
      },
      "outputs": [],
      "source": [
        "#Hay playlist que tienen la misma cancion más de una vez, aca las tratamos solo una vez\n",
        "playlist_track = expanded_tracks_df[[\"pid\",\"track_id\",\"track_name\",\"duration_ms\",\"artist_name\"]].drop_duplicates()\n",
        "# playlist_track.head()"
      ]
    },
    {
      "cell_type": "markdown",
      "metadata": {
        "id": "e3Z9IC_WnMbp"
      },
      "source": [
        "- Separamos en data de validación y data de entrenamiento"
      ]
    },
    {
      "cell_type": "code",
      "source": [
        "# Acá separamos en las playlists con un número de canciones mayor a NUM_CANCIONES\n",
        "# Luego nos quedamos solo con las playlist con un número mayor para hacer el entrenamiento y el testeo\n",
        "NUM_CANCIONES = 10\n",
        "song_per_playlist = playlist_track.groupby('pid')['track_id'].agg(list).reset_index()\n",
        "song_per_playlist['n_songs'] = song_per_playlist['track_id'].apply(len)\n",
        "pid_less = song_per_playlist[song_per_playlist['n_songs'] < NUM_CANCIONES]['pid'].unique()\n",
        "pid_more = song_per_playlist[song_per_playlist['n_songs'] >= NUM_CANCIONES]['pid'].unique()\n",
        "print(len(pid_less), len(pid_more))"
      ],
      "metadata": {
        "id": "tLS4DSCkJG-8",
        "colab": {
          "base_uri": "https://localhost:8080/"
        },
        "outputId": "b9400448-5681-4ef0-f4ad-316122089481"
      },
      "execution_count": 21,
      "outputs": [
        {
          "output_type": "stream",
          "name": "stdout",
          "text": [
            "35 965\n"
          ]
        }
      ]
    },
    {
      "cell_type": "code",
      "source": [
        "# Acá hacemos una separación de las playlists que le vamos a entregar la información completa,\n",
        "# y las que le vamos a entregar solo las primeras n\n",
        "\n",
        "train_pid, test_pid = train_test_split(pid_more, test_size=0.2, random_state=42)\n",
        "print(len(train_pid), len(test_pid))"
      ],
      "metadata": {
        "colab": {
          "base_uri": "https://localhost:8080/"
        },
        "id": "MEkh2srUJ_X1",
        "outputId": "37bf927e-2a68-42eb-b8c1-b7916d9c49c9"
      },
      "execution_count": 22,
      "outputs": [
        {
          "output_type": "stream",
          "name": "stdout",
          "text": [
            "772 193\n"
          ]
        }
      ]
    },
    {
      "cell_type": "code",
      "source": [
        "song_per_playlist.drop(\"n_songs\", axis=1, inplace=True)\n",
        "song_per_playlist.head(3)"
      ],
      "metadata": {
        "colab": {
          "base_uri": "https://localhost:8080/",
          "height": 143
        },
        "id": "hYV93p30OcXu",
        "outputId": "8720d015-a806-4d96-ff39-6f347454e211"
      },
      "execution_count": 23,
      "outputs": [
        {
          "output_type": "execute_result",
          "data": {
            "text/plain": [
              "   pid                                           track_id\n",
              "0    0  [2209, 27709, 2383, 5177, 7784, 2437, 27044, 1...\n",
              "1    1  [9981, 6051, 17334, 6282, 6126, 14998, 2900, 3...\n",
              "2    2  [31321, 20465, 20655, 7274, 2349, 9120, 487, 1..."
            ],
            "text/html": [
              "\n",
              "  <div id=\"df-fd2c615f-a8fe-477f-8327-559e587bfdb8\" class=\"colab-df-container\">\n",
              "    <div>\n",
              "<style scoped>\n",
              "    .dataframe tbody tr th:only-of-type {\n",
              "        vertical-align: middle;\n",
              "    }\n",
              "\n",
              "    .dataframe tbody tr th {\n",
              "        vertical-align: top;\n",
              "    }\n",
              "\n",
              "    .dataframe thead th {\n",
              "        text-align: right;\n",
              "    }\n",
              "</style>\n",
              "<table border=\"1\" class=\"dataframe\">\n",
              "  <thead>\n",
              "    <tr style=\"text-align: right;\">\n",
              "      <th></th>\n",
              "      <th>pid</th>\n",
              "      <th>track_id</th>\n",
              "    </tr>\n",
              "  </thead>\n",
              "  <tbody>\n",
              "    <tr>\n",
              "      <th>0</th>\n",
              "      <td>0</td>\n",
              "      <td>[2209, 27709, 2383, 5177, 7784, 2437, 27044, 1...</td>\n",
              "    </tr>\n",
              "    <tr>\n",
              "      <th>1</th>\n",
              "      <td>1</td>\n",
              "      <td>[9981, 6051, 17334, 6282, 6126, 14998, 2900, 3...</td>\n",
              "    </tr>\n",
              "    <tr>\n",
              "      <th>2</th>\n",
              "      <td>2</td>\n",
              "      <td>[31321, 20465, 20655, 7274, 2349, 9120, 487, 1...</td>\n",
              "    </tr>\n",
              "  </tbody>\n",
              "</table>\n",
              "</div>\n",
              "    <div class=\"colab-df-buttons\">\n",
              "      \n",
              "  <div class=\"colab-df-container\">\n",
              "    <button class=\"colab-df-convert\" onclick=\"convertToInteractive('df-fd2c615f-a8fe-477f-8327-559e587bfdb8')\"\n",
              "            title=\"Convert this dataframe to an interactive table.\"\n",
              "            style=\"display:none;\">\n",
              "      \n",
              "  <svg xmlns=\"http://www.w3.org/2000/svg\" height=\"24px\" viewBox=\"0 -960 960 960\">\n",
              "    <path d=\"M120-120v-720h720v720H120Zm60-500h600v-160H180v160Zm220 220h160v-160H400v160Zm0 220h160v-160H400v160ZM180-400h160v-160H180v160Zm440 0h160v-160H620v160ZM180-180h160v-160H180v160Zm440 0h160v-160H620v160Z\"/>\n",
              "  </svg>\n",
              "    </button>\n",
              "    \n",
              "  <style>\n",
              "    .colab-df-container {\n",
              "      display:flex;\n",
              "      gap: 12px;\n",
              "    }\n",
              "\n",
              "    .colab-df-convert {\n",
              "      background-color: #E8F0FE;\n",
              "      border: none;\n",
              "      border-radius: 50%;\n",
              "      cursor: pointer;\n",
              "      display: none;\n",
              "      fill: #1967D2;\n",
              "      height: 32px;\n",
              "      padding: 0 0 0 0;\n",
              "      width: 32px;\n",
              "    }\n",
              "\n",
              "    .colab-df-convert:hover {\n",
              "      background-color: #E2EBFA;\n",
              "      box-shadow: 0px 1px 2px rgba(60, 64, 67, 0.3), 0px 1px 3px 1px rgba(60, 64, 67, 0.15);\n",
              "      fill: #174EA6;\n",
              "    }\n",
              "\n",
              "    .colab-df-buttons div {\n",
              "      margin-bottom: 4px;\n",
              "    }\n",
              "\n",
              "    [theme=dark] .colab-df-convert {\n",
              "      background-color: #3B4455;\n",
              "      fill: #D2E3FC;\n",
              "    }\n",
              "\n",
              "    [theme=dark] .colab-df-convert:hover {\n",
              "      background-color: #434B5C;\n",
              "      box-shadow: 0px 1px 3px 1px rgba(0, 0, 0, 0.15);\n",
              "      filter: drop-shadow(0px 1px 2px rgba(0, 0, 0, 0.3));\n",
              "      fill: #FFFFFF;\n",
              "    }\n",
              "  </style>\n",
              "\n",
              "    <script>\n",
              "      const buttonEl =\n",
              "        document.querySelector('#df-fd2c615f-a8fe-477f-8327-559e587bfdb8 button.colab-df-convert');\n",
              "      buttonEl.style.display =\n",
              "        google.colab.kernel.accessAllowed ? 'block' : 'none';\n",
              "\n",
              "      async function convertToInteractive(key) {\n",
              "        const element = document.querySelector('#df-fd2c615f-a8fe-477f-8327-559e587bfdb8');\n",
              "        const dataTable =\n",
              "          await google.colab.kernel.invokeFunction('convertToInteractive',\n",
              "                                                    [key], {});\n",
              "        if (!dataTable) return;\n",
              "\n",
              "        const docLinkHtml = 'Like what you see? Visit the ' +\n",
              "          '<a target=\"_blank\" href=https://colab.research.google.com/notebooks/data_table.ipynb>data table notebook</a>'\n",
              "          + ' to learn more about interactive tables.';\n",
              "        element.innerHTML = '';\n",
              "        dataTable['output_type'] = 'display_data';\n",
              "        await google.colab.output.renderOutput(dataTable, element);\n",
              "        const docLink = document.createElement('div');\n",
              "        docLink.innerHTML = docLinkHtml;\n",
              "        element.appendChild(docLink);\n",
              "      }\n",
              "    </script>\n",
              "  </div>\n",
              "  \n",
              "    </div>\n",
              "  </div>\n",
              "  "
            ]
          },
          "metadata": {},
          "execution_count": 23
        }
      ]
    },
    {
      "cell_type": "code",
      "source": [
        "# Acá separamos para las playlist que están en test sus primeras PRIMERAS_N canciones para train y el resto para train\n",
        "# Hay que asegurarse que PRIMERAS_N << NUM_CANCIONES\n",
        "\n",
        "PRIMERAS_N = 5\n",
        "test_all = song_per_playlist[song_per_playlist['pid'].isin(test_pid)]\n",
        "test_all['fist_5'] = test_all['track_id'].apply(lambda x: x[:PRIMERAS_N])\n",
        "test_all['next'] = test_all['track_id'].apply(lambda x: x[PRIMERAS_N:])\n",
        "test_all.drop(\"track_id\", axis=1, inplace=True)\n",
        "test_train = test_all[['pid', 'fist_5']].explode('fist_5')\n",
        "test_test = test_all[['pid', 'next']].explode('next')\n",
        "test_train.rename(columns={'fist_5': 'track_id'}, inplace=True)\n",
        "test_test.rename(columns={'next': 'track_id'}, inplace=True)\n",
        "\n",
        "\n",
        "# clear_outputs()"
      ],
      "metadata": {
        "colab": {
          "base_uri": "https://localhost:8080/"
        },
        "id": "WCTxbn5OL37Y",
        "outputId": "447a7236-65ef-47d4-ce31-1de340ed510a"
      },
      "execution_count": 24,
      "outputs": [
        {
          "output_type": "stream",
          "name": "stderr",
          "text": [
            "<ipython-input-24-6c2d60f2a947>:6: SettingWithCopyWarning: \n",
            "A value is trying to be set on a copy of a slice from a DataFrame.\n",
            "Try using .loc[row_indexer,col_indexer] = value instead\n",
            "\n",
            "See the caveats in the documentation: https://pandas.pydata.org/pandas-docs/stable/user_guide/indexing.html#returning-a-view-versus-a-copy\n",
            "  test_all['fist_5'] = test_all['track_id'].apply(lambda x: x[:PRIMERAS_N])\n",
            "<ipython-input-24-6c2d60f2a947>:7: SettingWithCopyWarning: \n",
            "A value is trying to be set on a copy of a slice from a DataFrame.\n",
            "Try using .loc[row_indexer,col_indexer] = value instead\n",
            "\n",
            "See the caveats in the documentation: https://pandas.pydata.org/pandas-docs/stable/user_guide/indexing.html#returning-a-view-versus-a-copy\n",
            "  test_all['next'] = test_all['track_id'].apply(lambda x: x[PRIMERAS_N:])\n",
            "<ipython-input-24-6c2d60f2a947>:8: SettingWithCopyWarning: \n",
            "A value is trying to be set on a copy of a slice from a DataFrame\n",
            "\n",
            "See the caveats in the documentation: https://pandas.pydata.org/pandas-docs/stable/user_guide/indexing.html#returning-a-view-versus-a-copy\n",
            "  test_all.drop(\"track_id\", axis=1, inplace=True)\n"
          ]
        }
      ]
    },
    {
      "cell_type": "code",
      "source": [
        "# Luego acá creamos los datasets de train y test\n",
        "\n",
        "data = playlist_track[['pid', 'track_id']]\n",
        "train_data = data[data['pid'].isin(train_pid)]                       # Playlists con todas las canciones\n",
        "train_data = pd.concat([train_data, test_train], ignore_index=True)  # Playlists con solo las PRIMERAS_N canciones\n",
        "test_data = test_test\n"
      ],
      "metadata": {
        "id": "N4h6eMl2Jlkz"
      },
      "execution_count": 25,
      "outputs": []
    },
    {
      "cell_type": "code",
      "source": [
        "# Pequeño test para revisar cuantas canciones el modelo no se ha entrenado con, lo cual implica que no las va a poder recomendar\n",
        "# Este número debería bajar si incluimos más data en el comienzo\n",
        "\n",
        "test_tracks_ids = test_data['track_id'].unique()\n",
        "train_tracks_ids = train_data['track_id'].unique()\n",
        "tracks_not_in_train = np.setdiff1d(test_tracks_ids, train_tracks_ids)\n",
        "tracks_not_in_train, len(tracks_not_in_train) / len(test_tracks_ids)\n"
      ],
      "metadata": {
        "colab": {
          "base_uri": "https://localhost:8080/"
        },
        "id": "gIFyvv7-ROvL",
        "outputId": "5893c73e-0207-4d62-b240-bb020fc7e188"
      },
      "execution_count": 26,
      "outputs": [
        {
          "output_type": "execute_result",
          "data": {
            "text/plain": [
              "(array([1, 11, 13, ..., 34421, 34424, 34429], dtype=object),\n",
              " 0.5343448841500923)"
            ]
          },
          "metadata": {},
          "execution_count": 26
        }
      ]
    },
    {
      "cell_type": "markdown",
      "source": [
        "# New ALS"
      ],
      "metadata": {
        "id": "gMeZUGcCBaCV"
      }
    },
    {
      "cell_type": "code",
      "source": [
        "# Create user-item interaction matrices for train and test sets\n",
        "train_interaction_matrix = csr_matrix((np.ones(len(train_data)), (train_data['pid'], train_data['track_id'])))\n",
        "test_interaction_matrix = csr_matrix((np.ones(len(test_data)), (test_data['pid'], test_data['track_id'])))\n",
        "\n",
        "\n",
        "model = AlternatingLeastSquares(factors=100, alpha = 20)\n",
        "model.fit(train_interaction_matrix)"
      ],
      "metadata": {
        "colab": {
          "base_uri": "https://localhost:8080/",
          "referenced_widgets": [
            "82bb41d63a5645bb8d4711dc4aaf8b51",
            "144a0e3a79134149848ae3afdce066b3",
            "a040c386056941cda9443cb185499c9e",
            "a10e6e82de8d4f179e9dbacab5e838f3",
            "3ecd43578cc34ecf8eacb087ec702167",
            "881d65cf44854f5783f12c9e7cfb0973",
            "bda4af3b2fdb4d428b4d02fe8fa57219",
            "9d9587ef513e4b88945f9018fd80d62b",
            "a24390441315404d90c9d761fdd443cc",
            "ef129eb8180948c48ecf0628ba72b00b",
            "4933f238fb7848aaa35bf6562bd82027"
          ],
          "height": 105
        },
        "id": "G5glgWe7RXop",
        "outputId": "7291de66-d1b7-4a96-a095-d166b0944724"
      },
      "execution_count": 27,
      "outputs": [
        {
          "output_type": "stream",
          "name": "stderr",
          "text": [
            "/usr/local/lib/python3.10/dist-packages/implicit/cpu/als.py:95: RuntimeWarning: OpenBLAS is configured to use 2 threads. It is highly recommended to disable its internal threadpool by setting the environment variable 'OPENBLAS_NUM_THREADS=1' or by calling 'threadpoolctl.threadpool_limits(1, \"blas\")'. Having OpenBLAS use a threadpool can lead to severe performance issues here.\n",
            "  check_blas_config()\n"
          ]
        },
        {
          "output_type": "display_data",
          "data": {
            "text/plain": [
              "  0%|          | 0/15 [00:00<?, ?it/s]"
            ],
            "application/vnd.jupyter.widget-view+json": {
              "version_major": 2,
              "version_minor": 0,
              "model_id": "82bb41d63a5645bb8d4711dc4aaf8b51"
            }
          },
          "metadata": {}
        }
      ]
    },
    {
      "cell_type": "code",
      "source": [],
      "metadata": {
        "id": "zvw3pYtqO7t0"
      },
      "execution_count": 27,
      "outputs": []
    },
    {
      "cell_type": "code",
      "source": [
        "def R_precision(recommended, actual):\n",
        "    n = len(actual)\n",
        "    recommended = recommended[:n]\n",
        "    in_both = np.intersect1d(recommended, actual)\n",
        "    return len(in_both) / n\n",
        "\n",
        "def dcg(relevance_scores):\n",
        "    return relevance_scores[0] + np.sum(\n",
        "        [rel / np.log2(idx + 1) for idx, rel in enumerate(relevance_scores[1:], start=2)]\n",
        "    )\n",
        "\n",
        "def ndcg(recommended, actual):\n",
        "    \"\"\"Calculate Normalized Discounted Cumulative Gain (NDCG) at k\"\"\"\n",
        "    # Relevance scores: 1 if the item is in the ground truth, 0 otherwise\n",
        "    relevance_scores = [1 if item in actual else 0 for item in recommended]\n",
        "\n",
        "    # Calculate DCG for the recommended list\n",
        "    DCG = dcg(relevance_scores)\n",
        "\n",
        "    # Calculate IDCG for the ideal list (the best possible ranking)\n",
        "    ideal_relevance_scores = sorted(relevance_scores, reverse=True)\n",
        "    IDCG = dcg(ideal_relevance_scores)\n",
        "\n",
        "    # Calculate NDCG\n",
        "    NDCG = DCG / IDCG if IDCG > 0 else 0\n",
        "    return NDCG\n",
        "\n",
        "def rec_song_clicks(recommended, actual):\n",
        "    for i, item in enumerate(recommended):\n",
        "        if item in actual:\n",
        "            clicks = np.floor(i / 10)\n",
        "            return clicks\n",
        "    return 51"
      ],
      "metadata": {
        "id": "5ppb-qy6OlJX"
      },
      "execution_count": 28,
      "outputs": []
    },
    {
      "cell_type": "code",
      "source": [
        "# Pequeño código mostrando que el modelo efectivamente logra recomendar canciones relevantes para usuarios (playlists) del train\n",
        "# Falta implementar las métricas, las clásicas de ndcg y r-precision y las que se crearon para la competencia\n",
        "\n",
        "\n",
        "user_ids = test_pid\n",
        "print(len(user_ids))\n",
        "print(train_data['track_id'].nunique())\n",
        "r_prec = []\n",
        "ndcgs = []\n",
        "clicks = []\n",
        "for userid in user_ids:\n",
        "\n",
        "  ids, scores = model.recommend(userid, train_interaction_matrix[userid], N=500, filter_already_liked_items=True)\n",
        "  actual = test_test[test_test['pid'] == userid]['track_id'].values\n",
        "\n",
        "  # print(actual)\n",
        "  r_prec.append(R_precision(ids, actual))\n",
        "  ndcgs.append(ndcg(ids, actual))\n",
        "  clicks.append(rec_song_clicks(ids, actual))\n",
        "\n",
        "  # in_both = np.intersect1d(ids, actual)\n",
        "  # if in_both.size > 0:\n",
        "  #     print(in_both)\n",
        "\n",
        "print(np.mean(r_prec))\n",
        "print(np.mean(ndcgs))\n",
        "print(np.mean(clicks))\n",
        "\n"
      ],
      "metadata": {
        "colab": {
          "base_uri": "https://localhost:8080/"
        },
        "id": "mkefJKBOYQ9W",
        "outputId": "21432f5e-31f9-40fe-bfea-4f5244edb29c"
      },
      "execution_count": 29,
      "outputs": [
        {
          "output_type": "stream",
          "name": "stdout",
          "text": [
            "193\n",
            "29130\n",
            "0.0687962291511133\n",
            "0.3465422833197646\n",
            "10.911917098445596\n"
          ]
        }
      ]
    },
    {
      "cell_type": "markdown",
      "source": [
        "# New Item Item\n"
      ],
      "metadata": {
        "id": "Ys_5Xenan9UX"
      }
    },
    {
      "cell_type": "code",
      "source": [
        "item_model = implicit.nearest_neighbours.CosineRecommender(K=500)\n",
        "item_model.fit(train_interaction_matrix)\n",
        "\n"
      ],
      "metadata": {
        "colab": {
          "base_uri": "https://localhost:8080/",
          "height": 105,
          "referenced_widgets": [
            "23d90da7c4dd4a88839cad6411dc7e04",
            "e8607b1659d74692aca369d9c82e86c4",
            "5ddaf86519044b4f8beb1a8f53a5fbad",
            "ae40e3dd55e04010b8d95bd0ed061a86",
            "9ef1fb441611428990de3f947f12ce67",
            "1f656d63fe3f41a2a25daf41e14e1033",
            "0cffc0e39cee46c59b514432470680d6",
            "54d2a12bb6e543f894a17091f4881eb3",
            "b7d18d0b4b734a848c6cb60d51d44822",
            "05ba154805d94cf9ad3d18fcae0174d1",
            "3943bf60ab7d464789106e70102998d4"
          ]
        },
        "id": "OqaRHpDTCqVB",
        "outputId": "ad688e28-a6f5-4435-fc5f-c225117b43f8"
      },
      "execution_count": 34,
      "outputs": [
        {
          "output_type": "stream",
          "name": "stderr",
          "text": [
            "/usr/local/lib/python3.10/dist-packages/implicit/utils.py:164: ParameterWarning: Method expects CSR input, and was passed coo_matrix instead. Converting to CSR took 0.0007815361022949219 seconds\n",
            "  warnings.warn(\n"
          ]
        },
        {
          "output_type": "display_data",
          "data": {
            "text/plain": [
              "  0%|          | 0/34444 [00:00<?, ?it/s]"
            ],
            "application/vnd.jupyter.widget-view+json": {
              "version_major": 2,
              "version_minor": 0,
              "model_id": "23d90da7c4dd4a88839cad6411dc7e04"
            }
          },
          "metadata": {}
        }
      ]
    },
    {
      "cell_type": "code",
      "source": [
        "user_ids = test_pid\n",
        "print(len(user_ids))\n",
        "print(train_data['track_id'].nunique())\n",
        "r_prec = []\n",
        "ndcgs = []\n",
        "clicks = []\n",
        "for userid in user_ids:\n",
        "\n",
        "  ids, scores = item_model.recommend(userid, train_interaction_matrix[userid], N=500, filter_already_liked_items=True)\n",
        "  actual = test_test[test_test['pid'] == userid]['track_id'].values\n",
        "\n",
        "  r_prec.append(R_precision(ids, actual))\n",
        "  ndcgs.append(ndcg(ids, actual))\n",
        "  clicks.append(rec_song_clicks(ids, actual))\n",
        "\n",
        "print(np.mean(r_prec))\n",
        "print(np.mean(ndcgs))\n",
        "print(np.mean(clicks))"
      ],
      "metadata": {
        "colab": {
          "base_uri": "https://localhost:8080/"
        },
        "id": "2iWLwQV3YoiK",
        "outputId": "d07cd731-1e1f-4454-add2-452d9218b424"
      },
      "execution_count": 35,
      "outputs": [
        {
          "output_type": "stream",
          "name": "stdout",
          "text": [
            "193\n",
            "29130\n",
            "0.03124047181808764\n",
            "0.26639264407084456\n",
            "17.974093264248705\n"
          ]
        }
      ]
    },
    {
      "cell_type": "markdown",
      "source": [
        "# New User User"
      ],
      "metadata": {
        "id": "AcvC_mVTccSV"
      }
    },
    {
      "cell_type": "code",
      "source": [
        "!pip3 install surprise"
      ],
      "metadata": {
        "colab": {
          "base_uri": "https://localhost:8080/"
        },
        "id": "DACrFh1Jd_Ez",
        "outputId": "39eabc69-3a8e-4af9-e2b0-2aaf2aac6da9"
      },
      "execution_count": null,
      "outputs": [
        {
          "output_type": "stream",
          "name": "stdout",
          "text": [
            "Collecting surprise\n",
            "  Downloading surprise-0.1-py2.py3-none-any.whl (1.8 kB)\n",
            "Collecting scikit-surprise (from surprise)\n",
            "  Downloading scikit_surprise-1.1.4.tar.gz (154 kB)\n",
            "\u001b[2K     \u001b[90m━━━━━━━━━━━━━━━━━━━━━━━━━━━━━━━━━━━━━━━━\u001b[0m \u001b[32m154.4/154.4 kB\u001b[0m \u001b[31m3.7 MB/s\u001b[0m eta \u001b[36m0:00:00\u001b[0m\n",
            "\u001b[?25h  Installing build dependencies ... \u001b[?25l\u001b[?25hdone\n",
            "  Getting requirements to build wheel ... \u001b[?25l\u001b[?25hdone\n",
            "  Preparing metadata (pyproject.toml) ... \u001b[?25l\u001b[?25hdone\n",
            "Requirement already satisfied: joblib>=1.2.0 in /usr/local/lib/python3.10/dist-packages (from scikit-surprise->surprise) (1.4.2)\n",
            "Requirement already satisfied: numpy>=1.19.5 in /usr/local/lib/python3.10/dist-packages (from scikit-surprise->surprise) (1.25.2)\n",
            "Requirement already satisfied: scipy>=1.6.0 in /usr/local/lib/python3.10/dist-packages (from scikit-surprise->surprise) (1.11.4)\n",
            "Building wheels for collected packages: scikit-surprise\n"
          ]
        }
      ]
    },
    {
      "cell_type": "code",
      "source": [
        "from surprise import KNNBasic\n"
      ],
      "metadata": {
        "id": "DD1tn4LUcfXV"
      },
      "execution_count": null,
      "outputs": []
    },
    {
      "cell_type": "code",
      "source": [],
      "metadata": {
        "id": "9-iPYI-7d9-2"
      },
      "execution_count": null,
      "outputs": []
    }
  ],
  "metadata": {
    "kernelspec": {
      "display_name": "base",
      "language": "python",
      "name": "python3"
    },
    "language_info": {
      "codemirror_mode": {
        "name": "ipython",
        "version": 3
      },
      "file_extension": ".py",
      "mimetype": "text/x-python",
      "name": "python",
      "nbconvert_exporter": "python",
      "pygments_lexer": "ipython3",
      "version": "3.8.19"
    },
    "colab": {
      "provenance": []
    },
    "widgets": {
      "application/vnd.jupyter.widget-state+json": {
        "82bb41d63a5645bb8d4711dc4aaf8b51": {
          "model_module": "@jupyter-widgets/controls",
          "model_name": "HBoxModel",
          "model_module_version": "1.5.0",
          "state": {
            "_dom_classes": [],
            "_model_module": "@jupyter-widgets/controls",
            "_model_module_version": "1.5.0",
            "_model_name": "HBoxModel",
            "_view_count": null,
            "_view_module": "@jupyter-widgets/controls",
            "_view_module_version": "1.5.0",
            "_view_name": "HBoxView",
            "box_style": "",
            "children": [
              "IPY_MODEL_144a0e3a79134149848ae3afdce066b3",
              "IPY_MODEL_a040c386056941cda9443cb185499c9e",
              "IPY_MODEL_a10e6e82de8d4f179e9dbacab5e838f3"
            ],
            "layout": "IPY_MODEL_3ecd43578cc34ecf8eacb087ec702167"
          }
        },
        "144a0e3a79134149848ae3afdce066b3": {
          "model_module": "@jupyter-widgets/controls",
          "model_name": "HTMLModel",
          "model_module_version": "1.5.0",
          "state": {
            "_dom_classes": [],
            "_model_module": "@jupyter-widgets/controls",
            "_model_module_version": "1.5.0",
            "_model_name": "HTMLModel",
            "_view_count": null,
            "_view_module": "@jupyter-widgets/controls",
            "_view_module_version": "1.5.0",
            "_view_name": "HTMLView",
            "description": "",
            "description_tooltip": null,
            "layout": "IPY_MODEL_881d65cf44854f5783f12c9e7cfb0973",
            "placeholder": "​",
            "style": "IPY_MODEL_bda4af3b2fdb4d428b4d02fe8fa57219",
            "value": "100%"
          }
        },
        "a040c386056941cda9443cb185499c9e": {
          "model_module": "@jupyter-widgets/controls",
          "model_name": "FloatProgressModel",
          "model_module_version": "1.5.0",
          "state": {
            "_dom_classes": [],
            "_model_module": "@jupyter-widgets/controls",
            "_model_module_version": "1.5.0",
            "_model_name": "FloatProgressModel",
            "_view_count": null,
            "_view_module": "@jupyter-widgets/controls",
            "_view_module_version": "1.5.0",
            "_view_name": "ProgressView",
            "bar_style": "success",
            "description": "",
            "description_tooltip": null,
            "layout": "IPY_MODEL_9d9587ef513e4b88945f9018fd80d62b",
            "max": 15,
            "min": 0,
            "orientation": "horizontal",
            "style": "IPY_MODEL_a24390441315404d90c9d761fdd443cc",
            "value": 15
          }
        },
        "a10e6e82de8d4f179e9dbacab5e838f3": {
          "model_module": "@jupyter-widgets/controls",
          "model_name": "HTMLModel",
          "model_module_version": "1.5.0",
          "state": {
            "_dom_classes": [],
            "_model_module": "@jupyter-widgets/controls",
            "_model_module_version": "1.5.0",
            "_model_name": "HTMLModel",
            "_view_count": null,
            "_view_module": "@jupyter-widgets/controls",
            "_view_module_version": "1.5.0",
            "_view_name": "HTMLView",
            "description": "",
            "description_tooltip": null,
            "layout": "IPY_MODEL_ef129eb8180948c48ecf0628ba72b00b",
            "placeholder": "​",
            "style": "IPY_MODEL_4933f238fb7848aaa35bf6562bd82027",
            "value": " 15/15 [00:34&lt;00:00,  1.57s/it]"
          }
        },
        "3ecd43578cc34ecf8eacb087ec702167": {
          "model_module": "@jupyter-widgets/base",
          "model_name": "LayoutModel",
          "model_module_version": "1.2.0",
          "state": {
            "_model_module": "@jupyter-widgets/base",
            "_model_module_version": "1.2.0",
            "_model_name": "LayoutModel",
            "_view_count": null,
            "_view_module": "@jupyter-widgets/base",
            "_view_module_version": "1.2.0",
            "_view_name": "LayoutView",
            "align_content": null,
            "align_items": null,
            "align_self": null,
            "border": null,
            "bottom": null,
            "display": null,
            "flex": null,
            "flex_flow": null,
            "grid_area": null,
            "grid_auto_columns": null,
            "grid_auto_flow": null,
            "grid_auto_rows": null,
            "grid_column": null,
            "grid_gap": null,
            "grid_row": null,
            "grid_template_areas": null,
            "grid_template_columns": null,
            "grid_template_rows": null,
            "height": null,
            "justify_content": null,
            "justify_items": null,
            "left": null,
            "margin": null,
            "max_height": null,
            "max_width": null,
            "min_height": null,
            "min_width": null,
            "object_fit": null,
            "object_position": null,
            "order": null,
            "overflow": null,
            "overflow_x": null,
            "overflow_y": null,
            "padding": null,
            "right": null,
            "top": null,
            "visibility": null,
            "width": null
          }
        },
        "881d65cf44854f5783f12c9e7cfb0973": {
          "model_module": "@jupyter-widgets/base",
          "model_name": "LayoutModel",
          "model_module_version": "1.2.0",
          "state": {
            "_model_module": "@jupyter-widgets/base",
            "_model_module_version": "1.2.0",
            "_model_name": "LayoutModel",
            "_view_count": null,
            "_view_module": "@jupyter-widgets/base",
            "_view_module_version": "1.2.0",
            "_view_name": "LayoutView",
            "align_content": null,
            "align_items": null,
            "align_self": null,
            "border": null,
            "bottom": null,
            "display": null,
            "flex": null,
            "flex_flow": null,
            "grid_area": null,
            "grid_auto_columns": null,
            "grid_auto_flow": null,
            "grid_auto_rows": null,
            "grid_column": null,
            "grid_gap": null,
            "grid_row": null,
            "grid_template_areas": null,
            "grid_template_columns": null,
            "grid_template_rows": null,
            "height": null,
            "justify_content": null,
            "justify_items": null,
            "left": null,
            "margin": null,
            "max_height": null,
            "max_width": null,
            "min_height": null,
            "min_width": null,
            "object_fit": null,
            "object_position": null,
            "order": null,
            "overflow": null,
            "overflow_x": null,
            "overflow_y": null,
            "padding": null,
            "right": null,
            "top": null,
            "visibility": null,
            "width": null
          }
        },
        "bda4af3b2fdb4d428b4d02fe8fa57219": {
          "model_module": "@jupyter-widgets/controls",
          "model_name": "DescriptionStyleModel",
          "model_module_version": "1.5.0",
          "state": {
            "_model_module": "@jupyter-widgets/controls",
            "_model_module_version": "1.5.0",
            "_model_name": "DescriptionStyleModel",
            "_view_count": null,
            "_view_module": "@jupyter-widgets/base",
            "_view_module_version": "1.2.0",
            "_view_name": "StyleView",
            "description_width": ""
          }
        },
        "9d9587ef513e4b88945f9018fd80d62b": {
          "model_module": "@jupyter-widgets/base",
          "model_name": "LayoutModel",
          "model_module_version": "1.2.0",
          "state": {
            "_model_module": "@jupyter-widgets/base",
            "_model_module_version": "1.2.0",
            "_model_name": "LayoutModel",
            "_view_count": null,
            "_view_module": "@jupyter-widgets/base",
            "_view_module_version": "1.2.0",
            "_view_name": "LayoutView",
            "align_content": null,
            "align_items": null,
            "align_self": null,
            "border": null,
            "bottom": null,
            "display": null,
            "flex": null,
            "flex_flow": null,
            "grid_area": null,
            "grid_auto_columns": null,
            "grid_auto_flow": null,
            "grid_auto_rows": null,
            "grid_column": null,
            "grid_gap": null,
            "grid_row": null,
            "grid_template_areas": null,
            "grid_template_columns": null,
            "grid_template_rows": null,
            "height": null,
            "justify_content": null,
            "justify_items": null,
            "left": null,
            "margin": null,
            "max_height": null,
            "max_width": null,
            "min_height": null,
            "min_width": null,
            "object_fit": null,
            "object_position": null,
            "order": null,
            "overflow": null,
            "overflow_x": null,
            "overflow_y": null,
            "padding": null,
            "right": null,
            "top": null,
            "visibility": null,
            "width": null
          }
        },
        "a24390441315404d90c9d761fdd443cc": {
          "model_module": "@jupyter-widgets/controls",
          "model_name": "ProgressStyleModel",
          "model_module_version": "1.5.0",
          "state": {
            "_model_module": "@jupyter-widgets/controls",
            "_model_module_version": "1.5.0",
            "_model_name": "ProgressStyleModel",
            "_view_count": null,
            "_view_module": "@jupyter-widgets/base",
            "_view_module_version": "1.2.0",
            "_view_name": "StyleView",
            "bar_color": null,
            "description_width": ""
          }
        },
        "ef129eb8180948c48ecf0628ba72b00b": {
          "model_module": "@jupyter-widgets/base",
          "model_name": "LayoutModel",
          "model_module_version": "1.2.0",
          "state": {
            "_model_module": "@jupyter-widgets/base",
            "_model_module_version": "1.2.0",
            "_model_name": "LayoutModel",
            "_view_count": null,
            "_view_module": "@jupyter-widgets/base",
            "_view_module_version": "1.2.0",
            "_view_name": "LayoutView",
            "align_content": null,
            "align_items": null,
            "align_self": null,
            "border": null,
            "bottom": null,
            "display": null,
            "flex": null,
            "flex_flow": null,
            "grid_area": null,
            "grid_auto_columns": null,
            "grid_auto_flow": null,
            "grid_auto_rows": null,
            "grid_column": null,
            "grid_gap": null,
            "grid_row": null,
            "grid_template_areas": null,
            "grid_template_columns": null,
            "grid_template_rows": null,
            "height": null,
            "justify_content": null,
            "justify_items": null,
            "left": null,
            "margin": null,
            "max_height": null,
            "max_width": null,
            "min_height": null,
            "min_width": null,
            "object_fit": null,
            "object_position": null,
            "order": null,
            "overflow": null,
            "overflow_x": null,
            "overflow_y": null,
            "padding": null,
            "right": null,
            "top": null,
            "visibility": null,
            "width": null
          }
        },
        "4933f238fb7848aaa35bf6562bd82027": {
          "model_module": "@jupyter-widgets/controls",
          "model_name": "DescriptionStyleModel",
          "model_module_version": "1.5.0",
          "state": {
            "_model_module": "@jupyter-widgets/controls",
            "_model_module_version": "1.5.0",
            "_model_name": "DescriptionStyleModel",
            "_view_count": null,
            "_view_module": "@jupyter-widgets/base",
            "_view_module_version": "1.2.0",
            "_view_name": "StyleView",
            "description_width": ""
          }
        },
        "23d90da7c4dd4a88839cad6411dc7e04": {
          "model_module": "@jupyter-widgets/controls",
          "model_name": "HBoxModel",
          "model_module_version": "1.5.0",
          "state": {
            "_dom_classes": [],
            "_model_module": "@jupyter-widgets/controls",
            "_model_module_version": "1.5.0",
            "_model_name": "HBoxModel",
            "_view_count": null,
            "_view_module": "@jupyter-widgets/controls",
            "_view_module_version": "1.5.0",
            "_view_name": "HBoxView",
            "box_style": "",
            "children": [
              "IPY_MODEL_e8607b1659d74692aca369d9c82e86c4",
              "IPY_MODEL_5ddaf86519044b4f8beb1a8f53a5fbad",
              "IPY_MODEL_ae40e3dd55e04010b8d95bd0ed061a86"
            ],
            "layout": "IPY_MODEL_9ef1fb441611428990de3f947f12ce67"
          }
        },
        "e8607b1659d74692aca369d9c82e86c4": {
          "model_module": "@jupyter-widgets/controls",
          "model_name": "HTMLModel",
          "model_module_version": "1.5.0",
          "state": {
            "_dom_classes": [],
            "_model_module": "@jupyter-widgets/controls",
            "_model_module_version": "1.5.0",
            "_model_name": "HTMLModel",
            "_view_count": null,
            "_view_module": "@jupyter-widgets/controls",
            "_view_module_version": "1.5.0",
            "_view_name": "HTMLView",
            "description": "",
            "description_tooltip": null,
            "layout": "IPY_MODEL_1f656d63fe3f41a2a25daf41e14e1033",
            "placeholder": "​",
            "style": "IPY_MODEL_0cffc0e39cee46c59b514432470680d6",
            "value": "100%"
          }
        },
        "5ddaf86519044b4f8beb1a8f53a5fbad": {
          "model_module": "@jupyter-widgets/controls",
          "model_name": "FloatProgressModel",
          "model_module_version": "1.5.0",
          "state": {
            "_dom_classes": [],
            "_model_module": "@jupyter-widgets/controls",
            "_model_module_version": "1.5.0",
            "_model_name": "FloatProgressModel",
            "_view_count": null,
            "_view_module": "@jupyter-widgets/controls",
            "_view_module_version": "1.5.0",
            "_view_name": "ProgressView",
            "bar_style": "success",
            "description": "",
            "description_tooltip": null,
            "layout": "IPY_MODEL_54d2a12bb6e543f894a17091f4881eb3",
            "max": 34444,
            "min": 0,
            "orientation": "horizontal",
            "style": "IPY_MODEL_b7d18d0b4b734a848c6cb60d51d44822",
            "value": 34444
          }
        },
        "ae40e3dd55e04010b8d95bd0ed061a86": {
          "model_module": "@jupyter-widgets/controls",
          "model_name": "HTMLModel",
          "model_module_version": "1.5.0",
          "state": {
            "_dom_classes": [],
            "_model_module": "@jupyter-widgets/controls",
            "_model_module_version": "1.5.0",
            "_model_name": "HTMLModel",
            "_view_count": null,
            "_view_module": "@jupyter-widgets/controls",
            "_view_module_version": "1.5.0",
            "_view_name": "HTMLView",
            "description": "",
            "description_tooltip": null,
            "layout": "IPY_MODEL_05ba154805d94cf9ad3d18fcae0174d1",
            "placeholder": "​",
            "style": "IPY_MODEL_3943bf60ab7d464789106e70102998d4",
            "value": " 34444/34444 [00:00&lt;00:00, 43413.72it/s]"
          }
        },
        "9ef1fb441611428990de3f947f12ce67": {
          "model_module": "@jupyter-widgets/base",
          "model_name": "LayoutModel",
          "model_module_version": "1.2.0",
          "state": {
            "_model_module": "@jupyter-widgets/base",
            "_model_module_version": "1.2.0",
            "_model_name": "LayoutModel",
            "_view_count": null,
            "_view_module": "@jupyter-widgets/base",
            "_view_module_version": "1.2.0",
            "_view_name": "LayoutView",
            "align_content": null,
            "align_items": null,
            "align_self": null,
            "border": null,
            "bottom": null,
            "display": null,
            "flex": null,
            "flex_flow": null,
            "grid_area": null,
            "grid_auto_columns": null,
            "grid_auto_flow": null,
            "grid_auto_rows": null,
            "grid_column": null,
            "grid_gap": null,
            "grid_row": null,
            "grid_template_areas": null,
            "grid_template_columns": null,
            "grid_template_rows": null,
            "height": null,
            "justify_content": null,
            "justify_items": null,
            "left": null,
            "margin": null,
            "max_height": null,
            "max_width": null,
            "min_height": null,
            "min_width": null,
            "object_fit": null,
            "object_position": null,
            "order": null,
            "overflow": null,
            "overflow_x": null,
            "overflow_y": null,
            "padding": null,
            "right": null,
            "top": null,
            "visibility": null,
            "width": null
          }
        },
        "1f656d63fe3f41a2a25daf41e14e1033": {
          "model_module": "@jupyter-widgets/base",
          "model_name": "LayoutModel",
          "model_module_version": "1.2.0",
          "state": {
            "_model_module": "@jupyter-widgets/base",
            "_model_module_version": "1.2.0",
            "_model_name": "LayoutModel",
            "_view_count": null,
            "_view_module": "@jupyter-widgets/base",
            "_view_module_version": "1.2.0",
            "_view_name": "LayoutView",
            "align_content": null,
            "align_items": null,
            "align_self": null,
            "border": null,
            "bottom": null,
            "display": null,
            "flex": null,
            "flex_flow": null,
            "grid_area": null,
            "grid_auto_columns": null,
            "grid_auto_flow": null,
            "grid_auto_rows": null,
            "grid_column": null,
            "grid_gap": null,
            "grid_row": null,
            "grid_template_areas": null,
            "grid_template_columns": null,
            "grid_template_rows": null,
            "height": null,
            "justify_content": null,
            "justify_items": null,
            "left": null,
            "margin": null,
            "max_height": null,
            "max_width": null,
            "min_height": null,
            "min_width": null,
            "object_fit": null,
            "object_position": null,
            "order": null,
            "overflow": null,
            "overflow_x": null,
            "overflow_y": null,
            "padding": null,
            "right": null,
            "top": null,
            "visibility": null,
            "width": null
          }
        },
        "0cffc0e39cee46c59b514432470680d6": {
          "model_module": "@jupyter-widgets/controls",
          "model_name": "DescriptionStyleModel",
          "model_module_version": "1.5.0",
          "state": {
            "_model_module": "@jupyter-widgets/controls",
            "_model_module_version": "1.5.0",
            "_model_name": "DescriptionStyleModel",
            "_view_count": null,
            "_view_module": "@jupyter-widgets/base",
            "_view_module_version": "1.2.0",
            "_view_name": "StyleView",
            "description_width": ""
          }
        },
        "54d2a12bb6e543f894a17091f4881eb3": {
          "model_module": "@jupyter-widgets/base",
          "model_name": "LayoutModel",
          "model_module_version": "1.2.0",
          "state": {
            "_model_module": "@jupyter-widgets/base",
            "_model_module_version": "1.2.0",
            "_model_name": "LayoutModel",
            "_view_count": null,
            "_view_module": "@jupyter-widgets/base",
            "_view_module_version": "1.2.0",
            "_view_name": "LayoutView",
            "align_content": null,
            "align_items": null,
            "align_self": null,
            "border": null,
            "bottom": null,
            "display": null,
            "flex": null,
            "flex_flow": null,
            "grid_area": null,
            "grid_auto_columns": null,
            "grid_auto_flow": null,
            "grid_auto_rows": null,
            "grid_column": null,
            "grid_gap": null,
            "grid_row": null,
            "grid_template_areas": null,
            "grid_template_columns": null,
            "grid_template_rows": null,
            "height": null,
            "justify_content": null,
            "justify_items": null,
            "left": null,
            "margin": null,
            "max_height": null,
            "max_width": null,
            "min_height": null,
            "min_width": null,
            "object_fit": null,
            "object_position": null,
            "order": null,
            "overflow": null,
            "overflow_x": null,
            "overflow_y": null,
            "padding": null,
            "right": null,
            "top": null,
            "visibility": null,
            "width": null
          }
        },
        "b7d18d0b4b734a848c6cb60d51d44822": {
          "model_module": "@jupyter-widgets/controls",
          "model_name": "ProgressStyleModel",
          "model_module_version": "1.5.0",
          "state": {
            "_model_module": "@jupyter-widgets/controls",
            "_model_module_version": "1.5.0",
            "_model_name": "ProgressStyleModel",
            "_view_count": null,
            "_view_module": "@jupyter-widgets/base",
            "_view_module_version": "1.2.0",
            "_view_name": "StyleView",
            "bar_color": null,
            "description_width": ""
          }
        },
        "05ba154805d94cf9ad3d18fcae0174d1": {
          "model_module": "@jupyter-widgets/base",
          "model_name": "LayoutModel",
          "model_module_version": "1.2.0",
          "state": {
            "_model_module": "@jupyter-widgets/base",
            "_model_module_version": "1.2.0",
            "_model_name": "LayoutModel",
            "_view_count": null,
            "_view_module": "@jupyter-widgets/base",
            "_view_module_version": "1.2.0",
            "_view_name": "LayoutView",
            "align_content": null,
            "align_items": null,
            "align_self": null,
            "border": null,
            "bottom": null,
            "display": null,
            "flex": null,
            "flex_flow": null,
            "grid_area": null,
            "grid_auto_columns": null,
            "grid_auto_flow": null,
            "grid_auto_rows": null,
            "grid_column": null,
            "grid_gap": null,
            "grid_row": null,
            "grid_template_areas": null,
            "grid_template_columns": null,
            "grid_template_rows": null,
            "height": null,
            "justify_content": null,
            "justify_items": null,
            "left": null,
            "margin": null,
            "max_height": null,
            "max_width": null,
            "min_height": null,
            "min_width": null,
            "object_fit": null,
            "object_position": null,
            "order": null,
            "overflow": null,
            "overflow_x": null,
            "overflow_y": null,
            "padding": null,
            "right": null,
            "top": null,
            "visibility": null,
            "width": null
          }
        },
        "3943bf60ab7d464789106e70102998d4": {
          "model_module": "@jupyter-widgets/controls",
          "model_name": "DescriptionStyleModel",
          "model_module_version": "1.5.0",
          "state": {
            "_model_module": "@jupyter-widgets/controls",
            "_model_module_version": "1.5.0",
            "_model_name": "DescriptionStyleModel",
            "_view_count": null,
            "_view_module": "@jupyter-widgets/base",
            "_view_module_version": "1.2.0",
            "_view_name": "StyleView",
            "description_width": ""
          }
        }
      }
    }
  },
  "nbformat": 4,
  "nbformat_minor": 0
}