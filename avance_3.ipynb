{
  "cells": [
    {
      "cell_type": "code",
      "execution_count": 1,
      "metadata": {
        "id": "u2XkT_sInMbO"
      },
      "outputs": [],
      "source": [
        "import json\n",
        "import pandas as pd\n",
        "from pandas import json_normalize\n",
        "import matplotlib.pyplot as plt\n",
        "import os\n",
        "import random\n",
        "import numpy as np"
      ]
    },
    {
      "cell_type": "markdown",
      "metadata": {
        "id": "8yC2AbPcnMbQ"
      },
      "source": [
        "# 0. Leemos los datos"
      ]
    },
    {
      "cell_type": "code",
      "execution_count": 2,
      "metadata": {
        "id": "4GInxDA8nMbT"
      },
      "outputs": [],
      "source": [
        "def read_json(path):\n",
        "    with open(path) as f:\n",
        "        data = json.load(f)\n",
        "    return data\n",
        "\n",
        "def leer_k_archivos_json(k):\n",
        "    archivos_json = [archivo for archivo in os.listdir(\"data\") if archivo.endswith('.json')]\n",
        "    random.seed(42)\n",
        "    paths = random.choices(archivos_json, k=k)\n",
        "\n",
        "    all_playlists = []\n",
        "    for p in paths:\n",
        "        data = read_json(f\"data\\{p}\")\n",
        "        playlist = pd.DataFrame(data['playlists'])\n",
        "        all_playlists.append(playlist)\n",
        "\n",
        "    playlists = pd.concat(all_playlists, ignore_index=True)\n",
        "    return playlists"
      ]
    },
    {
      "cell_type": "code",
      "execution_count": 3,
      "metadata": {
        "colab": {
          "base_uri": "https://localhost:8080/"
        },
        "id": "jEBQwh9bnMbT",
        "outputId": "214dc638-1642-4fe0-9ed8-cbdaa9efebfd"
      },
      "outputs": [
        {
          "output_type": "stream",
          "name": "stdout",
          "text": [
            "mpd.slice.0-999.json\n"
          ]
        }
      ],
      "source": [
        "# Leer 15 archivos json osea 15000 playlists\n",
        "# playlists = leer_k_archivos_json(1)\n",
        "paths = [\n",
        "    \"mpd.slice.0-999.json\",\n",
        "]\n",
        "all_playlists = []\n",
        "for path in paths:\n",
        "    print(path)\n",
        "    data = read_json(f\"/content/data/{path}\")\n",
        "    playlist = pd.DataFrame(data['playlists'])\n",
        "    all_playlists.append(playlist)\n",
        "\n",
        "playlists = pd.concat(all_playlists, ignore_index=True)\n",
        "\n",
        "# playlists.head()"
      ]
    },
    {
      "cell_type": "code",
      "execution_count": 4,
      "metadata": {
        "colab": {
          "base_uri": "https://localhost:8080/"
        },
        "id": "GHw9rSwmnMbV",
        "outputId": "f1874c5c-3268-465f-941b-427623299c69"
      },
      "outputs": [
        {
          "output_type": "execute_result",
          "data": {
            "text/plain": [
              "name               0\n",
              "collaborative      0\n",
              "pid                0\n",
              "modified_at        0\n",
              "num_tracks         0\n",
              "num_albums         0\n",
              "num_followers      0\n",
              "tracks             0\n",
              "num_edits          0\n",
              "duration_ms        0\n",
              "num_artists        0\n",
              "description      980\n",
              "dtype: int64"
            ]
          },
          "metadata": {},
          "execution_count": 4
        }
      ],
      "source": [
        "playlists.isna().sum()"
      ]
    },
    {
      "cell_type": "code",
      "execution_count": 5,
      "metadata": {
        "id": "92jIwlQInMbW",
        "outputId": "6147682b-e341-4c7e-d7d0-3b8d1e904109",
        "colab": {
          "base_uri": "https://localhost:8080/"
        }
      },
      "outputs": [
        {
          "output_type": "execute_result",
          "data": {
            "text/plain": [
              "94                                          chilllll out\n",
              "102                                                  uzi\n",
              "320                                   sit back and chill\n",
              "329                                    el espanish trap.\n",
              "339                     roasty toasty in the holy ghosty\n",
              "353                                   Always thinking...\n",
              "354            What I listen to crusing on my motorcycle\n",
              "370                                       merry chrysler\n",
              "475                                                  sad\n",
              "491                           A little bit of everything\n",
              "522    Intense, high testosterone, ground-breaking, f...\n",
              "526                                Buenos Días Muchachos\n",
              "548                                       Bumblebee Tuna\n",
              "626                               closeted hypochondriac\n",
              "741    I listen to this at the moment. Try a couple s...\n",
              "767                              Just a big mix of music\n",
              "778                 but actually electric, teenage songs\n",
              "818                             The best from the movies\n",
              "871                 songs that make me want to be better\n",
              "925               &lt;Insert catchy description here&gt;\n",
              "Name: description, dtype: object"
            ]
          },
          "metadata": {},
          "execution_count": 5
        }
      ],
      "source": [
        "playlists[\"description\"][~playlists[\"description\"].isna()]"
      ]
    },
    {
      "cell_type": "code",
      "execution_count": 6,
      "metadata": {
        "id": "q_a1XNgPnMbW"
      },
      "outputs": [],
      "source": [
        "def expandir_tracks(playli):\n",
        "    expanded_tracks_df = pd.DataFrame()\n",
        "\n",
        "    # Iterar sobre cada fila y expandir los datos JSON en un dataframe\n",
        "    for _, row in playli.iterrows():\n",
        "        # Cargar el JSON desde la columna 'tracks'\n",
        "        tracks = row['tracks']\n",
        "\n",
        "        # Comprobar si 'tracks' es una cadena que necesita ser convertida de JSON\n",
        "        if isinstance(tracks, str):\n",
        "            try:\n",
        "                tracks = json.loads(tracks)  # Cargar la cadena JSON\n",
        "            except json.JSONDecodeError:\n",
        "                tracks = []  # En caso de error, usar una lista vacía\n",
        "        elif not isinstance(tracks, list):\n",
        "            tracks = []  # Asegurar que tracks sea una lista si no es una cadena\n",
        "\n",
        "        if tracks:\n",
        "            track_data = json_normalize(tracks)\n",
        "            track_data['pid'] = row['pid']  # añadimos el id de la playlist para mantener la referencia\n",
        "            expanded_tracks_df = pd.concat([expanded_tracks_df, track_data], ignore_index=True)\n",
        "    return expanded_tracks_df"
      ]
    },
    {
      "cell_type": "code",
      "execution_count": 7,
      "metadata": {
        "id": "RYGjcAN8nMbW"
      },
      "outputs": [],
      "source": [
        "expanded_tracks_df = expandir_tracks(playlists)"
      ]
    },
    {
      "cell_type": "code",
      "execution_count": 8,
      "metadata": {
        "colab": {
          "base_uri": "https://localhost:8080/",
          "height": 244
        },
        "id": "M7SVUSr5nMbY",
        "outputId": "48edef09-35ed-4d29-c523-40df9da8c986"
      },
      "outputs": [
        {
          "output_type": "execute_result",
          "data": {
            "text/plain": [
              "               name collaborative  pid  modified_at  num_tracks  num_albums  \\\n",
              "0        Throwbacks         false    0   1493424000          52          47   \n",
              "1  Awesome Playlist         false    1   1506556800          39          23   \n",
              "2           korean          false    2   1505692800          64          51   \n",
              "3               mat         false    3   1501027200         126         107   \n",
              "4               90s         false    4   1401667200          17          16   \n",
              "\n",
              "   num_followers  num_edits  duration_ms  num_artists description  \n",
              "0              1          6     11532414           37         NaN  \n",
              "1              1          5     11656470           21         NaN  \n",
              "2              1         18     14039958           31         NaN  \n",
              "3              1          4     28926058           86         NaN  \n",
              "4              2          7      4335282           16         NaN  "
            ],
            "text/html": [
              "\n",
              "  <div id=\"df-586c12a0-95eb-42de-8619-12b0cfbf8ac2\" class=\"colab-df-container\">\n",
              "    <div>\n",
              "<style scoped>\n",
              "    .dataframe tbody tr th:only-of-type {\n",
              "        vertical-align: middle;\n",
              "    }\n",
              "\n",
              "    .dataframe tbody tr th {\n",
              "        vertical-align: top;\n",
              "    }\n",
              "\n",
              "    .dataframe thead th {\n",
              "        text-align: right;\n",
              "    }\n",
              "</style>\n",
              "<table border=\"1\" class=\"dataframe\">\n",
              "  <thead>\n",
              "    <tr style=\"text-align: right;\">\n",
              "      <th></th>\n",
              "      <th>name</th>\n",
              "      <th>collaborative</th>\n",
              "      <th>pid</th>\n",
              "      <th>modified_at</th>\n",
              "      <th>num_tracks</th>\n",
              "      <th>num_albums</th>\n",
              "      <th>num_followers</th>\n",
              "      <th>num_edits</th>\n",
              "      <th>duration_ms</th>\n",
              "      <th>num_artists</th>\n",
              "      <th>description</th>\n",
              "    </tr>\n",
              "  </thead>\n",
              "  <tbody>\n",
              "    <tr>\n",
              "      <th>0</th>\n",
              "      <td>Throwbacks</td>\n",
              "      <td>false</td>\n",
              "      <td>0</td>\n",
              "      <td>1493424000</td>\n",
              "      <td>52</td>\n",
              "      <td>47</td>\n",
              "      <td>1</td>\n",
              "      <td>6</td>\n",
              "      <td>11532414</td>\n",
              "      <td>37</td>\n",
              "      <td>NaN</td>\n",
              "    </tr>\n",
              "    <tr>\n",
              "      <th>1</th>\n",
              "      <td>Awesome Playlist</td>\n",
              "      <td>false</td>\n",
              "      <td>1</td>\n",
              "      <td>1506556800</td>\n",
              "      <td>39</td>\n",
              "      <td>23</td>\n",
              "      <td>1</td>\n",
              "      <td>5</td>\n",
              "      <td>11656470</td>\n",
              "      <td>21</td>\n",
              "      <td>NaN</td>\n",
              "    </tr>\n",
              "    <tr>\n",
              "      <th>2</th>\n",
              "      <td>korean</td>\n",
              "      <td>false</td>\n",
              "      <td>2</td>\n",
              "      <td>1505692800</td>\n",
              "      <td>64</td>\n",
              "      <td>51</td>\n",
              "      <td>1</td>\n",
              "      <td>18</td>\n",
              "      <td>14039958</td>\n",
              "      <td>31</td>\n",
              "      <td>NaN</td>\n",
              "    </tr>\n",
              "    <tr>\n",
              "      <th>3</th>\n",
              "      <td>mat</td>\n",
              "      <td>false</td>\n",
              "      <td>3</td>\n",
              "      <td>1501027200</td>\n",
              "      <td>126</td>\n",
              "      <td>107</td>\n",
              "      <td>1</td>\n",
              "      <td>4</td>\n",
              "      <td>28926058</td>\n",
              "      <td>86</td>\n",
              "      <td>NaN</td>\n",
              "    </tr>\n",
              "    <tr>\n",
              "      <th>4</th>\n",
              "      <td>90s</td>\n",
              "      <td>false</td>\n",
              "      <td>4</td>\n",
              "      <td>1401667200</td>\n",
              "      <td>17</td>\n",
              "      <td>16</td>\n",
              "      <td>2</td>\n",
              "      <td>7</td>\n",
              "      <td>4335282</td>\n",
              "      <td>16</td>\n",
              "      <td>NaN</td>\n",
              "    </tr>\n",
              "  </tbody>\n",
              "</table>\n",
              "</div>\n",
              "    <div class=\"colab-df-buttons\">\n",
              "\n",
              "  <div class=\"colab-df-container\">\n",
              "    <button class=\"colab-df-convert\" onclick=\"convertToInteractive('df-586c12a0-95eb-42de-8619-12b0cfbf8ac2')\"\n",
              "            title=\"Convert this dataframe to an interactive table.\"\n",
              "            style=\"display:none;\">\n",
              "\n",
              "  <svg xmlns=\"http://www.w3.org/2000/svg\" height=\"24px\" viewBox=\"0 -960 960 960\">\n",
              "    <path d=\"M120-120v-720h720v720H120Zm60-500h600v-160H180v160Zm220 220h160v-160H400v160Zm0 220h160v-160H400v160ZM180-400h160v-160H180v160Zm440 0h160v-160H620v160ZM180-180h160v-160H180v160Zm440 0h160v-160H620v160Z\"/>\n",
              "  </svg>\n",
              "    </button>\n",
              "\n",
              "  <style>\n",
              "    .colab-df-container {\n",
              "      display:flex;\n",
              "      gap: 12px;\n",
              "    }\n",
              "\n",
              "    .colab-df-convert {\n",
              "      background-color: #E8F0FE;\n",
              "      border: none;\n",
              "      border-radius: 50%;\n",
              "      cursor: pointer;\n",
              "      display: none;\n",
              "      fill: #1967D2;\n",
              "      height: 32px;\n",
              "      padding: 0 0 0 0;\n",
              "      width: 32px;\n",
              "    }\n",
              "\n",
              "    .colab-df-convert:hover {\n",
              "      background-color: #E2EBFA;\n",
              "      box-shadow: 0px 1px 2px rgba(60, 64, 67, 0.3), 0px 1px 3px 1px rgba(60, 64, 67, 0.15);\n",
              "      fill: #174EA6;\n",
              "    }\n",
              "\n",
              "    .colab-df-buttons div {\n",
              "      margin-bottom: 4px;\n",
              "    }\n",
              "\n",
              "    [theme=dark] .colab-df-convert {\n",
              "      background-color: #3B4455;\n",
              "      fill: #D2E3FC;\n",
              "    }\n",
              "\n",
              "    [theme=dark] .colab-df-convert:hover {\n",
              "      background-color: #434B5C;\n",
              "      box-shadow: 0px 1px 3px 1px rgba(0, 0, 0, 0.15);\n",
              "      filter: drop-shadow(0px 1px 2px rgba(0, 0, 0, 0.3));\n",
              "      fill: #FFFFFF;\n",
              "    }\n",
              "  </style>\n",
              "\n",
              "    <script>\n",
              "      const buttonEl =\n",
              "        document.querySelector('#df-586c12a0-95eb-42de-8619-12b0cfbf8ac2 button.colab-df-convert');\n",
              "      buttonEl.style.display =\n",
              "        google.colab.kernel.accessAllowed ? 'block' : 'none';\n",
              "\n",
              "      async function convertToInteractive(key) {\n",
              "        const element = document.querySelector('#df-586c12a0-95eb-42de-8619-12b0cfbf8ac2');\n",
              "        const dataTable =\n",
              "          await google.colab.kernel.invokeFunction('convertToInteractive',\n",
              "                                                    [key], {});\n",
              "        if (!dataTable) return;\n",
              "\n",
              "        const docLinkHtml = 'Like what you see? Visit the ' +\n",
              "          '<a target=\"_blank\" href=https://colab.research.google.com/notebooks/data_table.ipynb>data table notebook</a>'\n",
              "          + ' to learn more about interactive tables.';\n",
              "        element.innerHTML = '';\n",
              "        dataTable['output_type'] = 'display_data';\n",
              "        await google.colab.output.renderOutput(dataTable, element);\n",
              "        const docLink = document.createElement('div');\n",
              "        docLink.innerHTML = docLinkHtml;\n",
              "        element.appendChild(docLink);\n",
              "      }\n",
              "    </script>\n",
              "  </div>\n",
              "\n",
              "\n",
              "<div id=\"df-b50655fb-c534-474e-ae61-3f69153996bd\">\n",
              "  <button class=\"colab-df-quickchart\" onclick=\"quickchart('df-b50655fb-c534-474e-ae61-3f69153996bd')\"\n",
              "            title=\"Suggest charts\"\n",
              "            style=\"display:none;\">\n",
              "\n",
              "<svg xmlns=\"http://www.w3.org/2000/svg\" height=\"24px\"viewBox=\"0 0 24 24\"\n",
              "     width=\"24px\">\n",
              "    <g>\n",
              "        <path d=\"M19 3H5c-1.1 0-2 .9-2 2v14c0 1.1.9 2 2 2h14c1.1 0 2-.9 2-2V5c0-1.1-.9-2-2-2zM9 17H7v-7h2v7zm4 0h-2V7h2v10zm4 0h-2v-4h2v4z\"/>\n",
              "    </g>\n",
              "</svg>\n",
              "  </button>\n",
              "\n",
              "<style>\n",
              "  .colab-df-quickchart {\n",
              "      --bg-color: #E8F0FE;\n",
              "      --fill-color: #1967D2;\n",
              "      --hover-bg-color: #E2EBFA;\n",
              "      --hover-fill-color: #174EA6;\n",
              "      --disabled-fill-color: #AAA;\n",
              "      --disabled-bg-color: #DDD;\n",
              "  }\n",
              "\n",
              "  [theme=dark] .colab-df-quickchart {\n",
              "      --bg-color: #3B4455;\n",
              "      --fill-color: #D2E3FC;\n",
              "      --hover-bg-color: #434B5C;\n",
              "      --hover-fill-color: #FFFFFF;\n",
              "      --disabled-bg-color: #3B4455;\n",
              "      --disabled-fill-color: #666;\n",
              "  }\n",
              "\n",
              "  .colab-df-quickchart {\n",
              "    background-color: var(--bg-color);\n",
              "    border: none;\n",
              "    border-radius: 50%;\n",
              "    cursor: pointer;\n",
              "    display: none;\n",
              "    fill: var(--fill-color);\n",
              "    height: 32px;\n",
              "    padding: 0;\n",
              "    width: 32px;\n",
              "  }\n",
              "\n",
              "  .colab-df-quickchart:hover {\n",
              "    background-color: var(--hover-bg-color);\n",
              "    box-shadow: 0 1px 2px rgba(60, 64, 67, 0.3), 0 1px 3px 1px rgba(60, 64, 67, 0.15);\n",
              "    fill: var(--button-hover-fill-color);\n",
              "  }\n",
              "\n",
              "  .colab-df-quickchart-complete:disabled,\n",
              "  .colab-df-quickchart-complete:disabled:hover {\n",
              "    background-color: var(--disabled-bg-color);\n",
              "    fill: var(--disabled-fill-color);\n",
              "    box-shadow: none;\n",
              "  }\n",
              "\n",
              "  .colab-df-spinner {\n",
              "    border: 2px solid var(--fill-color);\n",
              "    border-color: transparent;\n",
              "    border-bottom-color: var(--fill-color);\n",
              "    animation:\n",
              "      spin 1s steps(1) infinite;\n",
              "  }\n",
              "\n",
              "  @keyframes spin {\n",
              "    0% {\n",
              "      border-color: transparent;\n",
              "      border-bottom-color: var(--fill-color);\n",
              "      border-left-color: var(--fill-color);\n",
              "    }\n",
              "    20% {\n",
              "      border-color: transparent;\n",
              "      border-left-color: var(--fill-color);\n",
              "      border-top-color: var(--fill-color);\n",
              "    }\n",
              "    30% {\n",
              "      border-color: transparent;\n",
              "      border-left-color: var(--fill-color);\n",
              "      border-top-color: var(--fill-color);\n",
              "      border-right-color: var(--fill-color);\n",
              "    }\n",
              "    40% {\n",
              "      border-color: transparent;\n",
              "      border-right-color: var(--fill-color);\n",
              "      border-top-color: var(--fill-color);\n",
              "    }\n",
              "    60% {\n",
              "      border-color: transparent;\n",
              "      border-right-color: var(--fill-color);\n",
              "    }\n",
              "    80% {\n",
              "      border-color: transparent;\n",
              "      border-right-color: var(--fill-color);\n",
              "      border-bottom-color: var(--fill-color);\n",
              "    }\n",
              "    90% {\n",
              "      border-color: transparent;\n",
              "      border-bottom-color: var(--fill-color);\n",
              "    }\n",
              "  }\n",
              "</style>\n",
              "\n",
              "  <script>\n",
              "    async function quickchart(key) {\n",
              "      const quickchartButtonEl =\n",
              "        document.querySelector('#' + key + ' button');\n",
              "      quickchartButtonEl.disabled = true;  // To prevent multiple clicks.\n",
              "      quickchartButtonEl.classList.add('colab-df-spinner');\n",
              "      try {\n",
              "        const charts = await google.colab.kernel.invokeFunction(\n",
              "            'suggestCharts', [key], {});\n",
              "      } catch (error) {\n",
              "        console.error('Error during call to suggestCharts:', error);\n",
              "      }\n",
              "      quickchartButtonEl.classList.remove('colab-df-spinner');\n",
              "      quickchartButtonEl.classList.add('colab-df-quickchart-complete');\n",
              "    }\n",
              "    (() => {\n",
              "      let quickchartButtonEl =\n",
              "        document.querySelector('#df-b50655fb-c534-474e-ae61-3f69153996bd button');\n",
              "      quickchartButtonEl.style.display =\n",
              "        google.colab.kernel.accessAllowed ? 'block' : 'none';\n",
              "    })();\n",
              "  </script>\n",
              "</div>\n",
              "\n",
              "    </div>\n",
              "  </div>\n"
            ],
            "application/vnd.google.colaboratory.intrinsic+json": {
              "type": "dataframe",
              "variable_name": "playlists",
              "summary": "{\n  \"name\": \"playlists\",\n  \"rows\": 1000,\n  \"fields\": [\n    {\n      \"column\": \"name\",\n      \"properties\": {\n        \"dtype\": \"string\",\n        \"num_unique_values\": 869,\n        \"samples\": [\n          \"Roadtrip\",\n          \"art class\",\n          \"New School\"\n        ],\n        \"semantic_type\": \"\",\n        \"description\": \"\"\n      }\n    },\n    {\n      \"column\": \"collaborative\",\n      \"properties\": {\n        \"dtype\": \"category\",\n        \"num_unique_values\": 2,\n        \"samples\": [\n          \"true\",\n          \"false\"\n        ],\n        \"semantic_type\": \"\",\n        \"description\": \"\"\n      }\n    },\n    {\n      \"column\": \"pid\",\n      \"properties\": {\n        \"dtype\": \"number\",\n        \"std\": 288,\n        \"min\": 0,\n        \"max\": 999,\n        \"num_unique_values\": 1000,\n        \"samples\": [\n          521,\n          737\n        ],\n        \"semantic_type\": \"\",\n        \"description\": \"\"\n      }\n    },\n    {\n      \"column\": \"modified_at\",\n      \"properties\": {\n        \"dtype\": \"number\",\n        \"std\": 37195673,\n        \"min\": 1322611200,\n        \"max\": 1509494400,\n        \"num_unique_values\": 567,\n        \"samples\": [\n          1478131200,\n          1422057600\n        ],\n        \"semantic_type\": \"\",\n        \"description\": \"\"\n      }\n    },\n    {\n      \"column\": \"num_tracks\",\n      \"properties\": {\n        \"dtype\": \"number\",\n        \"std\": 55,\n        \"min\": 5,\n        \"max\": 245,\n        \"num_unique_values\": 205,\n        \"samples\": [\n          7,\n          21\n        ],\n        \"semantic_type\": \"\",\n        \"description\": \"\"\n      }\n    },\n    {\n      \"column\": \"num_albums\",\n      \"properties\": {\n        \"dtype\": \"number\",\n        \"std\": 41,\n        \"min\": 2,\n        \"max\": 225,\n        \"num_unique_values\": 165,\n        \"samples\": [\n          176,\n          127\n        ],\n        \"semantic_type\": \"\",\n        \"description\": \"\"\n      }\n    },\n    {\n      \"column\": \"num_followers\",\n      \"properties\": {\n        \"dtype\": \"number\",\n        \"std\": 32,\n        \"min\": 1,\n        \"max\": 1038,\n        \"num_unique_values\": 17,\n        \"samples\": [\n          1,\n          2\n        ],\n        \"semantic_type\": \"\",\n        \"description\": \"\"\n      }\n    },\n    {\n      \"column\": \"num_edits\",\n      \"properties\": {\n        \"dtype\": \"number\",\n        \"std\": 20,\n        \"min\": 2,\n        \"max\": 178,\n        \"num_unique_values\": 91,\n        \"samples\": [\n          31,\n          14\n        ],\n        \"semantic_type\": \"\",\n        \"description\": \"\"\n      }\n    },\n    {\n      \"column\": \"duration_ms\",\n      \"properties\": {\n        \"dtype\": \"number\",\n        \"std\": 12905746,\n        \"min\": 1002971,\n        \"max\": 57817131,\n        \"num_unique_values\": 1000,\n        \"samples\": [\n          27364349,\n          7650968\n        ],\n        \"semantic_type\": \"\",\n        \"description\": \"\"\n      }\n    },\n    {\n      \"column\": \"num_artists\",\n      \"properties\": {\n        \"dtype\": \"number\",\n        \"std\": 31,\n        \"min\": 3,\n        \"max\": 175,\n        \"num_unique_values\": 130,\n        \"samples\": [\n          67,\n          27\n        ],\n        \"semantic_type\": \"\",\n        \"description\": \"\"\n      }\n    },\n    {\n      \"column\": \"description\",\n      \"properties\": {\n        \"dtype\": \"category\",\n        \"num_unique_values\": 20,\n        \"samples\": [\n          \"chilllll out\",\n          \"The best from the movies\"\n        ],\n        \"semantic_type\": \"\",\n        \"description\": \"\"\n      }\n    }\n  ]\n}"
            }
          },
          "metadata": {},
          "execution_count": 8
        }
      ],
      "source": [
        "playlists.drop(\"tracks\", axis=1, inplace=True)\n",
        "playlists.head()"
      ]
    },
    {
      "cell_type": "code",
      "execution_count": 9,
      "metadata": {
        "id": "mwkNtP8xnMba"
      },
      "outputs": [],
      "source": [
        "by_playlist = expanded_tracks_df.groupby('pid').agg(\n",
        "    num_songs=('track_name', 'count'),  # Contamos el número de canciones por playlist\n",
        "    avg_duration=('duration_ms', 'mean'),  # Calculamos la duración media de las canciones\n",
        "    artists=('artist_name', lambda x: set(x)),  # Obtenemos un conjunto de artistas únicos\n",
        "    songs =('track_uri', lambda x: set(x)),  # Obtenemos un conjunto de caciones únicas\n",
        "    albums =('album_name', lambda x: set(x))  # Obtenemos un conjunto de albumes únicos\n",
        ")\n",
        "\n",
        "by_playlist['avg_duration'] = by_playlist['avg_duration'] / 60000 # Convertimos la duración de milisegundos a minutos\n",
        "# by_playlist.head()"
      ]
    },
    {
      "cell_type": "code",
      "execution_count": 10,
      "metadata": {
        "id": "a_ronUICnMbb"
      },
      "outputs": [],
      "source": [
        "playlist_per_song = expanded_tracks_df.groupby('track_uri')['pid'].agg(list).reset_index()\n",
        "# playlist_per_song.head()"
      ]
    },
    {
      "cell_type": "markdown",
      "metadata": {
        "id": "wV_UKWp3nMbb"
      },
      "source": [
        "- Pasamos los URL a un id de cancion"
      ]
    },
    {
      "cell_type": "code",
      "execution_count": 11,
      "metadata": {
        "colab": {
          "base_uri": "https://localhost:8080/",
          "height": 206
        },
        "id": "sYMGf4G0nMbb",
        "outputId": "b1ec1b4f-acbe-45ef-c354-27481ae3551b"
      },
      "outputs": [
        {
          "output_type": "execute_result",
          "data": {
            "text/plain": [
              "                              track_uri         pid  track_id\n",
              "0  spotify:track:000mA0etY38nKdvf1N04af       [371]         1\n",
              "1  spotify:track:000xQL6tZNLJzIrtIgxqSl  [182, 813]         2\n",
              "2  spotify:track:006AVH7fq061voGXkUiII4       [999]         3\n",
              "3  spotify:track:006PJvsr6CyV3JdBf7wiNF       [743]         4\n",
              "4  spotify:track:006yrnQMCZpiUgkR612gC8       [227]         5"
            ],
            "text/html": [
              "\n",
              "  <div id=\"df-e4485117-2313-42db-8867-0084fdf41488\" class=\"colab-df-container\">\n",
              "    <div>\n",
              "<style scoped>\n",
              "    .dataframe tbody tr th:only-of-type {\n",
              "        vertical-align: middle;\n",
              "    }\n",
              "\n",
              "    .dataframe tbody tr th {\n",
              "        vertical-align: top;\n",
              "    }\n",
              "\n",
              "    .dataframe thead th {\n",
              "        text-align: right;\n",
              "    }\n",
              "</style>\n",
              "<table border=\"1\" class=\"dataframe\">\n",
              "  <thead>\n",
              "    <tr style=\"text-align: right;\">\n",
              "      <th></th>\n",
              "      <th>track_uri</th>\n",
              "      <th>pid</th>\n",
              "      <th>track_id</th>\n",
              "    </tr>\n",
              "  </thead>\n",
              "  <tbody>\n",
              "    <tr>\n",
              "      <th>0</th>\n",
              "      <td>spotify:track:000mA0etY38nKdvf1N04af</td>\n",
              "      <td>[371]</td>\n",
              "      <td>1</td>\n",
              "    </tr>\n",
              "    <tr>\n",
              "      <th>1</th>\n",
              "      <td>spotify:track:000xQL6tZNLJzIrtIgxqSl</td>\n",
              "      <td>[182, 813]</td>\n",
              "      <td>2</td>\n",
              "    </tr>\n",
              "    <tr>\n",
              "      <th>2</th>\n",
              "      <td>spotify:track:006AVH7fq061voGXkUiII4</td>\n",
              "      <td>[999]</td>\n",
              "      <td>3</td>\n",
              "    </tr>\n",
              "    <tr>\n",
              "      <th>3</th>\n",
              "      <td>spotify:track:006PJvsr6CyV3JdBf7wiNF</td>\n",
              "      <td>[743]</td>\n",
              "      <td>4</td>\n",
              "    </tr>\n",
              "    <tr>\n",
              "      <th>4</th>\n",
              "      <td>spotify:track:006yrnQMCZpiUgkR612gC8</td>\n",
              "      <td>[227]</td>\n",
              "      <td>5</td>\n",
              "    </tr>\n",
              "  </tbody>\n",
              "</table>\n",
              "</div>\n",
              "    <div class=\"colab-df-buttons\">\n",
              "\n",
              "  <div class=\"colab-df-container\">\n",
              "    <button class=\"colab-df-convert\" onclick=\"convertToInteractive('df-e4485117-2313-42db-8867-0084fdf41488')\"\n",
              "            title=\"Convert this dataframe to an interactive table.\"\n",
              "            style=\"display:none;\">\n",
              "\n",
              "  <svg xmlns=\"http://www.w3.org/2000/svg\" height=\"24px\" viewBox=\"0 -960 960 960\">\n",
              "    <path d=\"M120-120v-720h720v720H120Zm60-500h600v-160H180v160Zm220 220h160v-160H400v160Zm0 220h160v-160H400v160ZM180-400h160v-160H180v160Zm440 0h160v-160H620v160ZM180-180h160v-160H180v160Zm440 0h160v-160H620v160Z\"/>\n",
              "  </svg>\n",
              "    </button>\n",
              "\n",
              "  <style>\n",
              "    .colab-df-container {\n",
              "      display:flex;\n",
              "      gap: 12px;\n",
              "    }\n",
              "\n",
              "    .colab-df-convert {\n",
              "      background-color: #E8F0FE;\n",
              "      border: none;\n",
              "      border-radius: 50%;\n",
              "      cursor: pointer;\n",
              "      display: none;\n",
              "      fill: #1967D2;\n",
              "      height: 32px;\n",
              "      padding: 0 0 0 0;\n",
              "      width: 32px;\n",
              "    }\n",
              "\n",
              "    .colab-df-convert:hover {\n",
              "      background-color: #E2EBFA;\n",
              "      box-shadow: 0px 1px 2px rgba(60, 64, 67, 0.3), 0px 1px 3px 1px rgba(60, 64, 67, 0.15);\n",
              "      fill: #174EA6;\n",
              "    }\n",
              "\n",
              "    .colab-df-buttons div {\n",
              "      margin-bottom: 4px;\n",
              "    }\n",
              "\n",
              "    [theme=dark] .colab-df-convert {\n",
              "      background-color: #3B4455;\n",
              "      fill: #D2E3FC;\n",
              "    }\n",
              "\n",
              "    [theme=dark] .colab-df-convert:hover {\n",
              "      background-color: #434B5C;\n",
              "      box-shadow: 0px 1px 3px 1px rgba(0, 0, 0, 0.15);\n",
              "      filter: drop-shadow(0px 1px 2px rgba(0, 0, 0, 0.3));\n",
              "      fill: #FFFFFF;\n",
              "    }\n",
              "  </style>\n",
              "\n",
              "    <script>\n",
              "      const buttonEl =\n",
              "        document.querySelector('#df-e4485117-2313-42db-8867-0084fdf41488 button.colab-df-convert');\n",
              "      buttonEl.style.display =\n",
              "        google.colab.kernel.accessAllowed ? 'block' : 'none';\n",
              "\n",
              "      async function convertToInteractive(key) {\n",
              "        const element = document.querySelector('#df-e4485117-2313-42db-8867-0084fdf41488');\n",
              "        const dataTable =\n",
              "          await google.colab.kernel.invokeFunction('convertToInteractive',\n",
              "                                                    [key], {});\n",
              "        if (!dataTable) return;\n",
              "\n",
              "        const docLinkHtml = 'Like what you see? Visit the ' +\n",
              "          '<a target=\"_blank\" href=https://colab.research.google.com/notebooks/data_table.ipynb>data table notebook</a>'\n",
              "          + ' to learn more about interactive tables.';\n",
              "        element.innerHTML = '';\n",
              "        dataTable['output_type'] = 'display_data';\n",
              "        await google.colab.output.renderOutput(dataTable, element);\n",
              "        const docLink = document.createElement('div');\n",
              "        docLink.innerHTML = docLinkHtml;\n",
              "        element.appendChild(docLink);\n",
              "      }\n",
              "    </script>\n",
              "  </div>\n",
              "\n",
              "\n",
              "<div id=\"df-b313a15a-bcaf-4523-9b1c-8f12e09f8b20\">\n",
              "  <button class=\"colab-df-quickchart\" onclick=\"quickchart('df-b313a15a-bcaf-4523-9b1c-8f12e09f8b20')\"\n",
              "            title=\"Suggest charts\"\n",
              "            style=\"display:none;\">\n",
              "\n",
              "<svg xmlns=\"http://www.w3.org/2000/svg\" height=\"24px\"viewBox=\"0 0 24 24\"\n",
              "     width=\"24px\">\n",
              "    <g>\n",
              "        <path d=\"M19 3H5c-1.1 0-2 .9-2 2v14c0 1.1.9 2 2 2h14c1.1 0 2-.9 2-2V5c0-1.1-.9-2-2-2zM9 17H7v-7h2v7zm4 0h-2V7h2v10zm4 0h-2v-4h2v4z\"/>\n",
              "    </g>\n",
              "</svg>\n",
              "  </button>\n",
              "\n",
              "<style>\n",
              "  .colab-df-quickchart {\n",
              "      --bg-color: #E8F0FE;\n",
              "      --fill-color: #1967D2;\n",
              "      --hover-bg-color: #E2EBFA;\n",
              "      --hover-fill-color: #174EA6;\n",
              "      --disabled-fill-color: #AAA;\n",
              "      --disabled-bg-color: #DDD;\n",
              "  }\n",
              "\n",
              "  [theme=dark] .colab-df-quickchart {\n",
              "      --bg-color: #3B4455;\n",
              "      --fill-color: #D2E3FC;\n",
              "      --hover-bg-color: #434B5C;\n",
              "      --hover-fill-color: #FFFFFF;\n",
              "      --disabled-bg-color: #3B4455;\n",
              "      --disabled-fill-color: #666;\n",
              "  }\n",
              "\n",
              "  .colab-df-quickchart {\n",
              "    background-color: var(--bg-color);\n",
              "    border: none;\n",
              "    border-radius: 50%;\n",
              "    cursor: pointer;\n",
              "    display: none;\n",
              "    fill: var(--fill-color);\n",
              "    height: 32px;\n",
              "    padding: 0;\n",
              "    width: 32px;\n",
              "  }\n",
              "\n",
              "  .colab-df-quickchart:hover {\n",
              "    background-color: var(--hover-bg-color);\n",
              "    box-shadow: 0 1px 2px rgba(60, 64, 67, 0.3), 0 1px 3px 1px rgba(60, 64, 67, 0.15);\n",
              "    fill: var(--button-hover-fill-color);\n",
              "  }\n",
              "\n",
              "  .colab-df-quickchart-complete:disabled,\n",
              "  .colab-df-quickchart-complete:disabled:hover {\n",
              "    background-color: var(--disabled-bg-color);\n",
              "    fill: var(--disabled-fill-color);\n",
              "    box-shadow: none;\n",
              "  }\n",
              "\n",
              "  .colab-df-spinner {\n",
              "    border: 2px solid var(--fill-color);\n",
              "    border-color: transparent;\n",
              "    border-bottom-color: var(--fill-color);\n",
              "    animation:\n",
              "      spin 1s steps(1) infinite;\n",
              "  }\n",
              "\n",
              "  @keyframes spin {\n",
              "    0% {\n",
              "      border-color: transparent;\n",
              "      border-bottom-color: var(--fill-color);\n",
              "      border-left-color: var(--fill-color);\n",
              "    }\n",
              "    20% {\n",
              "      border-color: transparent;\n",
              "      border-left-color: var(--fill-color);\n",
              "      border-top-color: var(--fill-color);\n",
              "    }\n",
              "    30% {\n",
              "      border-color: transparent;\n",
              "      border-left-color: var(--fill-color);\n",
              "      border-top-color: var(--fill-color);\n",
              "      border-right-color: var(--fill-color);\n",
              "    }\n",
              "    40% {\n",
              "      border-color: transparent;\n",
              "      border-right-color: var(--fill-color);\n",
              "      border-top-color: var(--fill-color);\n",
              "    }\n",
              "    60% {\n",
              "      border-color: transparent;\n",
              "      border-right-color: var(--fill-color);\n",
              "    }\n",
              "    80% {\n",
              "      border-color: transparent;\n",
              "      border-right-color: var(--fill-color);\n",
              "      border-bottom-color: var(--fill-color);\n",
              "    }\n",
              "    90% {\n",
              "      border-color: transparent;\n",
              "      border-bottom-color: var(--fill-color);\n",
              "    }\n",
              "  }\n",
              "</style>\n",
              "\n",
              "  <script>\n",
              "    async function quickchart(key) {\n",
              "      const quickchartButtonEl =\n",
              "        document.querySelector('#' + key + ' button');\n",
              "      quickchartButtonEl.disabled = true;  // To prevent multiple clicks.\n",
              "      quickchartButtonEl.classList.add('colab-df-spinner');\n",
              "      try {\n",
              "        const charts = await google.colab.kernel.invokeFunction(\n",
              "            'suggestCharts', [key], {});\n",
              "      } catch (error) {\n",
              "        console.error('Error during call to suggestCharts:', error);\n",
              "      }\n",
              "      quickchartButtonEl.classList.remove('colab-df-spinner');\n",
              "      quickchartButtonEl.classList.add('colab-df-quickchart-complete');\n",
              "    }\n",
              "    (() => {\n",
              "      let quickchartButtonEl =\n",
              "        document.querySelector('#df-b313a15a-bcaf-4523-9b1c-8f12e09f8b20 button');\n",
              "      quickchartButtonEl.style.display =\n",
              "        google.colab.kernel.accessAllowed ? 'block' : 'none';\n",
              "    })();\n",
              "  </script>\n",
              "</div>\n",
              "\n",
              "    </div>\n",
              "  </div>\n"
            ],
            "application/vnd.google.colaboratory.intrinsic+json": {
              "type": "dataframe",
              "variable_name": "playlist_per_song",
              "summary": "{\n  \"name\": \"playlist_per_song\",\n  \"rows\": 34443,\n  \"fields\": [\n    {\n      \"column\": \"track_uri\",\n      \"properties\": {\n        \"dtype\": \"string\",\n        \"num_unique_values\": 34443,\n        \"samples\": [\n          \"spotify:track:4ZFhQCTVhCn3HCqFaUKM2a\",\n          \"spotify:track:5tXPbEbEouMSEbqQHO0qQa\",\n          \"spotify:track:1wAUM8F740gEZTyUiafTF3\"\n        ],\n        \"semantic_type\": \"\",\n        \"description\": \"\"\n      }\n    },\n    {\n      \"column\": \"pid\",\n      \"properties\": {\n        \"dtype\": \"object\",\n        \"semantic_type\": \"\",\n        \"description\": \"\"\n      }\n    },\n    {\n      \"column\": \"track_id\",\n      \"properties\": {\n        \"dtype\": \"number\",\n        \"std\": 9942,\n        \"min\": 1,\n        \"max\": 34443,\n        \"num_unique_values\": 34443,\n        \"samples\": [\n          20052,\n          25911,\n          8511\n        ],\n        \"semantic_type\": \"\",\n        \"description\": \"\"\n      }\n    }\n  ]\n}"
            }
          },
          "metadata": {},
          "execution_count": 11
        }
      ],
      "source": [
        "url_id = {}\n",
        "n = 1\n",
        "\n",
        "def key_exists(key, dictionary):\n",
        "    try:\n",
        "        value = dictionary[key]\n",
        "        return True\n",
        "    except KeyError:\n",
        "        return False\n",
        "\n",
        "def get_id(x, n):\n",
        "    if not key_exists(x, url_id):\n",
        "        url_id[x] = n\n",
        "        n += 1\n",
        "    return url_id[x], n\n",
        "\n",
        "values = []\n",
        "\n",
        "for val in playlist_per_song[\"track_uri\"]:\n",
        "    valu, n = get_id(val, n)\n",
        "    values.append(valu)\n",
        "\n",
        "playlist_per_song[\"track_id\"] = values\n",
        "playlist_per_song.head()"
      ]
    },
    {
      "cell_type": "code",
      "execution_count": 12,
      "metadata": {
        "id": "oFP-Jwn2nMbb"
      },
      "outputs": [],
      "source": [
        "expanded_tracks_df[\"track_id\"] = expanded_tracks_df[\"track_uri\"].apply(lambda x: url_id[x])"
      ]
    },
    {
      "cell_type": "code",
      "execution_count": 13,
      "metadata": {
        "id": "m3vwwUXYnMbc"
      },
      "outputs": [],
      "source": [
        "by_playlist[\"track_id\"] = by_playlist[\"songs\"].apply(lambda x: [url_id[val] for val in list(x)])\n",
        "# by_playlist.head()"
      ]
    },
    {
      "cell_type": "code",
      "execution_count": 14,
      "metadata": {
        "id": "ULdoQ7linMbc"
      },
      "outputs": [],
      "source": [
        "playlist_per_song['n_playlists'] = playlist_per_song['pid'].apply(lambda x: len(set(x)))"
      ]
    },
    {
      "cell_type": "code",
      "execution_count": 15,
      "metadata": {
        "colab": {
          "base_uri": "https://localhost:8080/"
        },
        "id": "ywdR1w_MnMbd",
        "outputId": "20107298-6f01-4c89-be34-e9034bd0415d"
      },
      "outputs": [
        {
          "output_type": "execute_result",
          "data": {
            "text/plain": [
              "1.9371425253317074"
            ]
          },
          "metadata": {},
          "execution_count": 15
        }
      ],
      "source": [
        "playlist_per_song[\"n_playlists\"].mean()"
      ]
    },
    {
      "cell_type": "code",
      "execution_count": 16,
      "metadata": {
        "id": "SlQJuh79nMbd",
        "outputId": "d309daa7-0d71-4bd8-9688-02e6de8faab9",
        "colab": {
          "base_uri": "https://localhost:8080/"
        }
      },
      "outputs": [
        {
          "output_type": "execute_result",
          "data": {
            "text/plain": [
              "track_uri                   spotify:track:7KXjTSCq5nL1LoYtL7XAwS\n",
              "pid            [28, 53, 65, 85, 95, 123, 124, 160, 164, 178, ...\n",
              "track_id                                                   32397\n",
              "n_playlists                                                   52\n",
              "Name: 32396, dtype: object"
            ]
          },
          "metadata": {},
          "execution_count": 16
        }
      ],
      "source": [
        "cancion_mas_reproducida = playlist_per_song[\"n_playlists\"].idxmax()\n",
        "playlist_per_song.iloc[cancion_mas_reproducida]"
      ]
    },
    {
      "cell_type": "markdown",
      "metadata": {
        "id": "mDQIuuHHnMbd"
      },
      "source": [
        "# 2. Baseline"
      ]
    },
    {
      "cell_type": "code",
      "source": [
        "!pip3 install implicit\n",
        "# clear_outputs()"
      ],
      "metadata": {
        "colab": {
          "base_uri": "https://localhost:8080/"
        },
        "id": "co2leY8dqVlV",
        "outputId": "5c5f46a3-c485-4d28-b563-1ae67f7403a7"
      },
      "execution_count": 17,
      "outputs": [
        {
          "output_type": "stream",
          "name": "stdout",
          "text": [
            "Collecting implicit\n",
            "  Downloading implicit-0.7.2-cp310-cp310-manylinux2014_x86_64.whl (8.9 MB)\n",
            "\u001b[2K     \u001b[90m━━━━━━━━━━━━━━━━━━━━━━━━━━━━━━━━━━━━━━━━\u001b[0m \u001b[32m8.9/8.9 MB\u001b[0m \u001b[31m20.2 MB/s\u001b[0m eta \u001b[36m0:00:00\u001b[0m\n",
            "\u001b[?25hRequirement already satisfied: numpy>=1.17.0 in /usr/local/lib/python3.10/dist-packages (from implicit) (1.25.2)\n",
            "Requirement already satisfied: scipy>=0.16 in /usr/local/lib/python3.10/dist-packages (from implicit) (1.11.4)\n",
            "Requirement already satisfied: tqdm>=4.27 in /usr/local/lib/python3.10/dist-packages (from implicit) (4.66.4)\n",
            "Requirement already satisfied: threadpoolctl in /usr/local/lib/python3.10/dist-packages (from implicit) (3.5.0)\n",
            "Installing collected packages: implicit\n",
            "Successfully installed implicit-0.7.2\n"
          ]
        }
      ]
    },
    {
      "cell_type": "code",
      "source": [
        "import implicit as implicit"
      ],
      "metadata": {
        "id": "1doium49WgUM"
      },
      "execution_count": 18,
      "outputs": []
    },
    {
      "cell_type": "code",
      "execution_count": 23,
      "metadata": {
        "id": "XHNNym6JnMbe"
      },
      "outputs": [],
      "source": [
        "from scipy.sparse import csr_matrix\n",
        "from implicit.als import AlternatingLeastSquares\n",
        "from implicit.bpr import BayesianPersonalizedRanking\n",
        "from implicit.evaluation import mean_average_precision_at_k, ndcg_at_k\n",
        "from scipy.sparse import csr_matrix\n",
        "from sklearn.model_selection import train_test_split\n",
        "from sklearn.metrics.pairwise import cosine_similarity"
      ]
    },
    {
      "cell_type": "code",
      "execution_count": 24,
      "metadata": {
        "id": "JMkawGLfnMbe"
      },
      "outputs": [],
      "source": [
        "#Hay playlist que tienen la misma cancion más de una vez, aca las tratamos solo una vez\n",
        "playlist_track = expanded_tracks_df[[\"pid\",\"track_id\",\"track_name\",\"duration_ms\",\"artist_name\"]].drop_duplicates()\n",
        "# playlist_track.head()"
      ]
    },
    {
      "cell_type": "markdown",
      "metadata": {
        "id": "e3Z9IC_WnMbp"
      },
      "source": [
        "- Separamos en data de validación y data de entrenamiento"
      ]
    },
    {
      "cell_type": "code",
      "source": [
        "# Acá separamos en las playlists con un número de canciones mayor a NUM_CANCIONES\n",
        "# Luego nos quedamos solo con las playlist con un número mayor para hacer el entrenamiento y el testeo\n",
        "NUM_CANCIONES = 10\n",
        "song_per_playlist = playlist_track.groupby('pid')['track_id'].agg(list).reset_index()\n",
        "song_per_playlist['n_songs'] = song_per_playlist['track_id'].apply(len)\n",
        "pid_less = song_per_playlist[song_per_playlist['n_songs'] < NUM_CANCIONES]['pid'].unique()\n",
        "pid_more = song_per_playlist[song_per_playlist['n_songs'] >= NUM_CANCIONES]['pid'].unique()\n",
        "print(len(pid_less), len(pid_more))"
      ],
      "metadata": {
        "id": "tLS4DSCkJG-8",
        "colab": {
          "base_uri": "https://localhost:8080/"
        },
        "outputId": "839621b1-28b4-4a69-bba8-0a6e78ca34f3"
      },
      "execution_count": 25,
      "outputs": [
        {
          "output_type": "stream",
          "name": "stdout",
          "text": [
            "35 965\n"
          ]
        }
      ]
    },
    {
      "cell_type": "code",
      "source": [
        "# Acá hacemos una separación de las playlists que le vamos a entregar la información completa,\n",
        "# y las que le vamos a entregar solo las primeras n\n",
        "\n",
        "train_pid, test_pid = train_test_split(pid_more, test_size=0.2, random_state=42)\n",
        "print(len(train_pid), len(test_pid))"
      ],
      "metadata": {
        "colab": {
          "base_uri": "https://localhost:8080/"
        },
        "id": "MEkh2srUJ_X1",
        "outputId": "e67d4752-a526-4f01-984c-953da4bfd588"
      },
      "execution_count": 26,
      "outputs": [
        {
          "output_type": "stream",
          "name": "stdout",
          "text": [
            "772 193\n"
          ]
        }
      ]
    },
    {
      "cell_type": "code",
      "source": [
        "song_per_playlist.drop(\"n_songs\", axis=1, inplace=True)\n",
        "song_per_playlist.head(3)"
      ],
      "metadata": {
        "colab": {
          "base_uri": "https://localhost:8080/",
          "height": 143
        },
        "id": "hYV93p30OcXu",
        "outputId": "540eb996-2e77-4522-a9c0-1c891aa09e03"
      },
      "execution_count": 27,
      "outputs": [
        {
          "output_type": "execute_result",
          "data": {
            "text/plain": [
              "   pid                                           track_id\n",
              "0    0  [2209, 27709, 2383, 5177, 7784, 2437, 27044, 1...\n",
              "1    1  [9981, 6051, 17334, 6282, 6126, 14998, 2900, 3...\n",
              "2    2  [31321, 20465, 20655, 7274, 2349, 9120, 487, 1..."
            ],
            "text/html": [
              "\n",
              "  <div id=\"df-fc79ab16-aed7-44d4-b520-222f386bac7b\" class=\"colab-df-container\">\n",
              "    <div>\n",
              "<style scoped>\n",
              "    .dataframe tbody tr th:only-of-type {\n",
              "        vertical-align: middle;\n",
              "    }\n",
              "\n",
              "    .dataframe tbody tr th {\n",
              "        vertical-align: top;\n",
              "    }\n",
              "\n",
              "    .dataframe thead th {\n",
              "        text-align: right;\n",
              "    }\n",
              "</style>\n",
              "<table border=\"1\" class=\"dataframe\">\n",
              "  <thead>\n",
              "    <tr style=\"text-align: right;\">\n",
              "      <th></th>\n",
              "      <th>pid</th>\n",
              "      <th>track_id</th>\n",
              "    </tr>\n",
              "  </thead>\n",
              "  <tbody>\n",
              "    <tr>\n",
              "      <th>0</th>\n",
              "      <td>0</td>\n",
              "      <td>[2209, 27709, 2383, 5177, 7784, 2437, 27044, 1...</td>\n",
              "    </tr>\n",
              "    <tr>\n",
              "      <th>1</th>\n",
              "      <td>1</td>\n",
              "      <td>[9981, 6051, 17334, 6282, 6126, 14998, 2900, 3...</td>\n",
              "    </tr>\n",
              "    <tr>\n",
              "      <th>2</th>\n",
              "      <td>2</td>\n",
              "      <td>[31321, 20465, 20655, 7274, 2349, 9120, 487, 1...</td>\n",
              "    </tr>\n",
              "  </tbody>\n",
              "</table>\n",
              "</div>\n",
              "    <div class=\"colab-df-buttons\">\n",
              "\n",
              "  <div class=\"colab-df-container\">\n",
              "    <button class=\"colab-df-convert\" onclick=\"convertToInteractive('df-fc79ab16-aed7-44d4-b520-222f386bac7b')\"\n",
              "            title=\"Convert this dataframe to an interactive table.\"\n",
              "            style=\"display:none;\">\n",
              "\n",
              "  <svg xmlns=\"http://www.w3.org/2000/svg\" height=\"24px\" viewBox=\"0 -960 960 960\">\n",
              "    <path d=\"M120-120v-720h720v720H120Zm60-500h600v-160H180v160Zm220 220h160v-160H400v160Zm0 220h160v-160H400v160ZM180-400h160v-160H180v160Zm440 0h160v-160H620v160ZM180-180h160v-160H180v160Zm440 0h160v-160H620v160Z\"/>\n",
              "  </svg>\n",
              "    </button>\n",
              "\n",
              "  <style>\n",
              "    .colab-df-container {\n",
              "      display:flex;\n",
              "      gap: 12px;\n",
              "    }\n",
              "\n",
              "    .colab-df-convert {\n",
              "      background-color: #E8F0FE;\n",
              "      border: none;\n",
              "      border-radius: 50%;\n",
              "      cursor: pointer;\n",
              "      display: none;\n",
              "      fill: #1967D2;\n",
              "      height: 32px;\n",
              "      padding: 0 0 0 0;\n",
              "      width: 32px;\n",
              "    }\n",
              "\n",
              "    .colab-df-convert:hover {\n",
              "      background-color: #E2EBFA;\n",
              "      box-shadow: 0px 1px 2px rgba(60, 64, 67, 0.3), 0px 1px 3px 1px rgba(60, 64, 67, 0.15);\n",
              "      fill: #174EA6;\n",
              "    }\n",
              "\n",
              "    .colab-df-buttons div {\n",
              "      margin-bottom: 4px;\n",
              "    }\n",
              "\n",
              "    [theme=dark] .colab-df-convert {\n",
              "      background-color: #3B4455;\n",
              "      fill: #D2E3FC;\n",
              "    }\n",
              "\n",
              "    [theme=dark] .colab-df-convert:hover {\n",
              "      background-color: #434B5C;\n",
              "      box-shadow: 0px 1px 3px 1px rgba(0, 0, 0, 0.15);\n",
              "      filter: drop-shadow(0px 1px 2px rgba(0, 0, 0, 0.3));\n",
              "      fill: #FFFFFF;\n",
              "    }\n",
              "  </style>\n",
              "\n",
              "    <script>\n",
              "      const buttonEl =\n",
              "        document.querySelector('#df-fc79ab16-aed7-44d4-b520-222f386bac7b button.colab-df-convert');\n",
              "      buttonEl.style.display =\n",
              "        google.colab.kernel.accessAllowed ? 'block' : 'none';\n",
              "\n",
              "      async function convertToInteractive(key) {\n",
              "        const element = document.querySelector('#df-fc79ab16-aed7-44d4-b520-222f386bac7b');\n",
              "        const dataTable =\n",
              "          await google.colab.kernel.invokeFunction('convertToInteractive',\n",
              "                                                    [key], {});\n",
              "        if (!dataTable) return;\n",
              "\n",
              "        const docLinkHtml = 'Like what you see? Visit the ' +\n",
              "          '<a target=\"_blank\" href=https://colab.research.google.com/notebooks/data_table.ipynb>data table notebook</a>'\n",
              "          + ' to learn more about interactive tables.';\n",
              "        element.innerHTML = '';\n",
              "        dataTable['output_type'] = 'display_data';\n",
              "        await google.colab.output.renderOutput(dataTable, element);\n",
              "        const docLink = document.createElement('div');\n",
              "        docLink.innerHTML = docLinkHtml;\n",
              "        element.appendChild(docLink);\n",
              "      }\n",
              "    </script>\n",
              "  </div>\n",
              "\n",
              "\n",
              "<div id=\"df-f9cbce8c-91c9-4ccb-a999-e479060a8549\">\n",
              "  <button class=\"colab-df-quickchart\" onclick=\"quickchart('df-f9cbce8c-91c9-4ccb-a999-e479060a8549')\"\n",
              "            title=\"Suggest charts\"\n",
              "            style=\"display:none;\">\n",
              "\n",
              "<svg xmlns=\"http://www.w3.org/2000/svg\" height=\"24px\"viewBox=\"0 0 24 24\"\n",
              "     width=\"24px\">\n",
              "    <g>\n",
              "        <path d=\"M19 3H5c-1.1 0-2 .9-2 2v14c0 1.1.9 2 2 2h14c1.1 0 2-.9 2-2V5c0-1.1-.9-2-2-2zM9 17H7v-7h2v7zm4 0h-2V7h2v10zm4 0h-2v-4h2v4z\"/>\n",
              "    </g>\n",
              "</svg>\n",
              "  </button>\n",
              "\n",
              "<style>\n",
              "  .colab-df-quickchart {\n",
              "      --bg-color: #E8F0FE;\n",
              "      --fill-color: #1967D2;\n",
              "      --hover-bg-color: #E2EBFA;\n",
              "      --hover-fill-color: #174EA6;\n",
              "      --disabled-fill-color: #AAA;\n",
              "      --disabled-bg-color: #DDD;\n",
              "  }\n",
              "\n",
              "  [theme=dark] .colab-df-quickchart {\n",
              "      --bg-color: #3B4455;\n",
              "      --fill-color: #D2E3FC;\n",
              "      --hover-bg-color: #434B5C;\n",
              "      --hover-fill-color: #FFFFFF;\n",
              "      --disabled-bg-color: #3B4455;\n",
              "      --disabled-fill-color: #666;\n",
              "  }\n",
              "\n",
              "  .colab-df-quickchart {\n",
              "    background-color: var(--bg-color);\n",
              "    border: none;\n",
              "    border-radius: 50%;\n",
              "    cursor: pointer;\n",
              "    display: none;\n",
              "    fill: var(--fill-color);\n",
              "    height: 32px;\n",
              "    padding: 0;\n",
              "    width: 32px;\n",
              "  }\n",
              "\n",
              "  .colab-df-quickchart:hover {\n",
              "    background-color: var(--hover-bg-color);\n",
              "    box-shadow: 0 1px 2px rgba(60, 64, 67, 0.3), 0 1px 3px 1px rgba(60, 64, 67, 0.15);\n",
              "    fill: var(--button-hover-fill-color);\n",
              "  }\n",
              "\n",
              "  .colab-df-quickchart-complete:disabled,\n",
              "  .colab-df-quickchart-complete:disabled:hover {\n",
              "    background-color: var(--disabled-bg-color);\n",
              "    fill: var(--disabled-fill-color);\n",
              "    box-shadow: none;\n",
              "  }\n",
              "\n",
              "  .colab-df-spinner {\n",
              "    border: 2px solid var(--fill-color);\n",
              "    border-color: transparent;\n",
              "    border-bottom-color: var(--fill-color);\n",
              "    animation:\n",
              "      spin 1s steps(1) infinite;\n",
              "  }\n",
              "\n",
              "  @keyframes spin {\n",
              "    0% {\n",
              "      border-color: transparent;\n",
              "      border-bottom-color: var(--fill-color);\n",
              "      border-left-color: var(--fill-color);\n",
              "    }\n",
              "    20% {\n",
              "      border-color: transparent;\n",
              "      border-left-color: var(--fill-color);\n",
              "      border-top-color: var(--fill-color);\n",
              "    }\n",
              "    30% {\n",
              "      border-color: transparent;\n",
              "      border-left-color: var(--fill-color);\n",
              "      border-top-color: var(--fill-color);\n",
              "      border-right-color: var(--fill-color);\n",
              "    }\n",
              "    40% {\n",
              "      border-color: transparent;\n",
              "      border-right-color: var(--fill-color);\n",
              "      border-top-color: var(--fill-color);\n",
              "    }\n",
              "    60% {\n",
              "      border-color: transparent;\n",
              "      border-right-color: var(--fill-color);\n",
              "    }\n",
              "    80% {\n",
              "      border-color: transparent;\n",
              "      border-right-color: var(--fill-color);\n",
              "      border-bottom-color: var(--fill-color);\n",
              "    }\n",
              "    90% {\n",
              "      border-color: transparent;\n",
              "      border-bottom-color: var(--fill-color);\n",
              "    }\n",
              "  }\n",
              "</style>\n",
              "\n",
              "  <script>\n",
              "    async function quickchart(key) {\n",
              "      const quickchartButtonEl =\n",
              "        document.querySelector('#' + key + ' button');\n",
              "      quickchartButtonEl.disabled = true;  // To prevent multiple clicks.\n",
              "      quickchartButtonEl.classList.add('colab-df-spinner');\n",
              "      try {\n",
              "        const charts = await google.colab.kernel.invokeFunction(\n",
              "            'suggestCharts', [key], {});\n",
              "      } catch (error) {\n",
              "        console.error('Error during call to suggestCharts:', error);\n",
              "      }\n",
              "      quickchartButtonEl.classList.remove('colab-df-spinner');\n",
              "      quickchartButtonEl.classList.add('colab-df-quickchart-complete');\n",
              "    }\n",
              "    (() => {\n",
              "      let quickchartButtonEl =\n",
              "        document.querySelector('#df-f9cbce8c-91c9-4ccb-a999-e479060a8549 button');\n",
              "      quickchartButtonEl.style.display =\n",
              "        google.colab.kernel.accessAllowed ? 'block' : 'none';\n",
              "    })();\n",
              "  </script>\n",
              "</div>\n",
              "\n",
              "    </div>\n",
              "  </div>\n"
            ],
            "application/vnd.google.colaboratory.intrinsic+json": {
              "type": "dataframe",
              "variable_name": "song_per_playlist",
              "summary": "{\n  \"name\": \"song_per_playlist\",\n  \"rows\": 1000,\n  \"fields\": [\n    {\n      \"column\": \"pid\",\n      \"properties\": {\n        \"dtype\": \"number\",\n        \"std\": 288,\n        \"min\": 0,\n        \"max\": 999,\n        \"num_unique_values\": 1000,\n        \"samples\": [\n          521,\n          737,\n          740\n        ],\n        \"semantic_type\": \"\",\n        \"description\": \"\"\n      }\n    },\n    {\n      \"column\": \"track_id\",\n      \"properties\": {\n        \"dtype\": \"object\",\n        \"semantic_type\": \"\",\n        \"description\": \"\"\n      }\n    }\n  ]\n}"
            }
          },
          "metadata": {},
          "execution_count": 27
        }
      ]
    },
    {
      "cell_type": "code",
      "source": [
        "# Acá separamos para las playlist que están en test sus primeras PRIMERAS_N canciones para train y el resto para train\n",
        "# Hay que asegurarse que PRIMERAS_N << NUM_CANCIONES\n",
        "\n",
        "PRIMERAS_N = 5\n",
        "test_all = song_per_playlist[song_per_playlist['pid'].isin(test_pid)]\n",
        "test_all['fist_5'] = test_all['track_id'].apply(lambda x: x[:PRIMERAS_N])\n",
        "test_all['next'] = test_all['track_id'].apply(lambda x: x[PRIMERAS_N:])\n",
        "test_all.drop(\"track_id\", axis=1, inplace=True)\n",
        "test_train = test_all[['pid', 'fist_5']].explode('fist_5')\n",
        "test_test = test_all[['pid', 'next']].explode('next')\n",
        "test_train.rename(columns={'fist_5': 'track_id'}, inplace=True)\n",
        "test_test.rename(columns={'next': 'track_id'}, inplace=True)\n",
        "\n",
        "\n",
        "# clear_outputs()"
      ],
      "metadata": {
        "colab": {
          "base_uri": "https://localhost:8080/"
        },
        "id": "WCTxbn5OL37Y",
        "outputId": "df3f4c5e-42fe-471f-dbd5-a6fd9af29bc6"
      },
      "execution_count": 28,
      "outputs": [
        {
          "output_type": "stream",
          "name": "stderr",
          "text": [
            "<ipython-input-28-6c2d60f2a947>:6: SettingWithCopyWarning: \n",
            "A value is trying to be set on a copy of a slice from a DataFrame.\n",
            "Try using .loc[row_indexer,col_indexer] = value instead\n",
            "\n",
            "See the caveats in the documentation: https://pandas.pydata.org/pandas-docs/stable/user_guide/indexing.html#returning-a-view-versus-a-copy\n",
            "  test_all['fist_5'] = test_all['track_id'].apply(lambda x: x[:PRIMERAS_N])\n",
            "<ipython-input-28-6c2d60f2a947>:7: SettingWithCopyWarning: \n",
            "A value is trying to be set on a copy of a slice from a DataFrame.\n",
            "Try using .loc[row_indexer,col_indexer] = value instead\n",
            "\n",
            "See the caveats in the documentation: https://pandas.pydata.org/pandas-docs/stable/user_guide/indexing.html#returning-a-view-versus-a-copy\n",
            "  test_all['next'] = test_all['track_id'].apply(lambda x: x[PRIMERAS_N:])\n",
            "<ipython-input-28-6c2d60f2a947>:8: SettingWithCopyWarning: \n",
            "A value is trying to be set on a copy of a slice from a DataFrame\n",
            "\n",
            "See the caveats in the documentation: https://pandas.pydata.org/pandas-docs/stable/user_guide/indexing.html#returning-a-view-versus-a-copy\n",
            "  test_all.drop(\"track_id\", axis=1, inplace=True)\n"
          ]
        }
      ]
    },
    {
      "cell_type": "code",
      "source": [
        "# Luego acá creamos los datasets de train y test\n",
        "\n",
        "data = playlist_track[['pid', 'track_id']]\n",
        "train_data = data[data['pid'].isin(train_pid)]                       # Playlists con todas las canciones\n",
        "train_data = pd.concat([train_data, test_train], ignore_index=True)  # Playlists con solo las PRIMERAS_N canciones\n",
        "test_data = test_test\n"
      ],
      "metadata": {
        "id": "N4h6eMl2Jlkz"
      },
      "execution_count": 29,
      "outputs": []
    },
    {
      "cell_type": "code",
      "source": [
        "# Pequeño test para revisar cuantas canciones el modelo no se ha entrenado con, lo cual implica que no las va a poder recomendar\n",
        "# Este número debería bajar si incluimos más data en el comienzo\n",
        "\n",
        "test_tracks_ids = test_data['track_id'].unique()\n",
        "train_tracks_ids = train_data['track_id'].unique()\n",
        "tracks_not_in_train = np.setdiff1d(test_tracks_ids, train_tracks_ids)\n",
        "tracks_not_in_train, len(tracks_not_in_train) / len(test_tracks_ids)\n"
      ],
      "metadata": {
        "colab": {
          "base_uri": "https://localhost:8080/"
        },
        "id": "gIFyvv7-ROvL",
        "outputId": "55e9fe5c-786a-4dfd-a0ad-e552392ed819"
      },
      "execution_count": 30,
      "outputs": [
        {
          "output_type": "execute_result",
          "data": {
            "text/plain": [
              "(array([1, 11, 13, ..., 34421, 34424, 34429], dtype=object),\n",
              " 0.5343448841500923)"
            ]
          },
          "metadata": {},
          "execution_count": 30
        }
      ]
    },
    {
      "cell_type": "markdown",
      "source": [
        "# New ALS"
      ],
      "metadata": {
        "id": "gMeZUGcCBaCV"
      }
    },
    {
      "cell_type": "code",
      "source": [
        "# Create user-item interaction matrices for train and test sets\n",
        "train_interaction_matrix = csr_matrix((np.ones(len(train_data)), (train_data['pid'], train_data['track_id'])))\n",
        "test_interaction_matrix = csr_matrix((np.ones(len(test_data)), (test_data['pid'], test_data['track_id'])))\n",
        "\n",
        "\n",
        "model = AlternatingLeastSquares(factors=100, alpha = 20)\n",
        "model.fit(train_interaction_matrix)"
      ],
      "metadata": {
        "colab": {
          "base_uri": "https://localhost:8080/",
          "referenced_widgets": [
            "0064539a236a4691b98fd33e73449f25",
            "b5fb6ba42d7842498d2bd8b3d0b47925",
            "89387a82886740bc979849d50be8a7af",
            "75cea6a34abd4776922e427df44e39d4",
            "e7e6cb46ac794a9f846f410e52eae29d",
            "4fdaf46448384bd08e7a1a98c50d4d10",
            "94413f130a6d450194cd44ceb3ac72d3",
            "68daa41fb6944dcda68cc3c3b72004e2",
            "393ce15450114718874dc40d7d1699df",
            "b57617feeb0048e7bde3bd98f14d83dc",
            "3fdb7c7c1dfb4459ac236f66f6e4a782"
          ],
          "height": 105
        },
        "id": "G5glgWe7RXop",
        "outputId": "bae9a5c3-b5da-42c9-97f3-eb6c7e00c045"
      },
      "execution_count": 31,
      "outputs": [
        {
          "output_type": "stream",
          "name": "stderr",
          "text": [
            "/usr/local/lib/python3.10/dist-packages/implicit/cpu/als.py:95: RuntimeWarning: OpenBLAS is configured to use 2 threads. It is highly recommended to disable its internal threadpool by setting the environment variable 'OPENBLAS_NUM_THREADS=1' or by calling 'threadpoolctl.threadpool_limits(1, \"blas\")'. Having OpenBLAS use a threadpool can lead to severe performance issues here.\n",
            "  check_blas_config()\n"
          ]
        },
        {
          "output_type": "display_data",
          "data": {
            "text/plain": [
              "  0%|          | 0/15 [00:00<?, ?it/s]"
            ],
            "application/vnd.jupyter.widget-view+json": {
              "version_major": 2,
              "version_minor": 0,
              "model_id": "0064539a236a4691b98fd33e73449f25"
            }
          },
          "metadata": {}
        }
      ]
    },
    {
      "cell_type": "code",
      "source": [],
      "metadata": {
        "id": "zvw3pYtqO7t0"
      },
      "execution_count": null,
      "outputs": []
    },
    {
      "cell_type": "code",
      "source": [
        "def R_precision(recommended, actual):\n",
        "    n = len(actual)\n",
        "    recommended = recommended[:n]\n",
        "    in_both = np.intersect1d(recommended, actual)\n",
        "    return len(in_both) / n\n",
        "\n",
        "def dcg(relevance_scores):\n",
        "    return relevance_scores[0] + np.sum(\n",
        "        [rel / np.log2(idx + 1) for idx, rel in enumerate(relevance_scores[1:], start=2)]\n",
        "    )\n",
        "\n",
        "def ndcg(recommended, actual):\n",
        "    \"\"\"Calculate Normalized Discounted Cumulative Gain (NDCG) at k\"\"\"\n",
        "    # Relevance scores: 1 if the item is in the ground truth, 0 otherwise\n",
        "    relevance_scores = [1 if item in actual else 0 for item in recommended]\n",
        "\n",
        "    # Calculate DCG for the recommended list\n",
        "    DCG = dcg(relevance_scores)\n",
        "\n",
        "    # Calculate IDCG for the ideal list (the best possible ranking)\n",
        "    ideal_relevance_scores = sorted(relevance_scores, reverse=True)\n",
        "    IDCG = dcg(ideal_relevance_scores)\n",
        "\n",
        "    # Calculate NDCG\n",
        "    NDCG = DCG / IDCG if IDCG > 0 else 0\n",
        "    return NDCG\n",
        "\n",
        "def rec_song_clicks(recommended, actual):\n",
        "    for i, item in enumerate(recommended):\n",
        "        if item in actual:\n",
        "            clicks = np.floor(i / 10)\n",
        "            return clicks\n",
        "    return 51"
      ],
      "metadata": {
        "id": "5ppb-qy6OlJX"
      },
      "execution_count": 37,
      "outputs": []
    },
    {
      "cell_type": "code",
      "source": [
        "# Pequeño código mostrando que el modelo efectivamente logra recomendar canciones relevantes para usuarios (playlists) del train\n",
        "# Falta implementar las métricas, las clásicas de ndcg y r-precision y las que se crearon para la competencia\n",
        "\n",
        "\n",
        "user_ids = test_pid\n",
        "print(len(user_ids))\n",
        "print(train_data['track_id'].nunique())\n",
        "r_prec = []\n",
        "ndcgs = []\n",
        "clicks = []\n",
        "for userid in user_ids:\n",
        "\n",
        "  ids, scores = model.recommend(userid, train_interaction_matrix[userid], N=500, filter_already_liked_items=True)\n",
        "  actual = test_test[test_test['pid'] == userid]['track_id'].values\n",
        "\n",
        "  # print(actual)\n",
        "  r_prec.append(R_precision(ids, actual))\n",
        "  ndcgs.append(ndcg(ids, actual))\n",
        "  clicks.append(rec_song_clicks(ids, actual))\n",
        "\n",
        "  # in_both = np.intersect1d(ids, actual)\n",
        "  # if in_both.size > 0:\n",
        "  #     print(in_both)\n",
        "\n",
        "print(np.mean(r_prec))\n",
        "print(np.mean(ndcgs))\n",
        "print(np.mean(clicks))\n",
        "\n"
      ],
      "metadata": {
        "colab": {
          "base_uri": "https://localhost:8080/"
        },
        "id": "mkefJKBOYQ9W",
        "outputId": "2a4f4919-a5b2-4e6e-eb1d-7a920b4ba5b4"
      },
      "execution_count": 41,
      "outputs": [
        {
          "output_type": "stream",
          "name": "stdout",
          "text": [
            "193\n",
            "29130\n",
            "0.06703178454492253\n",
            "0.34488809769036843\n",
            "10.937823834196891\n"
          ]
        }
      ]
    },
    {
      "cell_type": "markdown",
      "source": [
        "# Old User User\n",
        "\n",
        "Este lo voy a cambiar considerando el nuevo train test split y haciendolo más legible\n",
        "\n",
        "(yo creo que con el nuevo train test split voy a poder hacerlo mucho más rapido (y entendible) pq con el anterior no sabía que hacer con playlists con las cuales no se había entrenado)"
      ],
      "metadata": {
        "id": "Ys_5Xenan9UX"
      }
    },
    {
      "cell_type": "code",
      "source": [
        "user_factors = model.user_factors\n",
        "item_factors = model.item_factors\n",
        "\n"
      ],
      "metadata": {
        "colab": {
          "base_uri": "https://localhost:8080/"
        },
        "id": "OqaRHpDTCqVB",
        "outputId": "def67fc8-16ff-41ee-eda9-649c33afd447"
      },
      "execution_count": 108,
      "outputs": [
        {
          "output_type": "stream",
          "name": "stdout",
          "text": [
            "NDCG@10: 0.0000\n"
          ]
        }
      ]
    },
    {
      "cell_type": "code",
      "source": [],
      "metadata": {
        "id": "DdX0O5CMVlrU"
      },
      "execution_count": null,
      "outputs": []
    },
    {
      "cell_type": "markdown",
      "source": [
        "# Old Item-Item 2\n"
      ],
      "metadata": {
        "id": "HJwcVkltiPI4"
      }
    },
    {
      "cell_type": "code",
      "source": [
        "# Define a function to find similar items using cosine similarity\n",
        "def find_similar_items(item_id, item_factors, num_items=10):\n",
        "    item_vector = item_factors[item_id].reshape(1, -1)\n",
        "    similarities = cosine_similarity(item_vector, item_factors).flatten()\n",
        "    similar_items = np.argsort(similarities)[::-1][1:num_items+1]  # Skip the item itself\n",
        "    return similar_items\n",
        "\n",
        "# Define a function to infer new user vector\n",
        "def infer_new_user_vector(new_user_tracks, item_factors, model):\n",
        "    new_user_vector = np.zeros(model.factors)\n",
        "    for track_id in new_user_tracks:\n",
        "        new_user_vector += model.item_factors[track_id]\n",
        "    new_user_vector /= len(new_user_tracks)  # Average the vectors\n",
        "    return new_user_vector\n",
        "\n",
        "# Define a function to calculate NDCG@10\n",
        "def ndcg_at_k(r, k):\n",
        "    r = np.asfarray(r)[:k]\n",
        "    if r.size == 0:\n",
        "        return 0.0\n",
        "    dcg = np.sum(r / np.log2(np.arange(2, r.size + 2)))\n",
        "    idcg = np.sum(np.ones_like(r) / np.log2(np.arange(2, r.size + 2)))\n",
        "    return dcg / idcg\n",
        "\n",
        "# Evaluate the recommendations on the test set using NDCG@10\n",
        "def evaluate_ndcg(test_data, user_factors, item_factors, model, num_items=10, k=10):\n",
        "    ndcg_scores = []\n",
        "    for user_id in test_data['pid'].unique():\n",
        "        test_items = test_data[test_data['pid'] == user_id]['track_id'].values\n",
        "        recommended_items = []\n",
        "\n",
        "        if user_id in train_data['pid'].unique():  # Existing user\n",
        "            user_tracks = train_data[train_data['pid'] == user_id]['track_id'].values\n",
        "            for track_id in user_tracks:\n",
        "                similar_items = find_similar_items(track_id, item_factors, num_items)\n",
        "                recommended_items.extend(similar_items)\n",
        "            recommended_items = np.unique(recommended_items)[:k]\n",
        "        else:  # New user\n",
        "            new_user_tracks = test_data[test_data['pid'] == user_id]['track_id'].values\n",
        "            new_user_vector = infer_new_user_vector(new_user_tracks, item_factors, model)\n",
        "            similarities = cosine_similarity(new_user_vector.reshape(1, -1), item_factors).flatten()\n",
        "            recommended_items = np.argsort(similarities)[::-1][:k]\n",
        "\n",
        "        relevance = np.isin(recommended_items, test_items).astype(int)\n",
        "        ndcg_score = ndcg_at_k(relevance, k)\n",
        "        ndcg_scores.append(ndcg_score)\n",
        "\n",
        "    return np.mean(ndcg_scores)\n",
        "\n",
        "# Compute and print the NDCG@10 score\n",
        "ndcg_score = evaluate_ndcg(test_data, user_factors, item_factors, model)\n",
        "print(f\"NDCG@10: {ndcg_score:.4f}\")\n"
      ],
      "metadata": {
        "colab": {
          "base_uri": "https://localhost:8080/",
          "height": 347
        },
        "id": "vhe-POgMiRdL",
        "outputId": "5aaa1df7-2e17-4e79-bac5-ca0b776ebf2a"
      },
      "execution_count": 132,
      "outputs": [
        {
          "output_type": "error",
          "ename": "IndexError",
          "evalue": "index 31740 is out of bounds for axis 0 with size 1000",
          "traceback": [
            "\u001b[0;31m---------------------------------------------------------------------------\u001b[0m",
            "\u001b[0;31mIndexError\u001b[0m                                Traceback (most recent call last)",
            "\u001b[0;32m<ipython-input-132-ba2483b2680b>\u001b[0m in \u001b[0;36m<cell line: 51>\u001b[0;34m()\u001b[0m\n\u001b[1;32m     49\u001b[0m \u001b[0;34m\u001b[0m\u001b[0m\n\u001b[1;32m     50\u001b[0m \u001b[0;31m# Compute and print the NDCG@10 score\u001b[0m\u001b[0;34m\u001b[0m\u001b[0;34m\u001b[0m\u001b[0m\n\u001b[0;32m---> 51\u001b[0;31m \u001b[0mndcg_score\u001b[0m \u001b[0;34m=\u001b[0m \u001b[0mevaluate_ndcg\u001b[0m\u001b[0;34m(\u001b[0m\u001b[0mtest_data\u001b[0m\u001b[0;34m,\u001b[0m \u001b[0muser_factors\u001b[0m\u001b[0;34m,\u001b[0m \u001b[0mitem_factors\u001b[0m\u001b[0;34m,\u001b[0m \u001b[0mmodel\u001b[0m\u001b[0;34m)\u001b[0m\u001b[0;34m\u001b[0m\u001b[0;34m\u001b[0m\u001b[0m\n\u001b[0m\u001b[1;32m     52\u001b[0m \u001b[0mprint\u001b[0m\u001b[0;34m(\u001b[0m\u001b[0;34mf\"NDCG@10: {ndcg_score:.4f}\"\u001b[0m\u001b[0;34m)\u001b[0m\u001b[0;34m\u001b[0m\u001b[0;34m\u001b[0m\u001b[0m\n",
            "\u001b[0;32m<ipython-input-132-ba2483b2680b>\u001b[0m in \u001b[0;36mevaluate_ndcg\u001b[0;34m(test_data, user_factors, item_factors, model, num_items, k)\u001b[0m\n\u001b[1;32m     33\u001b[0m             \u001b[0muser_tracks\u001b[0m \u001b[0;34m=\u001b[0m \u001b[0mtrain_data\u001b[0m\u001b[0;34m[\u001b[0m\u001b[0mtrain_data\u001b[0m\u001b[0;34m[\u001b[0m\u001b[0;34m'pid'\u001b[0m\u001b[0;34m]\u001b[0m \u001b[0;34m==\u001b[0m \u001b[0muser_id\u001b[0m\u001b[0;34m]\u001b[0m\u001b[0;34m[\u001b[0m\u001b[0;34m'track_id'\u001b[0m\u001b[0;34m]\u001b[0m\u001b[0;34m.\u001b[0m\u001b[0mvalues\u001b[0m\u001b[0;34m\u001b[0m\u001b[0;34m\u001b[0m\u001b[0m\n\u001b[1;32m     34\u001b[0m             \u001b[0;32mfor\u001b[0m \u001b[0mtrack_id\u001b[0m \u001b[0;32min\u001b[0m \u001b[0muser_tracks\u001b[0m\u001b[0;34m:\u001b[0m\u001b[0;34m\u001b[0m\u001b[0;34m\u001b[0m\u001b[0m\n\u001b[0;32m---> 35\u001b[0;31m                 \u001b[0msimilar_items\u001b[0m \u001b[0;34m=\u001b[0m \u001b[0mfind_similar_items\u001b[0m\u001b[0;34m(\u001b[0m\u001b[0mtrack_id\u001b[0m\u001b[0;34m,\u001b[0m \u001b[0mitem_factors\u001b[0m\u001b[0;34m,\u001b[0m \u001b[0mnum_items\u001b[0m\u001b[0;34m)\u001b[0m\u001b[0;34m\u001b[0m\u001b[0;34m\u001b[0m\u001b[0m\n\u001b[0m\u001b[1;32m     36\u001b[0m                 \u001b[0mrecommended_items\u001b[0m\u001b[0;34m.\u001b[0m\u001b[0mextend\u001b[0m\u001b[0;34m(\u001b[0m\u001b[0msimilar_items\u001b[0m\u001b[0;34m)\u001b[0m\u001b[0;34m\u001b[0m\u001b[0;34m\u001b[0m\u001b[0m\n\u001b[1;32m     37\u001b[0m             \u001b[0mrecommended_items\u001b[0m \u001b[0;34m=\u001b[0m \u001b[0mnp\u001b[0m\u001b[0;34m.\u001b[0m\u001b[0munique\u001b[0m\u001b[0;34m(\u001b[0m\u001b[0mrecommended_items\u001b[0m\u001b[0;34m)\u001b[0m\u001b[0;34m[\u001b[0m\u001b[0;34m:\u001b[0m\u001b[0mk\u001b[0m\u001b[0;34m]\u001b[0m\u001b[0;34m\u001b[0m\u001b[0;34m\u001b[0m\u001b[0m\n",
            "\u001b[0;32m<ipython-input-132-ba2483b2680b>\u001b[0m in \u001b[0;36mfind_similar_items\u001b[0;34m(item_id, item_factors, num_items)\u001b[0m\n\u001b[1;32m      1\u001b[0m \u001b[0;31m# Define a function to find similar items using cosine similarity\u001b[0m\u001b[0;34m\u001b[0m\u001b[0;34m\u001b[0m\u001b[0m\n\u001b[1;32m      2\u001b[0m \u001b[0;32mdef\u001b[0m \u001b[0mfind_similar_items\u001b[0m\u001b[0;34m(\u001b[0m\u001b[0mitem_id\u001b[0m\u001b[0;34m,\u001b[0m \u001b[0mitem_factors\u001b[0m\u001b[0;34m,\u001b[0m \u001b[0mnum_items\u001b[0m\u001b[0;34m=\u001b[0m\u001b[0;36m10\u001b[0m\u001b[0;34m)\u001b[0m\u001b[0;34m:\u001b[0m\u001b[0;34m\u001b[0m\u001b[0;34m\u001b[0m\u001b[0m\n\u001b[0;32m----> 3\u001b[0;31m     \u001b[0mitem_vector\u001b[0m \u001b[0;34m=\u001b[0m \u001b[0mitem_factors\u001b[0m\u001b[0;34m[\u001b[0m\u001b[0mitem_id\u001b[0m\u001b[0;34m]\u001b[0m\u001b[0;34m.\u001b[0m\u001b[0mreshape\u001b[0m\u001b[0;34m(\u001b[0m\u001b[0;36m1\u001b[0m\u001b[0;34m,\u001b[0m \u001b[0;34m-\u001b[0m\u001b[0;36m1\u001b[0m\u001b[0;34m)\u001b[0m\u001b[0;34m\u001b[0m\u001b[0;34m\u001b[0m\u001b[0m\n\u001b[0m\u001b[1;32m      4\u001b[0m     \u001b[0msimilarities\u001b[0m \u001b[0;34m=\u001b[0m \u001b[0mcosine_similarity\u001b[0m\u001b[0;34m(\u001b[0m\u001b[0mitem_vector\u001b[0m\u001b[0;34m,\u001b[0m \u001b[0mitem_factors\u001b[0m\u001b[0;34m)\u001b[0m\u001b[0;34m.\u001b[0m\u001b[0mflatten\u001b[0m\u001b[0;34m(\u001b[0m\u001b[0;34m)\u001b[0m\u001b[0;34m\u001b[0m\u001b[0;34m\u001b[0m\u001b[0m\n\u001b[1;32m      5\u001b[0m     \u001b[0msimilar_items\u001b[0m \u001b[0;34m=\u001b[0m \u001b[0mnp\u001b[0m\u001b[0;34m.\u001b[0m\u001b[0margsort\u001b[0m\u001b[0;34m(\u001b[0m\u001b[0msimilarities\u001b[0m\u001b[0;34m)\u001b[0m\u001b[0;34m[\u001b[0m\u001b[0;34m:\u001b[0m\u001b[0;34m:\u001b[0m\u001b[0;34m-\u001b[0m\u001b[0;36m1\u001b[0m\u001b[0;34m]\u001b[0m\u001b[0;34m[\u001b[0m\u001b[0;36m1\u001b[0m\u001b[0;34m:\u001b[0m\u001b[0mnum_items\u001b[0m\u001b[0;34m+\u001b[0m\u001b[0;36m1\u001b[0m\u001b[0;34m]\u001b[0m  \u001b[0;31m# Skip the item itself\u001b[0m\u001b[0;34m\u001b[0m\u001b[0;34m\u001b[0m\u001b[0m\n",
            "\u001b[0;31mIndexError\u001b[0m: index 31740 is out of bounds for axis 0 with size 1000"
          ]
        }
      ]
    },
    {
      "cell_type": "code",
      "source": [],
      "metadata": {
        "id": "ExAuJCx2iYq4"
      },
      "execution_count": null,
      "outputs": []
    }
  ],
  "metadata": {
    "kernelspec": {
      "display_name": "base",
      "language": "python",
      "name": "python3"
    },
    "language_info": {
      "codemirror_mode": {
        "name": "ipython",
        "version": 3
      },
      "file_extension": ".py",
      "mimetype": "text/x-python",
      "name": "python",
      "nbconvert_exporter": "python",
      "pygments_lexer": "ipython3",
      "version": "3.8.19"
    },
    "colab": {
      "provenance": [],
      "collapsed_sections": [
        "HJwcVkltiPI4"
      ]
    },
    "widgets": {
      "application/vnd.jupyter.widget-state+json": {
        "0064539a236a4691b98fd33e73449f25": {
          "model_module": "@jupyter-widgets/controls",
          "model_name": "HBoxModel",
          "model_module_version": "1.5.0",
          "state": {
            "_dom_classes": [],
            "_model_module": "@jupyter-widgets/controls",
            "_model_module_version": "1.5.0",
            "_model_name": "HBoxModel",
            "_view_count": null,
            "_view_module": "@jupyter-widgets/controls",
            "_view_module_version": "1.5.0",
            "_view_name": "HBoxView",
            "box_style": "",
            "children": [
              "IPY_MODEL_b5fb6ba42d7842498d2bd8b3d0b47925",
              "IPY_MODEL_89387a82886740bc979849d50be8a7af",
              "IPY_MODEL_75cea6a34abd4776922e427df44e39d4"
            ],
            "layout": "IPY_MODEL_e7e6cb46ac794a9f846f410e52eae29d"
          }
        },
        "b5fb6ba42d7842498d2bd8b3d0b47925": {
          "model_module": "@jupyter-widgets/controls",
          "model_name": "HTMLModel",
          "model_module_version": "1.5.0",
          "state": {
            "_dom_classes": [],
            "_model_module": "@jupyter-widgets/controls",
            "_model_module_version": "1.5.0",
            "_model_name": "HTMLModel",
            "_view_count": null,
            "_view_module": "@jupyter-widgets/controls",
            "_view_module_version": "1.5.0",
            "_view_name": "HTMLView",
            "description": "",
            "description_tooltip": null,
            "layout": "IPY_MODEL_4fdaf46448384bd08e7a1a98c50d4d10",
            "placeholder": "​",
            "style": "IPY_MODEL_94413f130a6d450194cd44ceb3ac72d3",
            "value": "100%"
          }
        },
        "89387a82886740bc979849d50be8a7af": {
          "model_module": "@jupyter-widgets/controls",
          "model_name": "FloatProgressModel",
          "model_module_version": "1.5.0",
          "state": {
            "_dom_classes": [],
            "_model_module": "@jupyter-widgets/controls",
            "_model_module_version": "1.5.0",
            "_model_name": "FloatProgressModel",
            "_view_count": null,
            "_view_module": "@jupyter-widgets/controls",
            "_view_module_version": "1.5.0",
            "_view_name": "ProgressView",
            "bar_style": "success",
            "description": "",
            "description_tooltip": null,
            "layout": "IPY_MODEL_68daa41fb6944dcda68cc3c3b72004e2",
            "max": 15,
            "min": 0,
            "orientation": "horizontal",
            "style": "IPY_MODEL_393ce15450114718874dc40d7d1699df",
            "value": 15
          }
        },
        "75cea6a34abd4776922e427df44e39d4": {
          "model_module": "@jupyter-widgets/controls",
          "model_name": "HTMLModel",
          "model_module_version": "1.5.0",
          "state": {
            "_dom_classes": [],
            "_model_module": "@jupyter-widgets/controls",
            "_model_module_version": "1.5.0",
            "_model_name": "HTMLModel",
            "_view_count": null,
            "_view_module": "@jupyter-widgets/controls",
            "_view_module_version": "1.5.0",
            "_view_name": "HTMLView",
            "description": "",
            "description_tooltip": null,
            "layout": "IPY_MODEL_b57617feeb0048e7bde3bd98f14d83dc",
            "placeholder": "​",
            "style": "IPY_MODEL_3fdb7c7c1dfb4459ac236f66f6e4a782",
            "value": " 15/15 [00:23&lt;00:00,  1.58s/it]"
          }
        },
        "e7e6cb46ac794a9f846f410e52eae29d": {
          "model_module": "@jupyter-widgets/base",
          "model_name": "LayoutModel",
          "model_module_version": "1.2.0",
          "state": {
            "_model_module": "@jupyter-widgets/base",
            "_model_module_version": "1.2.0",
            "_model_name": "LayoutModel",
            "_view_count": null,
            "_view_module": "@jupyter-widgets/base",
            "_view_module_version": "1.2.0",
            "_view_name": "LayoutView",
            "align_content": null,
            "align_items": null,
            "align_self": null,
            "border": null,
            "bottom": null,
            "display": null,
            "flex": null,
            "flex_flow": null,
            "grid_area": null,
            "grid_auto_columns": null,
            "grid_auto_flow": null,
            "grid_auto_rows": null,
            "grid_column": null,
            "grid_gap": null,
            "grid_row": null,
            "grid_template_areas": null,
            "grid_template_columns": null,
            "grid_template_rows": null,
            "height": null,
            "justify_content": null,
            "justify_items": null,
            "left": null,
            "margin": null,
            "max_height": null,
            "max_width": null,
            "min_height": null,
            "min_width": null,
            "object_fit": null,
            "object_position": null,
            "order": null,
            "overflow": null,
            "overflow_x": null,
            "overflow_y": null,
            "padding": null,
            "right": null,
            "top": null,
            "visibility": null,
            "width": null
          }
        },
        "4fdaf46448384bd08e7a1a98c50d4d10": {
          "model_module": "@jupyter-widgets/base",
          "model_name": "LayoutModel",
          "model_module_version": "1.2.0",
          "state": {
            "_model_module": "@jupyter-widgets/base",
            "_model_module_version": "1.2.0",
            "_model_name": "LayoutModel",
            "_view_count": null,
            "_view_module": "@jupyter-widgets/base",
            "_view_module_version": "1.2.0",
            "_view_name": "LayoutView",
            "align_content": null,
            "align_items": null,
            "align_self": null,
            "border": null,
            "bottom": null,
            "display": null,
            "flex": null,
            "flex_flow": null,
            "grid_area": null,
            "grid_auto_columns": null,
            "grid_auto_flow": null,
            "grid_auto_rows": null,
            "grid_column": null,
            "grid_gap": null,
            "grid_row": null,
            "grid_template_areas": null,
            "grid_template_columns": null,
            "grid_template_rows": null,
            "height": null,
            "justify_content": null,
            "justify_items": null,
            "left": null,
            "margin": null,
            "max_height": null,
            "max_width": null,
            "min_height": null,
            "min_width": null,
            "object_fit": null,
            "object_position": null,
            "order": null,
            "overflow": null,
            "overflow_x": null,
            "overflow_y": null,
            "padding": null,
            "right": null,
            "top": null,
            "visibility": null,
            "width": null
          }
        },
        "94413f130a6d450194cd44ceb3ac72d3": {
          "model_module": "@jupyter-widgets/controls",
          "model_name": "DescriptionStyleModel",
          "model_module_version": "1.5.0",
          "state": {
            "_model_module": "@jupyter-widgets/controls",
            "_model_module_version": "1.5.0",
            "_model_name": "DescriptionStyleModel",
            "_view_count": null,
            "_view_module": "@jupyter-widgets/base",
            "_view_module_version": "1.2.0",
            "_view_name": "StyleView",
            "description_width": ""
          }
        },
        "68daa41fb6944dcda68cc3c3b72004e2": {
          "model_module": "@jupyter-widgets/base",
          "model_name": "LayoutModel",
          "model_module_version": "1.2.0",
          "state": {
            "_model_module": "@jupyter-widgets/base",
            "_model_module_version": "1.2.0",
            "_model_name": "LayoutModel",
            "_view_count": null,
            "_view_module": "@jupyter-widgets/base",
            "_view_module_version": "1.2.0",
            "_view_name": "LayoutView",
            "align_content": null,
            "align_items": null,
            "align_self": null,
            "border": null,
            "bottom": null,
            "display": null,
            "flex": null,
            "flex_flow": null,
            "grid_area": null,
            "grid_auto_columns": null,
            "grid_auto_flow": null,
            "grid_auto_rows": null,
            "grid_column": null,
            "grid_gap": null,
            "grid_row": null,
            "grid_template_areas": null,
            "grid_template_columns": null,
            "grid_template_rows": null,
            "height": null,
            "justify_content": null,
            "justify_items": null,
            "left": null,
            "margin": null,
            "max_height": null,
            "max_width": null,
            "min_height": null,
            "min_width": null,
            "object_fit": null,
            "object_position": null,
            "order": null,
            "overflow": null,
            "overflow_x": null,
            "overflow_y": null,
            "padding": null,
            "right": null,
            "top": null,
            "visibility": null,
            "width": null
          }
        },
        "393ce15450114718874dc40d7d1699df": {
          "model_module": "@jupyter-widgets/controls",
          "model_name": "ProgressStyleModel",
          "model_module_version": "1.5.0",
          "state": {
            "_model_module": "@jupyter-widgets/controls",
            "_model_module_version": "1.5.0",
            "_model_name": "ProgressStyleModel",
            "_view_count": null,
            "_view_module": "@jupyter-widgets/base",
            "_view_module_version": "1.2.0",
            "_view_name": "StyleView",
            "bar_color": null,
            "description_width": ""
          }
        },
        "b57617feeb0048e7bde3bd98f14d83dc": {
          "model_module": "@jupyter-widgets/base",
          "model_name": "LayoutModel",
          "model_module_version": "1.2.0",
          "state": {
            "_model_module": "@jupyter-widgets/base",
            "_model_module_version": "1.2.0",
            "_model_name": "LayoutModel",
            "_view_count": null,
            "_view_module": "@jupyter-widgets/base",
            "_view_module_version": "1.2.0",
            "_view_name": "LayoutView",
            "align_content": null,
            "align_items": null,
            "align_self": null,
            "border": null,
            "bottom": null,
            "display": null,
            "flex": null,
            "flex_flow": null,
            "grid_area": null,
            "grid_auto_columns": null,
            "grid_auto_flow": null,
            "grid_auto_rows": null,
            "grid_column": null,
            "grid_gap": null,
            "grid_row": null,
            "grid_template_areas": null,
            "grid_template_columns": null,
            "grid_template_rows": null,
            "height": null,
            "justify_content": null,
            "justify_items": null,
            "left": null,
            "margin": null,
            "max_height": null,
            "max_width": null,
            "min_height": null,
            "min_width": null,
            "object_fit": null,
            "object_position": null,
            "order": null,
            "overflow": null,
            "overflow_x": null,
            "overflow_y": null,
            "padding": null,
            "right": null,
            "top": null,
            "visibility": null,
            "width": null
          }
        },
        "3fdb7c7c1dfb4459ac236f66f6e4a782": {
          "model_module": "@jupyter-widgets/controls",
          "model_name": "DescriptionStyleModel",
          "model_module_version": "1.5.0",
          "state": {
            "_model_module": "@jupyter-widgets/controls",
            "_model_module_version": "1.5.0",
            "_model_name": "DescriptionStyleModel",
            "_view_count": null,
            "_view_module": "@jupyter-widgets/base",
            "_view_module_version": "1.2.0",
            "_view_name": "StyleView",
            "description_width": ""
          }
        }
      }
    }
  },
  "nbformat": 4,
  "nbformat_minor": 0
}