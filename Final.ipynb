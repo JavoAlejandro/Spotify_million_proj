{
 "cells": [
  {
   "cell_type": "code",
   "execution_count": 1,
   "metadata": {},
   "outputs": [],
   "source": [
    "import json\n",
    "import pandas as pd\n",
    "from pandas import json_normalize\n",
    "import matplotlib.pyplot as plt\n",
    "import os\n",
    "import random\n",
    "import numpy as np"
   ]
  },
  {
   "cell_type": "markdown",
   "metadata": {},
   "source": [
    "# 0. Leemos los datos"
   ]
  },
  {
   "cell_type": "code",
   "execution_count": 2,
   "metadata": {},
   "outputs": [],
   "source": [
    "def read_json(path):\n",
    "    with open(path) as f:\n",
    "        data = json.load(f)\n",
    "    return data\n",
    "\n",
    "def leer_k_archivos_json(k):\n",
    "    archivos_json = [archivo for archivo in os.listdir(\"data\") if archivo.endswith('.json')]\n",
    "    random.seed(42)\n",
    "    paths = random.choices(archivos_json, k=k)\n",
    "\n",
    "    all_playlists = []\n",
    "    for p in paths:\n",
    "        data = read_json(f\"data\\{p}\")\n",
    "        playlist = pd.DataFrame(data['playlists'])\n",
    "        all_playlists.append(playlist)\n",
    "\n",
    "    playlists = pd.concat(all_playlists, ignore_index=True)\n",
    "    return playlists"
   ]
  },
  {
   "cell_type": "code",
   "execution_count": 3,
   "metadata": {},
   "outputs": [
    {
     "data": {
      "text/html": [
       "<div>\n",
       "<style scoped>\n",
       "    .dataframe tbody tr th:only-of-type {\n",
       "        vertical-align: middle;\n",
       "    }\n",
       "\n",
       "    .dataframe tbody tr th {\n",
       "        vertical-align: top;\n",
       "    }\n",
       "\n",
       "    .dataframe thead th {\n",
       "        text-align: right;\n",
       "    }\n",
       "</style>\n",
       "<table border=\"1\" class=\"dataframe\">\n",
       "  <thead>\n",
       "    <tr style=\"text-align: right;\">\n",
       "      <th></th>\n",
       "      <th>name</th>\n",
       "      <th>collaborative</th>\n",
       "      <th>pid</th>\n",
       "      <th>modified_at</th>\n",
       "      <th>num_tracks</th>\n",
       "      <th>num_albums</th>\n",
       "      <th>num_followers</th>\n",
       "      <th>tracks</th>\n",
       "      <th>num_edits</th>\n",
       "      <th>duration_ms</th>\n",
       "      <th>num_artists</th>\n",
       "      <th>description</th>\n",
       "    </tr>\n",
       "  </thead>\n",
       "  <tbody>\n",
       "    <tr>\n",
       "      <th>0</th>\n",
       "      <td>random</td>\n",
       "      <td>false</td>\n",
       "      <td>674000</td>\n",
       "      <td>1479168000</td>\n",
       "      <td>141</td>\n",
       "      <td>117</td>\n",
       "      <td>1</td>\n",
       "      <td>[{'pos': 0, 'artist_name': 'R.E.M.', 'track_ur...</td>\n",
       "      <td>26</td>\n",
       "      <td>36307284</td>\n",
       "      <td>81</td>\n",
       "      <td>NaN</td>\n",
       "    </tr>\n",
       "    <tr>\n",
       "      <th>1</th>\n",
       "      <td>Summer 2015</td>\n",
       "      <td>false</td>\n",
       "      <td>674001</td>\n",
       "      <td>1471564800</td>\n",
       "      <td>191</td>\n",
       "      <td>155</td>\n",
       "      <td>1</td>\n",
       "      <td>[{'pos': 0, 'artist_name': 'Kanye West', 'trac...</td>\n",
       "      <td>88</td>\n",
       "      <td>42162338</td>\n",
       "      <td>131</td>\n",
       "      <td>NaN</td>\n",
       "    </tr>\n",
       "    <tr>\n",
       "      <th>2</th>\n",
       "      <td>Dinner</td>\n",
       "      <td>false</td>\n",
       "      <td>674002</td>\n",
       "      <td>1501027200</td>\n",
       "      <td>26</td>\n",
       "      <td>24</td>\n",
       "      <td>1</td>\n",
       "      <td>[{'pos': 0, 'artist_name': 'Dean Martin', 'tra...</td>\n",
       "      <td>2</td>\n",
       "      <td>6041217</td>\n",
       "      <td>21</td>\n",
       "      <td>NaN</td>\n",
       "    </tr>\n",
       "    <tr>\n",
       "      <th>3</th>\n",
       "      <td>Reggae</td>\n",
       "      <td>false</td>\n",
       "      <td>674003</td>\n",
       "      <td>1474156800</td>\n",
       "      <td>26</td>\n",
       "      <td>25</td>\n",
       "      <td>2</td>\n",
       "      <td>[{'pos': 0, 'artist_name': 'Sizzla', 'track_ur...</td>\n",
       "      <td>4</td>\n",
       "      <td>5572231</td>\n",
       "      <td>16</td>\n",
       "      <td>NaN</td>\n",
       "    </tr>\n",
       "    <tr>\n",
       "      <th>4</th>\n",
       "      <td>angst</td>\n",
       "      <td>false</td>\n",
       "      <td>674004</td>\n",
       "      <td>1506902400</td>\n",
       "      <td>22</td>\n",
       "      <td>21</td>\n",
       "      <td>1</td>\n",
       "      <td>[{'pos': 0, 'artist_name': 'Death Cab for Cuti...</td>\n",
       "      <td>5</td>\n",
       "      <td>5383303</td>\n",
       "      <td>19</td>\n",
       "      <td>NaN</td>\n",
       "    </tr>\n",
       "  </tbody>\n",
       "</table>\n",
       "</div>"
      ],
      "text/plain": [
       "          name collaborative     pid  modified_at  num_tracks  num_albums  \\\n",
       "0       random         false  674000   1479168000         141         117   \n",
       "1  Summer 2015         false  674001   1471564800         191         155   \n",
       "2       Dinner         false  674002   1501027200          26          24   \n",
       "3       Reggae         false  674003   1474156800          26          25   \n",
       "4        angst         false  674004   1506902400          22          21   \n",
       "\n",
       "   num_followers                                             tracks  \\\n",
       "0              1  [{'pos': 0, 'artist_name': 'R.E.M.', 'track_ur...   \n",
       "1              1  [{'pos': 0, 'artist_name': 'Kanye West', 'trac...   \n",
       "2              1  [{'pos': 0, 'artist_name': 'Dean Martin', 'tra...   \n",
       "3              2  [{'pos': 0, 'artist_name': 'Sizzla', 'track_ur...   \n",
       "4              1  [{'pos': 0, 'artist_name': 'Death Cab for Cuti...   \n",
       "\n",
       "   num_edits  duration_ms  num_artists description  \n",
       "0         26     36307284           81         NaN  \n",
       "1         88     42162338          131         NaN  \n",
       "2          2      6041217           21         NaN  \n",
       "3          4      5572231           16         NaN  \n",
       "4          5      5383303           19         NaN  "
      ]
     },
     "execution_count": 3,
     "metadata": {},
     "output_type": "execute_result"
    }
   ],
   "source": [
    "# Leer 10 archivos json osea 10000 playlists\n",
    "playlists = leer_k_archivos_json(10)\n",
    "playlists.head()"
   ]
  },
  {
   "cell_type": "code",
   "execution_count": 4,
   "metadata": {},
   "outputs": [
    {
     "data": {
      "text/plain": [
       "name                0\n",
       "collaborative       0\n",
       "pid                 0\n",
       "modified_at         0\n",
       "num_tracks          0\n",
       "num_albums          0\n",
       "num_followers       0\n",
       "tracks              0\n",
       "num_edits           0\n",
       "duration_ms         0\n",
       "num_artists         0\n",
       "description      9821\n",
       "dtype: int64"
      ]
     },
     "execution_count": 4,
     "metadata": {},
     "output_type": "execute_result"
    }
   ],
   "source": [
    "playlists.isna().sum()"
   ]
  },
  {
   "cell_type": "code",
   "execution_count": 5,
   "metadata": {},
   "outputs": [
    {
     "data": {
      "text/plain": [
       "105                            it was a long ass semester\n",
       "123           intertwining your soul with somebody else ✨\n",
       "161            for all of your &quot;non-Hype&quot; moods\n",
       "208         free lil kodak they dont like to see u wining\n",
       "233     theese are all the song i recomend wile workin...\n",
       "                              ...                        \n",
       "9815                      my remix&#x2F;dance music phase\n",
       "9870                                no description needed\n",
       "9900    some very mainstream and basic music to dance ...\n",
       "9927                           some good stuff right here\n",
       "9939         Old school music (stuff that mom and I like)\n",
       "Name: description, Length: 179, dtype: object"
      ]
     },
     "execution_count": 5,
     "metadata": {},
     "output_type": "execute_result"
    }
   ],
   "source": [
    "playlists[\"description\"][~playlists[\"description\"].isna()]"
   ]
  },
  {
   "cell_type": "code",
   "execution_count": 6,
   "metadata": {},
   "outputs": [],
   "source": [
    "def expandir_tracks(playli):\n",
    "    expanded_tracks_df = pd.DataFrame()\n",
    "\n",
    "    # Iterar sobre cada fila y expandir los datos JSON en un dataframe\n",
    "    for _, row in playli.iterrows():\n",
    "        # Cargar el JSON desde la columna 'tracks'\n",
    "        tracks = row['tracks']\n",
    "\n",
    "        # Comprobar si 'tracks' es una cadena que necesita ser convertida de JSON\n",
    "        if isinstance(tracks, str):\n",
    "            try:\n",
    "                tracks = json.loads(tracks)  # Cargar la cadena JSON\n",
    "            except json.JSONDecodeError:\n",
    "                tracks = []  # En caso de error, usar una lista vacía\n",
    "        elif not isinstance(tracks, list):\n",
    "            tracks = []  # Asegurar que tracks sea una lista si no es una cadena\n",
    "\n",
    "        if tracks:\n",
    "            track_data = json_normalize(tracks)\n",
    "            track_data['pid'] = row['pid']  # añadimos el id de la playlist para mantener la referencia\n",
    "            expanded_tracks_df = pd.concat([expanded_tracks_df, track_data], ignore_index=True)\n",
    "    return expanded_tracks_df"
   ]
  },
  {
   "cell_type": "code",
   "execution_count": 7,
   "metadata": {},
   "outputs": [],
   "source": [
    "expanded_tracks_df = expandir_tracks(playlists)"
   ]
  },
  {
   "cell_type": "code",
   "execution_count": 8,
   "metadata": {},
   "outputs": [
    {
     "data": {
      "text/html": [
       "<div>\n",
       "<style scoped>\n",
       "    .dataframe tbody tr th:only-of-type {\n",
       "        vertical-align: middle;\n",
       "    }\n",
       "\n",
       "    .dataframe tbody tr th {\n",
       "        vertical-align: top;\n",
       "    }\n",
       "\n",
       "    .dataframe thead th {\n",
       "        text-align: right;\n",
       "    }\n",
       "</style>\n",
       "<table border=\"1\" class=\"dataframe\">\n",
       "  <thead>\n",
       "    <tr style=\"text-align: right;\">\n",
       "      <th></th>\n",
       "      <th>name</th>\n",
       "      <th>collaborative</th>\n",
       "      <th>pid</th>\n",
       "      <th>modified_at</th>\n",
       "      <th>num_tracks</th>\n",
       "      <th>num_albums</th>\n",
       "      <th>num_followers</th>\n",
       "      <th>num_edits</th>\n",
       "      <th>duration_ms</th>\n",
       "      <th>num_artists</th>\n",
       "      <th>description</th>\n",
       "    </tr>\n",
       "  </thead>\n",
       "  <tbody>\n",
       "    <tr>\n",
       "      <th>0</th>\n",
       "      <td>random</td>\n",
       "      <td>false</td>\n",
       "      <td>674000</td>\n",
       "      <td>1479168000</td>\n",
       "      <td>141</td>\n",
       "      <td>117</td>\n",
       "      <td>1</td>\n",
       "      <td>26</td>\n",
       "      <td>36307284</td>\n",
       "      <td>81</td>\n",
       "      <td>NaN</td>\n",
       "    </tr>\n",
       "    <tr>\n",
       "      <th>1</th>\n",
       "      <td>Summer 2015</td>\n",
       "      <td>false</td>\n",
       "      <td>674001</td>\n",
       "      <td>1471564800</td>\n",
       "      <td>191</td>\n",
       "      <td>155</td>\n",
       "      <td>1</td>\n",
       "      <td>88</td>\n",
       "      <td>42162338</td>\n",
       "      <td>131</td>\n",
       "      <td>NaN</td>\n",
       "    </tr>\n",
       "    <tr>\n",
       "      <th>2</th>\n",
       "      <td>Dinner</td>\n",
       "      <td>false</td>\n",
       "      <td>674002</td>\n",
       "      <td>1501027200</td>\n",
       "      <td>26</td>\n",
       "      <td>24</td>\n",
       "      <td>1</td>\n",
       "      <td>2</td>\n",
       "      <td>6041217</td>\n",
       "      <td>21</td>\n",
       "      <td>NaN</td>\n",
       "    </tr>\n",
       "    <tr>\n",
       "      <th>3</th>\n",
       "      <td>Reggae</td>\n",
       "      <td>false</td>\n",
       "      <td>674003</td>\n",
       "      <td>1474156800</td>\n",
       "      <td>26</td>\n",
       "      <td>25</td>\n",
       "      <td>2</td>\n",
       "      <td>4</td>\n",
       "      <td>5572231</td>\n",
       "      <td>16</td>\n",
       "      <td>NaN</td>\n",
       "    </tr>\n",
       "    <tr>\n",
       "      <th>4</th>\n",
       "      <td>angst</td>\n",
       "      <td>false</td>\n",
       "      <td>674004</td>\n",
       "      <td>1506902400</td>\n",
       "      <td>22</td>\n",
       "      <td>21</td>\n",
       "      <td>1</td>\n",
       "      <td>5</td>\n",
       "      <td>5383303</td>\n",
       "      <td>19</td>\n",
       "      <td>NaN</td>\n",
       "    </tr>\n",
       "  </tbody>\n",
       "</table>\n",
       "</div>"
      ],
      "text/plain": [
       "          name collaborative     pid  modified_at  num_tracks  num_albums  \\\n",
       "0       random         false  674000   1479168000         141         117   \n",
       "1  Summer 2015         false  674001   1471564800         191         155   \n",
       "2       Dinner         false  674002   1501027200          26          24   \n",
       "3       Reggae         false  674003   1474156800          26          25   \n",
       "4        angst         false  674004   1506902400          22          21   \n",
       "\n",
       "   num_followers  num_edits  duration_ms  num_artists description  \n",
       "0              1         26     36307284           81         NaN  \n",
       "1              1         88     42162338          131         NaN  \n",
       "2              1          2      6041217           21         NaN  \n",
       "3              2          4      5572231           16         NaN  \n",
       "4              1          5      5383303           19         NaN  "
      ]
     },
     "execution_count": 8,
     "metadata": {},
     "output_type": "execute_result"
    }
   ],
   "source": [
    "playlists.drop(\"tracks\", axis=1, inplace=True)\n",
    "playlists.head()"
   ]
  },
  {
   "cell_type": "code",
   "execution_count": 9,
   "metadata": {},
   "outputs": [],
   "source": [
    "by_playlist = expanded_tracks_df.groupby('pid').agg(\n",
    "    num_songs=('track_name', 'count'),  # Contamos el número de canciones por playlist\n",
    "    avg_duration=('duration_ms', 'mean'),  # Calculamos la duración media de las canciones\n",
    "    artists=('artist_name', lambda x: set(x)),  # Obtenemos un conjunto de artistas únicos\n",
    "    songs =('track_uri', lambda x: set(x)),  # Obtenemos un conjunto de caciones únicas\n",
    "    albums =('album_name', lambda x: set(x))  # Obtenemos un conjunto de albumes únicos\n",
    ")\n",
    "\n",
    "by_playlist['avg_duration'] = by_playlist['avg_duration'] / 60000 # Convertimos la duración de milisegundos a minutos\n",
    "# by_playlist.head()"
   ]
  },
  {
   "cell_type": "code",
   "execution_count": 10,
   "metadata": {},
   "outputs": [],
   "source": [
    "playlist_per_song = expanded_tracks_df.groupby('track_uri')['pid'].agg(list).reset_index()\n",
    "# playlist_per_song.head()"
   ]
  },
  {
   "cell_type": "markdown",
   "metadata": {},
   "source": [
    "- Pasamos los URL a un id de cancion"
   ]
  },
  {
   "cell_type": "code",
   "execution_count": 11,
   "metadata": {},
   "outputs": [
    {
     "data": {
      "text/html": [
       "<div>\n",
       "<style scoped>\n",
       "    .dataframe tbody tr th:only-of-type {\n",
       "        vertical-align: middle;\n",
       "    }\n",
       "\n",
       "    .dataframe tbody tr th {\n",
       "        vertical-align: top;\n",
       "    }\n",
       "\n",
       "    .dataframe thead th {\n",
       "        text-align: right;\n",
       "    }\n",
       "</style>\n",
       "<table border=\"1\" class=\"dataframe\">\n",
       "  <thead>\n",
       "    <tr style=\"text-align: right;\">\n",
       "      <th></th>\n",
       "      <th>track_uri</th>\n",
       "      <th>pid</th>\n",
       "      <th>track_id</th>\n",
       "    </tr>\n",
       "  </thead>\n",
       "  <tbody>\n",
       "    <tr>\n",
       "      <th>0</th>\n",
       "      <td>spotify:track:000pmJ2wC4EvNSbXa3aHwT</td>\n",
       "      <td>[176550]</td>\n",
       "      <td>1</td>\n",
       "    </tr>\n",
       "    <tr>\n",
       "      <th>1</th>\n",
       "      <td>spotify:track:000xQL6tZNLJzIrtIgxqSl</td>\n",
       "      <td>[674120, 674982, 120045, 120092, 120110, 12019...</td>\n",
       "      <td>2</td>\n",
       "    </tr>\n",
       "    <tr>\n",
       "      <th>2</th>\n",
       "      <td>spotify:track:000xYdQfIZ4pDmBGzQalKU</td>\n",
       "      <td>[674480]</td>\n",
       "      <td>3</td>\n",
       "    </tr>\n",
       "    <tr>\n",
       "      <th>3</th>\n",
       "      <td>spotify:track:0010mZpCCwlPwoBiBsjoac</td>\n",
       "      <td>[120352, 761127, 124129]</td>\n",
       "      <td>4</td>\n",
       "    </tr>\n",
       "    <tr>\n",
       "      <th>4</th>\n",
       "      <td>spotify:track:001BVhvaZTf2icV88rU3DA</td>\n",
       "      <td>[346171, 707721, 478347]</td>\n",
       "      <td>5</td>\n",
       "    </tr>\n",
       "  </tbody>\n",
       "</table>\n",
       "</div>"
      ],
      "text/plain": [
       "                              track_uri  \\\n",
       "0  spotify:track:000pmJ2wC4EvNSbXa3aHwT   \n",
       "1  spotify:track:000xQL6tZNLJzIrtIgxqSl   \n",
       "2  spotify:track:000xYdQfIZ4pDmBGzQalKU   \n",
       "3  spotify:track:0010mZpCCwlPwoBiBsjoac   \n",
       "4  spotify:track:001BVhvaZTf2icV88rU3DA   \n",
       "\n",
       "                                                 pid  track_id  \n",
       "0                                           [176550]         1  \n",
       "1  [674120, 674982, 120045, 120092, 120110, 12019...         2  \n",
       "2                                           [674480]         3  \n",
       "3                           [120352, 761127, 124129]         4  \n",
       "4                           [346171, 707721, 478347]         5  "
      ]
     },
     "execution_count": 11,
     "metadata": {},
     "output_type": "execute_result"
    }
   ],
   "source": [
    "url_id = {}\n",
    "n = 1\n",
    "\n",
    "def key_exists(key, dictionary):\n",
    "    try:\n",
    "        value = dictionary[key]\n",
    "        return True\n",
    "    except KeyError:\n",
    "        return False\n",
    "\n",
    "def get_id(x, n):\n",
    "    if not key_exists(x, url_id):\n",
    "        url_id[x] = n\n",
    "        n += 1\n",
    "    return url_id[x], n\n",
    "\n",
    "values = []\n",
    "\n",
    "for val in playlist_per_song[\"track_uri\"]:\n",
    "    valu, n = get_id(val, n)\n",
    "    values.append(valu)\n",
    "\n",
    "playlist_per_song[\"track_id\"] = values\n",
    "playlist_per_song.head()"
   ]
  },
  {
   "cell_type": "code",
   "execution_count": 12,
   "metadata": {},
   "outputs": [],
   "source": [
    "expanded_tracks_df[\"track_id\"] = expanded_tracks_df[\"track_uri\"].apply(lambda x: url_id[x])"
   ]
  },
  {
   "cell_type": "code",
   "execution_count": 13,
   "metadata": {},
   "outputs": [],
   "source": [
    "by_playlist[\"track_id\"] = by_playlist[\"songs\"].apply(lambda x: [url_id[val] for val in list(x)])\n",
    "# by_playlist.head()"
   ]
  },
  {
   "cell_type": "code",
   "execution_count": 14,
   "metadata": {},
   "outputs": [],
   "source": [
    "playlist_per_song['n_playlists'] = playlist_per_song['pid'].apply(lambda x: len(set(x)))"
   ]
  },
  {
   "cell_type": "code",
   "execution_count": 15,
   "metadata": {},
   "outputs": [
    {
     "data": {
      "text/plain": [
       "3.839445982096328"
      ]
     },
     "execution_count": 15,
     "metadata": {},
     "output_type": "execute_result"
    }
   ],
   "source": [
    "playlist_per_song[\"n_playlists\"].mean()"
   ]
  },
  {
   "cell_type": "code",
   "execution_count": 16,
   "metadata": {},
   "outputs": [
    {
     "data": {
      "text/plain": [
       "track_uri                   spotify:track:1xznGGDReH1oQq0xzbwXa3\n",
       "pid            [674001, 674041, 674050, 674058, 674069, 67407...\n",
       "track_id                                                   43755\n",
       "n_playlists                                                  442\n",
       "Name: 43754, dtype: object"
      ]
     },
     "execution_count": 16,
     "metadata": {},
     "output_type": "execute_result"
    }
   ],
   "source": [
    "cancion_mas_reproducida = playlist_per_song[\"n_playlists\"].idxmax()\n",
    "playlist_per_song.iloc[cancion_mas_reproducida]"
   ]
  },
  {
   "cell_type": "code",
   "execution_count": 17,
   "metadata": {},
   "outputs": [
    {
     "data": {
      "image/png": "[encoded data removed]",
      "text/plain": [
       "<Figure size 1000x200 with 1 Axes>"
      ]
     },
     "metadata": {},
     "output_type": "display_data"
    }
   ],
   "source": [
    "metricas = {\n",
    "    'Metrica': ['Numero de playlist distintas', 'Numero de canciones distintas',\n",
    "                'Promedio de canciones por playlist', 'Desviacion estándar de canciones por playlist',\n",
    "                'Promedio de playlists por cancion', 'Desviacion estándar de playlists por cancion'],\n",
    "    'Valor': [by_playlist.shape[0], len(expanded_tracks_df[\"track_uri\"].unique()), by_playlist[\"num_songs\"].mean(), by_playlist[\"num_songs\"].std(),\n",
    "              playlist_per_song[\"n_playlists\"].mean(), playlist_per_song[\"n_playlists\"].std()]\n",
    "}\n",
    "\n",
    "df = pd.DataFrame(metricas)\n",
    "\n",
    "fig, ax = plt.subplots(figsize=(10, 2))\n",
    "ax.axis('off')\n",
    "tabla = ax.table(cellText=df.values, colLabels=df.columns, loc='center', cellLoc='center', colWidths=[0.5, 0.5])\n",
    "plt.title('Tabla Resumen', fontsize=16)\n",
    "plt.show()"
   ]
  },
  {
   "cell_type": "markdown",
   "metadata": {},
   "source": [
    "Mantenemos solo las playlist con al menos 10 canciones"
   ]
  },
  {
   "cell_type": "code",
   "execution_count": 18,
   "metadata": {},
   "outputs": [],
   "source": [
    "#Hay playlist que tienen la misma cancion más de una vez, aca las tratamos solo una vez\n",
    "playlist_track = expanded_tracks_df[[\"pid\",\"track_id\",\"track_name\",\"duration_ms\",\"artist_name\"]].drop_duplicates()\n",
    "# playlist_track.head()"
   ]
  },
  {
   "cell_type": "code",
   "execution_count": 19,
   "metadata": {},
   "outputs": [
    {
     "name": "stdout",
     "output_type": "stream",
     "text": [
      "352 9648\n"
     ]
    }
   ],
   "source": [
    "# Acá separamos en las playlists con un número de canciones mayor a NUM_CANCIONES\n",
    "# Luego nos quedamos solo con las playlist con un número mayor para hacer el entrenamiento y el testeo\n",
    "NUM_CANCIONES = 10\n",
    "song_per_playlist = playlist_track.groupby('pid')['track_id'].agg(list).reset_index()\n",
    "song_per_playlist['n_songs'] = song_per_playlist['track_id'].apply(len)\n",
    "pid_less = song_per_playlist[song_per_playlist['n_songs'] < NUM_CANCIONES]['pid'].unique()\n",
    "pid_more = song_per_playlist[song_per_playlist['n_songs'] >= NUM_CANCIONES]['pid'].unique()\n",
    "print(len(pid_less), len(pid_more))"
   ]
  },
  {
   "cell_type": "code",
   "execution_count": 20,
   "metadata": {},
   "outputs": [
    {
     "data": {
      "text/plain": [
       "0.9648"
      ]
     },
     "execution_count": 20,
     "metadata": {},
     "output_type": "execute_result"
    }
   ],
   "source": [
    "len(pid_more)/by_playlist.shape[0]"
   ]
  },
  {
   "cell_type": "code",
   "execution_count": 21,
   "metadata": {},
   "outputs": [
    {
     "data": {
      "text/plain": [
       "0.0352"
      ]
     },
     "execution_count": 21,
     "metadata": {},
     "output_type": "execute_result"
    }
   ],
   "source": [
    "len(pid_less)/by_playlist.shape[0]"
   ]
  },
  {
   "cell_type": "code",
   "execution_count": 22,
   "metadata": {},
   "outputs": [],
   "source": [
    "from sklearn.model_selection import train_test_split"
   ]
  },
  {
   "cell_type": "code",
   "execution_count": 23,
   "metadata": {},
   "outputs": [
    {
     "name": "stdout",
     "output_type": "stream",
     "text": [
      "7718 1930\n"
     ]
    }
   ],
   "source": [
    "# Acá hacemos una separación de las playlists que le vamos a entregar la información completa,\n",
    "# y las que le vamos a entregar solo las primeras n\n",
    "\n",
    "train_pid, test_pid = train_test_split(pid_more, test_size=0.2, random_state=42)\n",
    "print(len(train_pid), len(test_pid))"
   ]
  },
  {
   "cell_type": "code",
   "execution_count": 24,
   "metadata": {},
   "outputs": [
    {
     "data": {
      "text/html": [
       "<div>\n",
       "<style scoped>\n",
       "    .dataframe tbody tr th:only-of-type {\n",
       "        vertical-align: middle;\n",
       "    }\n",
       "\n",
       "    .dataframe tbody tr th {\n",
       "        vertical-align: top;\n",
       "    }\n",
       "\n",
       "    .dataframe thead th {\n",
       "        text-align: right;\n",
       "    }\n",
       "</style>\n",
       "<table border=\"1\" class=\"dataframe\">\n",
       "  <thead>\n",
       "    <tr style=\"text-align: right;\">\n",
       "      <th></th>\n",
       "      <th>pid</th>\n",
       "      <th>track_id</th>\n",
       "    </tr>\n",
       "  </thead>\n",
       "  <tbody>\n",
       "    <tr>\n",
       "      <th>0</th>\n",
       "      <td>3000</td>\n",
       "      <td>[64915, 122329, 18296, 163225, 80436, 146959, ...</td>\n",
       "    </tr>\n",
       "    <tr>\n",
       "      <th>1</th>\n",
       "      <td>3001</td>\n",
       "      <td>[136703, 156726, 48512, 30344, 103200, 156821,...</td>\n",
       "    </tr>\n",
       "    <tr>\n",
       "      <th>2</th>\n",
       "      <td>3002</td>\n",
       "      <td>[155266, 63130, 124133, 36885, 14275, 115421, ...</td>\n",
       "    </tr>\n",
       "  </tbody>\n",
       "</table>\n",
       "</div>"
      ],
      "text/plain": [
       "    pid                                           track_id\n",
       "0  3000  [64915, 122329, 18296, 163225, 80436, 146959, ...\n",
       "1  3001  [136703, 156726, 48512, 30344, 103200, 156821,...\n",
       "2  3002  [155266, 63130, 124133, 36885, 14275, 115421, ..."
      ]
     },
     "execution_count": 24,
     "metadata": {},
     "output_type": "execute_result"
    }
   ],
   "source": [
    "song_per_playlist.drop(\"n_songs\", axis=1, inplace=True)\n",
    "song_per_playlist.head(3)"
   ]
  },
  {
   "cell_type": "markdown",
   "metadata": {},
   "source": [
    "Para el 20% separamos sus 5 pimeras canciones de las demas. (las 5 primeras serán usadas en train y las demas en el conjunto de testeo)"
   ]
  },
  {
   "cell_type": "code",
   "execution_count": 25,
   "metadata": {},
   "outputs": [],
   "source": [
    "def Sep_first_n(n, pids):\n",
    "    #Primero separamos las primeras n canciones de una playlist y las siguientes\n",
    "    all = song_per_playlist[song_per_playlist['pid'].isin(pids)].copy()\n",
    "    all.loc[:, 'fist_5'] = all['track_id'].apply(lambda x: x[:n])\n",
    "    all.loc[:, 'next']= all['track_id'].apply(lambda x: x[n:])\n",
    "    all.drop(\"track_id\", axis=1, inplace=True)\n",
    "    #Luego utilizamos las primeras n canciones para entrenar y las siguientes para testear\n",
    "    train = all[['pid', 'fist_5']].explode('fist_5')\n",
    "    test = all[['pid', 'next']].explode('next')\n",
    "    train.rename(columns={'fist_5': 'track_id'}, inplace=True)\n",
    "    test.rename(columns={'next': 'track_id'}, inplace=True)\n",
    "    return train, test"
   ]
  },
  {
   "cell_type": "code",
   "execution_count": 26,
   "metadata": {},
   "outputs": [],
   "source": [
    "# Acá separamos para las playlist que están en test sus primeras PRIMERAS_N canciones para train y el resto para train\n",
    "# Hay que asegurarse que PRIMERAS_N << NUM_CANCIONES\n",
    "\n",
    "PRIMERAS_N = 5\n",
    "test_train, test_test = Sep_first_n(PRIMERAS_N, test_pid)\n",
    "\n",
    "# clear_outputs()"
   ]
  },
  {
   "cell_type": "code",
   "execution_count": 27,
   "metadata": {},
   "outputs": [],
   "source": [
    "# Luego acá creamos los datasets de train y test\n",
    "\n",
    "data = playlist_track[['pid', 'track_id']]\n",
    "train_data = data[data['pid'].isin(train_pid)]                       # Playlists con todas las canciones\n",
    "train_data = pd.concat([train_data, test_train], ignore_index=True)  # Playlists con solo las PRIMERAS_N canciones\n",
    "test_data = test_test\n"
   ]
  },
  {
   "cell_type": "code",
   "execution_count": 28,
   "metadata": {},
   "outputs": [
    {
     "data": {
      "text/plain": [
       "(array([13, 18, 23, ..., 172678, 172679, 172693], dtype=object),\n",
       " 0.39359153166684546)"
      ]
     },
     "execution_count": 28,
     "metadata": {},
     "output_type": "execute_result"
    }
   ],
   "source": [
    "# Pequeño test para revisar cuantas canciones el modelo no se ha entrenado con, lo cual implica que no las va a poder recomendar\n",
    "# Este número debería bajar si incluimos más data en el comienzo\n",
    "\n",
    "test_tracks_ids = test_data['track_id'].unique()\n",
    "train_tracks_ids = train_data['track_id'].unique()\n",
    "tracks_not_in_train = np.setdiff1d(test_tracks_ids, train_tracks_ids)\n",
    "tracks_not_in_train, len(tracks_not_in_train) / len(test_tracks_ids)"
   ]
  },
  {
   "cell_type": "markdown",
   "metadata": {},
   "source": [
    "# Most Popular"
   ]
  },
  {
   "cell_type": "code",
   "execution_count": 29,
   "metadata": {},
   "outputs": [],
   "source": [
    "def R_precision(recommended, actual):\n",
    "    n = len(actual)\n",
    "    recommended = recommended[:n]\n",
    "    in_both = np.intersect1d(recommended, actual)\n",
    "    return len(in_both) / n\n",
    "\n",
    "def dcg(relevance_scores):\n",
    "    return relevance_scores[0] + np.sum(\n",
    "        [rel / np.log2(idx + 1) for idx, rel in enumerate(relevance_scores[1:], start=2)]\n",
    "    )\n",
    "\n",
    "def ndcg(recommended, actual):\n",
    "    \"\"\"Calculate Normalized Discounted Cumulative Gain (NDCG) at k\"\"\"\n",
    "    # Relevance scores: 1 if the item is in the ground truth, 0 otherwise\n",
    "    relevance_scores = [1 if item in actual else 0 for item in recommended]\n",
    "\n",
    "    # Calculate DCG for the recommended list\n",
    "    DCG = dcg(relevance_scores)\n",
    "\n",
    "    # Calculate IDCG for the ideal list (the best possible ranking)\n",
    "    ideal_relevance_scores = sorted(relevance_scores, reverse=True)\n",
    "    IDCG = dcg(ideal_relevance_scores)\n",
    "\n",
    "    # Calculate NDCG\n",
    "    NDCG = DCG / IDCG if IDCG > 0 else 0\n",
    "    return NDCG\n",
    "\n",
    "def rec_song_clicks(recommended, actual):\n",
    "    for i, item in enumerate(recommended):\n",
    "        if item in actual:\n",
    "            clicks = np.floor(i / 10)\n",
    "            return clicks\n",
    "    return 51"
   ]
  },
  {
   "cell_type": "code",
   "execution_count": 30,
   "metadata": {},
   "outputs": [
    {
     "name": "stdout",
     "output_type": "stream",
     "text": [
      "1930\n",
      "150136\n",
      "R prec: 0.025084451991659807, NDCG: 0.22074027180369993, Clicks: 19.661658031088084\n"
     ]
    }
   ],
   "source": [
    "user_ids = test_pid\n",
    "print(len(user_ids))\n",
    "print(train_data['track_id'].nunique())\n",
    "r_prec = []\n",
    "ndcgs = []\n",
    "clicks = []\n",
    "\n",
    "ids = train_data['track_id'].value_counts().index[0:500].to_list()\n",
    "for userid in user_ids:\n",
    " \n",
    "  actual = test_test[test_test['pid'] == userid]['track_id'].values\n",
    "\n",
    "  # print(actual)\n",
    "  r_prec.append(R_precision(ids, actual))\n",
    "  ndcgs.append(ndcg(ids, actual))\n",
    "  clicks.append(rec_song_clicks(ids, actual))\n",
    "\n",
    "  # in_both = np.intersect1d(ids, actual)\n",
    "  # if in_both.size > 0:\n",
    "  #     print(in_both)\n",
    "\n",
    "print(f\"R prec: {np.mean(r_prec)}, NDCG: {np.mean(ndcgs)}, Clicks: {np.mean(clicks)}\")"
   ]
  },
  {
   "cell_type": "markdown",
   "metadata": {},
   "source": [
    "# Random"
   ]
  },
  {
   "cell_type": "code",
   "execution_count": 31,
   "metadata": {},
   "outputs": [
    {
     "name": "stdout",
     "output_type": "stream",
     "text": [
      "1930\n",
      "150136\n",
      "R prec: 0.00032854326764496044, NDCG: 0.02206979940377213, Clicks: 46.80051813471503\n"
     ]
    }
   ],
   "source": [
    "user_ids = test_pid\n",
    "print(len(user_ids))\n",
    "print(train_data['track_id'].nunique())\n",
    "r_prec = []\n",
    "ndcgs = []\n",
    "clicks = []\n",
    "for userid in user_ids:\n",
    "\n",
    "  # random\n",
    "  ids = np.random.choice(train_data['track_id'].unique(), size=500, replace=False)\n",
    "  actual = test_test[test_test['pid'] == userid]['track_id'].values\n",
    "\n",
    "  # print(actual)\n",
    "  r_prec.append(R_precision(ids, actual))\n",
    "  ndcgs.append(ndcg(ids, actual))\n",
    "  clicks.append(rec_song_clicks(ids, actual))\n",
    "  \n",
    "print(f\"R prec: {np.mean(r_prec)}, NDCG: {np.mean(ndcgs)}, Clicks: {np.mean(clicks)}\")"
   ]
  },
  {
   "cell_type": "markdown",
   "metadata": {},
   "source": [
    "# New ALS"
   ]
  },
  {
   "cell_type": "code",
   "execution_count": 32,
   "metadata": {},
   "outputs": [
    {
     "name": "stderr",
     "output_type": "stream",
     "text": [
      "c:\\Users\\jasar\\anaconda3\\envs\\Recomendadores\\lib\\site-packages\\tqdm\\auto.py:21: TqdmWarning: IProgress not found. Please update jupyter and ipywidgets. See https://ipywidgets.readthedocs.io/en/stable/user_install.html\n",
      "  from .autonotebook import tqdm as notebook_tqdm\n"
     ]
    }
   ],
   "source": [
    "import implicit as implicit"
   ]
  },
  {
   "cell_type": "code",
   "execution_count": 33,
   "metadata": {},
   "outputs": [],
   "source": [
    "from scipy.sparse import csr_matrix\n",
    "from implicit.als import AlternatingLeastSquares\n",
    "from implicit.bpr import BayesianPersonalizedRanking\n",
    "from implicit.evaluation import mean_average_precision_at_k, ndcg_at_k\n",
    "from sklearn.metrics.pairwise import cosine_similarity"
   ]
  },
  {
   "cell_type": "code",
   "execution_count": 34,
   "metadata": {},
   "outputs": [
    {
     "name": "stderr",
     "output_type": "stream",
     "text": [
      "c:\\Users\\jasar\\anaconda3\\envs\\Recomendadores\\lib\\site-packages\\implicit\\cpu\\als.py:95: RuntimeWarning: OpenBLAS is configured to use 8 threads. It is highly recommended to disable its internal threadpool by setting the environment variable 'OPENBLAS_NUM_THREADS=1' or by calling 'threadpoolctl.threadpool_limits(1, \"blas\")'. Having OpenBLAS use a threadpool can lead to severe performance issues here.\n",
      "  check_blas_config()\n",
      "c:\\Users\\jasar\\anaconda3\\envs\\Recomendadores\\lib\\site-packages\\implicit\\cpu\\als.py:95: RuntimeWarning: Intel MKL BLAS is configured to use 4 threads. It is highly recommended to disable its internal threadpool by setting the environment variable 'MKL_NUM_THREADS=1' or by callng 'threadpoolctl.threadpool_limits(1, \"blas\")'. Having MKL use a threadpool can lead to severe performance issues\n",
      "  check_blas_config()\n",
      "100%|██████████| 15/15 [00:11<00:00,  1.31it/s]\n"
     ]
    }
   ],
   "source": [
    "train_interaction_matrix = csr_matrix((np.ones(len(train_data)), (train_data['pid'], train_data['track_id'])))\n",
    "test_interaction_matrix = csr_matrix((np.ones(len(test_data)), (test_data['pid'], test_data['track_id'])))\n",
    "\n",
    "\n",
    "model = AlternatingLeastSquares(factors=100, alpha = 20)\n",
    "model.fit(train_interaction_matrix)"
   ]
  },
  {
   "cell_type": "code",
   "execution_count": 35,
   "metadata": {},
   "outputs": [
    {
     "data": {
      "text/html": [
       "<div>\n",
       "<style scoped>\n",
       "    .dataframe tbody tr th:only-of-type {\n",
       "        vertical-align: middle;\n",
       "    }\n",
       "\n",
       "    .dataframe tbody tr th {\n",
       "        vertical-align: top;\n",
       "    }\n",
       "\n",
       "    .dataframe thead th {\n",
       "        text-align: right;\n",
       "    }\n",
       "</style>\n",
       "<table border=\"1\" class=\"dataframe\">\n",
       "  <thead>\n",
       "    <tr style=\"text-align: right;\">\n",
       "      <th></th>\n",
       "      <th>pid</th>\n",
       "      <th>track_id</th>\n",
       "    </tr>\n",
       "  </thead>\n",
       "  <tbody>\n",
       "    <tr>\n",
       "      <th>0</th>\n",
       "      <td>3000</td>\n",
       "      <td>146959</td>\n",
       "    </tr>\n",
       "    <tr>\n",
       "      <th>0</th>\n",
       "      <td>3000</td>\n",
       "      <td>63793</td>\n",
       "    </tr>\n",
       "    <tr>\n",
       "      <th>0</th>\n",
       "      <td>3000</td>\n",
       "      <td>66369</td>\n",
       "    </tr>\n",
       "    <tr>\n",
       "      <th>0</th>\n",
       "      <td>3000</td>\n",
       "      <td>78526</td>\n",
       "    </tr>\n",
       "    <tr>\n",
       "      <th>0</th>\n",
       "      <td>3000</td>\n",
       "      <td>20469</td>\n",
       "    </tr>\n",
       "    <tr>\n",
       "      <th>...</th>\n",
       "      <td>...</td>\n",
       "      <td>...</td>\n",
       "    </tr>\n",
       "    <tr>\n",
       "      <th>9998</th>\n",
       "      <td>901998</td>\n",
       "      <td>70517</td>\n",
       "    </tr>\n",
       "    <tr>\n",
       "      <th>9998</th>\n",
       "      <td>901998</td>\n",
       "      <td>84648</td>\n",
       "    </tr>\n",
       "    <tr>\n",
       "      <th>9998</th>\n",
       "      <td>901998</td>\n",
       "      <td>135777</td>\n",
       "    </tr>\n",
       "    <tr>\n",
       "      <th>9998</th>\n",
       "      <td>901998</td>\n",
       "      <td>115900</td>\n",
       "    </tr>\n",
       "    <tr>\n",
       "      <th>9998</th>\n",
       "      <td>901998</td>\n",
       "      <td>65960</td>\n",
       "    </tr>\n",
       "  </tbody>\n",
       "</table>\n",
       "<p>124730 rows × 2 columns</p>\n",
       "</div>"
      ],
      "text/plain": [
       "         pid track_id\n",
       "0       3000   146959\n",
       "0       3000    63793\n",
       "0       3000    66369\n",
       "0       3000    78526\n",
       "0       3000    20469\n",
       "...      ...      ...\n",
       "9998  901998    70517\n",
       "9998  901998    84648\n",
       "9998  901998   135777\n",
       "9998  901998   115900\n",
       "9998  901998    65960\n",
       "\n",
       "[124730 rows x 2 columns]"
      ]
     },
     "execution_count": 35,
     "metadata": {},
     "output_type": "execute_result"
    }
   ],
   "source": [
    "test_test"
   ]
  },
  {
   "cell_type": "code",
   "execution_count": 36,
   "metadata": {},
   "outputs": [
    {
     "name": "stdout",
     "output_type": "stream",
     "text": [
      "1930\n",
      "150136\n",
      "R prec: 0.11748838164223782, NDCG: 0.45647046151936554, Clicks: 5.147668393782383\n"
     ]
    }
   ],
   "source": [
    "# Pequeño código mostrando que el modelo efectivamente logra recomendar canciones relevantes para usuarios (playlists) del train\n",
    "# Falta implementar las métricas, las clásicas de ndcg y r-precision y las que se crearon para la competencia\n",
    "\n",
    "user_ids = test_pid\n",
    "print(len(user_ids))\n",
    "print(train_data['track_id'].nunique())\n",
    "r_prec = []\n",
    "ndcgs = []\n",
    "clicks = []\n",
    "for userid in user_ids:\n",
    "\n",
    "  ids, scores = model.recommend(userid, train_interaction_matrix[userid], N=500, filter_already_liked_items=True)\n",
    "  # print(ids, scores)\n",
    "  actual = test_test[test_test['pid'] == userid]['track_id'].values\n",
    "  # print(actual)\n",
    "\n",
    "  r_prec.append(R_precision(ids, actual))\n",
    "  ndcgs.append(ndcg(ids, actual))\n",
    "  clicks.append(rec_song_clicks(ids, actual))\n",
    "\n",
    "  # in_both = np.intersect1d(ids, actual)\n",
    "  # if in_both.size > 0:\n",
    "  #   print(\"Usuario: \", userid)\n",
    "  #   print(in_both)\n",
    "\n",
    "print(f\"R prec: {np.mean(r_prec)}, NDCG: {np.mean(ndcgs)}, Clicks: {np.mean(clicks)}\")"
   ]
  },
  {
   "cell_type": "markdown",
   "metadata": {},
   "source": [
    "# User-User"
   ]
  },
  {
   "cell_type": "code",
   "execution_count": 41,
   "metadata": {},
   "outputs": [
    {
     "name": "stdout",
     "output_type": "stream",
     "text": [
      "Collecting dask-ml\n",
      "  Using cached dask_ml-2024.4.4-py3-none-any.whl.metadata (5.9 kB)\n",
      "Requirement already satisfied: dask[complete] in c:\\users\\jasar\\anaconda3\\envs\\recomendadores\\lib\\site-packages (2023.3.2)\n",
      "Requirement already satisfied: click>=7.0 in c:\\users\\jasar\\anaconda3\\envs\\recomendadores\\lib\\site-packages (from dask[complete]) (8.1.7)\n",
      "Requirement already satisfied: cloudpickle>=1.1.1 in c:\\users\\jasar\\anaconda3\\envs\\recomendadores\\lib\\site-packages (from dask[complete]) (3.0.0)\n",
      "Requirement already satisfied: fsspec>=0.6.0 in c:\\users\\jasar\\anaconda3\\envs\\recomendadores\\lib\\site-packages (from dask[complete]) (2024.6.1)\n",
      "Requirement already satisfied: packaging>=20.0 in c:\\users\\jasar\\anaconda3\\envs\\recomendadores\\lib\\site-packages (from dask[complete]) (24.0)\n",
      "Requirement already satisfied: partd>=1.2.0 in c:\\users\\jasar\\anaconda3\\envs\\recomendadores\\lib\\site-packages (from dask[complete]) (1.4.1)\n",
      "Requirement already satisfied: pyyaml>=5.3.1 in c:\\users\\jasar\\anaconda3\\envs\\recomendadores\\lib\\site-packages (from dask[complete]) (6.0.1)\n",
      "Requirement already satisfied: toolz>=0.8.2 in c:\\users\\jasar\\anaconda3\\envs\\recomendadores\\lib\\site-packages (from dask[complete]) (0.12.1)\n",
      "Requirement already satisfied: importlib-metadata>=4.13.0 in c:\\users\\jasar\\anaconda3\\envs\\recomendadores\\lib\\site-packages (from dask[complete]) (7.1.0)\n",
      "Collecting bokeh<3,>=2.4.2 (from dask[complete])\n",
      "  Downloading bokeh-2.4.3-py3-none-any.whl.metadata (14 kB)\n",
      "Collecting distributed==2023.3.2 (from dask[complete])\n",
      "  Downloading distributed-2023.3.2-py3-none-any.whl.metadata (3.3 kB)\n",
      "Requirement already satisfied: jinja2>=2.10.3 in c:\\users\\jasar\\anaconda3\\envs\\recomendadores\\lib\\site-packages (from dask[complete]) (3.1.4)\n",
      "Requirement already satisfied: numpy>=1.21 in c:\\users\\jasar\\anaconda3\\envs\\recomendadores\\lib\\site-packages (from dask[complete]) (1.24.3)\n",
      "Requirement already satisfied: pandas>=1.3 in c:\\users\\jasar\\anaconda3\\envs\\recomendadores\\lib\\site-packages (from dask[complete]) (1.5.3)\n",
      "Requirement already satisfied: pyarrow>=7.0 in c:\\users\\jasar\\anaconda3\\envs\\recomendadores\\lib\\site-packages (from dask[complete]) (16.1.0)\n",
      "Collecting lz4>=4.3.2 (from dask[complete])\n",
      "  Downloading lz4-4.3.3-cp38-cp38-win_amd64.whl.metadata (3.8 kB)\n",
      "Requirement already satisfied: locket>=1.0.0 in c:\\users\\jasar\\anaconda3\\envs\\recomendadores\\lib\\site-packages (from distributed==2023.3.2->dask[complete]) (1.0.0)\n",
      "Requirement already satisfied: msgpack>=1.0.0 in c:\\users\\jasar\\anaconda3\\envs\\recomendadores\\lib\\site-packages (from distributed==2023.3.2->dask[complete]) (1.0.8)\n",
      "Requirement already satisfied: psutil>=5.7.0 in c:\\users\\jasar\\anaconda3\\envs\\recomendadores\\lib\\site-packages (from distributed==2023.3.2->dask[complete]) (5.9.8)\n",
      "Requirement already satisfied: sortedcontainers>=2.0.5 in c:\\users\\jasar\\anaconda3\\envs\\recomendadores\\lib\\site-packages (from distributed==2023.3.2->dask[complete]) (2.4.0)\n",
      "Requirement already satisfied: tblib>=1.6.0 in c:\\users\\jasar\\anaconda3\\envs\\recomendadores\\lib\\site-packages (from distributed==2023.3.2->dask[complete]) (3.0.0)\n",
      "Requirement already satisfied: tornado>=6.0.3 in c:\\users\\jasar\\anaconda3\\envs\\recomendadores\\lib\\site-packages (from distributed==2023.3.2->dask[complete]) (6.3.3)\n",
      "Requirement already satisfied: urllib3>=1.24.3 in c:\\users\\jasar\\anaconda3\\envs\\recomendadores\\lib\\site-packages (from distributed==2023.3.2->dask[complete]) (2.2.1)\n",
      "Requirement already satisfied: zict>=2.1.0 in c:\\users\\jasar\\anaconda3\\envs\\recomendadores\\lib\\site-packages (from distributed==2023.3.2->dask[complete]) (3.0.0)\n",
      "Collecting dask-glm>=0.2.0 (from dask-ml)\n",
      "  Using cached dask_glm-0.3.2-py2.py3-none-any.whl.metadata (1.5 kB)\n",
      "Collecting multipledispatch>=0.4.9 (from dask-ml)\n",
      "  Downloading multipledispatch-1.0.0-py3-none-any.whl.metadata (3.8 kB)\n",
      "Requirement already satisfied: numba>=0.51.0 in c:\\users\\jasar\\anaconda3\\envs\\recomendadores\\lib\\site-packages (from dask-ml) (0.58.1)\n",
      "Requirement already satisfied: scikit-learn>=1.2.0 in c:\\users\\jasar\\anaconda3\\envs\\recomendadores\\lib\\site-packages (from dask-ml) (1.3.2)\n",
      "Requirement already satisfied: scipy in c:\\users\\jasar\\anaconda3\\envs\\recomendadores\\lib\\site-packages (from dask-ml) (1.10.1)\n",
      "Requirement already satisfied: pillow>=7.1.0 in c:\\users\\jasar\\anaconda3\\envs\\recomendadores\\lib\\site-packages (from bokeh<3,>=2.4.2->dask[complete]) (10.2.0)\n",
      "Requirement already satisfied: typing-extensions>=3.10.0 in c:\\users\\jasar\\anaconda3\\envs\\recomendadores\\lib\\site-packages (from bokeh<3,>=2.4.2->dask[complete]) (4.12.2)\n",
      "Requirement already satisfied: colorama in c:\\users\\jasar\\anaconda3\\envs\\recomendadores\\lib\\site-packages (from click>=7.0->dask[complete]) (0.4.6)\n",
      "Collecting sparse>=0.7.0 (from dask-glm>=0.2.0->dask-ml)\n",
      "  Using cached sparse-0.15.4-py2.py3-none-any.whl.metadata (4.5 kB)\n",
      "Requirement already satisfied: zipp>=0.5 in c:\\users\\jasar\\anaconda3\\envs\\recomendadores\\lib\\site-packages (from importlib-metadata>=4.13.0->dask[complete]) (3.17.0)\n",
      "Requirement already satisfied: MarkupSafe>=2.0 in c:\\users\\jasar\\anaconda3\\envs\\recomendadores\\lib\\site-packages (from jinja2>=2.10.3->dask[complete]) (2.1.5)\n",
      "Requirement already satisfied: llvmlite<0.42,>=0.41.0dev0 in c:\\users\\jasar\\anaconda3\\envs\\recomendadores\\lib\\site-packages (from numba>=0.51.0->dask-ml) (0.41.1)\n",
      "Requirement already satisfied: python-dateutil>=2.8.1 in c:\\users\\jasar\\anaconda3\\envs\\recomendadores\\lib\\site-packages (from pandas>=1.3->dask[complete]) (2.9.0)\n",
      "Requirement already satisfied: pytz>=2020.1 in c:\\users\\jasar\\anaconda3\\envs\\recomendadores\\lib\\site-packages (from pandas>=1.3->dask[complete]) (2024.1)\n",
      "Requirement already satisfied: joblib>=1.1.1 in c:\\users\\jasar\\anaconda3\\envs\\recomendadores\\lib\\site-packages (from scikit-learn>=1.2.0->dask-ml) (1.3.2)\n",
      "Requirement already satisfied: threadpoolctl>=2.0.0 in c:\\users\\jasar\\anaconda3\\envs\\recomendadores\\lib\\site-packages (from scikit-learn>=1.2.0->dask-ml) (3.4.0)\n",
      "Requirement already satisfied: six>=1.5 in c:\\users\\jasar\\anaconda3\\envs\\recomendadores\\lib\\site-packages (from python-dateutil>=2.8.1->pandas>=1.3->dask[complete]) (1.16.0)\n",
      "Downloading distributed-2023.3.2-py3-none-any.whl (956 kB)\n",
      "   ---------------------------------------- 0.0/956.9 kB ? eta -:--:--\n",
      "   - -------------------------------------- 30.7/956.9 kB 1.3 MB/s eta 0:00:01\n",
      "   ---------------- ----------------------- 389.1/956.9 kB 4.9 MB/s eta 0:00:01\n",
      "   ---------------------------------------- 956.9/956.9 kB 7.6 MB/s eta 0:00:00\n",
      "Using cached dask_ml-2024.4.4-py3-none-any.whl (149 kB)\n",
      "Downloading bokeh-2.4.3-py3-none-any.whl (18.5 MB)\n",
      "   ---------------------------------------- 0.0/18.5 MB ? eta -:--:--\n",
      "   -- ------------------------------------- 1.4/18.5 MB 29.0 MB/s eta 0:00:01\n",
      "   ------ --------------------------------- 3.0/18.5 MB 32.0 MB/s eta 0:00:01\n",
      "   ---------- ----------------------------- 4.8/18.5 MB 33.8 MB/s eta 0:00:01\n",
      "   -------------- ------------------------- 6.7/18.5 MB 35.6 MB/s eta 0:00:01\n",
      "   -------------------- ------------------- 9.7/18.5 MB 41.1 MB/s eta 0:00:01\n",
      "   -------------------------- ------------- 12.4/18.5 MB 43.7 MB/s eta 0:00:01\n",
      "   -------------------------------- ------- 14.9/18.5 MB 43.5 MB/s eta 0:00:01\n",
      "   -------------------------------------- - 17.7/18.5 MB 46.7 MB/s eta 0:00:01\n",
      "   ---------------------------------------  18.5/18.5 MB 46.7 MB/s eta 0:00:01\n",
      "   ---------------------------------------- 18.5/18.5 MB 38.4 MB/s eta 0:00:00\n",
      "Using cached dask_glm-0.3.2-py2.py3-none-any.whl (13 kB)\n",
      "Downloading lz4-4.3.3-cp38-cp38-win_amd64.whl (99 kB)\n",
      "   ---------------------------------------- 0.0/99.8 kB ? eta -:--:--\n",
      "   ---------------------------------------- 99.8/99.8 kB 6.0 MB/s eta 0:00:00\n",
      "Downloading multipledispatch-1.0.0-py3-none-any.whl (12 kB)\n",
      "Using cached sparse-0.15.4-py2.py3-none-any.whl (237 kB)\n",
      "Installing collected packages: multipledispatch, lz4, bokeh, sparse, distributed, dask-glm, dask-ml\n",
      "  Attempting uninstall: distributed\n",
      "    Found existing installation: distributed 2023.3.2.1\n",
      "    Uninstalling distributed-2023.3.2.1:\n",
      "      Successfully uninstalled distributed-2023.3.2.1\n",
      "Successfully installed bokeh-2.4.3 dask-glm-0.3.2 dask-ml-2024.4.4 distributed-2023.3.2 lz4-4.3.3 multipledispatch-1.0.0 sparse-0.15.4\n"
     ]
    },
    {
     "name": "stderr",
     "output_type": "stream",
     "text": [
      "ERROR: pip's dependency resolver does not currently take into account all the packages that are installed. This behaviour is the source of the following dependency conflicts.\n",
      "dask-cuda 23.4.0 requires distributed==2023.3.2.1, but you have distributed 2023.3.2 which is incompatible.\n"
     ]
    }
   ],
   "source": [
    "!pip install dask[complete] dask-ml"
   ]
  },
  {
   "cell_type": "code",
   "execution_count": 48,
   "metadata": {},
   "outputs": [],
   "source": [
    "import dask.array as da\n",
    "from dask import delayed"
   ]
  },
  {
   "cell_type": "code",
   "execution_count": 59,
   "metadata": {},
   "outputs": [],
   "source": [
    "data = np.ones(len(train_data))\n",
    "rows = train_data['pid'].values\n",
    "cols = train_data['track_id'].values\n",
    "shape = (train_data['pid'].max() + 1, train_data['track_id'].max() + 1)\n",
    "\n",
    "train_interaction_matrix = csr_matrix((data, (rows, cols)), shape=shape)"
   ]
  },
  {
   "cell_type": "code",
   "execution_count": 54,
   "metadata": {},
   "outputs": [],
   "source": [
    "num_blocks = 10  # Ajusta esto según el tamaño y la memoria disponible\n",
    "block_size = train_interaction_matrix.shape[0] // num_blocks\n",
    "blocks = [train_interaction_matrix[i*block_size:(i+1)*block_size] for i in range(num_blocks)]"
   ]
  },
  {
   "cell_type": "code",
   "execution_count": 55,
   "metadata": {},
   "outputs": [],
   "source": [
    "delayed_results = [delayed(cosine_similarity)(block) for block in blocks]\n",
    "dask_array_blocks = [da.from_delayed(result, shape=(block_size, train_interaction_matrix.shape[1]), dtype=np.float64) for result in delayed_results]\n",
    "\n",
    "full_result = da.concatenate(dask_array_blocks, axis=0)\n",
    "\n",
    "user_similarity = full_result.compute()"
   ]
  },
  {
   "cell_type": "code",
   "execution_count": 63,
   "metadata": {},
   "outputs": [
    {
     "name": "stdout",
     "output_type": "stream",
     "text": [
      "Collecting datasketch\n",
      "  Downloading datasketch-1.6.5-py3-none-any.whl.metadata (5.8 kB)\n",
      "Requirement already satisfied: numpy>=1.11 in c:\\users\\jasar\\anaconda3\\envs\\recomendadores\\lib\\site-packages (from datasketch) (1.24.3)\n",
      "Requirement already satisfied: scipy>=1.0.0 in c:\\users\\jasar\\anaconda3\\envs\\recomendadores\\lib\\site-packages (from datasketch) (1.10.1)\n",
      "Downloading datasketch-1.6.5-py3-none-any.whl (89 kB)\n",
      "   ---------------------------------------- 0.0/89.2 kB ? eta -:--:--\n",
      "   ---------------------------------------- 0.0/89.2 kB ? eta -:--:--\n",
      "   ---- ----------------------------------- 10.2/89.2 kB ? eta -:--:--\n",
      "   --------- ------------------------------ 20.5/89.2 kB 330.3 kB/s eta 0:00:01\n",
      "   ------------------ --------------------- 41.0/89.2 kB 393.8 kB/s eta 0:00:01\n",
      "   ---------------------------------------- 89.2/89.2 kB 632.0 kB/s eta 0:00:00\n",
      "Installing collected packages: datasketch\n",
      "Successfully installed datasketch-1.6.5\n"
     ]
    }
   ],
   "source": [
    "!pip install datasketch"
   ]
  },
  {
   "cell_type": "code",
   "execution_count": 64,
   "metadata": {},
   "outputs": [],
   "source": [
    "from datasketch import MinHashLSHForest, MinHash\n",
    "\n",
    "# Configuración inicial\n",
    "forest = MinHashLSHForest()\n",
    "\n",
    "# Crear funciones de hash para cada fila (usuario o ítem)\n",
    "for idx, vector in enumerate(train_interaction_matrix):\n",
    "    m = MinHash(num_perm=128)  # Número de permutaciones, ajusta según la precisión deseada\n",
    "    indices = vector.indices\n",
    "    for i in indices:\n",
    "        m.update(str(i).encode('utf8'))\n",
    "    forest.add(idx, m)\n",
    "\n",
    "forest.index()"
   ]
  },
  {
   "cell_type": "code",
   "execution_count": 73,
   "metadata": {},
   "outputs": [
    {
     "ename": "NameError",
     "evalue": "name 'user_similarity' is not defined",
     "output_type": "error",
     "traceback": [
      "\u001b[1;31m---------------------------------------------------------------------------\u001b[0m",
      "\u001b[1;31mNameError\u001b[0m                                 Traceback (most recent call last)",
      "Cell \u001b[1;32mIn[73], line 25\u001b[0m\n\u001b[0;32m     22\u001b[0m     ids \u001b[38;5;241m=\u001b[39m train_interaction_matrix_t[song_id]\n\u001b[0;32m     23\u001b[0m     ids \u001b[38;5;241m=\u001b[39m \u001b[38;5;28mlist\u001b[39m(ids\u001b[38;5;241m.\u001b[39mtocsr()\u001b[38;5;241m.\u001b[39mindices)\n\u001b[1;32m---> 25\u001b[0m     score \u001b[38;5;241m=\u001b[39m np\u001b[38;5;241m.\u001b[39msum(\u001b[43muser_similarity\u001b[49m[userid][ids])\n\u001b[0;32m     26\u001b[0m     song_values\u001b[38;5;241m.\u001b[39mappend((song_id, score))\n\u001b[0;32m     28\u001b[0m recommended_songs \u001b[38;5;241m=\u001b[39m [song_id \u001b[38;5;28;01mfor\u001b[39;00m song_id, _ \u001b[38;5;129;01min\u001b[39;00m \u001b[38;5;28msorted\u001b[39m(song_values, key\u001b[38;5;241m=\u001b[39m\u001b[38;5;28;01mlambda\u001b[39;00m x: x[\u001b[38;5;241m1\u001b[39m], reverse\u001b[38;5;241m=\u001b[39m\u001b[38;5;28;01mTrue\u001b[39;00m)][:\u001b[38;5;241m500\u001b[39m]\n",
      "\u001b[1;31mNameError\u001b[0m: name 'user_similarity' is not defined"
     ]
    }
   ],
   "source": [
    "r_prec = []\n",
    "ndcgs = []\n",
    "clicks = []\n",
    "\n",
    "train_interaction_matrix_t = train_interaction_matrix.transpose()\n",
    "\n",
    "for userid in test_pid:\n",
    "    # Consulta para encontrar usuarios similares\n",
    "    query_user_vector = train_interaction_matrix[userid]\n",
    "    query_minhash = MinHash(num_perm=128)\n",
    "    for data_point in query_user_vector.indices:\n",
    "        query_minhash.update(str(data_point).encode('utf8'))\n",
    "\n",
    "    # Encuentra los 10 usuarios más similares\n",
    "    similar_users = forest.query(query_minhash, 10)\n",
    "\n",
    "    # Resto del código para generar recomendaciones...\n",
    "    song_values = []\n",
    "    songs = train_interaction_matrix[similar_users]\n",
    "    unique_songs = songs.tocsr().indices\n",
    "    for song_id in unique_songs:\n",
    "        ids = train_interaction_matrix_t[song_id]\n",
    "        ids = list(ids.tocsr().indices)\n",
    "\n",
    "        score = np.sum(user_similarity[userid][ids])\n",
    "        song_values.append((song_id, score))\n",
    "    \n",
    "    recommended_songs = [song_id for song_id, _ in sorted(song_values, key=lambda x: x[1], reverse=True)][:500]\n",
    "    ids = recommended_songs\n",
    "    actual = test_test[test_test['pid'] == userid]['track_id'].values\n",
    "\n",
    "    if len(ids) == 0:\n",
    "        r_prec.append(0)\n",
    "        ndcgs.append(0)\n",
    "        clicks.append(0)\n",
    "        continue\n",
    "\n",
    "    r_prec.append(R_precision(ids, actual))\n",
    "    ndcgs.append(ndcg(ids, actual))\n",
    "    clicks.append(rec_song_clicks(ids, actual))\n",
    "\n",
    "print(f\"R prec: {np.mean(r_prec)}, NDCG: {np.mean(ndcgs)}, Clicks: {np.mean(clicks)}\")"
   ]
  },
  {
   "cell_type": "markdown",
   "metadata": {},
   "source": [
    "# New Item Item"
   ]
  },
  {
   "cell_type": "code",
   "execution_count": 34,
   "metadata": {},
   "outputs": [
    {
     "name": "stderr",
     "output_type": "stream",
     "text": [
      "c:\\Users\\jasar\\anaconda3\\envs\\Recomendadores\\lib\\site-packages\\implicit\\utils.py:164: ParameterWarning: Method expects CSR input, and was passed coo_matrix instead. Converting to CSR took 0.002986907958984375 seconds\n",
      "  warnings.warn(\n",
      "  0%|          | 0/56536 [00:00<?, ?it/s]"
     ]
    },
    {
     "name": "stderr",
     "output_type": "stream",
     "text": [
      "100%|██████████| 56536/56536 [00:00<00:00, 99887.43it/s] \n"
     ]
    }
   ],
   "source": [
    "item_model = implicit.nearest_neighbours.CosineRecommender(K=500)\n",
    "item_model.fit(train_interaction_matrix)"
   ]
  },
  {
   "cell_type": "code",
   "execution_count": 35,
   "metadata": {},
   "outputs": [
    {
     "name": "stdout",
     "output_type": "stream",
     "text": [
      "386\n",
      "49414\n",
      "R prec: 0.0440609572092963, NDCG: 0.27846394183617673, Clicks: 16.145077720207254\n"
     ]
    }
   ],
   "source": [
    "user_ids = test_pid\n",
    "print(len(user_ids))\n",
    "print(train_data['track_id'].nunique())\n",
    "r_prec = []\n",
    "ndcgs = []\n",
    "clicks = []\n",
    "for userid in user_ids:\n",
    "\n",
    "  ids, scores = item_model.recommend(userid, train_interaction_matrix[userid], N=500, filter_already_liked_items=True)\n",
    "  actual = test_test[test_test['pid'] == userid]['track_id'].values\n",
    "\n",
    "  r_prec.append(R_precision(ids, actual))\n",
    "  ndcgs.append(ndcg(ids, actual))\n",
    "  clicks.append(rec_song_clicks(ids, actual))\n",
    "\n",
    "\n",
    "print(f\"R prec: {np.mean(r_prec)}, NDCG: {np.mean(ndcgs)}, Clicks: {np.mean(clicks)}\")"
   ]
  },
  {
   "cell_type": "markdown",
   "metadata": {},
   "source": [
    "# Ejemplo"
   ]
  },
  {
   "cell_type": "code",
   "execution_count": 37,
   "metadata": {},
   "outputs": [],
   "source": [
    "pares = expanded_tracks_df[[\"artist_name\",\"track_name\",\"track_uri\",\"track_id\"]].drop_duplicates().sort_values(\"track_id\")"
   ]
  },
  {
   "cell_type": "code",
   "execution_count": 102,
   "metadata": {},
   "outputs": [],
   "source": [
    "songs_ids =[3663, 4546, 8544, 10600, 10646]"
   ]
  },
  {
   "cell_type": "code",
   "execution_count": 101,
   "metadata": {},
   "outputs": [
    {
     "data": {
      "text/html": [
       "<div>\n",
       "<style scoped>\n",
       "    .dataframe tbody tr th:only-of-type {\n",
       "        vertical-align: middle;\n",
       "    }\n",
       "\n",
       "    .dataframe tbody tr th {\n",
       "        vertical-align: top;\n",
       "    }\n",
       "\n",
       "    .dataframe thead th {\n",
       "        text-align: right;\n",
       "    }\n",
       "</style>\n",
       "<table border=\"1\" class=\"dataframe\">\n",
       "  <thead>\n",
       "    <tr style=\"text-align: right;\">\n",
       "      <th></th>\n",
       "      <th>artist_name</th>\n",
       "      <th>track_name</th>\n",
       "      <th>track_uri</th>\n",
       "      <th>track_id</th>\n",
       "    </tr>\n",
       "  </thead>\n",
       "  <tbody>\n",
       "    <tr>\n",
       "      <th>26606</th>\n",
       "      <td>Ed Sheeran</td>\n",
       "      <td>One</td>\n",
       "      <td>spotify:track:0A2J5TumCpT4aJVvQHNEQW</td>\n",
       "      <td>3663</td>\n",
       "    </tr>\n",
       "    <tr>\n",
       "      <th>140777</th>\n",
       "      <td>Ed Sheeran</td>\n",
       "      <td>One Night</td>\n",
       "      <td>spotify:track:0CNrpbpJ9HsFffF9hqWIIe</td>\n",
       "      <td>4546</td>\n",
       "    </tr>\n",
       "    <tr>\n",
       "      <th>69298</th>\n",
       "      <td>Ed Sheeran</td>\n",
       "      <td>New York</td>\n",
       "      <td>spotify:track:0NJDrEZdTbVPMKC0Zbglgn</td>\n",
       "      <td>8544</td>\n",
       "    </tr>\n",
       "    <tr>\n",
       "      <th>4106</th>\n",
       "      <td>Ed Sheeran</td>\n",
       "      <td>Give Me Love</td>\n",
       "      <td>spotify:track:0SuG9kyzGRpDqrCWtgD6Lq</td>\n",
       "      <td>10600</td>\n",
       "    </tr>\n",
       "    <tr>\n",
       "      <th>140775</th>\n",
       "      <td>Ed Sheeran</td>\n",
       "      <td>Homeless - Live At The Bedford</td>\n",
       "      <td>spotify:track:0T0wYEzpL46dCaTL1DLCyD</td>\n",
       "      <td>10646</td>\n",
       "    </tr>\n",
       "    <tr>\n",
       "      <th>...</th>\n",
       "      <td>...</td>\n",
       "      <td>...</td>\n",
       "      <td>...</td>\n",
       "      <td>...</td>\n",
       "    </tr>\n",
       "    <tr>\n",
       "      <th>182394</th>\n",
       "      <td>Ed Sheeran</td>\n",
       "      <td>You - +Wiley</td>\n",
       "      <td>spotify:track:7h7KBBdYIzrxOsLfR9aUO7</td>\n",
       "      <td>165867</td>\n",
       "    </tr>\n",
       "    <tr>\n",
       "      <th>178111</th>\n",
       "      <td>Ed Sheeran</td>\n",
       "      <td>Bloodstream - Arty Remix</td>\n",
       "      <td>spotify:track:7hsXDbHfhcm9hDpK7DJyhi</td>\n",
       "      <td>166154</td>\n",
       "    </tr>\n",
       "    <tr>\n",
       "      <th>64682</th>\n",
       "      <td>Ed Sheeran</td>\n",
       "      <td>Autumn Leaves - Deluxe Edition</td>\n",
       "      <td>spotify:track:7iBSkXB0pTvZasOLf0Qxk9</td>\n",
       "      <td>166259</td>\n",
       "    </tr>\n",
       "    <tr>\n",
       "      <th>7021</th>\n",
       "      <td>Ed Sheeran</td>\n",
       "      <td>Eraser</td>\n",
       "      <td>spotify:track:7oolFzHipTMg2nL7shhdz2</td>\n",
       "      <td>168693</td>\n",
       "    </tr>\n",
       "    <tr>\n",
       "      <th>5464</th>\n",
       "      <td>Ed Sheeran</td>\n",
       "      <td>Shape of You</td>\n",
       "      <td>spotify:track:7qiZfU4dY1lWllzX7mPBI3</td>\n",
       "      <td>169358</td>\n",
       "    </tr>\n",
       "  </tbody>\n",
       "</table>\n",
       "<p>113 rows × 4 columns</p>\n",
       "</div>"
      ],
      "text/plain": [
       "       artist_name                      track_name  \\\n",
       "26606   Ed Sheeran                             One   \n",
       "140777  Ed Sheeran                       One Night   \n",
       "69298   Ed Sheeran                        New York   \n",
       "4106    Ed Sheeran                    Give Me Love   \n",
       "140775  Ed Sheeran  Homeless - Live At The Bedford   \n",
       "...            ...                             ...   \n",
       "182394  Ed Sheeran                    You - +Wiley   \n",
       "178111  Ed Sheeran        Bloodstream - Arty Remix   \n",
       "64682   Ed Sheeran  Autumn Leaves - Deluxe Edition   \n",
       "7021    Ed Sheeran                          Eraser   \n",
       "5464    Ed Sheeran                    Shape of You   \n",
       "\n",
       "                                   track_uri  track_id  \n",
       "26606   spotify:track:0A2J5TumCpT4aJVvQHNEQW      3663  \n",
       "140777  spotify:track:0CNrpbpJ9HsFffF9hqWIIe      4546  \n",
       "69298   spotify:track:0NJDrEZdTbVPMKC0Zbglgn      8544  \n",
       "4106    spotify:track:0SuG9kyzGRpDqrCWtgD6Lq     10600  \n",
       "140775  spotify:track:0T0wYEzpL46dCaTL1DLCyD     10646  \n",
       "...                                      ...       ...  \n",
       "182394  spotify:track:7h7KBBdYIzrxOsLfR9aUO7    165867  \n",
       "178111  spotify:track:7hsXDbHfhcm9hDpK7DJyhi    166154  \n",
       "64682   spotify:track:7iBSkXB0pTvZasOLf0Qxk9    166259  \n",
       "7021    spotify:track:7oolFzHipTMg2nL7shhdz2    168693  \n",
       "5464    spotify:track:7qiZfU4dY1lWllzX7mPBI3    169358  \n",
       "\n",
       "[113 rows x 4 columns]"
      ]
     },
     "execution_count": 101,
     "metadata": {},
     "output_type": "execute_result"
    }
   ],
   "source": [
    "pares[pares[\"artist_name\"] == \"Ed Sheeran\"]"
   ]
  },
  {
   "cell_type": "code",
   "execution_count": 38,
   "metadata": {},
   "outputs": [],
   "source": [
    "trackname_id = {(row['artist_name'], row['track_name']): row['track_id'] for _, row in pares.iterrows()}\n",
    "id_trackname = {row['track_id']: (row['artist_name'], row['track_name']) for _, row in pares.iterrows()}"
   ]
  },
  {
   "cell_type": "code",
   "execution_count": null,
   "metadata": {},
   "outputs": [
    {
     "name": "stdout",
     "output_type": "stream",
     "text": [
      "La canción no está en el dataset\n",
      "La canción no está en el dataset\n",
      "La canción no está en el dataset\n",
      "La canción no está en el dataset\n",
      "La canción no está en el dataset\n",
      "La canción no está en el dataset\n",
      "La canción no está en el dataset\n",
      "La canción está en el dataset\n",
      "La canción no está en el dataset\n",
      "La canción está en el dataset\n",
      "La canción está en el dataset\n",
      "La canción está en el dataset\n",
      "La canción está en el dataset\n"
     ]
    }
   ],
   "source": [
    "selecting = True\n",
    "songs = 0\n",
    "\n",
    "songs_ids= []\n",
    "while selecting:\n",
    "    \n",
    "    artist = input(\"Ingrese el nombre del artista: \")\n",
    "    song = input(\"Ingrese el nombre de la canción: \")\n",
    "\n",
    "    if (artist, song) in trackname_id:\n",
    "        print(\"La canción está en el dataset\")\n",
    "        songs_ids.append(trackname_id[(artist, song)])\n",
    "        songs += 1\n",
    "    else:\n",
    "        print(\"La canción no está en el dataset\")\n",
    "    if songs == 5:\n",
    "        selecting = False"
   ]
  },
  {
   "cell_type": "code",
   "execution_count": 41,
   "metadata": {},
   "outputs": [],
   "source": [
    "unique_songs = train_data['track_id'].unique()"
   ]
  },
  {
   "cell_type": "code",
   "execution_count": 47,
   "metadata": {},
   "outputs": [],
   "source": [
    "item_id_to_index = {song_id: index for index, song_id in enumerate(unique_songs)}\n",
    "index_to_item_id = {index: item_id for item_id, index in item_id_to_index.items()}"
   ]
  },
  {
   "cell_type": "code",
   "execution_count": 103,
   "metadata": {},
   "outputs": [],
   "source": [
    "initial_indices = [item_id_to_index[id] for id in songs_ids]\n",
    "\n",
    "initial_factors = np.array([model.item_factors[idx] for idx in initial_indices])\n",
    "\n",
    "# Calcular el vector promedio (o sumar y normalizar)\n",
    "average_vector = np.mean(initial_factors, axis=0)\n",
    "\n",
    "# Calcular la similitud con todas las otras canciones\n",
    "similarities = model.item_factors.dot(average_vector)\n",
    "\n",
    "# Obtener los índices de los top 5 recomendaciones (excluyendo las canciones iniciales)\n",
    "recommended_indices = np.argsort(-similarities)[:len(songs_ids) + 5]\n",
    "recommended_indices = [idx for idx in recommended_indices if idx not in initial_indices][:5]"
   ]
  },
  {
   "cell_type": "code",
   "execution_count": 104,
   "metadata": {},
   "outputs": [
    {
     "data": {
      "text/plain": [
       "[54080, 128801, 103032, 120728, 172277]"
      ]
     },
     "execution_count": 104,
     "metadata": {},
     "output_type": "execute_result"
    }
   ],
   "source": [
    "recommended_indices"
   ]
  },
  {
   "cell_type": "code",
   "execution_count": 105,
   "metadata": {},
   "outputs": [
    {
     "name": "stdout",
     "output_type": "stream",
     "text": [
      "('The Neighbourhood', 'Sweater Weather')\n",
      "('The Shins', 'New Slang')\n",
      "('Peter Bjorn and John', 'Young Folks')\n",
      "('The Temper Trap', 'Sweet Disposition')\n",
      "('Vance Joy', 'Riptide')\n"
     ]
    }
   ],
   "source": [
    "for r in recommended_indices:\n",
    "    print(id_trackname[r])"
   ]
  }
 ],
 "metadata": {
  "kernelspec": {
   "display_name": "Recomendadores",
   "language": "python",
   "name": "python3"
  },
  "language_info": {
   "codemirror_mode": {
    "name": "ipython",
    "version": 3
   },
   "file_extension": ".py",
   "mimetype": "text/x-python",
   "name": "python",
   "nbconvert_exporter": "python",
   "pygments_lexer": "ipython3",
   "version": "3.8.19"
  }
 },
 "nbformat": 4,
 "nbformat_minor": 2
}
